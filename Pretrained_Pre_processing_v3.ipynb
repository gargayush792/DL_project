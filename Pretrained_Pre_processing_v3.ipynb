{
  "cells": [
    {
      "cell_type": "code",
      "source": [
        "# !pip install inltk\n",
        "!pip install fasttext\n",
        "!wget https://dl.fbaipublicfiles.com/fasttext/vectors-wiki/wiki.hi.zip\n",
        "!unzip 'wiki.hi.zip'"
      ],
      "metadata": {
        "colab": {
          "base_uri": "https://localhost:8080/"
        },
        "id": "EQ1vbWpUcW4q",
        "outputId": "773ba80c-485d-4b04-c022-6895e452cea4"
      },
      "id": "EQ1vbWpUcW4q",
      "execution_count": 2,
      "outputs": [
        {
          "output_type": "stream",
          "name": "stdout",
          "text": [
            "Collecting fasttext\n",
            "  Downloading fasttext-0.9.2.tar.gz (68 kB)\n",
            "\u001b[?25l\r\u001b[K     |████▊                           | 10 kB 23.2 MB/s eta 0:00:01\r\u001b[K     |█████████▌                      | 20 kB 29.1 MB/s eta 0:00:01\r\u001b[K     |██████████████▎                 | 30 kB 34.0 MB/s eta 0:00:01\r\u001b[K     |███████████████████             | 40 kB 26.9 MB/s eta 0:00:01\r\u001b[K     |███████████████████████▉        | 51 kB 18.8 MB/s eta 0:00:01\r\u001b[K     |████████████████████████████▋   | 61 kB 21.3 MB/s eta 0:00:01\r\u001b[K     |████████████████████████████████| 68 kB 6.2 MB/s \n",
            "\u001b[?25hCollecting pybind11>=2.2\n",
            "  Using cached pybind11-2.9.2-py2.py3-none-any.whl (213 kB)\n",
            "Requirement already satisfied: setuptools>=0.7.0 in /usr/local/lib/python3.7/dist-packages (from fasttext) (57.4.0)\n",
            "Requirement already satisfied: numpy in /usr/local/lib/python3.7/dist-packages (from fasttext) (1.21.6)\n",
            "Building wheels for collected packages: fasttext\n",
            "  Building wheel for fasttext (setup.py) ... \u001b[?25l\u001b[?25hdone\n",
            "  Created wheel for fasttext: filename=fasttext-0.9.2-cp37-cp37m-linux_x86_64.whl size=3144416 sha256=1db919081f195a5a6492a22704f7b912f8e6b625e1a8862b7cede3a07d881682\n",
            "  Stored in directory: /root/.cache/pip/wheels/4e/ca/bf/b020d2be95f7641801a6597a29c8f4f19e38f9c02a345bab9b\n",
            "Successfully built fasttext\n",
            "Installing collected packages: pybind11, fasttext\n",
            "Successfully installed fasttext-0.9.2 pybind11-2.9.2\n",
            "--2022-04-30 12:08:51--  https://dl.fbaipublicfiles.com/fasttext/vectors-wiki/wiki.hi.zip\n",
            "Resolving dl.fbaipublicfiles.com (dl.fbaipublicfiles.com)... 104.22.74.142, 172.67.9.4, 104.22.75.142, ...\n",
            "Connecting to dl.fbaipublicfiles.com (dl.fbaipublicfiles.com)|104.22.74.142|:443... connected.\n",
            "HTTP request sent, awaiting response... 200 OK\n",
            "Length: 2779916118 (2.6G) [application/zip]\n",
            "Saving to: ‘wiki.hi.zip’\n",
            "\n",
            "wiki.hi.zip         100%[===================>]   2.59G  36.4MB/s    in 68s     \n",
            "\n",
            "2022-04-30 12:09:59 (38.9 MB/s) - ‘wiki.hi.zip’ saved [2779916118/2779916118]\n",
            "\n",
            "Archive:  wiki.hi.zip\n",
            "  inflating: wiki.hi.vec             \n",
            "  inflating: wiki.hi.bin             \n"
          ]
        }
      ]
    },
    {
      "cell_type": "code",
      "execution_count": 3,
      "id": "ce85cb08-d95f-4146-9458-fb65fc5fba5b",
      "metadata": {
        "id": "ce85cb08-d95f-4146-9458-fb65fc5fba5b"
      },
      "outputs": [],
      "source": [
        "import pandas as pd\n",
        "import numpy as np\n",
        "from sklearn.metrics import classification_report"
      ]
    },
    {
      "cell_type": "code",
      "execution_count": 4,
      "id": "eb51662b-a7ac-4774-8317-68a4a2c1b4dd",
      "metadata": {
        "id": "eb51662b-a7ac-4774-8317-68a4a2c1b4dd"
      },
      "outputs": [],
      "source": [
        "import tensorflow as tf\n",
        "from tensorflow.keras import layers\n",
        "from tensorflow.keras import losses"
      ]
    },
    {
      "cell_type": "code",
      "source": [
        "# from inltk.inltk import get_embedding_vectors\n",
        "# from inltk.inltk import setup\n",
        "# setup(\"hi\")"
      ],
      "metadata": {
        "id": "YldJv5aVdbED"
      },
      "id": "YldJv5aVdbED",
      "execution_count": 5,
      "outputs": []
    },
    {
      "cell_type": "markdown",
      "id": "c002ff79-8466-4035-adf3-eea69db9ac5a",
      "metadata": {
        "id": "c002ff79-8466-4035-adf3-eea69db9ac5a"
      },
      "source": [
        "### Dataset reading and annotations"
      ]
    },
    {
      "cell_type": "code",
      "execution_count": 6,
      "id": "384e8bb7-1398-415f-a5ba-13cb95ba5e7a",
      "metadata": {
        "id": "384e8bb7-1398-415f-a5ba-13cb95ba5e7a"
      },
      "outputs": [],
      "source": [
        "url = \"https://raw.githubusercontent.com/PrynkaSxna/dataset/main/Bhaav-Dataset.csv\"\n",
        "dataset = pd.read_csv(url)"
      ]
    },
    {
      "cell_type": "code",
      "execution_count": 7,
      "id": "a9cbcb5b-a097-4886-9ff2-1ec24ea1002e",
      "metadata": {
        "id": "a9cbcb5b-a097-4886-9ff2-1ec24ea1002e",
        "outputId": "11a260b7-9d63-47e3-c4d7-25293ab4e49b",
        "colab": {
          "base_uri": "https://localhost:8080/",
          "height": 424
        }
      },
      "outputs": [
        {
          "output_type": "execute_result",
          "data": {
            "text/plain": [
              "                                               Sentences  Annotation\n",
              "0               रमजान के पूरे तीस रोजों के बाद ईद आयी है           1\n",
              "1                   कितना मनोहर, कितना सुहावना प्रभाव है           1\n",
              "2      वृक्षों पर अजीब हरियाली है, खेतों में कुछ अजीब...           1\n",
              "3      आज का सूर्य देखो, कितना प्यारा, कितना शीतल है,...           1\n",
              "4                                 गाँव में कितनी हलचल है           1\n",
              "...                                                  ...         ...\n",
              "20299                          फिर यहाँ सर्दी हो जाती है           4\n",
              "20300  दिन-भर मैं यह देखती रहती हूँ कि धूप का टुकड़ा क...           4\n",
              "20301  पार्क का कोई ऐसा कोना नहीं, जहाँ मैं घड़ी-आधा घ...           4\n",
              "20302              लेकिन यह बेंच मुझे सबसे अच्छी लगती है           1\n",
              "20303  एक तो इस पर पत्ते नहीं झरते और दूसरे... अरे, आ...           4\n",
              "\n",
              "[20304 rows x 2 columns]"
            ],
            "text/html": [
              "\n",
              "  <div id=\"df-dcd9ee86-b91e-4526-ac8d-b7544a0c30cd\">\n",
              "    <div class=\"colab-df-container\">\n",
              "      <div>\n",
              "<style scoped>\n",
              "    .dataframe tbody tr th:only-of-type {\n",
              "        vertical-align: middle;\n",
              "    }\n",
              "\n",
              "    .dataframe tbody tr th {\n",
              "        vertical-align: top;\n",
              "    }\n",
              "\n",
              "    .dataframe thead th {\n",
              "        text-align: right;\n",
              "    }\n",
              "</style>\n",
              "<table border=\"1\" class=\"dataframe\">\n",
              "  <thead>\n",
              "    <tr style=\"text-align: right;\">\n",
              "      <th></th>\n",
              "      <th>Sentences</th>\n",
              "      <th>Annotation</th>\n",
              "    </tr>\n",
              "  </thead>\n",
              "  <tbody>\n",
              "    <tr>\n",
              "      <th>0</th>\n",
              "      <td>रमजान के पूरे तीस रोजों के बाद ईद आयी है</td>\n",
              "      <td>1</td>\n",
              "    </tr>\n",
              "    <tr>\n",
              "      <th>1</th>\n",
              "      <td>कितना मनोहर, कितना सुहावना प्रभाव है</td>\n",
              "      <td>1</td>\n",
              "    </tr>\n",
              "    <tr>\n",
              "      <th>2</th>\n",
              "      <td>वृक्षों पर अजीब हरियाली है, खेतों में कुछ अजीब...</td>\n",
              "      <td>1</td>\n",
              "    </tr>\n",
              "    <tr>\n",
              "      <th>3</th>\n",
              "      <td>आज का सूर्य देखो, कितना प्यारा, कितना शीतल है,...</td>\n",
              "      <td>1</td>\n",
              "    </tr>\n",
              "    <tr>\n",
              "      <th>4</th>\n",
              "      <td>गाँव में कितनी हलचल है</td>\n",
              "      <td>1</td>\n",
              "    </tr>\n",
              "    <tr>\n",
              "      <th>...</th>\n",
              "      <td>...</td>\n",
              "      <td>...</td>\n",
              "    </tr>\n",
              "    <tr>\n",
              "      <th>20299</th>\n",
              "      <td>फिर यहाँ सर्दी हो जाती है</td>\n",
              "      <td>4</td>\n",
              "    </tr>\n",
              "    <tr>\n",
              "      <th>20300</th>\n",
              "      <td>दिन-भर मैं यह देखती रहती हूँ कि धूप का टुकड़ा क...</td>\n",
              "      <td>4</td>\n",
              "    </tr>\n",
              "    <tr>\n",
              "      <th>20301</th>\n",
              "      <td>पार्क का कोई ऐसा कोना नहीं, जहाँ मैं घड़ी-आधा घ...</td>\n",
              "      <td>4</td>\n",
              "    </tr>\n",
              "    <tr>\n",
              "      <th>20302</th>\n",
              "      <td>लेकिन यह बेंच मुझे सबसे अच्छी लगती है</td>\n",
              "      <td>1</td>\n",
              "    </tr>\n",
              "    <tr>\n",
              "      <th>20303</th>\n",
              "      <td>एक तो इस पर पत्ते नहीं झरते और दूसरे... अरे, आ...</td>\n",
              "      <td>4</td>\n",
              "    </tr>\n",
              "  </tbody>\n",
              "</table>\n",
              "<p>20304 rows × 2 columns</p>\n",
              "</div>\n",
              "      <button class=\"colab-df-convert\" onclick=\"convertToInteractive('df-dcd9ee86-b91e-4526-ac8d-b7544a0c30cd')\"\n",
              "              title=\"Convert this dataframe to an interactive table.\"\n",
              "              style=\"display:none;\">\n",
              "        \n",
              "  <svg xmlns=\"http://www.w3.org/2000/svg\" height=\"24px\"viewBox=\"0 0 24 24\"\n",
              "       width=\"24px\">\n",
              "    <path d=\"M0 0h24v24H0V0z\" fill=\"none\"/>\n",
              "    <path d=\"M18.56 5.44l.94 2.06.94-2.06 2.06-.94-2.06-.94-.94-2.06-.94 2.06-2.06.94zm-11 1L8.5 8.5l.94-2.06 2.06-.94-2.06-.94L8.5 2.5l-.94 2.06-2.06.94zm10 10l.94 2.06.94-2.06 2.06-.94-2.06-.94-.94-2.06-.94 2.06-2.06.94z\"/><path d=\"M17.41 7.96l-1.37-1.37c-.4-.4-.92-.59-1.43-.59-.52 0-1.04.2-1.43.59L10.3 9.45l-7.72 7.72c-.78.78-.78 2.05 0 2.83L4 21.41c.39.39.9.59 1.41.59.51 0 1.02-.2 1.41-.59l7.78-7.78 2.81-2.81c.8-.78.8-2.07 0-2.86zM5.41 20L4 18.59l7.72-7.72 1.47 1.35L5.41 20z\"/>\n",
              "  </svg>\n",
              "      </button>\n",
              "      \n",
              "  <style>\n",
              "    .colab-df-container {\n",
              "      display:flex;\n",
              "      flex-wrap:wrap;\n",
              "      gap: 12px;\n",
              "    }\n",
              "\n",
              "    .colab-df-convert {\n",
              "      background-color: #E8F0FE;\n",
              "      border: none;\n",
              "      border-radius: 50%;\n",
              "      cursor: pointer;\n",
              "      display: none;\n",
              "      fill: #1967D2;\n",
              "      height: 32px;\n",
              "      padding: 0 0 0 0;\n",
              "      width: 32px;\n",
              "    }\n",
              "\n",
              "    .colab-df-convert:hover {\n",
              "      background-color: #E2EBFA;\n",
              "      box-shadow: 0px 1px 2px rgba(60, 64, 67, 0.3), 0px 1px 3px 1px rgba(60, 64, 67, 0.15);\n",
              "      fill: #174EA6;\n",
              "    }\n",
              "\n",
              "    [theme=dark] .colab-df-convert {\n",
              "      background-color: #3B4455;\n",
              "      fill: #D2E3FC;\n",
              "    }\n",
              "\n",
              "    [theme=dark] .colab-df-convert:hover {\n",
              "      background-color: #434B5C;\n",
              "      box-shadow: 0px 1px 3px 1px rgba(0, 0, 0, 0.15);\n",
              "      filter: drop-shadow(0px 1px 2px rgba(0, 0, 0, 0.3));\n",
              "      fill: #FFFFFF;\n",
              "    }\n",
              "  </style>\n",
              "\n",
              "      <script>\n",
              "        const buttonEl =\n",
              "          document.querySelector('#df-dcd9ee86-b91e-4526-ac8d-b7544a0c30cd button.colab-df-convert');\n",
              "        buttonEl.style.display =\n",
              "          google.colab.kernel.accessAllowed ? 'block' : 'none';\n",
              "\n",
              "        async function convertToInteractive(key) {\n",
              "          const element = document.querySelector('#df-dcd9ee86-b91e-4526-ac8d-b7544a0c30cd');\n",
              "          const dataTable =\n",
              "            await google.colab.kernel.invokeFunction('convertToInteractive',\n",
              "                                                     [key], {});\n",
              "          if (!dataTable) return;\n",
              "\n",
              "          const docLinkHtml = 'Like what you see? Visit the ' +\n",
              "            '<a target=\"_blank\" href=https://colab.research.google.com/notebooks/data_table.ipynb>data table notebook</a>'\n",
              "            + ' to learn more about interactive tables.';\n",
              "          element.innerHTML = '';\n",
              "          dataTable['output_type'] = 'display_data';\n",
              "          await google.colab.output.renderOutput(dataTable, element);\n",
              "          const docLink = document.createElement('div');\n",
              "          docLink.innerHTML = docLinkHtml;\n",
              "          element.appendChild(docLink);\n",
              "        }\n",
              "      </script>\n",
              "    </div>\n",
              "  </div>\n",
              "  "
            ]
          },
          "metadata": {},
          "execution_count": 7
        }
      ],
      "source": [
        "dataset"
      ]
    },
    {
      "cell_type": "code",
      "execution_count": 8,
      "id": "237e9358-3dad-4b5e-9468-16287707ba12",
      "metadata": {
        "id": "237e9358-3dad-4b5e-9468-16287707ba12",
        "outputId": "c563cbf3-1d9d-4715-d352-622e47c94b60",
        "colab": {
          "base_uri": "https://localhost:8080/"
        }
      },
      "outputs": [
        {
          "output_type": "execute_result",
          "data": {
            "text/plain": [
              "4    11697\n",
              "2     3168\n",
              "1     2463\n",
              "3     1512\n",
              "0     1464\n",
              "Name: Annotation, dtype: int64"
            ]
          },
          "metadata": {},
          "execution_count": 8
        }
      ],
      "source": [
        "dataset['Annotation'].value_counts()"
      ]
    },
    {
      "cell_type": "code",
      "execution_count": 9,
      "id": "1f27047c-43c9-49c6-9007-1579d6137eec",
      "metadata": {
        "id": "1f27047c-43c9-49c6-9007-1579d6137eec"
      },
      "outputs": [],
      "source": [
        "dataset['Emotion'] = np.where(\n",
        "    dataset['Annotation'] == 0, 'Anger', np.where(\n",
        "        dataset['Annotation'] == 1, 'Joy', np.where(\n",
        "            dataset['Annotation'] == 2, 'Sad', np.where(\n",
        "                dataset['Annotation'] == 3, 'Suspense', 'Neutral'))))"
      ]
    },
    {
      "cell_type": "code",
      "execution_count": 10,
      "id": "a51aa701-b563-405b-b465-bf49a47c7b80",
      "metadata": {
        "id": "a51aa701-b563-405b-b465-bf49a47c7b80",
        "outputId": "28078329-4c63-403e-db98-b4cc220e04ab",
        "colab": {
          "base_uri": "https://localhost:8080/"
        }
      },
      "outputs": [
        {
          "output_type": "execute_result",
          "data": {
            "text/plain": [
              "Neutral     11697\n",
              "Sad          3168\n",
              "Joy          2463\n",
              "Suspense     1512\n",
              "Anger        1464\n",
              "Name: Emotion, dtype: int64"
            ]
          },
          "metadata": {},
          "execution_count": 10
        }
      ],
      "source": [
        "dataset['Emotion'].value_counts()"
      ]
    },
    {
      "cell_type": "markdown",
      "id": "9fecd383-4370-4566-9b1b-f6deb0f7cb0f",
      "metadata": {
        "id": "9fecd383-4370-4566-9b1b-f6deb0f7cb0f"
      },
      "source": [
        "### Convert to TF Dataset and Train/Test Split"
      ]
    },
    {
      "cell_type": "code",
      "execution_count": 11,
      "id": "ec8f2ee8-2300-415f-a19e-786909bd1759",
      "metadata": {
        "id": "ec8f2ee8-2300-415f-a19e-786909bd1759"
      },
      "outputs": [],
      "source": [
        "full_dataset = (\n",
        "    tf.data.Dataset.from_tensor_slices(\n",
        "        (\n",
        "            tf.cast(dataset['Sentences'].values, tf.string),\n",
        "            tf.cast(dataset['Annotation'].values, tf.int32)\n",
        "        )\n",
        "    )\n",
        ")"
      ]
    },
    {
      "cell_type": "code",
      "execution_count": 12,
      "id": "64382e2e-e051-43e2-9a03-e114a526e9ab",
      "metadata": {
        "id": "64382e2e-e051-43e2-9a03-e114a526e9ab"
      },
      "outputs": [],
      "source": [
        "train_size = int(dataset.shape[0]*0.8)"
      ]
    },
    {
      "cell_type": "code",
      "execution_count": 13,
      "id": "f792b5c8-4f59-4074-9b0f-9cb6ab07cbfe",
      "metadata": {
        "id": "f792b5c8-4f59-4074-9b0f-9cb6ab07cbfe"
      },
      "outputs": [],
      "source": [
        "train_dataset = full_dataset.take(train_size)\n",
        "test_dataset = full_dataset.skip(train_size)"
      ]
    },
    {
      "cell_type": "code",
      "execution_count": 14,
      "id": "248ac967-7b26-41c7-8c3a-947ce834ac3b",
      "metadata": {
        "id": "248ac967-7b26-41c7-8c3a-947ce834ac3b"
      },
      "outputs": [],
      "source": [
        "batch_size = 16"
      ]
    },
    {
      "cell_type": "code",
      "execution_count": 15,
      "id": "6ae7c68d-fb19-405b-a7b0-d8131483a7e8",
      "metadata": {
        "id": "6ae7c68d-fb19-405b-a7b0-d8131483a7e8"
      },
      "outputs": [],
      "source": [
        "train_dataset = train_dataset.batch(batch_size)\n",
        "test_dataset = test_dataset.batch(batch_size)"
      ]
    },
    {
      "cell_type": "markdown",
      "id": "1438fddd-5d96-4ec1-bd9c-fc74a0482c0a",
      "metadata": {
        "id": "1438fddd-5d96-4ec1-bd9c-fc74a0482c0a"
      },
      "source": [
        "### Preprocessing\n",
        "* Tokenisation\n",
        "* Punctuation Removal\n",
        "* Embed words to ints"
      ]
    },
    {
      "cell_type": "code",
      "execution_count": 16,
      "id": "c1114402-d634-409b-8420-797942388f6d",
      "metadata": {
        "id": "c1114402-d634-409b-8420-797942388f6d"
      },
      "outputs": [],
      "source": [
        "max_features = 10000\n",
        "sequence_length = 100\n",
        "\n",
        "vectorize_layer = layers.TextVectorization(\n",
        "    standardize=\"strip_punctuation\",\n",
        "    max_tokens=max_features,\n",
        "    output_mode='int',\n",
        "    output_sequence_length=sequence_length)"
      ]
    },
    {
      "cell_type": "code",
      "execution_count": 17,
      "id": "147159a3-0b5b-4896-86d7-c30bdeb28900",
      "metadata": {
        "id": "147159a3-0b5b-4896-86d7-c30bdeb28900"
      },
      "outputs": [],
      "source": [
        "train_text = train_dataset.map(lambda x, y: x)"
      ]
    },
    {
      "cell_type": "code",
      "execution_count": 18,
      "id": "d49630a4-1c4e-4fc9-8285-748ac20699cf",
      "metadata": {
        "id": "d49630a4-1c4e-4fc9-8285-748ac20699cf"
      },
      "outputs": [],
      "source": [
        "vectorize_layer.adapt(train_text)"
      ]
    },
    {
      "cell_type": "code",
      "execution_count": 19,
      "id": "478b0089-ab6e-4ebc-af91-58f00e4d1780",
      "metadata": {
        "id": "478b0089-ab6e-4ebc-af91-58f00e4d1780"
      },
      "outputs": [],
      "source": [
        "def vectorize_text(text, label):\n",
        "    text = tf.expand_dims(text, -1)\n",
        "    return vectorize_layer(text), label"
      ]
    },
    {
      "cell_type": "code",
      "execution_count": 20,
      "id": "3333c0bf-f223-4506-97df-f63760de6253",
      "metadata": {
        "id": "3333c0bf-f223-4506-97df-f63760de6253",
        "outputId": "68655205-51d5-409e-aad9-18597069dea7",
        "colab": {
          "base_uri": "https://localhost:8080/"
        }
      },
      "outputs": [
        {
          "output_type": "stream",
          "name": "stdout",
          "text": [
            "Review tf.Tensor(b'\\xe0\\xa4\\xb0\\xe0\\xa4\\xae\\xe0\\xa4\\x9c\\xe0\\xa4\\xbe\\xe0\\xa4\\xa8 \\xe0\\xa4\\x95\\xe0\\xa5\\x87 \\xe0\\xa4\\xaa\\xe0\\xa5\\x82\\xe0\\xa4\\xb0\\xe0\\xa5\\x87 \\xe0\\xa4\\xa4\\xe0\\xa5\\x80\\xe0\\xa4\\xb8 \\xe0\\xa4\\xb0\\xe0\\xa5\\x8b\\xe0\\xa4\\x9c\\xe0\\xa5\\x8b\\xe0\\xa4\\x82 \\xe0\\xa4\\x95\\xe0\\xa5\\x87 \\xe0\\xa4\\xac\\xe0\\xa4\\xbe\\xe0\\xa4\\xa6 \\xe0\\xa4\\x88\\xe0\\xa4\\xa6 \\xe0\\xa4\\x86\\xe0\\xa4\\xaf\\xe0\\xa5\\x80 \\xe0\\xa4\\xb9\\xe0\\xa5\\x88', shape=(), dtype=string)\n",
            "Label tf.Tensor(1, shape=(), dtype=int32)\n",
            "Vectorized review (<tf.Tensor: shape=(1, 100), dtype=int64, numpy=\n",
            "array([[   1,    2,  839, 2833,    1,    2,   78, 2223,  320,    7,    0,\n",
            "           0,    0,    0,    0,    0,    0,    0,    0,    0,    0,    0,\n",
            "           0,    0,    0,    0,    0,    0,    0,    0,    0,    0,    0,\n",
            "           0,    0,    0,    0,    0,    0,    0,    0,    0,    0,    0,\n",
            "           0,    0,    0,    0,    0,    0,    0,    0,    0,    0,    0,\n",
            "           0,    0,    0,    0,    0,    0,    0,    0,    0,    0,    0,\n",
            "           0,    0,    0,    0,    0,    0,    0,    0,    0,    0,    0,\n",
            "           0,    0,    0,    0,    0,    0,    0,    0,    0,    0,    0,\n",
            "           0,    0,    0,    0,    0,    0,    0,    0,    0,    0,    0,\n",
            "           0]])>, <tf.Tensor: shape=(), dtype=int32, numpy=1>)\n"
          ]
        }
      ],
      "source": [
        "text_batch, label_batch = next(iter(train_dataset))\n",
        "first_review, first_label = text_batch[0], label_batch[0]\n",
        "print(\"Review\", first_review)\n",
        "print(\"Label\", first_label)\n",
        "print(\"Vectorized review\", vectorize_text(first_review, first_label))"
      ]
    },
    {
      "cell_type": "code",
      "execution_count": 21,
      "id": "c83979e3-3281-46a3-80b0-74f2cccbb2f6",
      "metadata": {
        "id": "c83979e3-3281-46a3-80b0-74f2cccbb2f6"
      },
      "outputs": [],
      "source": [
        "train_ds = train_dataset.map(vectorize_text)\n",
        "val_ds = test_dataset.map(vectorize_text)"
      ]
    },
    {
      "cell_type": "code",
      "source": [
        "vocab = vectorize_layer.get_vocabulary()\n",
        "word_index = dict(zip(vocab, range(len(vocab))))"
      ],
      "metadata": {
        "id": "vm1rt7bBarby"
      },
      "id": "vm1rt7bBarby",
      "execution_count": 22,
      "outputs": []
    },
    {
      "cell_type": "code",
      "source": [
        "import fasttext\n",
        "import fasttext.util\n",
        "ft = fasttext.load_model('wiki.hi.bin')\n",
        "word = \"नृत्य\"\n",
        "print(\"Embedding Shape is {}\".format(ft.get_word_vector(word).shape))\n",
        "print(\"Nearest Neighbors to {} are:\".format(word))\n",
        "ft.get_nearest_neighbors(word) "
      ],
      "metadata": {
        "colab": {
          "base_uri": "https://localhost:8080/"
        },
        "id": "GZ5hrnoRebCr",
        "outputId": "cead8492-d2c2-47b1-d688-095588bb7560"
      },
      "id": "GZ5hrnoRebCr",
      "execution_count": 23,
      "outputs": [
        {
          "output_type": "stream",
          "name": "stderr",
          "text": [
            "Warning : `load_model` does not return WordVectorModel or SupervisedModel any more, but a `FastText` object which is very similar.\n"
          ]
        },
        {
          "output_type": "stream",
          "name": "stdout",
          "text": [
            "Embedding Shape is (300,)\n",
            "Nearest Neighbors to नृत्य are:\n"
          ]
        },
        {
          "output_type": "execute_result",
          "data": {
            "text/plain": [
              "[(0.8913929462432861, 'नृत्य।'),\n",
              " (0.8440190553665161, 'नृत्यगान'),\n",
              " (0.8374733924865723, 'नृत्यगीत'),\n",
              " (0.8336297869682312, 'नृत्यों'),\n",
              " (0.8265783190727234, 'नृत्यरत'),\n",
              " (0.7971948385238647, 'नृत्यकला'),\n",
              " (0.7879464626312256, 'नृत्त'),\n",
              " (0.7682990431785583, 'नृतक'),\n",
              " (0.7622954845428467, 'नृत्यरचना'),\n",
              " (0.7602956295013428, 'नृत्यग्राम')]"
            ]
          },
          "metadata": {},
          "execution_count": 23
        }
      ]
    },
    {
      "cell_type": "code",
      "source": [
        "embedding_dim = 300\n",
        "\n",
        "# Prepare embedding matrix\n",
        "hits = 0\n",
        "misses = 0\n",
        "embedding_matrix = np.zeros((max_features, embedding_dim))\n",
        "for word, i in word_index.items():\n",
        "    embedding_vector = ft.get_word_vector(word)\n",
        "    if embedding_vector is not None:\n",
        "        # Words not found in embedding index will be all-zeros.\n",
        "        # This includes the representation for \"padding\" and \"OOV\"\n",
        "        embedding_matrix[i] = embedding_vector\n",
        "        hits += 1\n",
        "    else:\n",
        "        misses += 1\n",
        "print(\"Converted %d words (%d misses)\" % (hits, misses))"
      ],
      "metadata": {
        "colab": {
          "base_uri": "https://localhost:8080/"
        },
        "id": "jMLHsscoVj7-",
        "outputId": "8f68fe56-a226-4f97-edd2-b7564074868e"
      },
      "id": "jMLHsscoVj7-",
      "execution_count": 24,
      "outputs": [
        {
          "output_type": "stream",
          "name": "stdout",
          "text": [
            "Converted 10000 words (0 misses)\n"
          ]
        }
      ]
    },
    {
      "cell_type": "markdown",
      "id": "b3ae4111-180e-405a-a822-71705acf6c54",
      "metadata": {
        "id": "b3ae4111-180e-405a-a822-71705acf6c54"
      },
      "source": [
        "### Model definition"
      ]
    },
    {
      "cell_type": "code",
      "execution_count": 25,
      "id": "2440b664-63e4-4cdd-bf6d-8b86fb91b660",
      "metadata": {
        "id": "2440b664-63e4-4cdd-bf6d-8b86fb91b660",
        "outputId": "86294dd1-299e-4be0-d1bc-bcf1a385ea03",
        "colab": {
          "base_uri": "https://localhost:8080/"
        }
      },
      "outputs": [
        {
          "output_type": "stream",
          "name": "stdout",
          "text": [
            "Model: \"sequential\"\n",
            "_________________________________________________________________\n",
            " Layer (type)                Output Shape              Param #   \n",
            "=================================================================\n",
            " embedding (Embedding)       (None, None, 300)         3000000   \n",
            "                                                                 \n",
            " dropout (Dropout)           (None, None, 300)         0         \n",
            "                                                                 \n",
            " global_average_pooling1d (G  (None, 300)              0         \n",
            " lobalAveragePooling1D)                                          \n",
            "                                                                 \n",
            " dropout_1 (Dropout)         (None, 300)               0         \n",
            "                                                                 \n",
            " dense (Dense)               (None, 128)               38528     \n",
            "                                                                 \n",
            " dropout_2 (Dropout)         (None, 128)               0         \n",
            "                                                                 \n",
            " dense_1 (Dense)             (None, 64)                8256      \n",
            "                                                                 \n",
            " dense_2 (Dense)             (None, 5)                 325       \n",
            "                                                                 \n",
            "=================================================================\n",
            "Total params: 3,047,109\n",
            "Trainable params: 47,109\n",
            "Non-trainable params: 3,000,000\n",
            "_________________________________________________________________\n"
          ]
        }
      ],
      "source": [
        "model = tf.keras.Sequential([\n",
        "  layers.Embedding(max_features, embedding_dim, embeddings_initializer=tf.keras.initializers.Constant(embedding_matrix), trainable=False),\n",
        "  layers.Dropout(0.25),\n",
        "  layers.GlobalAveragePooling1D(),\n",
        "  layers.Dropout(0.25),\n",
        "  layers.Dense(128, activation='relu'),\n",
        "  layers.Dropout(0.25),\n",
        "  layers.Dense(64, activation='relu'),\n",
        "  layers.Dense(5, activation='softmax')])\n",
        "\n",
        "model.summary()"
      ]
    },
    {
      "cell_type": "code",
      "execution_count": 26,
      "id": "83d900a6-dc69-4185-8d16-bcc99a3e9adf",
      "metadata": {
        "id": "83d900a6-dc69-4185-8d16-bcc99a3e9adf"
      },
      "outputs": [],
      "source": [
        "model.compile(loss=losses.SparseCategoricalCrossentropy(),\n",
        "              optimizer=tf.keras.optimizers.Adam(learning_rate=1e-4),\n",
        "              metrics=tf.metrics.SparseCategoricalAccuracy())"
      ]
    },
    {
      "cell_type": "code",
      "execution_count": 27,
      "id": "79b17591-4c99-446d-891e-5af7eccd308c",
      "metadata": {
        "id": "79b17591-4c99-446d-891e-5af7eccd308c",
        "outputId": "d557d2b6-c36d-4c18-a84c-a0ebc1c31d61",
        "colab": {
          "base_uri": "https://localhost:8080/"
        }
      },
      "outputs": [
        {
          "output_type": "stream",
          "name": "stdout",
          "text": [
            "Epoch 1/100\n",
            "1016/1016 [==============================] - 18s 16ms/step - loss: 1.3610 - sparse_categorical_accuracy: 0.5495 - val_loss: 1.1136 - val_sparse_categorical_accuracy: 0.6646\n",
            "Epoch 2/100\n",
            "1016/1016 [==============================] - 10s 10ms/step - loss: 1.2934 - sparse_categorical_accuracy: 0.5539 - val_loss: 1.0776 - val_sparse_categorical_accuracy: 0.6646\n",
            "Epoch 3/100\n",
            "1016/1016 [==============================] - 9s 9ms/step - loss: 1.2772 - sparse_categorical_accuracy: 0.5539 - val_loss: 1.0652 - val_sparse_categorical_accuracy: 0.6646\n",
            "Epoch 4/100\n",
            "1016/1016 [==============================] - 9s 9ms/step - loss: 1.2672 - sparse_categorical_accuracy: 0.5539 - val_loss: 1.0573 - val_sparse_categorical_accuracy: 0.6646\n",
            "Epoch 5/100\n",
            "1016/1016 [==============================] - 9s 9ms/step - loss: 1.2622 - sparse_categorical_accuracy: 0.5538 - val_loss: 1.0548 - val_sparse_categorical_accuracy: 0.6646\n",
            "Epoch 6/100\n",
            "1016/1016 [==============================] - 9s 9ms/step - loss: 1.2590 - sparse_categorical_accuracy: 0.5540 - val_loss: 1.0528 - val_sparse_categorical_accuracy: 0.6646\n",
            "Epoch 7/100\n",
            "1016/1016 [==============================] - 9s 9ms/step - loss: 1.2559 - sparse_categorical_accuracy: 0.5540 - val_loss: 1.0515 - val_sparse_categorical_accuracy: 0.6646\n",
            "Epoch 8/100\n",
            "1016/1016 [==============================] - 9s 9ms/step - loss: 1.2541 - sparse_categorical_accuracy: 0.5540 - val_loss: 1.0511 - val_sparse_categorical_accuracy: 0.6646\n",
            "Epoch 9/100\n",
            "1016/1016 [==============================] - 9s 9ms/step - loss: 1.2496 - sparse_categorical_accuracy: 0.5540 - val_loss: 1.0504 - val_sparse_categorical_accuracy: 0.6646\n",
            "Epoch 10/100\n",
            "1016/1016 [==============================] - 9s 9ms/step - loss: 1.2469 - sparse_categorical_accuracy: 0.5540 - val_loss: 1.0491 - val_sparse_categorical_accuracy: 0.6646\n",
            "Epoch 11/100\n",
            "1016/1016 [==============================] - 9s 9ms/step - loss: 1.2443 - sparse_categorical_accuracy: 0.5540 - val_loss: 1.0488 - val_sparse_categorical_accuracy: 0.6646\n",
            "Epoch 12/100\n",
            "1016/1016 [==============================] - 10s 9ms/step - loss: 1.2408 - sparse_categorical_accuracy: 0.5540 - val_loss: 1.0488 - val_sparse_categorical_accuracy: 0.6646\n",
            "Epoch 13/100\n",
            "1016/1016 [==============================] - 9s 9ms/step - loss: 1.2398 - sparse_categorical_accuracy: 0.5540 - val_loss: 1.0480 - val_sparse_categorical_accuracy: 0.6646\n",
            "Epoch 14/100\n",
            "1016/1016 [==============================] - 9s 9ms/step - loss: 1.2349 - sparse_categorical_accuracy: 0.5540 - val_loss: 1.0467 - val_sparse_categorical_accuracy: 0.6646\n",
            "Epoch 15/100\n",
            "1016/1016 [==============================] - 9s 9ms/step - loss: 1.2337 - sparse_categorical_accuracy: 0.5540 - val_loss: 1.0461 - val_sparse_categorical_accuracy: 0.6646\n",
            "Epoch 16/100\n",
            "1016/1016 [==============================] - 9s 9ms/step - loss: 1.2291 - sparse_categorical_accuracy: 0.5540 - val_loss: 1.0453 - val_sparse_categorical_accuracy: 0.6646\n",
            "Epoch 17/100\n",
            "1016/1016 [==============================] - 9s 9ms/step - loss: 1.2273 - sparse_categorical_accuracy: 0.5540 - val_loss: 1.0443 - val_sparse_categorical_accuracy: 0.6646\n",
            "Epoch 18/100\n",
            "1016/1016 [==============================] - 9s 9ms/step - loss: 1.2215 - sparse_categorical_accuracy: 0.5540 - val_loss: 1.0443 - val_sparse_categorical_accuracy: 0.6646\n",
            "Epoch 19/100\n",
            "1016/1016 [==============================] - 9s 9ms/step - loss: 1.2214 - sparse_categorical_accuracy: 0.5540 - val_loss: 1.0430 - val_sparse_categorical_accuracy: 0.6646\n",
            "Epoch 20/100\n",
            "1016/1016 [==============================] - 9s 9ms/step - loss: 1.2189 - sparse_categorical_accuracy: 0.5540 - val_loss: 1.0407 - val_sparse_categorical_accuracy: 0.6646\n",
            "Epoch 21/100\n",
            "1016/1016 [==============================] - 9s 9ms/step - loss: 1.2149 - sparse_categorical_accuracy: 0.5540 - val_loss: 1.0403 - val_sparse_categorical_accuracy: 0.6646\n",
            "Epoch 22/100\n",
            "1016/1016 [==============================] - 9s 9ms/step - loss: 1.2098 - sparse_categorical_accuracy: 0.5542 - val_loss: 1.0387 - val_sparse_categorical_accuracy: 0.6646\n",
            "Epoch 23/100\n",
            "1016/1016 [==============================] - 10s 10ms/step - loss: 1.2100 - sparse_categorical_accuracy: 0.5540 - val_loss: 1.0381 - val_sparse_categorical_accuracy: 0.6646\n",
            "Epoch 24/100\n",
            "1016/1016 [==============================] - 9s 9ms/step - loss: 1.2082 - sparse_categorical_accuracy: 0.5540 - val_loss: 1.0355 - val_sparse_categorical_accuracy: 0.6646\n",
            "Epoch 25/100\n",
            "1016/1016 [==============================] - 9s 9ms/step - loss: 1.2045 - sparse_categorical_accuracy: 0.5542 - val_loss: 1.0346 - val_sparse_categorical_accuracy: 0.6646\n",
            "Epoch 26/100\n",
            "1016/1016 [==============================] - 9s 9ms/step - loss: 1.2032 - sparse_categorical_accuracy: 0.5541 - val_loss: 1.0333 - val_sparse_categorical_accuracy: 0.6646\n",
            "Epoch 27/100\n",
            "1016/1016 [==============================] - 9s 9ms/step - loss: 1.2011 - sparse_categorical_accuracy: 0.5541 - val_loss: 1.0319 - val_sparse_categorical_accuracy: 0.6646\n",
            "Epoch 28/100\n",
            "1016/1016 [==============================] - 9s 9ms/step - loss: 1.1994 - sparse_categorical_accuracy: 0.5551 - val_loss: 1.0320 - val_sparse_categorical_accuracy: 0.6646\n",
            "Epoch 29/100\n",
            "1016/1016 [==============================] - 9s 9ms/step - loss: 1.1971 - sparse_categorical_accuracy: 0.5541 - val_loss: 1.0304 - val_sparse_categorical_accuracy: 0.6646\n",
            "Epoch 30/100\n",
            "1016/1016 [==============================] - 9s 9ms/step - loss: 1.1982 - sparse_categorical_accuracy: 0.5553 - val_loss: 1.0287 - val_sparse_categorical_accuracy: 0.6646\n",
            "Epoch 31/100\n",
            "1016/1016 [==============================] - 9s 9ms/step - loss: 1.1928 - sparse_categorical_accuracy: 0.5553 - val_loss: 1.0255 - val_sparse_categorical_accuracy: 0.6646\n",
            "Epoch 32/100\n",
            "1016/1016 [==============================] - 9s 9ms/step - loss: 1.1931 - sparse_categorical_accuracy: 0.5543 - val_loss: 1.0274 - val_sparse_categorical_accuracy: 0.6646\n",
            "Epoch 33/100\n",
            "1016/1016 [==============================] - 9s 9ms/step - loss: 1.1936 - sparse_categorical_accuracy: 0.5556 - val_loss: 1.0246 - val_sparse_categorical_accuracy: 0.6646\n",
            "Epoch 34/100\n",
            "1016/1016 [==============================] - 10s 10ms/step - loss: 1.1898 - sparse_categorical_accuracy: 0.5569 - val_loss: 1.0248 - val_sparse_categorical_accuracy: 0.6646\n",
            "Epoch 35/100\n",
            "1016/1016 [==============================] - 9s 9ms/step - loss: 1.1882 - sparse_categorical_accuracy: 0.5566 - val_loss: 1.0236 - val_sparse_categorical_accuracy: 0.6646\n",
            "Epoch 36/100\n",
            "1016/1016 [==============================] - 9s 9ms/step - loss: 1.1855 - sparse_categorical_accuracy: 0.5564 - val_loss: 1.0224 - val_sparse_categorical_accuracy: 0.6646\n",
            "Epoch 37/100\n",
            "1016/1016 [==============================] - 9s 9ms/step - loss: 1.1862 - sparse_categorical_accuracy: 0.5578 - val_loss: 1.0205 - val_sparse_categorical_accuracy: 0.6644\n",
            "Epoch 38/100\n",
            "1016/1016 [==============================] - 9s 9ms/step - loss: 1.1849 - sparse_categorical_accuracy: 0.5571 - val_loss: 1.0211 - val_sparse_categorical_accuracy: 0.6644\n",
            "Epoch 39/100\n",
            "1016/1016 [==============================] - 9s 9ms/step - loss: 1.1805 - sparse_categorical_accuracy: 0.5557 - val_loss: 1.0197 - val_sparse_categorical_accuracy: 0.6644\n",
            "Epoch 40/100\n",
            "1016/1016 [==============================] - 9s 9ms/step - loss: 1.1807 - sparse_categorical_accuracy: 0.5577 - val_loss: 1.0178 - val_sparse_categorical_accuracy: 0.6644\n",
            "Epoch 41/100\n",
            "1016/1016 [==============================] - 9s 9ms/step - loss: 1.1800 - sparse_categorical_accuracy: 0.5591 - val_loss: 1.0168 - val_sparse_categorical_accuracy: 0.6644\n",
            "Epoch 42/100\n",
            "1016/1016 [==============================] - 9s 9ms/step - loss: 1.1778 - sparse_categorical_accuracy: 0.5596 - val_loss: 1.0161 - val_sparse_categorical_accuracy: 0.6644\n",
            "Epoch 43/100\n",
            "1016/1016 [==============================] - 9s 9ms/step - loss: 1.1787 - sparse_categorical_accuracy: 0.5586 - val_loss: 1.0166 - val_sparse_categorical_accuracy: 0.6646\n",
            "Epoch 44/100\n",
            "1016/1016 [==============================] - 9s 9ms/step - loss: 1.1777 - sparse_categorical_accuracy: 0.5583 - val_loss: 1.0164 - val_sparse_categorical_accuracy: 0.6646\n",
            "Epoch 45/100\n",
            "1016/1016 [==============================] - 9s 9ms/step - loss: 1.1783 - sparse_categorical_accuracy: 0.5582 - val_loss: 1.0174 - val_sparse_categorical_accuracy: 0.6646\n",
            "Epoch 46/100\n",
            "1016/1016 [==============================] - 9s 9ms/step - loss: 1.1752 - sparse_categorical_accuracy: 0.5593 - val_loss: 1.0163 - val_sparse_categorical_accuracy: 0.6649\n",
            "Epoch 47/100\n",
            "1016/1016 [==============================] - 9s 9ms/step - loss: 1.1794 - sparse_categorical_accuracy: 0.5581 - val_loss: 1.0129 - val_sparse_categorical_accuracy: 0.6649\n",
            "Epoch 48/100\n",
            "1016/1016 [==============================] - 9s 9ms/step - loss: 1.1737 - sparse_categorical_accuracy: 0.5605 - val_loss: 1.0142 - val_sparse_categorical_accuracy: 0.6649\n",
            "Epoch 49/100\n",
            "1016/1016 [==============================] - 9s 9ms/step - loss: 1.1755 - sparse_categorical_accuracy: 0.5581 - val_loss: 1.0128 - val_sparse_categorical_accuracy: 0.6651\n",
            "Epoch 50/100\n",
            "1016/1016 [==============================] - 9s 9ms/step - loss: 1.1731 - sparse_categorical_accuracy: 0.5609 - val_loss: 1.0120 - val_sparse_categorical_accuracy: 0.6651\n",
            "Epoch 51/100\n",
            "1016/1016 [==============================] - 9s 9ms/step - loss: 1.1751 - sparse_categorical_accuracy: 0.5590 - val_loss: 1.0116 - val_sparse_categorical_accuracy: 0.6661\n",
            "Epoch 52/100\n",
            "1016/1016 [==============================] - 9s 9ms/step - loss: 1.1740 - sparse_categorical_accuracy: 0.5594 - val_loss: 1.0131 - val_sparse_categorical_accuracy: 0.6661\n",
            "Epoch 53/100\n",
            "1016/1016 [==============================] - 9s 9ms/step - loss: 1.1704 - sparse_categorical_accuracy: 0.5603 - val_loss: 1.0094 - val_sparse_categorical_accuracy: 0.6661\n",
            "Epoch 54/100\n",
            "1016/1016 [==============================] - 9s 9ms/step - loss: 1.1758 - sparse_categorical_accuracy: 0.5613 - val_loss: 1.0123 - val_sparse_categorical_accuracy: 0.6661\n",
            "Epoch 55/100\n",
            "1016/1016 [==============================] - 9s 9ms/step - loss: 1.1734 - sparse_categorical_accuracy: 0.5601 - val_loss: 1.0120 - val_sparse_categorical_accuracy: 0.6661\n",
            "Epoch 56/100\n",
            "1016/1016 [==============================] - 9s 9ms/step - loss: 1.1696 - sparse_categorical_accuracy: 0.5607 - val_loss: 1.0118 - val_sparse_categorical_accuracy: 0.6668\n",
            "Epoch 57/100\n",
            "1016/1016 [==============================] - 9s 9ms/step - loss: 1.1724 - sparse_categorical_accuracy: 0.5607 - val_loss: 1.0108 - val_sparse_categorical_accuracy: 0.6673\n",
            "Epoch 58/100\n",
            "1016/1016 [==============================] - 9s 9ms/step - loss: 1.1674 - sparse_categorical_accuracy: 0.5611 - val_loss: 1.0090 - val_sparse_categorical_accuracy: 0.6671\n",
            "Epoch 59/100\n",
            "1016/1016 [==============================] - 9s 9ms/step - loss: 1.1693 - sparse_categorical_accuracy: 0.5612 - val_loss: 1.0099 - val_sparse_categorical_accuracy: 0.6673\n",
            "Epoch 60/100\n",
            "1016/1016 [==============================] - 9s 9ms/step - loss: 1.1684 - sparse_categorical_accuracy: 0.5608 - val_loss: 1.0083 - val_sparse_categorical_accuracy: 0.6668\n",
            "Epoch 61/100\n",
            "1016/1016 [==============================] - 9s 9ms/step - loss: 1.1684 - sparse_categorical_accuracy: 0.5610 - val_loss: 1.0089 - val_sparse_categorical_accuracy: 0.6673\n",
            "Epoch 62/100\n",
            "1016/1016 [==============================] - 9s 9ms/step - loss: 1.1681 - sparse_categorical_accuracy: 0.5600 - val_loss: 1.0072 - val_sparse_categorical_accuracy: 0.6668\n",
            "Epoch 63/100\n",
            "1016/1016 [==============================] - 9s 9ms/step - loss: 1.1664 - sparse_categorical_accuracy: 0.5613 - val_loss: 1.0062 - val_sparse_categorical_accuracy: 0.6673\n",
            "Epoch 64/100\n",
            "1016/1016 [==============================] - 9s 9ms/step - loss: 1.1719 - sparse_categorical_accuracy: 0.5619 - val_loss: 1.0096 - val_sparse_categorical_accuracy: 0.6676\n",
            "Epoch 65/100\n",
            "1016/1016 [==============================] - 9s 9ms/step - loss: 1.1679 - sparse_categorical_accuracy: 0.5615 - val_loss: 1.0072 - val_sparse_categorical_accuracy: 0.6673\n",
            "Epoch 66/100\n",
            "1016/1016 [==============================] - 9s 9ms/step - loss: 1.1666 - sparse_categorical_accuracy: 0.5601 - val_loss: 1.0064 - val_sparse_categorical_accuracy: 0.6676\n",
            "Epoch 67/100\n",
            "1016/1016 [==============================] - 9s 9ms/step - loss: 1.1664 - sparse_categorical_accuracy: 0.5612 - val_loss: 1.0047 - val_sparse_categorical_accuracy: 0.6676\n",
            "Epoch 68/100\n",
            "1016/1016 [==============================] - 9s 9ms/step - loss: 1.1641 - sparse_categorical_accuracy: 0.5603 - val_loss: 1.0057 - val_sparse_categorical_accuracy: 0.6681\n",
            "Epoch 69/100\n",
            "1016/1016 [==============================] - 9s 9ms/step - loss: 1.1622 - sparse_categorical_accuracy: 0.5623 - val_loss: 1.0057 - val_sparse_categorical_accuracy: 0.6698\n",
            "Epoch 70/100\n",
            "1016/1016 [==============================] - 9s 9ms/step - loss: 1.1612 - sparse_categorical_accuracy: 0.5623 - val_loss: 1.0046 - val_sparse_categorical_accuracy: 0.6683\n",
            "Epoch 71/100\n",
            "1016/1016 [==============================] - 9s 9ms/step - loss: 1.1649 - sparse_categorical_accuracy: 0.5602 - val_loss: 1.0061 - val_sparse_categorical_accuracy: 0.6683\n",
            "Epoch 72/100\n",
            "1016/1016 [==============================] - 9s 9ms/step - loss: 1.1625 - sparse_categorical_accuracy: 0.5620 - val_loss: 1.0051 - val_sparse_categorical_accuracy: 0.6695\n",
            "Epoch 73/100\n",
            "1016/1016 [==============================] - 9s 9ms/step - loss: 1.1643 - sparse_categorical_accuracy: 0.5607 - val_loss: 1.0059 - val_sparse_categorical_accuracy: 0.6695\n",
            "Epoch 74/100\n",
            "1016/1016 [==============================] - 9s 9ms/step - loss: 1.1637 - sparse_categorical_accuracy: 0.5612 - val_loss: 1.0062 - val_sparse_categorical_accuracy: 0.6690\n",
            "Epoch 75/100\n",
            "1016/1016 [==============================] - 9s 9ms/step - loss: 1.1630 - sparse_categorical_accuracy: 0.5612 - val_loss: 1.0051 - val_sparse_categorical_accuracy: 0.6695\n",
            "Epoch 76/100\n",
            "1016/1016 [==============================] - 9s 9ms/step - loss: 1.1627 - sparse_categorical_accuracy: 0.5621 - val_loss: 1.0037 - val_sparse_categorical_accuracy: 0.6690\n",
            "Epoch 77/100\n",
            "1016/1016 [==============================] - 9s 9ms/step - loss: 1.1648 - sparse_categorical_accuracy: 0.5626 - val_loss: 1.0082 - val_sparse_categorical_accuracy: 0.6688\n",
            "Epoch 78/100\n",
            "1016/1016 [==============================] - 9s 9ms/step - loss: 1.1627 - sparse_categorical_accuracy: 0.5653 - val_loss: 1.0014 - val_sparse_categorical_accuracy: 0.6688\n",
            "Epoch 79/100\n",
            "1016/1016 [==============================] - 9s 9ms/step - loss: 1.1598 - sparse_categorical_accuracy: 0.5629 - val_loss: 1.0027 - val_sparse_categorical_accuracy: 0.6683\n",
            "Epoch 80/100\n",
            "1016/1016 [==============================] - 9s 9ms/step - loss: 1.1626 - sparse_categorical_accuracy: 0.5620 - val_loss: 1.0054 - val_sparse_categorical_accuracy: 0.6688\n",
            "Epoch 81/100\n",
            "1016/1016 [==============================] - 9s 9ms/step - loss: 1.1624 - sparse_categorical_accuracy: 0.5636 - val_loss: 1.0036 - val_sparse_categorical_accuracy: 0.6690\n",
            "Epoch 82/100\n",
            "1016/1016 [==============================] - 9s 9ms/step - loss: 1.1584 - sparse_categorical_accuracy: 0.5655 - val_loss: 1.0022 - val_sparse_categorical_accuracy: 0.6688\n",
            "Epoch 83/100\n",
            "1016/1016 [==============================] - 9s 9ms/step - loss: 1.1629 - sparse_categorical_accuracy: 0.5604 - val_loss: 1.0043 - val_sparse_categorical_accuracy: 0.6688\n",
            "Epoch 84/100\n",
            "1016/1016 [==============================] - 9s 9ms/step - loss: 1.1603 - sparse_categorical_accuracy: 0.5616 - val_loss: 1.0029 - val_sparse_categorical_accuracy: 0.6695\n",
            "Epoch 85/100\n",
            "1016/1016 [==============================] - 9s 9ms/step - loss: 1.1565 - sparse_categorical_accuracy: 0.5616 - val_loss: 1.0026 - val_sparse_categorical_accuracy: 0.6693\n",
            "Epoch 86/100\n",
            "1016/1016 [==============================] - 9s 9ms/step - loss: 1.1598 - sparse_categorical_accuracy: 0.5645 - val_loss: 1.0025 - val_sparse_categorical_accuracy: 0.6693\n",
            "Epoch 87/100\n",
            "1016/1016 [==============================] - 9s 9ms/step - loss: 1.1601 - sparse_categorical_accuracy: 0.5626 - val_loss: 1.0036 - val_sparse_categorical_accuracy: 0.6690\n",
            "Epoch 88/100\n",
            "1016/1016 [==============================] - 9s 9ms/step - loss: 1.1552 - sparse_categorical_accuracy: 0.5636 - val_loss: 1.0014 - val_sparse_categorical_accuracy: 0.6700\n",
            "Epoch 89/100\n",
            "1016/1016 [==============================] - 9s 9ms/step - loss: 1.1551 - sparse_categorical_accuracy: 0.5639 - val_loss: 1.0018 - val_sparse_categorical_accuracy: 0.6700\n",
            "Epoch 90/100\n",
            "1016/1016 [==============================] - 9s 9ms/step - loss: 1.1587 - sparse_categorical_accuracy: 0.5630 - val_loss: 1.0042 - val_sparse_categorical_accuracy: 0.6703\n",
            "Epoch 91/100\n",
            "1016/1016 [==============================] - 9s 9ms/step - loss: 1.1582 - sparse_categorical_accuracy: 0.5628 - val_loss: 1.0055 - val_sparse_categorical_accuracy: 0.6708\n",
            "Epoch 92/100\n",
            "1016/1016 [==============================] - 9s 9ms/step - loss: 1.1554 - sparse_categorical_accuracy: 0.5649 - val_loss: 1.0016 - val_sparse_categorical_accuracy: 0.6718\n",
            "Epoch 93/100\n",
            "1016/1016 [==============================] - 9s 9ms/step - loss: 1.1540 - sparse_categorical_accuracy: 0.5626 - val_loss: 1.0037 - val_sparse_categorical_accuracy: 0.6705\n",
            "Epoch 94/100\n",
            "1016/1016 [==============================] - 9s 9ms/step - loss: 1.1590 - sparse_categorical_accuracy: 0.5621 - val_loss: 1.0028 - val_sparse_categorical_accuracy: 0.6703\n",
            "Epoch 95/100\n",
            "1016/1016 [==============================] - 9s 9ms/step - loss: 1.1551 - sparse_categorical_accuracy: 0.5646 - val_loss: 1.0005 - val_sparse_categorical_accuracy: 0.6705\n",
            "Epoch 96/100\n",
            "1016/1016 [==============================] - 9s 9ms/step - loss: 1.1558 - sparse_categorical_accuracy: 0.5647 - val_loss: 1.0025 - val_sparse_categorical_accuracy: 0.6703\n",
            "Epoch 97/100\n",
            "1016/1016 [==============================] - 9s 9ms/step - loss: 1.1566 - sparse_categorical_accuracy: 0.5649 - val_loss: 1.0011 - val_sparse_categorical_accuracy: 0.6705\n",
            "Epoch 98/100\n",
            "1016/1016 [==============================] - 9s 9ms/step - loss: 1.1543 - sparse_categorical_accuracy: 0.5634 - val_loss: 1.0021 - val_sparse_categorical_accuracy: 0.6700\n",
            "Epoch 99/100\n",
            "1016/1016 [==============================] - 9s 9ms/step - loss: 1.1520 - sparse_categorical_accuracy: 0.5638 - val_loss: 0.9971 - val_sparse_categorical_accuracy: 0.6715\n",
            "Epoch 100/100\n",
            "1016/1016 [==============================] - 9s 9ms/step - loss: 1.1543 - sparse_categorical_accuracy: 0.5641 - val_loss: 0.9976 - val_sparse_categorical_accuracy: 0.6713\n"
          ]
        }
      ],
      "source": [
        "epochs = 100\n",
        "history = model.fit(\n",
        "    train_ds,\n",
        "    validation_data=val_ds,\n",
        "    epochs=epochs)"
      ]
    },
    {
      "cell_type": "code",
      "source": [
        "pd.DataFrame(history.history)[['loss', 'val_loss']].plot(figsize=(8,5))"
      ],
      "metadata": {
        "colab": {
          "base_uri": "https://localhost:8080/",
          "height": 337
        },
        "id": "46d7ulvpo208",
        "outputId": "f6a52c5d-54ee-4323-d141-dd8ff1d4e412"
      },
      "id": "46d7ulvpo208",
      "execution_count": 28,
      "outputs": [
        {
          "output_type": "execute_result",
          "data": {
            "text/plain": [
              "<matplotlib.axes._subplots.AxesSubplot at 0x7fee1e7c6d90>"
            ]
          },
          "metadata": {},
          "execution_count": 28
        },
        {
          "output_type": "display_data",
          "data": {
            "text/plain": [
              "<Figure size 576x360 with 1 Axes>"
            ],
            "image/png": "[encoded data removed]"
          },
          "metadata": {
            "needs_background": "light"
          }
        }
      ]
    },
    {
      "cell_type": "code",
      "execution_count": 29,
      "id": "76cb20b2-be01-468f-a17f-7e03e5e38568",
      "metadata": {
        "id": "76cb20b2-be01-468f-a17f-7e03e5e38568"
      },
      "outputs": [],
      "source": [
        "val_softmax = model.predict(val_ds)"
      ]
    },
    {
      "cell_type": "code",
      "execution_count": 30,
      "id": "d2f6ad9e-401c-4068-ad38-a98a096b640d",
      "metadata": {
        "id": "d2f6ad9e-401c-4068-ad38-a98a096b640d"
      },
      "outputs": [],
      "source": [
        "val_labels = np.argmax(val_softmax, axis=1)"
      ]
    },
    {
      "cell_type": "code",
      "execution_count": 31,
      "id": "40de48b2-325a-43f3-999d-69cf8adcf761",
      "metadata": {
        "id": "40de48b2-325a-43f3-999d-69cf8adcf761"
      },
      "outputs": [],
      "source": [
        "val_pd = dataset[train_size:]"
      ]
    },
    {
      "cell_type": "code",
      "execution_count": 32,
      "id": "6eadc6bb-59e0-427a-8ff3-6532cab3bbcf",
      "metadata": {
        "id": "6eadc6bb-59e0-427a-8ff3-6532cab3bbcf",
        "outputId": "deca60cf-a048-4061-9bad-eeba673c6726",
        "colab": {
          "base_uri": "https://localhost:8080/"
        }
      },
      "outputs": [
        {
          "output_type": "stream",
          "name": "stdout",
          "text": [
            "              precision    recall  f1-score   support\n",
            "\n",
            "           0       0.00      0.00      0.00       183\n",
            "           1       0.61      0.03      0.05       416\n",
            "           2       0.58      0.06      0.11       625\n",
            "           3       0.00      0.00      0.00       138\n",
            "           4       0.67      0.99      0.80      2699\n",
            "\n",
            "    accuracy                           0.67      4061\n",
            "   macro avg       0.37      0.22      0.19      4061\n",
            "weighted avg       0.60      0.67      0.55      4061\n",
            "\n"
          ]
        },
        {
          "output_type": "stream",
          "name": "stderr",
          "text": [
            "/usr/local/lib/python3.7/dist-packages/ipykernel_launcher.py:1: SettingWithCopyWarning: \n",
            "A value is trying to be set on a copy of a slice from a DataFrame.\n",
            "Try using .loc[row_indexer,col_indexer] = value instead\n",
            "\n",
            "See the caveats in the documentation: https://pandas.pydata.org/pandas-docs/stable/user_guide/indexing.html#returning-a-view-versus-a-copy\n",
            "  \"\"\"Entry point for launching an IPython kernel.\n",
            "/usr/local/lib/python3.7/dist-packages/sklearn/metrics/_classification.py:1318: UndefinedMetricWarning: Precision and F-score are ill-defined and being set to 0.0 in labels with no predicted samples. Use `zero_division` parameter to control this behavior.\n",
            "  _warn_prf(average, modifier, msg_start, len(result))\n",
            "/usr/local/lib/python3.7/dist-packages/sklearn/metrics/_classification.py:1318: UndefinedMetricWarning: Precision and F-score are ill-defined and being set to 0.0 in labels with no predicted samples. Use `zero_division` parameter to control this behavior.\n",
            "  _warn_prf(average, modifier, msg_start, len(result))\n",
            "/usr/local/lib/python3.7/dist-packages/sklearn/metrics/_classification.py:1318: UndefinedMetricWarning: Precision and F-score are ill-defined and being set to 0.0 in labels with no predicted samples. Use `zero_division` parameter to control this behavior.\n",
            "  _warn_prf(average, modifier, msg_start, len(result))\n"
          ]
        }
      ],
      "source": [
        "val_pd['pred_labels'] = val_labels\n",
        "print(classification_report(val_pd['Annotation'], val_pd['pred_labels']))"
      ]
    },
    {
      "cell_type": "code",
      "execution_count": 33,
      "id": "b32812db-b79c-4f30-b9b9-f439a22df6d4",
      "metadata": {
        "id": "b32812db-b79c-4f30-b9b9-f439a22df6d4"
      },
      "outputs": [],
      "source": [
        "# val_pd"
      ]
    },
    {
      "cell_type": "code",
      "execution_count": 34,
      "id": "764b235b-41f9-40c0-bbd4-acac0bc93ce7",
      "metadata": {
        "id": "764b235b-41f9-40c0-bbd4-acac0bc93ce7"
      },
      "outputs": [],
      "source": [
        "# val_pd['pred_labels'].value_counts()"
      ]
    },
    {
      "cell_type": "code",
      "execution_count": 35,
      "id": "d0bda131-dfda-4ba3-b177-25963af7581c",
      "metadata": {
        "id": "d0bda131-dfda-4ba3-b177-25963af7581c"
      },
      "outputs": [],
      "source": [
        "# val_pd['Annotation'].value_counts()"
      ]
    },
    {
      "cell_type": "markdown",
      "id": "10c1632c-dc32-4e42-aa7e-89aa0ef73396",
      "metadata": {
        "id": "10c1632c-dc32-4e42-aa7e-89aa0ef73396"
      },
      "source": [
        "### LSTM"
      ]
    },
    {
      "cell_type": "code",
      "execution_count": 36,
      "id": "cadb31cd-e970-4554-a3da-b77d43fe95f1",
      "metadata": {
        "id": "cadb31cd-e970-4554-a3da-b77d43fe95f1"
      },
      "outputs": [],
      "source": [
        "model = tf.keras.Sequential([\n",
        "    layers.Embedding(max_features, embedding_dim, mask_zero=True, embeddings_initializer=tf.keras.initializers.Constant(embedding_matrix), trainable=False),\n",
        "    tf.keras.layers.LSTM(128),\n",
        "    layers.Dense(64, activation='relu'),\n",
        "    layers.Dropout(0.25),\n",
        "    layers.Dense(5, activation='softmax')\n",
        "])"
      ]
    },
    {
      "cell_type": "code",
      "execution_count": 37,
      "id": "f40a2eed-af53-4d35-b3e6-0b25fb2629fc",
      "metadata": {
        "id": "f40a2eed-af53-4d35-b3e6-0b25fb2629fc"
      },
      "outputs": [],
      "source": [
        "model.compile(loss=losses.SparseCategoricalCrossentropy(),\n",
        "              optimizer=tf.keras.optimizers.Adam(learning_rate=1e-4),\n",
        "              metrics=tf.metrics.SparseCategoricalAccuracy())"
      ]
    },
    {
      "cell_type": "code",
      "execution_count": 38,
      "id": "64f79a10-a36c-4be1-8d34-c5d9567ddc6c",
      "metadata": {
        "id": "64f79a10-a36c-4be1-8d34-c5d9567ddc6c",
        "outputId": "b15f1a74-4848-40a6-83ed-0bdd2d1374c7",
        "colab": {
          "base_uri": "https://localhost:8080/"
        }
      },
      "outputs": [
        {
          "output_type": "stream",
          "name": "stdout",
          "text": [
            "Epoch 1/20\n",
            "1016/1016 [==============================] - 166s 159ms/step - loss: 1.2881 - sparse_categorical_accuracy: 0.5400 - val_loss: 1.0803 - val_sparse_categorical_accuracy: 0.6646\n",
            "Epoch 2/20\n",
            "1016/1016 [==============================] - 162s 160ms/step - loss: 1.2399 - sparse_categorical_accuracy: 0.5504 - val_loss: 1.0702 - val_sparse_categorical_accuracy: 0.6646\n",
            "Epoch 3/20\n",
            "1016/1016 [==============================] - 162s 159ms/step - loss: 1.2079 - sparse_categorical_accuracy: 0.5540 - val_loss: 1.0703 - val_sparse_categorical_accuracy: 0.6649\n",
            "Epoch 4/20\n",
            "1016/1016 [==============================] - 162s 160ms/step - loss: 1.1836 - sparse_categorical_accuracy: 0.5583 - val_loss: 1.0703 - val_sparse_categorical_accuracy: 0.6649\n",
            "Epoch 5/20\n",
            "1016/1016 [==============================] - 161s 159ms/step - loss: 1.1678 - sparse_categorical_accuracy: 0.5629 - val_loss: 1.0579 - val_sparse_categorical_accuracy: 0.6646\n",
            "Epoch 6/20\n",
            "1016/1016 [==============================] - 160s 158ms/step - loss: 1.1510 - sparse_categorical_accuracy: 0.5668 - val_loss: 1.0536 - val_sparse_categorical_accuracy: 0.6649\n",
            "Epoch 7/20\n",
            "1016/1016 [==============================] - 160s 158ms/step - loss: 1.1365 - sparse_categorical_accuracy: 0.5727 - val_loss: 1.0582 - val_sparse_categorical_accuracy: 0.6646\n",
            "Epoch 8/20\n",
            "1016/1016 [==============================] - 160s 157ms/step - loss: 1.1228 - sparse_categorical_accuracy: 0.5739 - val_loss: 1.0517 - val_sparse_categorical_accuracy: 0.6651\n",
            "Epoch 9/20\n",
            "1016/1016 [==============================] - 160s 157ms/step - loss: 1.1131 - sparse_categorical_accuracy: 0.5790 - val_loss: 1.0494 - val_sparse_categorical_accuracy: 0.6658\n",
            "Epoch 10/20\n",
            "1016/1016 [==============================] - 161s 158ms/step - loss: 1.0997 - sparse_categorical_accuracy: 0.5828 - val_loss: 1.0567 - val_sparse_categorical_accuracy: 0.6663\n",
            "Epoch 11/20\n",
            "1016/1016 [==============================] - 160s 158ms/step - loss: 1.0887 - sparse_categorical_accuracy: 0.5830 - val_loss: 1.0512 - val_sparse_categorical_accuracy: 0.6678\n",
            "Epoch 12/20\n",
            "1016/1016 [==============================] - 160s 158ms/step - loss: 1.0760 - sparse_categorical_accuracy: 0.5871 - val_loss: 1.0603 - val_sparse_categorical_accuracy: 0.6686\n",
            "Epoch 13/20\n",
            "1016/1016 [==============================] - 160s 158ms/step - loss: 1.0633 - sparse_categorical_accuracy: 0.5915 - val_loss: 1.0573 - val_sparse_categorical_accuracy: 0.6673\n",
            "Epoch 14/20\n",
            "1016/1016 [==============================] - 161s 158ms/step - loss: 1.0532 - sparse_categorical_accuracy: 0.5971 - val_loss: 1.0565 - val_sparse_categorical_accuracy: 0.6678\n",
            "Epoch 15/20\n",
            "1016/1016 [==============================] - 160s 158ms/step - loss: 1.0402 - sparse_categorical_accuracy: 0.5988 - val_loss: 1.0602 - val_sparse_categorical_accuracy: 0.6683\n",
            "Epoch 16/20\n",
            "1016/1016 [==============================] - 161s 159ms/step - loss: 1.0277 - sparse_categorical_accuracy: 0.6036 - val_loss: 1.0658 - val_sparse_categorical_accuracy: 0.6686\n",
            "Epoch 17/20\n",
            "1016/1016 [==============================] - 161s 158ms/step - loss: 1.0122 - sparse_categorical_accuracy: 0.6067 - val_loss: 1.0692 - val_sparse_categorical_accuracy: 0.6683\n",
            "Epoch 18/20\n",
            "1016/1016 [==============================] - 160s 158ms/step - loss: 1.0009 - sparse_categorical_accuracy: 0.6147 - val_loss: 1.0604 - val_sparse_categorical_accuracy: 0.6663\n",
            "Epoch 19/20\n",
            "1016/1016 [==============================] - 161s 159ms/step - loss: 0.9844 - sparse_categorical_accuracy: 0.6168 - val_loss: 1.0708 - val_sparse_categorical_accuracy: 0.6661\n",
            "Epoch 20/20\n",
            "1016/1016 [==============================] - 161s 159ms/step - loss: 0.9656 - sparse_categorical_accuracy: 0.6259 - val_loss: 1.0769 - val_sparse_categorical_accuracy: 0.6651\n"
          ]
        }
      ],
      "source": [
        "epochs = 20\n",
        "history = model.fit(\n",
        "    train_ds,\n",
        "    validation_data=val_ds,\n",
        "    epochs=epochs)"
      ]
    },
    {
      "cell_type": "code",
      "execution_count": 39,
      "id": "6526a136-727b-4fd0-aacf-2da535dbd82d",
      "metadata": {
        "id": "6526a136-727b-4fd0-aacf-2da535dbd82d",
        "colab": {
          "base_uri": "https://localhost:8080/",
          "height": 337
        },
        "outputId": "f5f267a2-68c8-4e67-da7d-ead3cd0626c9"
      },
      "outputs": [
        {
          "output_type": "execute_result",
          "data": {
            "text/plain": [
              "<matplotlib.axes._subplots.AxesSubplot at 0x7fee1a8fc750>"
            ]
          },
          "metadata": {},
          "execution_count": 39
        },
        {
          "output_type": "display_data",
          "data": {
            "text/plain": [
              "<Figure size 576x360 with 1 Axes>"
            ],
            "image/png": "[encoded data removed]"
          },
          "metadata": {
            "needs_background": "light"
          }
        }
      ],
      "source": [
        "pd.DataFrame(history.history)[['loss', 'val_loss']].plot(figsize=(8,5))"
      ]
    },
    {
      "cell_type": "code",
      "execution_count": 40,
      "id": "00f02a9e-7bad-47ce-a0cf-8be11420eb06",
      "metadata": {
        "id": "00f02a9e-7bad-47ce-a0cf-8be11420eb06",
        "colab": {
          "base_uri": "https://localhost:8080/"
        },
        "outputId": "0f939e4b-faf2-4ace-97ae-5befff0ad925"
      },
      "outputs": [
        {
          "output_type": "stream",
          "name": "stdout",
          "text": [
            "              precision    recall  f1-score   support\n",
            "\n",
            "           0       0.17      0.01      0.01       183\n",
            "           1       0.38      0.06      0.10       416\n",
            "           2       0.44      0.08      0.14       625\n",
            "           3       0.30      0.02      0.04       138\n",
            "           4       0.68      0.97      0.80      2699\n",
            "\n",
            "    accuracy                           0.67      4061\n",
            "   macro avg       0.39      0.23      0.22      4061\n",
            "weighted avg       0.58      0.67      0.56      4061\n",
            "\n"
          ]
        },
        {
          "output_type": "stream",
          "name": "stderr",
          "text": [
            "/usr/local/lib/python3.7/dist-packages/ipykernel_launcher.py:4: SettingWithCopyWarning: \n",
            "A value is trying to be set on a copy of a slice from a DataFrame.\n",
            "Try using .loc[row_indexer,col_indexer] = value instead\n",
            "\n",
            "See the caveats in the documentation: https://pandas.pydata.org/pandas-docs/stable/user_guide/indexing.html#returning-a-view-versus-a-copy\n",
            "  after removing the cwd from sys.path.\n"
          ]
        }
      ],
      "source": [
        "val_softmax = model.predict(val_ds)\n",
        "val_labels = np.argmax(val_softmax, axis=1)\n",
        "\n",
        "val_pd['lstm_pred'] = val_labels\n",
        "\n",
        "print(classification_report(val_pd['Annotation'], val_pd['lstm_pred']))"
      ]
    }
  ],
  "metadata": {
    "kernelspec": {
      "display_name": "Python 3 (ipykernel)",
      "language": "python",
      "name": "python3"
    },
    "language_info": {
      "codemirror_mode": {
        "name": "ipython",
        "version": 3
      },
      "file_extension": ".py",
      "mimetype": "text/x-python",
      "name": "python",
      "nbconvert_exporter": "python",
      "pygments_lexer": "ipython3",
      "version": "3.9.7"
    },
    "colab": {
      "name": "Pretrained-Pre-processing-v3.ipynb",
      "provenance": [],
      "collapsed_sections": []
    },
    "accelerator": "GPU"
  },
  "nbformat": 4,
  "nbformat_minor": 5
}