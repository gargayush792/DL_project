{
 "cells": [
  {
   "cell_type": "code",
   "execution_count": 10,
   "id": "ce85cb08-d95f-4146-9458-fb65fc5fba5b",
   "metadata": {},
   "outputs": [],
   "source": [
    "import pandas as pd\n",
    "import numpy as np"
   ]
  },
  {
   "cell_type": "code",
   "execution_count": 82,
   "id": "eb51662b-a7ac-4774-8317-68a4a2c1b4dd",
   "metadata": {},
   "outputs": [],
   "source": [
    "import tensorflow as tf\n",
    "from tensorflow.keras import layers\n",
    "from tensorflow.keras import losses"
   ]
  },
  {
   "cell_type": "markdown",
   "id": "c002ff79-8466-4035-adf3-eea69db9ac5a",
   "metadata": {},
   "source": [
    "### Dataset reading and annotations"
   ]
  },
  {
   "cell_type": "code",
   "execution_count": 37,
   "id": "384e8bb7-1398-415f-a5ba-13cb95ba5e7a",
   "metadata": {},
   "outputs": [],
   "source": [
    "dataset = pd.read_csv('Bhaav-Dataset.csv')"
   ]
  },
  {
   "cell_type": "code",
   "execution_count": 38,
   "id": "a9cbcb5b-a097-4886-9ff2-1ec24ea1002e",
   "metadata": {},
   "outputs": [
    {
     "data": {
      "text/html": [
       "<div>\n",
       "<style scoped>\n",
       "    .dataframe tbody tr th:only-of-type {\n",
       "        vertical-align: middle;\n",
       "    }\n",
       "\n",
       "    .dataframe tbody tr th {\n",
       "        vertical-align: top;\n",
       "    }\n",
       "\n",
       "    .dataframe thead th {\n",
       "        text-align: right;\n",
       "    }\n",
       "</style>\n",
       "<table border=\"1\" class=\"dataframe\">\n",
       "  <thead>\n",
       "    <tr style=\"text-align: right;\">\n",
       "      <th></th>\n",
       "      <th>Sentences</th>\n",
       "      <th>Annotation</th>\n",
       "    </tr>\n",
       "  </thead>\n",
       "  <tbody>\n",
       "    <tr>\n",
       "      <th>0</th>\n",
       "      <td>रमजान के पूरे तीस रोजों के बाद ईद आयी है</td>\n",
       "      <td>1</td>\n",
       "    </tr>\n",
       "    <tr>\n",
       "      <th>1</th>\n",
       "      <td>कितना मनोहर, कितना सुहावना प्रभाव है</td>\n",
       "      <td>1</td>\n",
       "    </tr>\n",
       "    <tr>\n",
       "      <th>2</th>\n",
       "      <td>वृक्षों पर अजीब हरियाली है, खेतों में कुछ अजीब...</td>\n",
       "      <td>1</td>\n",
       "    </tr>\n",
       "    <tr>\n",
       "      <th>3</th>\n",
       "      <td>आज का सूर्य देखो, कितना प्यारा, कितना शीतल है,...</td>\n",
       "      <td>1</td>\n",
       "    </tr>\n",
       "    <tr>\n",
       "      <th>4</th>\n",
       "      <td>गाँव में कितनी हलचल है</td>\n",
       "      <td>1</td>\n",
       "    </tr>\n",
       "    <tr>\n",
       "      <th>...</th>\n",
       "      <td>...</td>\n",
       "      <td>...</td>\n",
       "    </tr>\n",
       "    <tr>\n",
       "      <th>20299</th>\n",
       "      <td>फिर यहाँ सर्दी हो जाती है</td>\n",
       "      <td>4</td>\n",
       "    </tr>\n",
       "    <tr>\n",
       "      <th>20300</th>\n",
       "      <td>दिन-भर मैं यह देखती रहती हूँ कि धूप का टुकड़ा क...</td>\n",
       "      <td>4</td>\n",
       "    </tr>\n",
       "    <tr>\n",
       "      <th>20301</th>\n",
       "      <td>पार्क का कोई ऐसा कोना नहीं, जहाँ मैं घड़ी-आधा घ...</td>\n",
       "      <td>4</td>\n",
       "    </tr>\n",
       "    <tr>\n",
       "      <th>20302</th>\n",
       "      <td>लेकिन यह बेंच मुझे सबसे अच्छी लगती है</td>\n",
       "      <td>1</td>\n",
       "    </tr>\n",
       "    <tr>\n",
       "      <th>20303</th>\n",
       "      <td>एक तो इस पर पत्ते नहीं झरते और दूसरे... अरे, आ...</td>\n",
       "      <td>4</td>\n",
       "    </tr>\n",
       "  </tbody>\n",
       "</table>\n",
       "<p>20304 rows × 2 columns</p>\n",
       "</div>"
      ],
      "text/plain": [
       "                                               Sentences  Annotation\n",
       "0               रमजान के पूरे तीस रोजों के बाद ईद आयी है           1\n",
       "1                   कितना मनोहर, कितना सुहावना प्रभाव है           1\n",
       "2      वृक्षों पर अजीब हरियाली है, खेतों में कुछ अजीब...           1\n",
       "3      आज का सूर्य देखो, कितना प्यारा, कितना शीतल है,...           1\n",
       "4                                 गाँव में कितनी हलचल है           1\n",
       "...                                                  ...         ...\n",
       "20299                          फिर यहाँ सर्दी हो जाती है           4\n",
       "20300  दिन-भर मैं यह देखती रहती हूँ कि धूप का टुकड़ा क...           4\n",
       "20301  पार्क का कोई ऐसा कोना नहीं, जहाँ मैं घड़ी-आधा घ...           4\n",
       "20302              लेकिन यह बेंच मुझे सबसे अच्छी लगती है           1\n",
       "20303  एक तो इस पर पत्ते नहीं झरते और दूसरे... अरे, आ...           4\n",
       "\n",
       "[20304 rows x 2 columns]"
      ]
     },
     "execution_count": 38,
     "metadata": {},
     "output_type": "execute_result"
    }
   ],
   "source": [
    "dataset"
   ]
  },
  {
   "cell_type": "code",
   "execution_count": 39,
   "id": "237e9358-3dad-4b5e-9468-16287707ba12",
   "metadata": {},
   "outputs": [
    {
     "data": {
      "text/plain": [
       "4    11697\n",
       "2     3168\n",
       "1     2463\n",
       "3     1512\n",
       "0     1464\n",
       "Name: Annotation, dtype: int64"
      ]
     },
     "execution_count": 39,
     "metadata": {},
     "output_type": "execute_result"
    }
   ],
   "source": [
    "dataset['Annotation'].value_counts()"
   ]
  },
  {
   "cell_type": "code",
   "execution_count": 40,
   "id": "1f27047c-43c9-49c6-9007-1579d6137eec",
   "metadata": {},
   "outputs": [],
   "source": [
    "dataset['Emotion'] = np.where(\n",
    "    dataset['Annotation'] == 0, 'Anger', np.where(\n",
    "        dataset['Annotation'] == 1, 'Joy', np.where(\n",
    "            dataset['Annotation'] == 2, 'Sad', np.where(\n",
    "                dataset['Annotation'] == 3, 'Suspense', 'Neutral'))))"
   ]
  },
  {
   "cell_type": "code",
   "execution_count": 41,
   "id": "a51aa701-b563-405b-b465-bf49a47c7b80",
   "metadata": {},
   "outputs": [
    {
     "data": {
      "text/plain": [
       "Neutral     11697\n",
       "Sad          3168\n",
       "Joy          2463\n",
       "Suspense     1512\n",
       "Anger        1464\n",
       "Name: Emotion, dtype: int64"
      ]
     },
     "execution_count": 41,
     "metadata": {},
     "output_type": "execute_result"
    }
   ],
   "source": [
    "dataset['Emotion'].value_counts()"
   ]
  },
  {
   "cell_type": "markdown",
   "id": "9fecd383-4370-4566-9b1b-f6deb0f7cb0f",
   "metadata": {},
   "source": [
    "### Convert to TF Dataset and Train/Test Split"
   ]
  },
  {
   "cell_type": "code",
   "execution_count": 47,
   "id": "ec8f2ee8-2300-415f-a19e-786909bd1759",
   "metadata": {},
   "outputs": [],
   "source": [
    "full_dataset = (\n",
    "    tf.data.Dataset.from_tensor_slices(\n",
    "        (\n",
    "            tf.cast(dataset['Sentences'].values, tf.string),\n",
    "            tf.cast(dataset['Annotation'].values, tf.int32)\n",
    "        )\n",
    "    )\n",
    ")"
   ]
  },
  {
   "cell_type": "code",
   "execution_count": 52,
   "id": "64382e2e-e051-43e2-9a03-e114a526e9ab",
   "metadata": {},
   "outputs": [],
   "source": [
    "train_size = int(dataset.shape[0]*0.8)"
   ]
  },
  {
   "cell_type": "code",
   "execution_count": 54,
   "id": "f792b5c8-4f59-4074-9b0f-9cb6ab07cbfe",
   "metadata": {},
   "outputs": [],
   "source": [
    "train_dataset = full_dataset.take(train_size)\n",
    "test_dataset = full_dataset.skip(train_size)"
   ]
  },
  {
   "cell_type": "code",
   "execution_count": 89,
   "id": "248ac967-7b26-41c7-8c3a-947ce834ac3b",
   "metadata": {},
   "outputs": [],
   "source": [
    "batch_size = 16"
   ]
  },
  {
   "cell_type": "code",
   "execution_count": 90,
   "id": "6ae7c68d-fb19-405b-a7b0-d8131483a7e8",
   "metadata": {},
   "outputs": [],
   "source": [
    "train_dataset = train_dataset.batch(batch_size)\n",
    "test_dataset = test_dataset.batch(batch_size)"
   ]
  },
  {
   "cell_type": "markdown",
   "id": "1438fddd-5d96-4ec1-bd9c-fc74a0482c0a",
   "metadata": {},
   "source": [
    "### Preprocessing\n",
    "* Tokenisation\n",
    "* Punctuation Removal\n",
    "* Embed words to ints"
   ]
  },
  {
   "cell_type": "code",
   "execution_count": 83,
   "id": "c1114402-d634-409b-8420-797942388f6d",
   "metadata": {},
   "outputs": [],
   "source": [
    "max_features = 10000\n",
    "sequence_length = 100\n",
    "\n",
    "vectorize_layer = layers.TextVectorization(\n",
    "    standardize=\"strip_punctuation\",\n",
    "    max_tokens=max_features,\n",
    "    output_mode='int',\n",
    "    output_sequence_length=sequence_length)"
   ]
  },
  {
   "cell_type": "code",
   "execution_count": 84,
   "id": "147159a3-0b5b-4896-86d7-c30bdeb28900",
   "metadata": {},
   "outputs": [],
   "source": [
    "train_text = train_dataset.map(lambda x, y: x)"
   ]
  },
  {
   "cell_type": "code",
   "execution_count": 87,
   "id": "d49630a4-1c4e-4fc9-8285-748ac20699cf",
   "metadata": {},
   "outputs": [],
   "source": [
    "vectorize_layer.adapt(train_text)"
   ]
  },
  {
   "cell_type": "code",
   "execution_count": 88,
   "id": "478b0089-ab6e-4ebc-af91-58f00e4d1780",
   "metadata": {},
   "outputs": [],
   "source": [
    "def vectorize_text(text, label):\n",
    "    text = tf.expand_dims(text, -1)\n",
    "    return vectorize_layer(text), label"
   ]
  },
  {
   "cell_type": "code",
   "execution_count": 113,
   "id": "3333c0bf-f223-4506-97df-f63760de6253",
   "metadata": {},
   "outputs": [
    {
     "name": "stdout",
     "output_type": "stream",
     "text": [
      "Review tf.Tensor(b'\\xe0\\xa4\\xb0\\xe0\\xa4\\xae\\xe0\\xa4\\x9c\\xe0\\xa4\\xbe\\xe0\\xa4\\xa8 \\xe0\\xa4\\x95\\xe0\\xa5\\x87 \\xe0\\xa4\\xaa\\xe0\\xa5\\x82\\xe0\\xa4\\xb0\\xe0\\xa5\\x87 \\xe0\\xa4\\xa4\\xe0\\xa5\\x80\\xe0\\xa4\\xb8 \\xe0\\xa4\\xb0\\xe0\\xa5\\x8b\\xe0\\xa4\\x9c\\xe0\\xa5\\x8b\\xe0\\xa4\\x82 \\xe0\\xa4\\x95\\xe0\\xa5\\x87 \\xe0\\xa4\\xac\\xe0\\xa4\\xbe\\xe0\\xa4\\xa6 \\xe0\\xa4\\x88\\xe0\\xa4\\xa6 \\xe0\\xa4\\x86\\xe0\\xa4\\xaf\\xe0\\xa5\\x80 \\xe0\\xa4\\xb9\\xe0\\xa5\\x88', shape=(), dtype=string)\n",
      "Label tf.Tensor(1, shape=(), dtype=int32)\n",
      "Vectorized review (<tf.Tensor: shape=(1, 100), dtype=int64, numpy=\n",
      "array([[   1,    2,  839, 2833,    1,    2,   78, 2223,  320,    7,    0,\n",
      "           0,    0,    0,    0,    0,    0,    0,    0,    0,    0,    0,\n",
      "           0,    0,    0,    0,    0,    0,    0,    0,    0,    0,    0,\n",
      "           0,    0,    0,    0,    0,    0,    0,    0,    0,    0,    0,\n",
      "           0,    0,    0,    0,    0,    0,    0,    0,    0,    0,    0,\n",
      "           0,    0,    0,    0,    0,    0,    0,    0,    0,    0,    0,\n",
      "           0,    0,    0,    0,    0,    0,    0,    0,    0,    0,    0,\n",
      "           0,    0,    0,    0,    0,    0,    0,    0,    0,    0,    0,\n",
      "           0,    0,    0,    0,    0,    0,    0,    0,    0,    0,    0,\n",
      "           0]])>, <tf.Tensor: shape=(), dtype=int32, numpy=1>)\n"
     ]
    }
   ],
   "source": [
    "text_batch, label_batch = next(iter(train_dataset))\n",
    "first_review, first_label = text_batch[0], label_batch[0]\n",
    "print(\"Review\", first_review)\n",
    "print(\"Label\", first_label)\n",
    "print(\"Vectorized review\", vectorize_text(first_review, first_label))"
   ]
  },
  {
   "cell_type": "code",
   "execution_count": 99,
   "id": "c83979e3-3281-46a3-80b0-74f2cccbb2f6",
   "metadata": {},
   "outputs": [],
   "source": [
    "train_ds = train_dataset.map(vectorize_text)\n",
    "val_ds = test_dataset.map(vectorize_text)"
   ]
  },
  {
   "cell_type": "code",
   "execution_count": 100,
   "id": "3916d145-ab0d-4ee9-961b-b9c44d394ce0",
   "metadata": {},
   "outputs": [],
   "source": [
    "embedding_dim = 64"
   ]
  },
  {
   "cell_type": "markdown",
   "id": "b3ae4111-180e-405a-a822-71705acf6c54",
   "metadata": {},
   "source": [
    "### Model definition"
   ]
  },
  {
   "cell_type": "code",
   "execution_count": 129,
   "id": "2440b664-63e4-4cdd-bf6d-8b86fb91b660",
   "metadata": {},
   "outputs": [
    {
     "name": "stdout",
     "output_type": "stream",
     "text": [
      "Model: \"sequential_5\"\n",
      "_________________________________________________________________\n",
      " Layer (type)                Output Shape              Param #   \n",
      "=================================================================\n",
      " embedding_5 (Embedding)     (None, None, 64)          640064    \n",
      "                                                                 \n",
      " dropout_10 (Dropout)        (None, None, 64)          0         \n",
      "                                                                 \n",
      " global_average_pooling1d_5   (None, 64)               0         \n",
      " (GlobalAveragePooling1D)                                        \n",
      "                                                                 \n",
      " dropout_11 (Dropout)        (None, 64)                0         \n",
      "                                                                 \n",
      " dense_5 (Dense)             (None, 5)                 325       \n",
      "                                                                 \n",
      "=================================================================\n",
      "Total params: 640,389\n",
      "Trainable params: 640,389\n",
      "Non-trainable params: 0\n",
      "_________________________________________________________________\n"
     ]
    }
   ],
   "source": [
    "model = tf.keras.Sequential([\n",
    "  layers.Embedding(max_features + 1, embedding_dim),\n",
    "  layers.Dropout(0.2),\n",
    "  layers.GlobalAveragePooling1D(),\n",
    "  layers.Dropout(0.2),\n",
    "  layers.Dense(5, activation='softmax')])\n",
    "\n",
    "model.summary()"
   ]
  },
  {
   "cell_type": "code",
   "execution_count": 130,
   "id": "83d900a6-dc69-4185-8d16-bcc99a3e9adf",
   "metadata": {},
   "outputs": [],
   "source": [
    "model.compile(loss=losses.SparseCategoricalCrossentropy(),\n",
    "              optimizer='adam',\n",
    "              metrics=tf.metrics.SparseCategoricalAccuracy())"
   ]
  },
  {
   "cell_type": "code",
   "execution_count": 132,
   "id": "79b17591-4c99-446d-891e-5af7eccd308c",
   "metadata": {},
   "outputs": [
    {
     "name": "stdout",
     "output_type": "stream",
     "text": [
      "Epoch 1/10\n",
      "1016/1016 [==============================] - 7s 6ms/step - loss: 1.2884 - sparse_categorical_accuracy: 0.5535 - val_loss: 1.0768 - val_sparse_categorical_accuracy: 0.6646\n",
      "Epoch 2/10\n",
      "1016/1016 [==============================] - 7s 7ms/step - loss: 1.2730 - sparse_categorical_accuracy: 0.5540 - val_loss: 1.0707 - val_sparse_categorical_accuracy: 0.6646\n",
      "Epoch 3/10\n",
      "1016/1016 [==============================] - 7s 7ms/step - loss: 1.2617 - sparse_categorical_accuracy: 0.5540 - val_loss: 1.0676 - val_sparse_categorical_accuracy: 0.6646\n",
      "Epoch 4/10\n",
      "1016/1016 [==============================] - 8s 8ms/step - loss: 1.2459 - sparse_categorical_accuracy: 0.5538 - val_loss: 1.0642 - val_sparse_categorical_accuracy: 0.6646\n",
      "Epoch 5/10\n",
      "1016/1016 [==============================] - 9s 9ms/step - loss: 1.2259 - sparse_categorical_accuracy: 0.5540 - val_loss: 1.0591 - val_sparse_categorical_accuracy: 0.6646\n",
      "Epoch 6/10\n",
      "1016/1016 [==============================] - 8s 8ms/step - loss: 1.2003 - sparse_categorical_accuracy: 0.5561 - val_loss: 1.0537 - val_sparse_categorical_accuracy: 0.6651\n",
      "Epoch 7/10\n",
      "1016/1016 [==============================] - 9s 9ms/step - loss: 1.1704 - sparse_categorical_accuracy: 0.5603 - val_loss: 1.0466 - val_sparse_categorical_accuracy: 0.6654\n",
      "Epoch 8/10\n",
      "1016/1016 [==============================] - 10s 9ms/step - loss: 1.1348 - sparse_categorical_accuracy: 0.5710 - val_loss: 1.0359 - val_sparse_categorical_accuracy: 0.6658\n",
      "Epoch 9/10\n",
      "1016/1016 [==============================] - 9s 8ms/step - loss: 1.0966 - sparse_categorical_accuracy: 0.5833 - val_loss: 1.0269 - val_sparse_categorical_accuracy: 0.6651\n",
      "Epoch 10/10\n",
      "1016/1016 [==============================] - 8s 8ms/step - loss: 1.0560 - sparse_categorical_accuracy: 0.5995 - val_loss: 1.0217 - val_sparse_categorical_accuracy: 0.6661\n"
     ]
    }
   ],
   "source": [
    "epochs = 10\n",
    "history = model.fit(\n",
    "    train_ds,\n",
    "    validation_data=val_ds,\n",
    "    epochs=epochs)"
   ]
  },
  {
   "cell_type": "code",
   "execution_count": 136,
   "id": "76cb20b2-be01-468f-a17f-7e03e5e38568",
   "metadata": {},
   "outputs": [],
   "source": [
    "val_softmax = model.predict(val_ds)"
   ]
  },
  {
   "cell_type": "code",
   "execution_count": 137,
   "id": "d2f6ad9e-401c-4068-ad38-a98a096b640d",
   "metadata": {},
   "outputs": [],
   "source": [
    "val_labels = np.argmax(val_softmax, axis=1)"
   ]
  },
  {
   "cell_type": "code",
   "execution_count": 141,
   "id": "40de48b2-325a-43f3-999d-69cf8adcf761",
   "metadata": {},
   "outputs": [],
   "source": [
    "val_pd = dataset[train_size:]"
   ]
  },
  {
   "cell_type": "code",
   "execution_count": 142,
   "id": "6eadc6bb-59e0-427a-8ff3-6532cab3bbcf",
   "metadata": {},
   "outputs": [
    {
     "name": "stderr",
     "output_type": "stream",
     "text": [
      "/var/folders/qd/23xrl5cn19g_06jx7_x6xjc80000gn/T/ipykernel_11883/905541298.py:1: SettingWithCopyWarning: \n",
      "A value is trying to be set on a copy of a slice from a DataFrame.\n",
      "Try using .loc[row_indexer,col_indexer] = value instead\n",
      "\n",
      "See the caveats in the documentation: https://pandas.pydata.org/pandas-docs/stable/user_guide/indexing.html#returning-a-view-versus-a-copy\n",
      "  val_pd['pred_labels'] = val_labels\n"
     ]
    }
   ],
   "source": [
    "val_pd['pred_labels'] = val_labels"
   ]
  },
  {
   "cell_type": "code",
   "execution_count": 143,
   "id": "b32812db-b79c-4f30-b9b9-f439a22df6d4",
   "metadata": {},
   "outputs": [
    {
     "data": {
      "text/html": [
       "<div>\n",
       "<style scoped>\n",
       "    .dataframe tbody tr th:only-of-type {\n",
       "        vertical-align: middle;\n",
       "    }\n",
       "\n",
       "    .dataframe tbody tr th {\n",
       "        vertical-align: top;\n",
       "    }\n",
       "\n",
       "    .dataframe thead th {\n",
       "        text-align: right;\n",
       "    }\n",
       "</style>\n",
       "<table border=\"1\" class=\"dataframe\">\n",
       "  <thead>\n",
       "    <tr style=\"text-align: right;\">\n",
       "      <th></th>\n",
       "      <th>Sentences</th>\n",
       "      <th>Annotation</th>\n",
       "      <th>Emotion</th>\n",
       "      <th>pred_labels</th>\n",
       "    </tr>\n",
       "  </thead>\n",
       "  <tbody>\n",
       "    <tr>\n",
       "      <th>16243</th>\n",
       "      <td>हमारे पास एक मोटा ताजा ऊंट है और हम भूखे मर रह...</td>\n",
       "      <td>2</td>\n",
       "      <td>Sad</td>\n",
       "      <td>4</td>\n",
       "    </tr>\n",
       "    <tr>\n",
       "      <th>16244</th>\n",
       "      <td>चीते ने ठंडी सांस भरी, 'क्या करें</td>\n",
       "      <td>4</td>\n",
       "      <td>Neutral</td>\n",
       "      <td>4</td>\n",
       "    </tr>\n",
       "    <tr>\n",
       "      <th>16245</th>\n",
       "      <td>शेर ने उसे अभयदान जो दे रखा है</td>\n",
       "      <td>4</td>\n",
       "      <td>Neutral</td>\n",
       "      <td>4</td>\n",
       "    </tr>\n",
       "    <tr>\n",
       "      <th>16246</th>\n",
       "      <td>देखो तो ऊंट की पीठ का कूबड़ कितना बड़ा हो गया है</td>\n",
       "      <td>4</td>\n",
       "      <td>Neutral</td>\n",
       "      <td>4</td>\n",
       "    </tr>\n",
       "    <tr>\n",
       "      <th>16247</th>\n",
       "      <td>चर्बी ही चर्बी भरी है इसमें</td>\n",
       "      <td>4</td>\n",
       "      <td>Neutral</td>\n",
       "      <td>4</td>\n",
       "    </tr>\n",
       "    <tr>\n",
       "      <th>...</th>\n",
       "      <td>...</td>\n",
       "      <td>...</td>\n",
       "      <td>...</td>\n",
       "      <td>...</td>\n",
       "    </tr>\n",
       "    <tr>\n",
       "      <th>20299</th>\n",
       "      <td>फिर यहाँ सर्दी हो जाती है</td>\n",
       "      <td>4</td>\n",
       "      <td>Neutral</td>\n",
       "      <td>4</td>\n",
       "    </tr>\n",
       "    <tr>\n",
       "      <th>20300</th>\n",
       "      <td>दिन-भर मैं यह देखती रहती हूँ कि धूप का टुकड़ा क...</td>\n",
       "      <td>4</td>\n",
       "      <td>Neutral</td>\n",
       "      <td>4</td>\n",
       "    </tr>\n",
       "    <tr>\n",
       "      <th>20301</th>\n",
       "      <td>पार्क का कोई ऐसा कोना नहीं, जहाँ मैं घड़ी-आधा घ...</td>\n",
       "      <td>4</td>\n",
       "      <td>Neutral</td>\n",
       "      <td>4</td>\n",
       "    </tr>\n",
       "    <tr>\n",
       "      <th>20302</th>\n",
       "      <td>लेकिन यह बेंच मुझे सबसे अच्छी लगती है</td>\n",
       "      <td>1</td>\n",
       "      <td>Joy</td>\n",
       "      <td>4</td>\n",
       "    </tr>\n",
       "    <tr>\n",
       "      <th>20303</th>\n",
       "      <td>एक तो इस पर पत्ते नहीं झरते और दूसरे... अरे, आ...</td>\n",
       "      <td>4</td>\n",
       "      <td>Neutral</td>\n",
       "      <td>4</td>\n",
       "    </tr>\n",
       "  </tbody>\n",
       "</table>\n",
       "<p>4061 rows × 4 columns</p>\n",
       "</div>"
      ],
      "text/plain": [
       "                                               Sentences  Annotation  Emotion  \\\n",
       "16243  हमारे पास एक मोटा ताजा ऊंट है और हम भूखे मर रह...           2      Sad   \n",
       "16244                  चीते ने ठंडी सांस भरी, 'क्या करें           4  Neutral   \n",
       "16245                     शेर ने उसे अभयदान जो दे रखा है           4  Neutral   \n",
       "16246   देखो तो ऊंट की पीठ का कूबड़ कितना बड़ा हो गया है           4  Neutral   \n",
       "16247                        चर्बी ही चर्बी भरी है इसमें           4  Neutral   \n",
       "...                                                  ...         ...      ...   \n",
       "20299                          फिर यहाँ सर्दी हो जाती है           4  Neutral   \n",
       "20300  दिन-भर मैं यह देखती रहती हूँ कि धूप का टुकड़ा क...           4  Neutral   \n",
       "20301  पार्क का कोई ऐसा कोना नहीं, जहाँ मैं घड़ी-आधा घ...           4  Neutral   \n",
       "20302              लेकिन यह बेंच मुझे सबसे अच्छी लगती है           1      Joy   \n",
       "20303  एक तो इस पर पत्ते नहीं झरते और दूसरे... अरे, आ...           4  Neutral   \n",
       "\n",
       "       pred_labels  \n",
       "16243            4  \n",
       "16244            4  \n",
       "16245            4  \n",
       "16246            4  \n",
       "16247            4  \n",
       "...            ...  \n",
       "20299            4  \n",
       "20300            4  \n",
       "20301            4  \n",
       "20302            4  \n",
       "20303            4  \n",
       "\n",
       "[4061 rows x 4 columns]"
      ]
     },
     "execution_count": 143,
     "metadata": {},
     "output_type": "execute_result"
    }
   ],
   "source": [
    "val_pd"
   ]
  },
  {
   "cell_type": "code",
   "execution_count": 144,
   "id": "764b235b-41f9-40c0-bbd4-acac0bc93ce7",
   "metadata": {},
   "outputs": [
    {
     "data": {
      "text/plain": [
       "4    3999\n",
       "2      47\n",
       "1      11\n",
       "0       2\n",
       "3       2\n",
       "Name: pred_labels, dtype: int64"
      ]
     },
     "execution_count": 144,
     "metadata": {},
     "output_type": "execute_result"
    }
   ],
   "source": [
    "val_pd['pred_labels'].value_counts()"
   ]
  },
  {
   "cell_type": "code",
   "execution_count": 145,
   "id": "d0bda131-dfda-4ba3-b177-25963af7581c",
   "metadata": {},
   "outputs": [
    {
     "data": {
      "text/plain": [
       "4    2699\n",
       "2     625\n",
       "1     416\n",
       "0     183\n",
       "3     138\n",
       "Name: Annotation, dtype: int64"
      ]
     },
     "execution_count": 145,
     "metadata": {},
     "output_type": "execute_result"
    }
   ],
   "source": [
    "val_pd['Annotation'].value_counts()"
   ]
  },
  {
   "cell_type": "markdown",
   "id": "10c1632c-dc32-4e42-aa7e-89aa0ef73396",
   "metadata": {},
   "source": [
    "### LSTM"
   ]
  },
  {
   "cell_type": "code",
   "execution_count": 151,
   "id": "cadb31cd-e970-4554-a3da-b77d43fe95f1",
   "metadata": {},
   "outputs": [],
   "source": [
    "model = tf.keras.Sequential([\n",
    "    layers.Embedding(max_features + 1, embedding_dim, mask_zero=True),\n",
    "    tf.keras.layers.LSTM(32),\n",
    "    layers.Dense(16, activation='relu'),\n",
    "    layers.Dense(5)\n",
    "])"
   ]
  },
  {
   "cell_type": "code",
   "execution_count": 152,
   "id": "f40a2eed-af53-4d35-b3e6-0b25fb2629fc",
   "metadata": {},
   "outputs": [],
   "source": [
    "model.compile(loss=losses.SparseCategoricalCrossentropy(),\n",
    "              optimizer='adam',\n",
    "              metrics=tf.metrics.SparseCategoricalAccuracy())"
   ]
  },
  {
   "cell_type": "code",
   "execution_count": 153,
   "id": "64f79a10-a36c-4be1-8d34-c5d9567ddc6c",
   "metadata": {},
   "outputs": [
    {
     "name": "stdout",
     "output_type": "stream",
     "text": [
      "Epoch 1/10\n",
      "1016/1016 [==============================] - 79s 74ms/step - loss: 1.6729 - sparse_categorical_accuracy: 0.1252 - val_loss: 1.6123 - val_sparse_categorical_accuracy: 0.1539\n",
      "Epoch 2/10\n",
      "1016/1016 [==============================] - 76s 75ms/step - loss: 1.6099 - sparse_categorical_accuracy: 0.1562 - val_loss: 1.6094 - val_sparse_categorical_accuracy: 0.1524\n",
      "Epoch 3/10\n",
      "1016/1016 [==============================] - 79s 78ms/step - loss: 1.6095 - sparse_categorical_accuracy: 0.1562 - val_loss: 1.6094 - val_sparse_categorical_accuracy: 0.1524\n",
      "Epoch 4/10\n",
      "1016/1016 [==============================] - 71s 70ms/step - loss: 1.6095 - sparse_categorical_accuracy: 0.1562 - val_loss: 1.6094 - val_sparse_categorical_accuracy: 0.1524\n",
      "Epoch 5/10\n",
      "1016/1016 [==============================] - 71s 70ms/step - loss: 1.6095 - sparse_categorical_accuracy: 0.1562 - val_loss: 1.6094 - val_sparse_categorical_accuracy: 0.1524\n",
      "Epoch 6/10\n",
      "1016/1016 [==============================] - 71s 70ms/step - loss: 1.6095 - sparse_categorical_accuracy: 0.1562 - val_loss: 1.6094 - val_sparse_categorical_accuracy: 0.1524\n",
      "Epoch 7/10\n",
      "1016/1016 [==============================] - 70s 69ms/step - loss: 1.6095 - sparse_categorical_accuracy: 0.1562 - val_loss: 1.6094 - val_sparse_categorical_accuracy: 0.1524\n",
      "Epoch 8/10\n",
      "1016/1016 [==============================] - 71s 69ms/step - loss: 1.6095 - sparse_categorical_accuracy: 0.1562 - val_loss: 1.6094 - val_sparse_categorical_accuracy: 0.1524\n",
      "Epoch 9/10\n",
      "1016/1016 [==============================] - 73s 71ms/step - loss: 1.6095 - sparse_categorical_accuracy: 0.1562 - val_loss: 1.6094 - val_sparse_categorical_accuracy: 0.1524\n",
      "Epoch 10/10\n",
      "1016/1016 [==============================] - 71s 70ms/step - loss: 1.6095 - sparse_categorical_accuracy: 0.1562 - val_loss: 1.6094 - val_sparse_categorical_accuracy: 0.1524\n"
     ]
    }
   ],
   "source": [
    "epochs = 10\n",
    "history = model.fit(\n",
    "    train_ds,\n",
    "    validation_data=val_ds,\n",
    "    epochs=epochs)"
   ]
  },
  {
   "cell_type": "code",
   "execution_count": null,
   "id": "6526a136-727b-4fd0-aacf-2da535dbd82d",
   "metadata": {},
   "outputs": [],
   "source": []
  },
  {
   "cell_type": "code",
   "execution_count": null,
   "id": "00f02a9e-7bad-47ce-a0cf-8be11420eb06",
   "metadata": {},
   "outputs": [],
   "source": []
  }
 ],
 "metadata": {
  "kernelspec": {
   "display_name": "Python 3 (ipykernel)",
   "language": "python",
   "name": "python3"
  },
  "language_info": {
   "codemirror_mode": {
    "name": "ipython",
    "version": 3
   },
   "file_extension": ".py",
   "mimetype": "text/x-python",
   "name": "python",
   "nbconvert_exporter": "python",
   "pygments_lexer": "ipython3",
   "version": "3.9.7"
  }
 },
 "nbformat": 4,
 "nbformat_minor": 5
}
