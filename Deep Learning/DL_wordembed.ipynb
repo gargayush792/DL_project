{
 "cells": [
  {
   "cell_type": "code",
   "execution_count": 1,
   "id": "4661a1b0-f7fc-48ef-85fa-3538b61137a1",
   "metadata": {},
   "outputs": [],
   "source": [
    "import pandas as pd\n",
    "import numpy as np"
   ]
  },
  {
   "cell_type": "code",
   "execution_count": 2,
   "id": "9f2508b6-aa4b-435f-90fe-3e31a8cb16f0",
   "metadata": {},
   "outputs": [],
   "source": [
    "import tensorflow as tf\n",
    "from tensorflow.keras import layers\n",
    "from tensorflow.keras import losses"
   ]
  },
  {
   "cell_type": "code",
   "execution_count": 3,
   "id": "dc1eb1b0-6e35-41d6-8eac-9b304c78057a",
   "metadata": {},
   "outputs": [
    {
     "name": "stderr",
     "output_type": "stream",
     "text": [
      "Warning : `load_model` does not return WordVectorModel or SupervisedModel any more, but a `FastText` object which is very similar.\n"
     ]
    }
   ],
   "source": [
    "import fasttext\n",
    "import fasttext.util\n",
    "ft = fasttext.load_model('wiki.hi.bin')"
   ]
  },
  {
   "cell_type": "code",
   "execution_count": 4,
   "id": "27ec0b5a-a8be-43d3-8894-2ff633f245e0",
   "metadata": {},
   "outputs": [
    {
     "name": "stdout",
     "output_type": "stream",
     "text": [
      "Embedding Shape is (300,)\n",
      "Nearest Neighbors to पूरे are:\n"
     ]
    },
    {
     "data": {
      "text/plain": [
       "[(0.5375568270683289, 'भर'),\n",
       " (0.5343677401542664, 'पुरे'),\n",
       " (0.49903032183647156, 'सारे'),\n",
       " (0.49650809168815613, 'पूरा'),\n",
       " (0.49516043066978455, 'समूचे'),\n",
       " (0.47405508160591125, 'सम्पूर्ण'),\n",
       " (0.4724029302597046, 'भटूरे'),\n",
       " (0.46704691648483276, 'अपने'),\n",
       " (0.4666309058666229, 'संपूर्ण'),\n",
       " (0.46629437804222107, 'ज्\\u200d़यादा')]"
      ]
     },
     "execution_count": 4,
     "metadata": {},
     "output_type": "execute_result"
    }
   ],
   "source": [
    "word = \"पूरे\"\n",
    "print(\"Embedding Shape is {}\".format(ft.get_word_vector(word).shape))\n",
    "print(\"Nearest Neighbors to {} are:\".format(word))\n",
    "ft.get_nearest_neighbors(word) "
   ]
  },
  {
   "cell_type": "code",
   "execution_count": 5,
   "id": "7a632c31-3ba9-42fd-91b1-cc6fd64763dd",
   "metadata": {},
   "outputs": [],
   "source": [
    "dataset = pd.read_csv('../Data/Bhaav-Dataset.csv')"
   ]
  },
  {
   "cell_type": "code",
   "execution_count": 6,
   "id": "63d0f1cc-ae8d-450f-9233-9fe915ad7f35",
   "metadata": {},
   "outputs": [
    {
     "data": {
      "text/html": [
       "<div>\n",
       "<style scoped>\n",
       "    .dataframe tbody tr th:only-of-type {\n",
       "        vertical-align: middle;\n",
       "    }\n",
       "\n",
       "    .dataframe tbody tr th {\n",
       "        vertical-align: top;\n",
       "    }\n",
       "\n",
       "    .dataframe thead th {\n",
       "        text-align: right;\n",
       "    }\n",
       "</style>\n",
       "<table border=\"1\" class=\"dataframe\">\n",
       "  <thead>\n",
       "    <tr style=\"text-align: right;\">\n",
       "      <th></th>\n",
       "      <th>Sentences</th>\n",
       "      <th>Annotation</th>\n",
       "    </tr>\n",
       "  </thead>\n",
       "  <tbody>\n",
       "    <tr>\n",
       "      <th>0</th>\n",
       "      <td>रमजान के पूरे तीस रोजों के बाद ईद आयी है</td>\n",
       "      <td>1</td>\n",
       "    </tr>\n",
       "    <tr>\n",
       "      <th>1</th>\n",
       "      <td>कितना मनोहर, कितना सुहावना प्रभाव है</td>\n",
       "      <td>1</td>\n",
       "    </tr>\n",
       "    <tr>\n",
       "      <th>2</th>\n",
       "      <td>वृक्षों पर अजीब हरियाली है, खेतों में कुछ अजीब...</td>\n",
       "      <td>1</td>\n",
       "    </tr>\n",
       "    <tr>\n",
       "      <th>3</th>\n",
       "      <td>आज का सूर्य देखो, कितना प्यारा, कितना शीतल है,...</td>\n",
       "      <td>1</td>\n",
       "    </tr>\n",
       "    <tr>\n",
       "      <th>4</th>\n",
       "      <td>गाँव में कितनी हलचल है</td>\n",
       "      <td>1</td>\n",
       "    </tr>\n",
       "    <tr>\n",
       "      <th>...</th>\n",
       "      <td>...</td>\n",
       "      <td>...</td>\n",
       "    </tr>\n",
       "    <tr>\n",
       "      <th>20299</th>\n",
       "      <td>फिर यहाँ सर्दी हो जाती है</td>\n",
       "      <td>4</td>\n",
       "    </tr>\n",
       "    <tr>\n",
       "      <th>20300</th>\n",
       "      <td>दिन-भर मैं यह देखती रहती हूँ कि धूप का टुकड़ा क...</td>\n",
       "      <td>4</td>\n",
       "    </tr>\n",
       "    <tr>\n",
       "      <th>20301</th>\n",
       "      <td>पार्क का कोई ऐसा कोना नहीं, जहाँ मैं घड़ी-आधा घ...</td>\n",
       "      <td>4</td>\n",
       "    </tr>\n",
       "    <tr>\n",
       "      <th>20302</th>\n",
       "      <td>लेकिन यह बेंच मुझे सबसे अच्छी लगती है</td>\n",
       "      <td>1</td>\n",
       "    </tr>\n",
       "    <tr>\n",
       "      <th>20303</th>\n",
       "      <td>एक तो इस पर पत्ते नहीं झरते और दूसरे... अरे, आ...</td>\n",
       "      <td>4</td>\n",
       "    </tr>\n",
       "  </tbody>\n",
       "</table>\n",
       "<p>20304 rows × 2 columns</p>\n",
       "</div>"
      ],
      "text/plain": [
       "                                               Sentences  Annotation\n",
       "0               रमजान के पूरे तीस रोजों के बाद ईद आयी है           1\n",
       "1                   कितना मनोहर, कितना सुहावना प्रभाव है           1\n",
       "2      वृक्षों पर अजीब हरियाली है, खेतों में कुछ अजीब...           1\n",
       "3      आज का सूर्य देखो, कितना प्यारा, कितना शीतल है,...           1\n",
       "4                                 गाँव में कितनी हलचल है           1\n",
       "...                                                  ...         ...\n",
       "20299                          फिर यहाँ सर्दी हो जाती है           4\n",
       "20300  दिन-भर मैं यह देखती रहती हूँ कि धूप का टुकड़ा क...           4\n",
       "20301  पार्क का कोई ऐसा कोना नहीं, जहाँ मैं घड़ी-आधा घ...           4\n",
       "20302              लेकिन यह बेंच मुझे सबसे अच्छी लगती है           1\n",
       "20303  एक तो इस पर पत्ते नहीं झरते और दूसरे... अरे, आ...           4\n",
       "\n",
       "[20304 rows x 2 columns]"
      ]
     },
     "execution_count": 6,
     "metadata": {},
     "output_type": "execute_result"
    }
   ],
   "source": [
    "dataset"
   ]
  },
  {
   "cell_type": "markdown",
   "id": "516abb19-d1eb-40b5-a6c3-286edb39c1e6",
   "metadata": {
    "tags": []
   },
   "source": [
    "### Convert to TF Dataset and Train/Test Split"
   ]
  },
  {
   "cell_type": "code",
   "execution_count": 7,
   "id": "ec8f2ee8-2300-415f-a19e-786909bd1759",
   "metadata": {},
   "outputs": [
    {
     "name": "stderr",
     "output_type": "stream",
     "text": [
      "2022-04-28 19:59:04.056154: I tensorflow/core/platform/cpu_feature_guard.cc:151] This TensorFlow binary is optimized with oneAPI Deep Neural Network Library (oneDNN) to use the following CPU instructions in performance-critical operations:  AVX2 FMA\n",
      "To enable them in other operations, rebuild TensorFlow with the appropriate compiler flags.\n"
     ]
    }
   ],
   "source": [
    "full_dataset = (\n",
    "    tf.data.Dataset.from_tensor_slices(\n",
    "        (\n",
    "            tf.cast(dataset['Sentences'].values, tf.string),\n",
    "            tf.cast(dataset['Annotation'].values, tf.int32)\n",
    "        )\n",
    "    )\n",
    ")"
   ]
  },
  {
   "cell_type": "code",
   "execution_count": 8,
   "id": "64382e2e-e051-43e2-9a03-e114a526e9ab",
   "metadata": {},
   "outputs": [],
   "source": [
    "train_size = int(dataset.shape[0]*0.9)"
   ]
  },
  {
   "cell_type": "code",
   "execution_count": 9,
   "id": "f792b5c8-4f59-4074-9b0f-9cb6ab07cbfe",
   "metadata": {},
   "outputs": [],
   "source": [
    "train_dataset = full_dataset.take(train_size)\n",
    "test_dataset = full_dataset.skip(train_size)"
   ]
  },
  {
   "cell_type": "code",
   "execution_count": 10,
   "id": "248ac967-7b26-41c7-8c3a-947ce834ac3b",
   "metadata": {},
   "outputs": [],
   "source": [
    "batch_size = 16"
   ]
  },
  {
   "cell_type": "code",
   "execution_count": 11,
   "id": "6ae7c68d-fb19-405b-a7b0-d8131483a7e8",
   "metadata": {},
   "outputs": [],
   "source": [
    "train_dataset = train_dataset.batch(batch_size)\n",
    "test_dataset = test_dataset.batch(batch_size)"
   ]
  },
  {
   "cell_type": "markdown",
   "id": "548c8300-ef88-41a2-a92c-e4f275fb0a80",
   "metadata": {},
   "source": [
    "### Vectorization Layer"
   ]
  },
  {
   "cell_type": "code",
   "execution_count": 12,
   "id": "009b7da6-5391-494e-9a9d-874826b65fda",
   "metadata": {},
   "outputs": [],
   "source": [
    "max_features = 20000\n",
    "sequence_length = 200\n",
    "\n",
    "vectorize_layer = layers.TextVectorization(\n",
    "    standardize=\"strip_punctuation\",\n",
    "    max_tokens=max_features,\n",
    "    output_mode='int',\n",
    "    output_sequence_length=sequence_length)"
   ]
  },
  {
   "cell_type": "code",
   "execution_count": 13,
   "id": "c46cf7e0-d4c8-4778-b2a6-fd1cf66f0bac",
   "metadata": {},
   "outputs": [],
   "source": [
    "train_text = train_dataset.map(lambda x, y: x)"
   ]
  },
  {
   "cell_type": "code",
   "execution_count": 14,
   "id": "d171a5ab-67ea-4359-b719-74ff302989ff",
   "metadata": {
    "tags": []
   },
   "outputs": [],
   "source": [
    "vectorize_layer.adapt(train_text)"
   ]
  },
  {
   "cell_type": "code",
   "execution_count": 15,
   "id": "ab7e9aac-3ab4-42f0-acfc-e8c49006a68c",
   "metadata": {},
   "outputs": [],
   "source": [
    "def vectorize_text(text, label):\n",
    "    text = tf.expand_dims(text, -1)\n",
    "    return vectorize_layer(text), label"
   ]
  },
  {
   "cell_type": "code",
   "execution_count": 16,
   "id": "c83979e3-3281-46a3-80b0-74f2cccbb2f6",
   "metadata": {},
   "outputs": [],
   "source": [
    "train_ds = train_dataset.map(vectorize_text)\n",
    "val_ds = test_dataset.map(vectorize_text)"
   ]
  },
  {
   "cell_type": "code",
   "execution_count": 17,
   "id": "c18f955c-7aa5-4bfe-bac2-20a877d51746",
   "metadata": {},
   "outputs": [],
   "source": [
    "voc = vectorize_layer.get_vocabulary()\n",
    "word_index = dict(zip(voc, range(len(voc))))"
   ]
  },
  {
   "cell_type": "code",
   "execution_count": 18,
   "id": "02094402-91a7-4b99-ab65-5b0ed1ebcada",
   "metadata": {},
   "outputs": [
    {
     "name": "stdout",
     "output_type": "stream",
     "text": [
      "Words in training set are 17889\n"
     ]
    }
   ],
   "source": [
    "print (\"Words in training set are \"+str(len(voc)))"
   ]
  },
  {
   "cell_type": "code",
   "execution_count": 19,
   "id": "7c278054-da8d-4c63-81b3-a329d7485c30",
   "metadata": {},
   "outputs": [
    {
     "name": "stdout",
     "output_type": "stream",
     "text": [
      "Words in fasttext vocabulary are 158016\n"
     ]
    }
   ],
   "source": [
    "print (\"Words in fasttext vocabulary are \"+str(len(ft.words)))"
   ]
  },
  {
   "cell_type": "markdown",
   "id": "1e377e49-d317-4d8a-9065-30f153acf598",
   "metadata": {},
   "source": [
    "### Generate Fasttext embeds"
   ]
  },
  {
   "cell_type": "code",
   "execution_count": 20,
   "id": "a5d61934-4188-491c-8bd9-a09d5277263d",
   "metadata": {},
   "outputs": [],
   "source": [
    "num_tokens = len(voc) + 2\n",
    "embedding_dim = 300\n"
   ]
  },
  {
   "cell_type": "code",
   "execution_count": 21,
   "id": "a8bca487-c924-4d31-b4cc-5d584cec6763",
   "metadata": {},
   "outputs": [],
   "source": [
    "embedding_matrix = np.zeros((num_tokens, embedding_dim))"
   ]
  },
  {
   "cell_type": "code",
   "execution_count": 22,
   "id": "afcbb9ab-0840-4ce4-a83c-d115cd0aeb39",
   "metadata": {},
   "outputs": [],
   "source": [
    "fastext_vocab = set(ft.words)"
   ]
  },
  {
   "cell_type": "code",
   "execution_count": 23,
   "id": "5f7e0b1e-b41c-40e7-8090-4bd717627957",
   "metadata": {},
   "outputs": [],
   "source": [
    "hits = 0\n",
    "misses = 0\n",
    "\n",
    "for word, i in word_index.items():\n",
    "    embedding_vector = ft.get_word_vector(word)\n",
    "    embedding_matrix[i] = embedding_vector\n",
    "    if word in fastext_vocab:\n",
    "        hits += 1\n",
    "    else:\n",
    "        misses += 1"
   ]
  },
  {
   "cell_type": "markdown",
   "id": "6a49aea8-8dfb-4504-9b3b-777488157593",
   "metadata": {},
   "source": [
    "### Creating embedding layer"
   ]
  },
  {
   "cell_type": "code",
   "execution_count": 49,
   "id": "4da9517d-b55e-4a44-b5a6-43c32f45f569",
   "metadata": {},
   "outputs": [],
   "source": [
    "embedding_layer = layers.Embedding(\n",
    "    num_tokens,\n",
    "    embedding_dim,\n",
    "    embeddings_initializer=tf.keras.initializers.Constant(embedding_matrix),\n",
    "    trainable=False,\n",
    ")"
   ]
  },
  {
   "cell_type": "markdown",
   "id": "1ab2380d-014b-4925-83bf-f1978e77e3b2",
   "metadata": {},
   "source": [
    "### Model definition"
   ]
  },
  {
   "cell_type": "code",
   "execution_count": 50,
   "id": "2440b664-63e4-4cdd-bf6d-8b86fb91b660",
   "metadata": {},
   "outputs": [
    {
     "name": "stdout",
     "output_type": "stream",
     "text": [
      "Model: \"sequential_4\"\n",
      "_________________________________________________________________\n",
      " Layer (type)                Output Shape              Param #   \n",
      "=================================================================\n",
      " embedding_2 (Embedding)     (None, None, 300)         5367300   \n",
      "                                                                 \n",
      " dropout_4 (Dropout)         (None, None, 300)         0         \n",
      "                                                                 \n",
      " global_average_pooling1d_1   (None, 300)              0         \n",
      " (GlobalAveragePooling1D)                                        \n",
      "                                                                 \n",
      " dropout_5 (Dropout)         (None, 300)               0         \n",
      "                                                                 \n",
      " dense_7 (Dense)             (None, 5)                 1505      \n",
      "                                                                 \n",
      "=================================================================\n",
      "Total params: 5,368,805\n",
      "Trainable params: 1,505\n",
      "Non-trainable params: 5,367,300\n",
      "_________________________________________________________________\n"
     ]
    }
   ],
   "source": [
    "model = tf.keras.Sequential([\n",
    "  embedding_layer,\n",
    "  layers.Dropout(0.2),\n",
    "  layers.GlobalAveragePooling1D(),\n",
    "  layers.Dropout(0.2),\n",
    "  layers.Dense(5, activation='softmax')])\n",
    "\n",
    "model.summary()"
   ]
  },
  {
   "cell_type": "code",
   "execution_count": 51,
   "id": "83d900a6-dc69-4185-8d16-bcc99a3e9adf",
   "metadata": {},
   "outputs": [],
   "source": [
    "model.compile(loss=losses.SparseCategoricalCrossentropy(),\n",
    "              optimizer='adam',\n",
    "              metrics=tf.metrics.SparseCategoricalAccuracy())"
   ]
  },
  {
   "cell_type": "code",
   "execution_count": 52,
   "id": "79b17591-4c99-446d-891e-5af7eccd308c",
   "metadata": {
    "scrolled": true,
    "tags": []
   },
   "outputs": [
    {
     "name": "stdout",
     "output_type": "stream",
     "text": [
      "Epoch 1/250\n",
      "1143/1143 [==============================] - 3s 3ms/step - loss: 1.3379 - sparse_categorical_accuracy: 0.5731 - val_loss: 1.2364 - val_sparse_categorical_accuracy: 0.5938\n",
      "Epoch 2/250\n",
      "1143/1143 [==============================] - 3s 2ms/step - loss: 1.2729 - sparse_categorical_accuracy: 0.5741 - val_loss: 1.2132 - val_sparse_categorical_accuracy: 0.5938\n",
      "Epoch 3/250\n",
      "1143/1143 [==============================] - 3s 2ms/step - loss: 1.2594 - sparse_categorical_accuracy: 0.5741 - val_loss: 1.1998 - val_sparse_categorical_accuracy: 0.5938\n",
      "Epoch 4/250\n",
      "1143/1143 [==============================] - 3s 3ms/step - loss: 1.2494 - sparse_categorical_accuracy: 0.5741 - val_loss: 1.1905 - val_sparse_categorical_accuracy: 0.5938\n",
      "Epoch 5/250\n",
      "1143/1143 [==============================] - 3s 2ms/step - loss: 1.2416 - sparse_categorical_accuracy: 0.5741 - val_loss: 1.1838 - val_sparse_categorical_accuracy: 0.5938\n",
      "Epoch 6/250\n",
      "1143/1143 [==============================] - 3s 3ms/step - loss: 1.2360 - sparse_categorical_accuracy: 0.5741 - val_loss: 1.1786 - val_sparse_categorical_accuracy: 0.5938\n",
      "Epoch 7/250\n",
      "1143/1143 [==============================] - 3s 3ms/step - loss: 1.2312 - sparse_categorical_accuracy: 0.5741 - val_loss: 1.1744 - val_sparse_categorical_accuracy: 0.5938\n",
      "Epoch 8/250\n",
      "1143/1143 [==============================] - 3s 3ms/step - loss: 1.2275 - sparse_categorical_accuracy: 0.5740 - val_loss: 1.1711 - val_sparse_categorical_accuracy: 0.5938\n",
      "Epoch 9/250\n",
      "1143/1143 [==============================] - 3s 3ms/step - loss: 1.2237 - sparse_categorical_accuracy: 0.5739 - val_loss: 1.1681 - val_sparse_categorical_accuracy: 0.5938\n",
      "Epoch 10/250\n",
      "1143/1143 [==============================] - 3s 3ms/step - loss: 1.2212 - sparse_categorical_accuracy: 0.5739 - val_loss: 1.1655 - val_sparse_categorical_accuracy: 0.5938\n",
      "Epoch 11/250\n",
      "1143/1143 [==============================] - 3s 3ms/step - loss: 1.2186 - sparse_categorical_accuracy: 0.5737 - val_loss: 1.1632 - val_sparse_categorical_accuracy: 0.5938\n",
      "Epoch 12/250\n",
      "1143/1143 [==============================] - 3s 3ms/step - loss: 1.2158 - sparse_categorical_accuracy: 0.5737 - val_loss: 1.1611 - val_sparse_categorical_accuracy: 0.5938\n",
      "Epoch 13/250\n",
      "1143/1143 [==============================] - 3s 3ms/step - loss: 1.2133 - sparse_categorical_accuracy: 0.5737 - val_loss: 1.1592 - val_sparse_categorical_accuracy: 0.5938\n",
      "Epoch 14/250\n",
      "1143/1143 [==============================] - 3s 3ms/step - loss: 1.2108 - sparse_categorical_accuracy: 0.5734 - val_loss: 1.1574 - val_sparse_categorical_accuracy: 0.5938\n",
      "Epoch 15/250\n",
      "1143/1143 [==============================] - 3s 3ms/step - loss: 1.2093 - sparse_categorical_accuracy: 0.5736 - val_loss: 1.1557 - val_sparse_categorical_accuracy: 0.5938\n",
      "Epoch 16/250\n",
      "1143/1143 [==============================] - 3s 3ms/step - loss: 1.2073 - sparse_categorical_accuracy: 0.5734 - val_loss: 1.1542 - val_sparse_categorical_accuracy: 0.5938\n",
      "Epoch 17/250\n",
      "1143/1143 [==============================] - 3s 3ms/step - loss: 1.2056 - sparse_categorical_accuracy: 0.5733 - val_loss: 1.1527 - val_sparse_categorical_accuracy: 0.5938\n",
      "Epoch 18/250\n",
      "1143/1143 [==============================] - 3s 3ms/step - loss: 1.2033 - sparse_categorical_accuracy: 0.5736 - val_loss: 1.1512 - val_sparse_categorical_accuracy: 0.5938\n",
      "Epoch 19/250\n",
      "1143/1143 [==============================] - 3s 3ms/step - loss: 1.2025 - sparse_categorical_accuracy: 0.5735 - val_loss: 1.1500 - val_sparse_categorical_accuracy: 0.5933\n",
      "Epoch 20/250\n",
      "1143/1143 [==============================] - 3s 3ms/step - loss: 1.2010 - sparse_categorical_accuracy: 0.5734 - val_loss: 1.1487 - val_sparse_categorical_accuracy: 0.5933\n",
      "Epoch 21/250\n",
      "1143/1143 [==============================] - 3s 3ms/step - loss: 1.1990 - sparse_categorical_accuracy: 0.5734 - val_loss: 1.1477 - val_sparse_categorical_accuracy: 0.5933\n",
      "Epoch 22/250\n",
      "1143/1143 [==============================] - 3s 3ms/step - loss: 1.1975 - sparse_categorical_accuracy: 0.5733 - val_loss: 1.1465 - val_sparse_categorical_accuracy: 0.5933\n",
      "Epoch 23/250\n",
      "1143/1143 [==============================] - 3s 3ms/step - loss: 1.1961 - sparse_categorical_accuracy: 0.5731 - val_loss: 1.1453 - val_sparse_categorical_accuracy: 0.5933\n",
      "Epoch 24/250\n",
      "1143/1143 [==============================] - 3s 3ms/step - loss: 1.1952 - sparse_categorical_accuracy: 0.5732 - val_loss: 1.1443 - val_sparse_categorical_accuracy: 0.5938\n",
      "Epoch 25/250\n",
      "1143/1143 [==============================] - 3s 3ms/step - loss: 1.1947 - sparse_categorical_accuracy: 0.5733 - val_loss: 1.1431 - val_sparse_categorical_accuracy: 0.5938\n",
      "Epoch 26/250\n",
      "1143/1143 [==============================] - 3s 3ms/step - loss: 1.1921 - sparse_categorical_accuracy: 0.5736 - val_loss: 1.1423 - val_sparse_categorical_accuracy: 0.5938\n",
      "Epoch 27/250\n",
      "1143/1143 [==============================] - 3s 3ms/step - loss: 1.1916 - sparse_categorical_accuracy: 0.5736 - val_loss: 1.1414 - val_sparse_categorical_accuracy: 0.5943\n",
      "Epoch 28/250\n",
      "1143/1143 [==============================] - 3s 3ms/step - loss: 1.1903 - sparse_categorical_accuracy: 0.5733 - val_loss: 1.1405 - val_sparse_categorical_accuracy: 0.5938\n",
      "Epoch 29/250\n",
      "1143/1143 [==============================] - 3s 3ms/step - loss: 1.1896 - sparse_categorical_accuracy: 0.5739 - val_loss: 1.1397 - val_sparse_categorical_accuracy: 0.5933\n",
      "Epoch 30/250\n",
      "1143/1143 [==============================] - 3s 3ms/step - loss: 1.1901 - sparse_categorical_accuracy: 0.5731 - val_loss: 1.1387 - val_sparse_categorical_accuracy: 0.5933\n",
      "Epoch 31/250\n",
      "1143/1143 [==============================] - 3s 3ms/step - loss: 1.1877 - sparse_categorical_accuracy: 0.5735 - val_loss: 1.1380 - val_sparse_categorical_accuracy: 0.5933\n",
      "Epoch 32/250\n",
      "1143/1143 [==============================] - 3s 3ms/step - loss: 1.1868 - sparse_categorical_accuracy: 0.5733 - val_loss: 1.1373 - val_sparse_categorical_accuracy: 0.5933\n",
      "Epoch 33/250\n",
      "1143/1143 [==============================] - 3s 3ms/step - loss: 1.1859 - sparse_categorical_accuracy: 0.5735 - val_loss: 1.1366 - val_sparse_categorical_accuracy: 0.5933\n",
      "Epoch 34/250\n",
      "1143/1143 [==============================] - 3s 3ms/step - loss: 1.1848 - sparse_categorical_accuracy: 0.5739 - val_loss: 1.1358 - val_sparse_categorical_accuracy: 0.5933\n",
      "Epoch 35/250\n",
      "1143/1143 [==============================] - 3s 3ms/step - loss: 1.1839 - sparse_categorical_accuracy: 0.5734 - val_loss: 1.1351 - val_sparse_categorical_accuracy: 0.5933\n",
      "Epoch 36/250\n",
      "1143/1143 [==============================] - 3s 3ms/step - loss: 1.1826 - sparse_categorical_accuracy: 0.5728 - val_loss: 1.1346 - val_sparse_categorical_accuracy: 0.5933\n",
      "Epoch 37/250\n",
      "1143/1143 [==============================] - 3s 3ms/step - loss: 1.1816 - sparse_categorical_accuracy: 0.5729 - val_loss: 1.1339 - val_sparse_categorical_accuracy: 0.5943\n",
      "Epoch 38/250\n",
      "1143/1143 [==============================] - 3s 3ms/step - loss: 1.1812 - sparse_categorical_accuracy: 0.5739 - val_loss: 1.1332 - val_sparse_categorical_accuracy: 0.5938\n",
      "Epoch 39/250\n",
      "1143/1143 [==============================] - 3s 3ms/step - loss: 1.1797 - sparse_categorical_accuracy: 0.5729 - val_loss: 1.1326 - val_sparse_categorical_accuracy: 0.5943\n",
      "Epoch 40/250\n",
      "1143/1143 [==============================] - 3s 3ms/step - loss: 1.1800 - sparse_categorical_accuracy: 0.5739 - val_loss: 1.1319 - val_sparse_categorical_accuracy: 0.5948\n",
      "Epoch 41/250\n",
      "1143/1143 [==============================] - 3s 3ms/step - loss: 1.1793 - sparse_categorical_accuracy: 0.5738 - val_loss: 1.1314 - val_sparse_categorical_accuracy: 0.5948\n",
      "Epoch 42/250\n",
      "1143/1143 [==============================] - 3s 3ms/step - loss: 1.1791 - sparse_categorical_accuracy: 0.5731 - val_loss: 1.1308 - val_sparse_categorical_accuracy: 0.5948\n",
      "Epoch 43/250\n",
      "1143/1143 [==============================] - 3s 3ms/step - loss: 1.1767 - sparse_categorical_accuracy: 0.5731 - val_loss: 1.1302 - val_sparse_categorical_accuracy: 0.5948\n",
      "Epoch 44/250\n",
      "1143/1143 [==============================] - 3s 3ms/step - loss: 1.1768 - sparse_categorical_accuracy: 0.5745 - val_loss: 1.1297 - val_sparse_categorical_accuracy: 0.5948\n",
      "Epoch 45/250\n",
      "1143/1143 [==============================] - 3s 3ms/step - loss: 1.1758 - sparse_categorical_accuracy: 0.5736 - val_loss: 1.1291 - val_sparse_categorical_accuracy: 0.5948\n",
      "Epoch 46/250\n",
      "1143/1143 [==============================] - 3s 3ms/step - loss: 1.1756 - sparse_categorical_accuracy: 0.5740 - val_loss: 1.1286 - val_sparse_categorical_accuracy: 0.5953\n",
      "Epoch 47/250\n",
      "1143/1143 [==============================] - 3s 3ms/step - loss: 1.1750 - sparse_categorical_accuracy: 0.5741 - val_loss: 1.1280 - val_sparse_categorical_accuracy: 0.5953\n",
      "Epoch 48/250\n",
      "1143/1143 [==============================] - 3s 3ms/step - loss: 1.1739 - sparse_categorical_accuracy: 0.5747 - val_loss: 1.1275 - val_sparse_categorical_accuracy: 0.5953\n",
      "Epoch 49/250\n",
      "1143/1143 [==============================] - 3s 3ms/step - loss: 1.1736 - sparse_categorical_accuracy: 0.5751 - val_loss: 1.1271 - val_sparse_categorical_accuracy: 0.5953\n",
      "Epoch 50/250\n",
      "1143/1143 [==============================] - 3s 3ms/step - loss: 1.1727 - sparse_categorical_accuracy: 0.5748 - val_loss: 1.1266 - val_sparse_categorical_accuracy: 0.5953\n",
      "Epoch 51/250\n",
      "1143/1143 [==============================] - 3s 3ms/step - loss: 1.1717 - sparse_categorical_accuracy: 0.5739 - val_loss: 1.1260 - val_sparse_categorical_accuracy: 0.5953\n",
      "Epoch 52/250\n",
      "1143/1143 [==============================] - 3s 3ms/step - loss: 1.1711 - sparse_categorical_accuracy: 0.5750 - val_loss: 1.1257 - val_sparse_categorical_accuracy: 0.5948\n",
      "Epoch 53/250\n",
      "1143/1143 [==============================] - 3s 3ms/step - loss: 1.1705 - sparse_categorical_accuracy: 0.5743 - val_loss: 1.1251 - val_sparse_categorical_accuracy: 0.5948\n",
      "Epoch 54/250\n",
      "1143/1143 [==============================] - 3s 3ms/step - loss: 1.1715 - sparse_categorical_accuracy: 0.5740 - val_loss: 1.1247 - val_sparse_categorical_accuracy: 0.5948\n",
      "Epoch 55/250\n",
      "1143/1143 [==============================] - 3s 3ms/step - loss: 1.1690 - sparse_categorical_accuracy: 0.5747 - val_loss: 1.1241 - val_sparse_categorical_accuracy: 0.5948\n",
      "Epoch 56/250\n",
      "1143/1143 [==============================] - 3s 3ms/step - loss: 1.1706 - sparse_categorical_accuracy: 0.5746 - val_loss: 1.1237 - val_sparse_categorical_accuracy: 0.5943\n",
      "Epoch 57/250\n",
      "1143/1143 [==============================] - 3s 3ms/step - loss: 1.1690 - sparse_categorical_accuracy: 0.5747 - val_loss: 1.1234 - val_sparse_categorical_accuracy: 0.5943\n",
      "Epoch 58/250\n",
      "1143/1143 [==============================] - 3s 3ms/step - loss: 1.1696 - sparse_categorical_accuracy: 0.5745 - val_loss: 1.1228 - val_sparse_categorical_accuracy: 0.5948\n",
      "Epoch 59/250\n",
      "1143/1143 [==============================] - 3s 3ms/step - loss: 1.1683 - sparse_categorical_accuracy: 0.5742 - val_loss: 1.1224 - val_sparse_categorical_accuracy: 0.5948\n",
      "Epoch 60/250\n",
      "1143/1143 [==============================] - 3s 3ms/step - loss: 1.1689 - sparse_categorical_accuracy: 0.5751 - val_loss: 1.1220 - val_sparse_categorical_accuracy: 0.5958\n",
      "Epoch 61/250\n",
      "1143/1143 [==============================] - 3s 3ms/step - loss: 1.1672 - sparse_categorical_accuracy: 0.5742 - val_loss: 1.1215 - val_sparse_categorical_accuracy: 0.5958\n",
      "Epoch 62/250\n",
      "1143/1143 [==============================] - 3s 3ms/step - loss: 1.1674 - sparse_categorical_accuracy: 0.5751 - val_loss: 1.1214 - val_sparse_categorical_accuracy: 0.5958\n",
      "Epoch 63/250\n",
      "1143/1143 [==============================] - 3s 3ms/step - loss: 1.1672 - sparse_categorical_accuracy: 0.5745 - val_loss: 1.1208 - val_sparse_categorical_accuracy: 0.5963\n",
      "Epoch 64/250\n",
      "1143/1143 [==============================] - 3s 3ms/step - loss: 1.1661 - sparse_categorical_accuracy: 0.5753 - val_loss: 1.1207 - val_sparse_categorical_accuracy: 0.5963\n",
      "Epoch 65/250\n",
      "1143/1143 [==============================] - 3s 3ms/step - loss: 1.1650 - sparse_categorical_accuracy: 0.5759 - val_loss: 1.1201 - val_sparse_categorical_accuracy: 0.5968\n",
      "Epoch 66/250\n",
      "1143/1143 [==============================] - 3s 3ms/step - loss: 1.1651 - sparse_categorical_accuracy: 0.5755 - val_loss: 1.1200 - val_sparse_categorical_accuracy: 0.5968\n",
      "Epoch 67/250\n",
      "1143/1143 [==============================] - 3s 3ms/step - loss: 1.1657 - sparse_categorical_accuracy: 0.5758 - val_loss: 1.1196 - val_sparse_categorical_accuracy: 0.5968\n",
      "Epoch 68/250\n",
      "1143/1143 [==============================] - 3s 3ms/step - loss: 1.1649 - sparse_categorical_accuracy: 0.5760 - val_loss: 1.1194 - val_sparse_categorical_accuracy: 0.5972\n",
      "Epoch 69/250\n",
      "1143/1143 [==============================] - 3s 3ms/step - loss: 1.1644 - sparse_categorical_accuracy: 0.5747 - val_loss: 1.1187 - val_sparse_categorical_accuracy: 0.5972\n",
      "Epoch 70/250\n",
      "1143/1143 [==============================] - 3s 3ms/step - loss: 1.1619 - sparse_categorical_accuracy: 0.5753 - val_loss: 1.1185 - val_sparse_categorical_accuracy: 0.5972\n",
      "Epoch 71/250\n",
      "1143/1143 [==============================] - 3s 3ms/step - loss: 1.1632 - sparse_categorical_accuracy: 0.5749 - val_loss: 1.1183 - val_sparse_categorical_accuracy: 0.5972\n",
      "Epoch 72/250\n",
      "1143/1143 [==============================] - 3s 3ms/step - loss: 1.1642 - sparse_categorical_accuracy: 0.5763 - val_loss: 1.1179 - val_sparse_categorical_accuracy: 0.5972\n",
      "Epoch 73/250\n",
      "1143/1143 [==============================] - 3s 3ms/step - loss: 1.1626 - sparse_categorical_accuracy: 0.5764 - val_loss: 1.1178 - val_sparse_categorical_accuracy: 0.5977\n",
      "Epoch 74/250\n",
      "1143/1143 [==============================] - 3s 3ms/step - loss: 1.1623 - sparse_categorical_accuracy: 0.5758 - val_loss: 1.1173 - val_sparse_categorical_accuracy: 0.5972\n",
      "Epoch 75/250\n",
      "1143/1143 [==============================] - 3s 3ms/step - loss: 1.1619 - sparse_categorical_accuracy: 0.5758 - val_loss: 1.1170 - val_sparse_categorical_accuracy: 0.5972\n",
      "Epoch 76/250\n",
      "1143/1143 [==============================] - 3s 3ms/step - loss: 1.1601 - sparse_categorical_accuracy: 0.5755 - val_loss: 1.1167 - val_sparse_categorical_accuracy: 0.5972\n",
      "Epoch 77/250\n",
      "1143/1143 [==============================] - 3s 3ms/step - loss: 1.1595 - sparse_categorical_accuracy: 0.5772 - val_loss: 1.1164 - val_sparse_categorical_accuracy: 0.5972\n",
      "Epoch 78/250\n",
      "1143/1143 [==============================] - 3s 3ms/step - loss: 1.1591 - sparse_categorical_accuracy: 0.5745 - val_loss: 1.1162 - val_sparse_categorical_accuracy: 0.5972\n",
      "Epoch 79/250\n",
      "1143/1143 [==============================] - 3s 3ms/step - loss: 1.1605 - sparse_categorical_accuracy: 0.5760 - val_loss: 1.1161 - val_sparse_categorical_accuracy: 0.5972\n",
      "Epoch 80/250\n",
      "1143/1143 [==============================] - 3s 3ms/step - loss: 1.1604 - sparse_categorical_accuracy: 0.5764 - val_loss: 1.1157 - val_sparse_categorical_accuracy: 0.5968\n",
      "Epoch 81/250\n",
      "1143/1143 [==============================] - 3s 3ms/step - loss: 1.1598 - sparse_categorical_accuracy: 0.5757 - val_loss: 1.1154 - val_sparse_categorical_accuracy: 0.5968\n",
      "Epoch 82/250\n",
      "1143/1143 [==============================] - 3s 3ms/step - loss: 1.1579 - sparse_categorical_accuracy: 0.5756 - val_loss: 1.1151 - val_sparse_categorical_accuracy: 0.5968\n",
      "Epoch 83/250\n",
      "1143/1143 [==============================] - 3s 3ms/step - loss: 1.1588 - sparse_categorical_accuracy: 0.5764 - val_loss: 1.1150 - val_sparse_categorical_accuracy: 0.5968\n",
      "Epoch 84/250\n",
      "1143/1143 [==============================] - 3s 3ms/step - loss: 1.1590 - sparse_categorical_accuracy: 0.5762 - val_loss: 1.1148 - val_sparse_categorical_accuracy: 0.5968\n",
      "Epoch 85/250\n",
      "1143/1143 [==============================] - 3s 3ms/step - loss: 1.1600 - sparse_categorical_accuracy: 0.5759 - val_loss: 1.1145 - val_sparse_categorical_accuracy: 0.5968\n",
      "Epoch 86/250\n",
      "1143/1143 [==============================] - 3s 3ms/step - loss: 1.1583 - sparse_categorical_accuracy: 0.5764 - val_loss: 1.1141 - val_sparse_categorical_accuracy: 0.5968\n",
      "Epoch 87/250\n",
      "1143/1143 [==============================] - 3s 3ms/step - loss: 1.1574 - sparse_categorical_accuracy: 0.5762 - val_loss: 1.1140 - val_sparse_categorical_accuracy: 0.5968\n",
      "Epoch 88/250\n",
      "1143/1143 [==============================] - 3s 3ms/step - loss: 1.1550 - sparse_categorical_accuracy: 0.5766 - val_loss: 1.1135 - val_sparse_categorical_accuracy: 0.5968\n",
      "Epoch 89/250\n",
      "1143/1143 [==============================] - 3s 3ms/step - loss: 1.1565 - sparse_categorical_accuracy: 0.5758 - val_loss: 1.1133 - val_sparse_categorical_accuracy: 0.5972\n",
      "Epoch 90/250\n",
      "1143/1143 [==============================] - 3s 3ms/step - loss: 1.1585 - sparse_categorical_accuracy: 0.5762 - val_loss: 1.1129 - val_sparse_categorical_accuracy: 0.5968\n",
      "Epoch 91/250\n",
      "1143/1143 [==============================] - 3s 3ms/step - loss: 1.1564 - sparse_categorical_accuracy: 0.5758 - val_loss: 1.1128 - val_sparse_categorical_accuracy: 0.5968\n",
      "Epoch 92/250\n",
      "1143/1143 [==============================] - 3s 3ms/step - loss: 1.1561 - sparse_categorical_accuracy: 0.5762 - val_loss: 1.1126 - val_sparse_categorical_accuracy: 0.5972\n",
      "Epoch 93/250\n",
      "1143/1143 [==============================] - 3s 3ms/step - loss: 1.1563 - sparse_categorical_accuracy: 0.5754 - val_loss: 1.1125 - val_sparse_categorical_accuracy: 0.5972\n",
      "Epoch 94/250\n",
      "1143/1143 [==============================] - 3s 3ms/step - loss: 1.1555 - sparse_categorical_accuracy: 0.5751 - val_loss: 1.1122 - val_sparse_categorical_accuracy: 0.5972\n",
      "Epoch 95/250\n",
      "1143/1143 [==============================] - 3s 3ms/step - loss: 1.1557 - sparse_categorical_accuracy: 0.5752 - val_loss: 1.1118 - val_sparse_categorical_accuracy: 0.5977\n",
      "Epoch 96/250\n",
      "1143/1143 [==============================] - 3s 3ms/step - loss: 1.1565 - sparse_categorical_accuracy: 0.5766 - val_loss: 1.1118 - val_sparse_categorical_accuracy: 0.5972\n",
      "Epoch 97/250\n",
      "1143/1143 [==============================] - 3s 3ms/step - loss: 1.1552 - sparse_categorical_accuracy: 0.5767 - val_loss: 1.1116 - val_sparse_categorical_accuracy: 0.5972\n",
      "Epoch 98/250\n",
      "1143/1143 [==============================] - 3s 3ms/step - loss: 1.1544 - sparse_categorical_accuracy: 0.5764 - val_loss: 1.1113 - val_sparse_categorical_accuracy: 0.5972\n",
      "Epoch 99/250\n",
      "1143/1143 [==============================] - 3s 3ms/step - loss: 1.1546 - sparse_categorical_accuracy: 0.5777 - val_loss: 1.1110 - val_sparse_categorical_accuracy: 0.5977\n",
      "Epoch 100/250\n",
      "1143/1143 [==============================] - 3s 3ms/step - loss: 1.1548 - sparse_categorical_accuracy: 0.5771 - val_loss: 1.1109 - val_sparse_categorical_accuracy: 0.5972\n",
      "Epoch 101/250\n",
      "1143/1143 [==============================] - 3s 3ms/step - loss: 1.1554 - sparse_categorical_accuracy: 0.5757 - val_loss: 1.1109 - val_sparse_categorical_accuracy: 0.5972\n",
      "Epoch 102/250\n",
      "1143/1143 [==============================] - 3s 3ms/step - loss: 1.1524 - sparse_categorical_accuracy: 0.5775 - val_loss: 1.1106 - val_sparse_categorical_accuracy: 0.5972\n",
      "Epoch 103/250\n",
      "1143/1143 [==============================] - 3s 3ms/step - loss: 1.1528 - sparse_categorical_accuracy: 0.5771 - val_loss: 1.1106 - val_sparse_categorical_accuracy: 0.5972\n",
      "Epoch 104/250\n",
      "1143/1143 [==============================] - 3s 3ms/step - loss: 1.1558 - sparse_categorical_accuracy: 0.5757 - val_loss: 1.1104 - val_sparse_categorical_accuracy: 0.5968\n",
      "Epoch 105/250\n",
      "1143/1143 [==============================] - 3s 3ms/step - loss: 1.1521 - sparse_categorical_accuracy: 0.5769 - val_loss: 1.1099 - val_sparse_categorical_accuracy: 0.5968\n",
      "Epoch 106/250\n",
      "1143/1143 [==============================] - 3s 3ms/step - loss: 1.1531 - sparse_categorical_accuracy: 0.5746 - val_loss: 1.1099 - val_sparse_categorical_accuracy: 0.5968\n",
      "Epoch 107/250\n",
      "1143/1143 [==============================] - 3s 3ms/step - loss: 1.1530 - sparse_categorical_accuracy: 0.5760 - val_loss: 1.1098 - val_sparse_categorical_accuracy: 0.5968\n",
      "Epoch 108/250\n",
      "1143/1143 [==============================] - 3s 3ms/step - loss: 1.1526 - sparse_categorical_accuracy: 0.5760 - val_loss: 1.1099 - val_sparse_categorical_accuracy: 0.5968\n",
      "Epoch 109/250\n",
      "1143/1143 [==============================] - 3s 3ms/step - loss: 1.1523 - sparse_categorical_accuracy: 0.5776 - val_loss: 1.1093 - val_sparse_categorical_accuracy: 0.5972\n",
      "Epoch 110/250\n",
      "1143/1143 [==============================] - 3s 3ms/step - loss: 1.1525 - sparse_categorical_accuracy: 0.5764 - val_loss: 1.1094 - val_sparse_categorical_accuracy: 0.5968\n",
      "Epoch 111/250\n",
      "1143/1143 [==============================] - 3s 3ms/step - loss: 1.1518 - sparse_categorical_accuracy: 0.5770 - val_loss: 1.1092 - val_sparse_categorical_accuracy: 0.5968\n",
      "Epoch 112/250\n",
      "1143/1143 [==============================] - 3s 3ms/step - loss: 1.1516 - sparse_categorical_accuracy: 0.5763 - val_loss: 1.1091 - val_sparse_categorical_accuracy: 0.5972\n",
      "Epoch 113/250\n",
      "1143/1143 [==============================] - 3s 3ms/step - loss: 1.1524 - sparse_categorical_accuracy: 0.5768 - val_loss: 1.1088 - val_sparse_categorical_accuracy: 0.5963\n",
      "Epoch 114/250\n",
      "1143/1143 [==============================] - 3s 3ms/step - loss: 1.1527 - sparse_categorical_accuracy: 0.5768 - val_loss: 1.1089 - val_sparse_categorical_accuracy: 0.5963\n",
      "Epoch 115/250\n",
      "1143/1143 [==============================] - 3s 3ms/step - loss: 1.1542 - sparse_categorical_accuracy: 0.5755 - val_loss: 1.1085 - val_sparse_categorical_accuracy: 0.5963\n",
      "Epoch 116/250\n",
      "1143/1143 [==============================] - 3s 3ms/step - loss: 1.1520 - sparse_categorical_accuracy: 0.5771 - val_loss: 1.1085 - val_sparse_categorical_accuracy: 0.5963\n",
      "Epoch 117/250\n",
      "1143/1143 [==============================] - 3s 3ms/step - loss: 1.1519 - sparse_categorical_accuracy: 0.5762 - val_loss: 1.1082 - val_sparse_categorical_accuracy: 0.5963\n",
      "Epoch 118/250\n",
      "1143/1143 [==============================] - 3s 3ms/step - loss: 1.1509 - sparse_categorical_accuracy: 0.5777 - val_loss: 1.1081 - val_sparse_categorical_accuracy: 0.5963\n",
      "Epoch 119/250\n",
      "1143/1143 [==============================] - 3s 3ms/step - loss: 1.1522 - sparse_categorical_accuracy: 0.5766 - val_loss: 1.1079 - val_sparse_categorical_accuracy: 0.5963\n",
      "Epoch 120/250\n",
      "1143/1143 [==============================] - 3s 3ms/step - loss: 1.1521 - sparse_categorical_accuracy: 0.5765 - val_loss: 1.1079 - val_sparse_categorical_accuracy: 0.5963\n",
      "Epoch 121/250\n",
      "1143/1143 [==============================] - 3s 3ms/step - loss: 1.1518 - sparse_categorical_accuracy: 0.5756 - val_loss: 1.1076 - val_sparse_categorical_accuracy: 0.5963\n",
      "Epoch 122/250\n",
      "1143/1143 [==============================] - 3s 3ms/step - loss: 1.1530 - sparse_categorical_accuracy: 0.5765 - val_loss: 1.1073 - val_sparse_categorical_accuracy: 0.5968\n",
      "Epoch 123/250\n",
      "1143/1143 [==============================] - 3s 3ms/step - loss: 1.1494 - sparse_categorical_accuracy: 0.5772 - val_loss: 1.1070 - val_sparse_categorical_accuracy: 0.5972\n",
      "Epoch 124/250\n",
      "1143/1143 [==============================] - 3s 3ms/step - loss: 1.1499 - sparse_categorical_accuracy: 0.5768 - val_loss: 1.1075 - val_sparse_categorical_accuracy: 0.5963\n",
      "Epoch 125/250\n",
      "1143/1143 [==============================] - 4s 3ms/step - loss: 1.1507 - sparse_categorical_accuracy: 0.5766 - val_loss: 1.1073 - val_sparse_categorical_accuracy: 0.5968\n",
      "Epoch 126/250\n",
      "1143/1143 [==============================] - 3s 3ms/step - loss: 1.1493 - sparse_categorical_accuracy: 0.5778 - val_loss: 1.1069 - val_sparse_categorical_accuracy: 0.5963\n",
      "Epoch 127/250\n",
      "1143/1143 [==============================] - 3s 3ms/step - loss: 1.1511 - sparse_categorical_accuracy: 0.5766 - val_loss: 1.1068 - val_sparse_categorical_accuracy: 0.5968\n",
      "Epoch 128/250\n",
      "1143/1143 [==============================] - 3s 3ms/step - loss: 1.1488 - sparse_categorical_accuracy: 0.5790 - val_loss: 1.1067 - val_sparse_categorical_accuracy: 0.5963\n",
      "Epoch 129/250\n",
      "1143/1143 [==============================] - 3s 3ms/step - loss: 1.1479 - sparse_categorical_accuracy: 0.5761 - val_loss: 1.1062 - val_sparse_categorical_accuracy: 0.5968\n",
      "Epoch 130/250\n",
      "1143/1143 [==============================] - 3s 3ms/step - loss: 1.1475 - sparse_categorical_accuracy: 0.5777 - val_loss: 1.1063 - val_sparse_categorical_accuracy: 0.5968\n",
      "Epoch 131/250\n",
      "1143/1143 [==============================] - 3s 3ms/step - loss: 1.1469 - sparse_categorical_accuracy: 0.5771 - val_loss: 1.1060 - val_sparse_categorical_accuracy: 0.5968\n",
      "Epoch 132/250\n",
      "1143/1143 [==============================] - 4s 3ms/step - loss: 1.1489 - sparse_categorical_accuracy: 0.5753 - val_loss: 1.1059 - val_sparse_categorical_accuracy: 0.5968\n",
      "Epoch 133/250\n",
      "1143/1143 [==============================] - 4s 3ms/step - loss: 1.1510 - sparse_categorical_accuracy: 0.5769 - val_loss: 1.1061 - val_sparse_categorical_accuracy: 0.5968\n",
      "Epoch 134/250\n",
      "1143/1143 [==============================] - 4s 3ms/step - loss: 1.1502 - sparse_categorical_accuracy: 0.5771 - val_loss: 1.1062 - val_sparse_categorical_accuracy: 0.5968\n",
      "Epoch 135/250\n",
      "1143/1143 [==============================] - 5s 4ms/step - loss: 1.1493 - sparse_categorical_accuracy: 0.5765 - val_loss: 1.1059 - val_sparse_categorical_accuracy: 0.5972\n",
      "Epoch 136/250\n",
      "1143/1143 [==============================] - 4s 4ms/step - loss: 1.1464 - sparse_categorical_accuracy: 0.5775 - val_loss: 1.1059 - val_sparse_categorical_accuracy: 0.5972\n",
      "Epoch 137/250\n",
      "1143/1143 [==============================] - 4s 3ms/step - loss: 1.1521 - sparse_categorical_accuracy: 0.5771 - val_loss: 1.1056 - val_sparse_categorical_accuracy: 0.5977\n",
      "Epoch 138/250\n",
      "1143/1143 [==============================] - 4s 3ms/step - loss: 1.1486 - sparse_categorical_accuracy: 0.5767 - val_loss: 1.1057 - val_sparse_categorical_accuracy: 0.5972\n",
      "Epoch 139/250\n",
      "1143/1143 [==============================] - 3s 3ms/step - loss: 1.1484 - sparse_categorical_accuracy: 0.5762 - val_loss: 1.1055 - val_sparse_categorical_accuracy: 0.5972\n",
      "Epoch 140/250\n",
      "1143/1143 [==============================] - 4s 3ms/step - loss: 1.1490 - sparse_categorical_accuracy: 0.5771 - val_loss: 1.1056 - val_sparse_categorical_accuracy: 0.5972\n",
      "Epoch 141/250\n",
      "1143/1143 [==============================] - 4s 4ms/step - loss: 1.1465 - sparse_categorical_accuracy: 0.5768 - val_loss: 1.1051 - val_sparse_categorical_accuracy: 0.5972\n",
      "Epoch 142/250\n",
      "1143/1143 [==============================] - 5s 4ms/step - loss: 1.1483 - sparse_categorical_accuracy: 0.5782 - val_loss: 1.1052 - val_sparse_categorical_accuracy: 0.5977\n",
      "Epoch 143/250\n",
      "1143/1143 [==============================] - 4s 3ms/step - loss: 1.1459 - sparse_categorical_accuracy: 0.5772 - val_loss: 1.1049 - val_sparse_categorical_accuracy: 0.5977\n",
      "Epoch 144/250\n",
      "1143/1143 [==============================] - 4s 3ms/step - loss: 1.1483 - sparse_categorical_accuracy: 0.5786 - val_loss: 1.1046 - val_sparse_categorical_accuracy: 0.5982\n",
      "Epoch 145/250\n",
      "1143/1143 [==============================] - 3s 3ms/step - loss: 1.1494 - sparse_categorical_accuracy: 0.5770 - val_loss: 1.1045 - val_sparse_categorical_accuracy: 0.5982\n",
      "Epoch 146/250\n",
      "1143/1143 [==============================] - 3s 3ms/step - loss: 1.1476 - sparse_categorical_accuracy: 0.5784 - val_loss: 1.1043 - val_sparse_categorical_accuracy: 0.5987\n",
      "Epoch 147/250\n",
      "1143/1143 [==============================] - 4s 4ms/step - loss: 1.1475 - sparse_categorical_accuracy: 0.5778 - val_loss: 1.1046 - val_sparse_categorical_accuracy: 0.5987\n",
      "Epoch 148/250\n",
      "1143/1143 [==============================] - 3s 3ms/step - loss: 1.1491 - sparse_categorical_accuracy: 0.5771 - val_loss: 1.1043 - val_sparse_categorical_accuracy: 0.5982\n",
      "Epoch 149/250\n",
      "1143/1143 [==============================] - 4s 4ms/step - loss: 1.1445 - sparse_categorical_accuracy: 0.5768 - val_loss: 1.1043 - val_sparse_categorical_accuracy: 0.5987\n",
      "Epoch 150/250\n",
      "1143/1143 [==============================] - 4s 3ms/step - loss: 1.1478 - sparse_categorical_accuracy: 0.5771 - val_loss: 1.1042 - val_sparse_categorical_accuracy: 0.5987\n",
      "Epoch 151/250\n",
      "1143/1143 [==============================] - 3s 3ms/step - loss: 1.1459 - sparse_categorical_accuracy: 0.5774 - val_loss: 1.1041 - val_sparse_categorical_accuracy: 0.5987\n",
      "Epoch 152/250\n",
      "1143/1143 [==============================] - 4s 3ms/step - loss: 1.1482 - sparse_categorical_accuracy: 0.5771 - val_loss: 1.1040 - val_sparse_categorical_accuracy: 0.5992\n",
      "Epoch 153/250\n",
      "1143/1143 [==============================] - 4s 3ms/step - loss: 1.1487 - sparse_categorical_accuracy: 0.5773 - val_loss: 1.1036 - val_sparse_categorical_accuracy: 0.5987\n",
      "Epoch 154/250\n",
      "1143/1143 [==============================] - 4s 3ms/step - loss: 1.1449 - sparse_categorical_accuracy: 0.5771 - val_loss: 1.1037 - val_sparse_categorical_accuracy: 0.5987\n",
      "Epoch 155/250\n",
      "1143/1143 [==============================] - 3s 3ms/step - loss: 1.1449 - sparse_categorical_accuracy: 0.5774 - val_loss: 1.1037 - val_sparse_categorical_accuracy: 0.5987\n",
      "Epoch 156/250\n",
      "1143/1143 [==============================] - 5s 5ms/step - loss: 1.1486 - sparse_categorical_accuracy: 0.5765 - val_loss: 1.1035 - val_sparse_categorical_accuracy: 0.5987\n",
      "Epoch 157/250\n",
      "1143/1143 [==============================] - 4s 3ms/step - loss: 1.1438 - sparse_categorical_accuracy: 0.5791 - val_loss: 1.1036 - val_sparse_categorical_accuracy: 0.5987\n",
      "Epoch 158/250\n",
      "1143/1143 [==============================] - 4s 3ms/step - loss: 1.1482 - sparse_categorical_accuracy: 0.5774 - val_loss: 1.1033 - val_sparse_categorical_accuracy: 0.5987\n",
      "Epoch 159/250\n",
      "1143/1143 [==============================] - 3s 3ms/step - loss: 1.1459 - sparse_categorical_accuracy: 0.5779 - val_loss: 1.1036 - val_sparse_categorical_accuracy: 0.5987\n",
      "Epoch 160/250\n",
      "1143/1143 [==============================] - 3s 3ms/step - loss: 1.1466 - sparse_categorical_accuracy: 0.5795 - val_loss: 1.1033 - val_sparse_categorical_accuracy: 0.5987\n",
      "Epoch 161/250\n",
      "1143/1143 [==============================] - 3s 3ms/step - loss: 1.1468 - sparse_categorical_accuracy: 0.5758 - val_loss: 1.1031 - val_sparse_categorical_accuracy: 0.5982\n",
      "Epoch 162/250\n",
      "1143/1143 [==============================] - 4s 4ms/step - loss: 1.1474 - sparse_categorical_accuracy: 0.5777 - val_loss: 1.1032 - val_sparse_categorical_accuracy: 0.5982\n",
      "Epoch 163/250\n",
      "1143/1143 [==============================] - 4s 4ms/step - loss: 1.1476 - sparse_categorical_accuracy: 0.5771 - val_loss: 1.1031 - val_sparse_categorical_accuracy: 0.5987\n",
      "Epoch 164/250\n",
      "1143/1143 [==============================] - 4s 3ms/step - loss: 1.1480 - sparse_categorical_accuracy: 0.5778 - val_loss: 1.1033 - val_sparse_categorical_accuracy: 0.5992\n",
      "Epoch 165/250\n",
      "1143/1143 [==============================] - 4s 3ms/step - loss: 1.1436 - sparse_categorical_accuracy: 0.5786 - val_loss: 1.1024 - val_sparse_categorical_accuracy: 0.5997\n",
      "Epoch 166/250\n",
      "1143/1143 [==============================] - 4s 3ms/step - loss: 1.1465 - sparse_categorical_accuracy: 0.5780 - val_loss: 1.1026 - val_sparse_categorical_accuracy: 0.5992\n",
      "Epoch 167/250\n",
      "1143/1143 [==============================] - 4s 4ms/step - loss: 1.1449 - sparse_categorical_accuracy: 0.5782 - val_loss: 1.1025 - val_sparse_categorical_accuracy: 0.5997\n",
      "Epoch 168/250\n",
      "1143/1143 [==============================] - 4s 3ms/step - loss: 1.1465 - sparse_categorical_accuracy: 0.5779 - val_loss: 1.1022 - val_sparse_categorical_accuracy: 0.5997\n",
      "Epoch 169/250\n",
      "1143/1143 [==============================] - 4s 3ms/step - loss: 1.1441 - sparse_categorical_accuracy: 0.5778 - val_loss: 1.1024 - val_sparse_categorical_accuracy: 0.5997\n",
      "Epoch 170/250\n",
      "1143/1143 [==============================] - 4s 3ms/step - loss: 1.1446 - sparse_categorical_accuracy: 0.5787 - val_loss: 1.1023 - val_sparse_categorical_accuracy: 0.5997\n",
      "Epoch 171/250\n",
      "1143/1143 [==============================] - 4s 3ms/step - loss: 1.1438 - sparse_categorical_accuracy: 0.5791 - val_loss: 1.1025 - val_sparse_categorical_accuracy: 0.5997\n",
      "Epoch 172/250\n",
      "1143/1143 [==============================] - 4s 3ms/step - loss: 1.1427 - sparse_categorical_accuracy: 0.5777 - val_loss: 1.1019 - val_sparse_categorical_accuracy: 0.5997\n",
      "Epoch 173/250\n",
      "1143/1143 [==============================] - 3s 3ms/step - loss: 1.1448 - sparse_categorical_accuracy: 0.5786 - val_loss: 1.1018 - val_sparse_categorical_accuracy: 0.5997\n",
      "Epoch 174/250\n",
      "1143/1143 [==============================] - 4s 4ms/step - loss: 1.1436 - sparse_categorical_accuracy: 0.5795 - val_loss: 1.1021 - val_sparse_categorical_accuracy: 0.5997\n",
      "Epoch 175/250\n",
      "1143/1143 [==============================] - 4s 4ms/step - loss: 1.1439 - sparse_categorical_accuracy: 0.5787 - val_loss: 1.1019 - val_sparse_categorical_accuracy: 0.5997\n",
      "Epoch 176/250\n",
      "1143/1143 [==============================] - 5s 4ms/step - loss: 1.1425 - sparse_categorical_accuracy: 0.5797 - val_loss: 1.1019 - val_sparse_categorical_accuracy: 0.5997\n",
      "Epoch 177/250\n",
      "1143/1143 [==============================] - 4s 3ms/step - loss: 1.1437 - sparse_categorical_accuracy: 0.5783 - val_loss: 1.1018 - val_sparse_categorical_accuracy: 0.6002\n",
      "Epoch 178/250\n",
      "1143/1143 [==============================] - 4s 3ms/step - loss: 1.1445 - sparse_categorical_accuracy: 0.5794 - val_loss: 1.1012 - val_sparse_categorical_accuracy: 0.5997\n",
      "Epoch 179/250\n",
      "1143/1143 [==============================] - 4s 3ms/step - loss: 1.1443 - sparse_categorical_accuracy: 0.5770 - val_loss: 1.1015 - val_sparse_categorical_accuracy: 0.5997\n",
      "Epoch 180/250\n",
      "1143/1143 [==============================] - 4s 3ms/step - loss: 1.1433 - sparse_categorical_accuracy: 0.5803 - val_loss: 1.1015 - val_sparse_categorical_accuracy: 0.6002\n",
      "Epoch 181/250\n",
      "1143/1143 [==============================] - 4s 3ms/step - loss: 1.1448 - sparse_categorical_accuracy: 0.5786 - val_loss: 1.1013 - val_sparse_categorical_accuracy: 0.6002\n",
      "Epoch 182/250\n",
      "1143/1143 [==============================] - 4s 3ms/step - loss: 1.1422 - sparse_categorical_accuracy: 0.5777 - val_loss: 1.1011 - val_sparse_categorical_accuracy: 0.6007\n",
      "Epoch 183/250\n",
      "1143/1143 [==============================] - 4s 3ms/step - loss: 1.1449 - sparse_categorical_accuracy: 0.5783 - val_loss: 1.1011 - val_sparse_categorical_accuracy: 0.6007\n",
      "Epoch 184/250\n",
      "1143/1143 [==============================] - 4s 3ms/step - loss: 1.1427 - sparse_categorical_accuracy: 0.5789 - val_loss: 1.1010 - val_sparse_categorical_accuracy: 0.6007\n",
      "Epoch 185/250\n",
      "1143/1143 [==============================] - 4s 3ms/step - loss: 1.1454 - sparse_categorical_accuracy: 0.5768 - val_loss: 1.1010 - val_sparse_categorical_accuracy: 0.6007\n",
      "Epoch 186/250\n",
      "1143/1143 [==============================] - 4s 3ms/step - loss: 1.1451 - sparse_categorical_accuracy: 0.5786 - val_loss: 1.1010 - val_sparse_categorical_accuracy: 0.6007\n",
      "Epoch 187/250\n",
      "1143/1143 [==============================] - 4s 3ms/step - loss: 1.1430 - sparse_categorical_accuracy: 0.5782 - val_loss: 1.1007 - val_sparse_categorical_accuracy: 0.6007\n",
      "Epoch 188/250\n",
      "1143/1143 [==============================] - 4s 3ms/step - loss: 1.1438 - sparse_categorical_accuracy: 0.5794 - val_loss: 1.1008 - val_sparse_categorical_accuracy: 0.6007\n",
      "Epoch 189/250\n",
      "1143/1143 [==============================] - 4s 3ms/step - loss: 1.1413 - sparse_categorical_accuracy: 0.5781 - val_loss: 1.1004 - val_sparse_categorical_accuracy: 0.6007\n",
      "Epoch 190/250\n",
      "1143/1143 [==============================] - 4s 4ms/step - loss: 1.1445 - sparse_categorical_accuracy: 0.5783 - val_loss: 1.1004 - val_sparse_categorical_accuracy: 0.6002\n",
      "Epoch 191/250\n",
      "1143/1143 [==============================] - 4s 3ms/step - loss: 1.1446 - sparse_categorical_accuracy: 0.5791 - val_loss: 1.1004 - val_sparse_categorical_accuracy: 0.6007\n",
      "Epoch 192/250\n",
      "1143/1143 [==============================] - 4s 3ms/step - loss: 1.1431 - sparse_categorical_accuracy: 0.5769 - val_loss: 1.1005 - val_sparse_categorical_accuracy: 0.6007\n",
      "Epoch 193/250\n",
      "1143/1143 [==============================] - 4s 3ms/step - loss: 1.1408 - sparse_categorical_accuracy: 0.5787 - val_loss: 1.1005 - val_sparse_categorical_accuracy: 0.6007\n",
      "Epoch 194/250\n",
      "1143/1143 [==============================] - 4s 3ms/step - loss: 1.1429 - sparse_categorical_accuracy: 0.5765 - val_loss: 1.1004 - val_sparse_categorical_accuracy: 0.6002\n",
      "Epoch 195/250\n",
      "1143/1143 [==============================] - 4s 3ms/step - loss: 1.1404 - sparse_categorical_accuracy: 0.5780 - val_loss: 1.1003 - val_sparse_categorical_accuracy: 0.6002\n",
      "Epoch 196/250\n",
      "1143/1143 [==============================] - 4s 3ms/step - loss: 1.1433 - sparse_categorical_accuracy: 0.5774 - val_loss: 1.1003 - val_sparse_categorical_accuracy: 0.6007\n",
      "Epoch 197/250\n",
      "1143/1143 [==============================] - 4s 3ms/step - loss: 1.1431 - sparse_categorical_accuracy: 0.5770 - val_loss: 1.1003 - val_sparse_categorical_accuracy: 0.6007\n",
      "Epoch 198/250\n",
      "1143/1143 [==============================] - 4s 3ms/step - loss: 1.1447 - sparse_categorical_accuracy: 0.5778 - val_loss: 1.1003 - val_sparse_categorical_accuracy: 0.6002\n",
      "Epoch 199/250\n",
      "1143/1143 [==============================] - 4s 3ms/step - loss: 1.1441 - sparse_categorical_accuracy: 0.5772 - val_loss: 1.1003 - val_sparse_categorical_accuracy: 0.6007\n",
      "Epoch 200/250\n",
      "1143/1143 [==============================] - 4s 3ms/step - loss: 1.1446 - sparse_categorical_accuracy: 0.5786 - val_loss: 1.1000 - val_sparse_categorical_accuracy: 0.6002\n",
      "Epoch 201/250\n",
      "1143/1143 [==============================] - 4s 3ms/step - loss: 1.1421 - sparse_categorical_accuracy: 0.5784 - val_loss: 1.1001 - val_sparse_categorical_accuracy: 0.6007\n",
      "Epoch 202/250\n",
      "1143/1143 [==============================] - 4s 3ms/step - loss: 1.1439 - sparse_categorical_accuracy: 0.5778 - val_loss: 1.0998 - val_sparse_categorical_accuracy: 0.5997\n",
      "Epoch 203/250\n",
      "1143/1143 [==============================] - 4s 3ms/step - loss: 1.1409 - sparse_categorical_accuracy: 0.5781 - val_loss: 1.0998 - val_sparse_categorical_accuracy: 0.5997\n",
      "Epoch 204/250\n",
      "1143/1143 [==============================] - 4s 3ms/step - loss: 1.1433 - sparse_categorical_accuracy: 0.5792 - val_loss: 1.0998 - val_sparse_categorical_accuracy: 0.6002\n",
      "Epoch 205/250\n",
      "1143/1143 [==============================] - 4s 3ms/step - loss: 1.1443 - sparse_categorical_accuracy: 0.5797 - val_loss: 1.0996 - val_sparse_categorical_accuracy: 0.6007\n",
      "Epoch 206/250\n",
      "1143/1143 [==============================] - 4s 3ms/step - loss: 1.1444 - sparse_categorical_accuracy: 0.5786 - val_loss: 1.0993 - val_sparse_categorical_accuracy: 0.6007\n",
      "Epoch 207/250\n",
      "1143/1143 [==============================] - 4s 3ms/step - loss: 1.1447 - sparse_categorical_accuracy: 0.5789 - val_loss: 1.0995 - val_sparse_categorical_accuracy: 0.6002\n",
      "Epoch 208/250\n",
      "1143/1143 [==============================] - 4s 3ms/step - loss: 1.1431 - sparse_categorical_accuracy: 0.5782 - val_loss: 1.0995 - val_sparse_categorical_accuracy: 0.5997\n",
      "Epoch 209/250\n",
      "1143/1143 [==============================] - 4s 3ms/step - loss: 1.1433 - sparse_categorical_accuracy: 0.5784 - val_loss: 1.1000 - val_sparse_categorical_accuracy: 0.6007\n",
      "Epoch 210/250\n",
      "1143/1143 [==============================] - 4s 3ms/step - loss: 1.1418 - sparse_categorical_accuracy: 0.5769 - val_loss: 1.0999 - val_sparse_categorical_accuracy: 0.5997\n",
      "Epoch 211/250\n",
      "1143/1143 [==============================] - 4s 3ms/step - loss: 1.1413 - sparse_categorical_accuracy: 0.5771 - val_loss: 1.0994 - val_sparse_categorical_accuracy: 0.5997\n",
      "Epoch 212/250\n",
      "1143/1143 [==============================] - 4s 3ms/step - loss: 1.1408 - sparse_categorical_accuracy: 0.5802 - val_loss: 1.0991 - val_sparse_categorical_accuracy: 0.5997\n",
      "Epoch 213/250\n",
      "1143/1143 [==============================] - 4s 3ms/step - loss: 1.1397 - sparse_categorical_accuracy: 0.5791 - val_loss: 1.0989 - val_sparse_categorical_accuracy: 0.5997\n",
      "Epoch 214/250\n",
      "1143/1143 [==============================] - 4s 3ms/step - loss: 1.1413 - sparse_categorical_accuracy: 0.5784 - val_loss: 1.0992 - val_sparse_categorical_accuracy: 0.6002\n",
      "Epoch 215/250\n",
      "1143/1143 [==============================] - 4s 3ms/step - loss: 1.1403 - sparse_categorical_accuracy: 0.5796 - val_loss: 1.0995 - val_sparse_categorical_accuracy: 0.6002\n",
      "Epoch 216/250\n",
      "1143/1143 [==============================] - 4s 3ms/step - loss: 1.1401 - sparse_categorical_accuracy: 0.5779 - val_loss: 1.0992 - val_sparse_categorical_accuracy: 0.5997\n",
      "Epoch 217/250\n",
      "1143/1143 [==============================] - 5s 5ms/step - loss: 1.1433 - sparse_categorical_accuracy: 0.5783 - val_loss: 1.0992 - val_sparse_categorical_accuracy: 0.5997\n",
      "Epoch 218/250\n",
      "1143/1143 [==============================] - 5s 4ms/step - loss: 1.1415 - sparse_categorical_accuracy: 0.5804 - val_loss: 1.0989 - val_sparse_categorical_accuracy: 0.5997\n",
      "Epoch 219/250\n",
      "1143/1143 [==============================] - 4s 3ms/step - loss: 1.1418 - sparse_categorical_accuracy: 0.5783 - val_loss: 1.0989 - val_sparse_categorical_accuracy: 0.5992\n",
      "Epoch 220/250\n",
      "1143/1143 [==============================] - 4s 3ms/step - loss: 1.1426 - sparse_categorical_accuracy: 0.5779 - val_loss: 1.0987 - val_sparse_categorical_accuracy: 0.5997\n",
      "Epoch 221/250\n",
      "1143/1143 [==============================] - 4s 3ms/step - loss: 1.1428 - sparse_categorical_accuracy: 0.5788 - val_loss: 1.0986 - val_sparse_categorical_accuracy: 0.5997\n",
      "Epoch 222/250\n",
      "1143/1143 [==============================] - 4s 3ms/step - loss: 1.1422 - sparse_categorical_accuracy: 0.5780 - val_loss: 1.0988 - val_sparse_categorical_accuracy: 0.5997\n",
      "Epoch 223/250\n",
      "1143/1143 [==============================] - 4s 3ms/step - loss: 1.1414 - sparse_categorical_accuracy: 0.5781 - val_loss: 1.0985 - val_sparse_categorical_accuracy: 0.5992\n",
      "Epoch 224/250\n",
      "1143/1143 [==============================] - 4s 4ms/step - loss: 1.1383 - sparse_categorical_accuracy: 0.5801 - val_loss: 1.0985 - val_sparse_categorical_accuracy: 0.5997\n",
      "Epoch 225/250\n",
      "1143/1143 [==============================] - 4s 3ms/step - loss: 1.1428 - sparse_categorical_accuracy: 0.5791 - val_loss: 1.0984 - val_sparse_categorical_accuracy: 0.5997\n",
      "Epoch 226/250\n",
      "1143/1143 [==============================] - 4s 3ms/step - loss: 1.1396 - sparse_categorical_accuracy: 0.5774 - val_loss: 1.0982 - val_sparse_categorical_accuracy: 0.5992\n",
      "Epoch 227/250\n",
      "1143/1143 [==============================] - 5s 4ms/step - loss: 1.1410 - sparse_categorical_accuracy: 0.5769 - val_loss: 1.0983 - val_sparse_categorical_accuracy: 0.5992\n",
      "Epoch 228/250\n",
      "1143/1143 [==============================] - 4s 4ms/step - loss: 1.1411 - sparse_categorical_accuracy: 0.5789 - val_loss: 1.0986 - val_sparse_categorical_accuracy: 0.5992\n",
      "Epoch 229/250\n",
      "1143/1143 [==============================] - 5s 4ms/step - loss: 1.1417 - sparse_categorical_accuracy: 0.5789 - val_loss: 1.0980 - val_sparse_categorical_accuracy: 0.5992\n",
      "Epoch 230/250\n",
      "1143/1143 [==============================] - 6s 5ms/step - loss: 1.1424 - sparse_categorical_accuracy: 0.5789 - val_loss: 1.0980 - val_sparse_categorical_accuracy: 0.5997\n",
      "Epoch 231/250\n",
      "1143/1143 [==============================] - 6s 5ms/step - loss: 1.1416 - sparse_categorical_accuracy: 0.5790 - val_loss: 1.0983 - val_sparse_categorical_accuracy: 0.5992\n",
      "Epoch 232/250\n",
      "1143/1143 [==============================] - 4s 3ms/step - loss: 1.1413 - sparse_categorical_accuracy: 0.5798 - val_loss: 1.0982 - val_sparse_categorical_accuracy: 0.5992\n",
      "Epoch 233/250\n",
      "1143/1143 [==============================] - 4s 3ms/step - loss: 1.1397 - sparse_categorical_accuracy: 0.5769 - val_loss: 1.0983 - val_sparse_categorical_accuracy: 0.5992\n",
      "Epoch 234/250\n",
      "1143/1143 [==============================] - 3s 3ms/step - loss: 1.1405 - sparse_categorical_accuracy: 0.5789 - val_loss: 1.0980 - val_sparse_categorical_accuracy: 0.5992\n",
      "Epoch 235/250\n",
      "1143/1143 [==============================] - 4s 3ms/step - loss: 1.1384 - sparse_categorical_accuracy: 0.5784 - val_loss: 1.0981 - val_sparse_categorical_accuracy: 0.5992\n",
      "Epoch 236/250\n",
      "1143/1143 [==============================] - 4s 3ms/step - loss: 1.1419 - sparse_categorical_accuracy: 0.5800 - val_loss: 1.0980 - val_sparse_categorical_accuracy: 0.5997\n",
      "Epoch 237/250\n",
      "1143/1143 [==============================] - 4s 4ms/step - loss: 1.1409 - sparse_categorical_accuracy: 0.5779 - val_loss: 1.0982 - val_sparse_categorical_accuracy: 0.5992\n",
      "Epoch 238/250\n",
      "1143/1143 [==============================] - 4s 3ms/step - loss: 1.1414 - sparse_categorical_accuracy: 0.5775 - val_loss: 1.0979 - val_sparse_categorical_accuracy: 0.5997\n",
      "Epoch 239/250\n",
      "1143/1143 [==============================] - 3s 3ms/step - loss: 1.1400 - sparse_categorical_accuracy: 0.5774 - val_loss: 1.0978 - val_sparse_categorical_accuracy: 0.5992\n",
      "Epoch 240/250\n",
      "1143/1143 [==============================] - 4s 3ms/step - loss: 1.1410 - sparse_categorical_accuracy: 0.5792 - val_loss: 1.0976 - val_sparse_categorical_accuracy: 0.5997\n",
      "Epoch 241/250\n",
      "1143/1143 [==============================] - 4s 4ms/step - loss: 1.1423 - sparse_categorical_accuracy: 0.5785 - val_loss: 1.0978 - val_sparse_categorical_accuracy: 0.5997\n",
      "Epoch 242/250\n",
      "1143/1143 [==============================] - 6s 5ms/step - loss: 1.1407 - sparse_categorical_accuracy: 0.5782 - val_loss: 1.0978 - val_sparse_categorical_accuracy: 0.5992\n",
      "Epoch 243/250\n",
      "1143/1143 [==============================] - 5s 5ms/step - loss: 1.1400 - sparse_categorical_accuracy: 0.5798 - val_loss: 1.0979 - val_sparse_categorical_accuracy: 0.5992\n",
      "Epoch 244/250\n",
      "1143/1143 [==============================] - 5s 4ms/step - loss: 1.1392 - sparse_categorical_accuracy: 0.5787 - val_loss: 1.0974 - val_sparse_categorical_accuracy: 0.5997\n",
      "Epoch 245/250\n",
      "1143/1143 [==============================] - 4s 3ms/step - loss: 1.1383 - sparse_categorical_accuracy: 0.5780 - val_loss: 1.0977 - val_sparse_categorical_accuracy: 0.5992\n",
      "Epoch 246/250\n",
      "1143/1143 [==============================] - 6s 5ms/step - loss: 1.1399 - sparse_categorical_accuracy: 0.5783 - val_loss: 1.0979 - val_sparse_categorical_accuracy: 0.5992\n",
      "Epoch 247/250\n",
      "1143/1143 [==============================] - 5s 4ms/step - loss: 1.1415 - sparse_categorical_accuracy: 0.5793 - val_loss: 1.0976 - val_sparse_categorical_accuracy: 0.5992\n",
      "Epoch 248/250\n",
      "1143/1143 [==============================] - 5s 4ms/step - loss: 1.1384 - sparse_categorical_accuracy: 0.5790 - val_loss: 1.0974 - val_sparse_categorical_accuracy: 0.5992\n",
      "Epoch 249/250\n",
      "1143/1143 [==============================] - 5s 5ms/step - loss: 1.1413 - sparse_categorical_accuracy: 0.5785 - val_loss: 1.0980 - val_sparse_categorical_accuracy: 0.5992\n",
      "Epoch 250/250\n",
      "1143/1143 [==============================] - 4s 3ms/step - loss: 1.1418 - sparse_categorical_accuracy: 0.5785 - val_loss: 1.0973 - val_sparse_categorical_accuracy: 0.5987\n"
     ]
    }
   ],
   "source": [
    "epochs = 250\n",
    "history = model.fit(\n",
    "    train_ds,\n",
    "    validation_data=val_ds,\n",
    "    epochs=epochs)"
   ]
  },
  {
   "cell_type": "code",
   "execution_count": 53,
   "id": "87b30452-676c-4282-98ab-cfe15de62217",
   "metadata": {},
   "outputs": [
    {
     "data": {
      "image/png": "[encoded data removed]",
      "text/plain": [
       "<Figure size 432x288 with 1 Axes>"
      ]
     },
     "metadata": {
      "needs_background": "light"
     },
     "output_type": "display_data"
    }
   ],
   "source": [
    "from matplotlib import pyplot as plt\n",
    "plt.plot(history.history['loss'])\n",
    "plt.plot(history.history['val_loss'])\n",
    "plt.title('model loss')\n",
    "plt.ylabel('loss')\n",
    "plt.xlabel('epoch')\n",
    "plt.legend(['train', 'val'], loc='upper left')\n",
    "plt.show()"
   ]
  },
  {
   "cell_type": "code",
   "execution_count": 54,
   "id": "76cb20b2-be01-468f-a17f-7e03e5e38568",
   "metadata": {},
   "outputs": [],
   "source": [
    "val_softmax = model.predict(val_ds)"
   ]
  },
  {
   "cell_type": "code",
   "execution_count": 55,
   "id": "d2f6ad9e-401c-4068-ad38-a98a096b640d",
   "metadata": {},
   "outputs": [],
   "source": [
    "val_labels = np.argmax(val_softmax, axis=1)"
   ]
  },
  {
   "cell_type": "code",
   "execution_count": 56,
   "id": "40de48b2-325a-43f3-999d-69cf8adcf761",
   "metadata": {},
   "outputs": [],
   "source": [
    "val_pd = dataset[train_size:]"
   ]
  },
  {
   "cell_type": "code",
   "execution_count": 57,
   "id": "6eadc6bb-59e0-427a-8ff3-6532cab3bbcf",
   "metadata": {},
   "outputs": [
    {
     "name": "stderr",
     "output_type": "stream",
     "text": [
      "/var/folders/t_/jx0zym4j5mgf__cxw2drjvwm0000gn/T/ipykernel_57839/905541298.py:1: SettingWithCopyWarning: \n",
      "A value is trying to be set on a copy of a slice from a DataFrame.\n",
      "Try using .loc[row_indexer,col_indexer] = value instead\n",
      "\n",
      "See the caveats in the documentation: https://pandas.pydata.org/pandas-docs/stable/user_guide/indexing.html#returning-a-view-versus-a-copy\n",
      "  val_pd['pred_labels'] = val_labels\n"
     ]
    }
   ],
   "source": [
    "val_pd['pred_labels'] = val_labels"
   ]
  },
  {
   "cell_type": "code",
   "execution_count": 58,
   "id": "b32812db-b79c-4f30-b9b9-f439a22df6d4",
   "metadata": {},
   "outputs": [
    {
     "data": {
      "text/html": [
       "<div>\n",
       "<style scoped>\n",
       "    .dataframe tbody tr th:only-of-type {\n",
       "        vertical-align: middle;\n",
       "    }\n",
       "\n",
       "    .dataframe tbody tr th {\n",
       "        vertical-align: top;\n",
       "    }\n",
       "\n",
       "    .dataframe thead th {\n",
       "        text-align: right;\n",
       "    }\n",
       "</style>\n",
       "<table border=\"1\" class=\"dataframe\">\n",
       "  <thead>\n",
       "    <tr style=\"text-align: right;\">\n",
       "      <th></th>\n",
       "      <th>Sentences</th>\n",
       "      <th>Annotation</th>\n",
       "      <th>pred_labels</th>\n",
       "    </tr>\n",
       "  </thead>\n",
       "  <tbody>\n",
       "    <tr>\n",
       "      <th>18273</th>\n",
       "      <td>भारत की जनता के लिए यह दुर्भाग्य ही रहा कि ताश...</td>\n",
       "      <td>2</td>\n",
       "      <td>4</td>\n",
       "    </tr>\n",
       "    <tr>\n",
       "      <th>18274</th>\n",
       "      <td>11 जनवरी सन्‌ 1966 को इस महान पुरुष का ताशकंद ...</td>\n",
       "      <td>2</td>\n",
       "      <td>4</td>\n",
       "    </tr>\n",
       "    <tr>\n",
       "      <th>18275</th>\n",
       "      <td>मरणोपरांत सन्‌ 1966 में उन्हें भारत के सर्वोच्...</td>\n",
       "      <td>1</td>\n",
       "      <td>4</td>\n",
       "    </tr>\n",
       "    <tr>\n",
       "      <th>18276</th>\n",
       "      <td>राष्ट्र के विजयी प्रधानमंत्री होने के नाते उनक...</td>\n",
       "      <td>4</td>\n",
       "      <td>4</td>\n",
       "    </tr>\n",
       "    <tr>\n",
       "      <th>18277</th>\n",
       "      <td>सरदार वल्लभभाई पटेल का जन्म 31 अक्टूबर 1875 को...</td>\n",
       "      <td>4</td>\n",
       "      <td>4</td>\n",
       "    </tr>\n",
       "    <tr>\n",
       "      <th>...</th>\n",
       "      <td>...</td>\n",
       "      <td>...</td>\n",
       "      <td>...</td>\n",
       "    </tr>\n",
       "    <tr>\n",
       "      <th>20299</th>\n",
       "      <td>फिर यहाँ सर्दी हो जाती है</td>\n",
       "      <td>4</td>\n",
       "      <td>4</td>\n",
       "    </tr>\n",
       "    <tr>\n",
       "      <th>20300</th>\n",
       "      <td>दिन-भर मैं यह देखती रहती हूँ कि धूप का टुकड़ा क...</td>\n",
       "      <td>4</td>\n",
       "      <td>4</td>\n",
       "    </tr>\n",
       "    <tr>\n",
       "      <th>20301</th>\n",
       "      <td>पार्क का कोई ऐसा कोना नहीं, जहाँ मैं घड़ी-आधा घ...</td>\n",
       "      <td>4</td>\n",
       "      <td>4</td>\n",
       "    </tr>\n",
       "    <tr>\n",
       "      <th>20302</th>\n",
       "      <td>लेकिन यह बेंच मुझे सबसे अच्छी लगती है</td>\n",
       "      <td>1</td>\n",
       "      <td>4</td>\n",
       "    </tr>\n",
       "    <tr>\n",
       "      <th>20303</th>\n",
       "      <td>एक तो इस पर पत्ते नहीं झरते और दूसरे... अरे, आ...</td>\n",
       "      <td>4</td>\n",
       "      <td>4</td>\n",
       "    </tr>\n",
       "  </tbody>\n",
       "</table>\n",
       "<p>2031 rows × 3 columns</p>\n",
       "</div>"
      ],
      "text/plain": [
       "                                               Sentences  Annotation  \\\n",
       "18273  भारत की जनता के लिए यह दुर्भाग्य ही रहा कि ताश...           2   \n",
       "18274  11 जनवरी सन्‌ 1966 को इस महान पुरुष का ताशकंद ...           2   \n",
       "18275  मरणोपरांत सन्‌ 1966 में उन्हें भारत के सर्वोच्...           1   \n",
       "18276  राष्ट्र के विजयी प्रधानमंत्री होने के नाते उनक...           4   \n",
       "18277  सरदार वल्लभभाई पटेल का जन्म 31 अक्टूबर 1875 को...           4   \n",
       "...                                                  ...         ...   \n",
       "20299                          फिर यहाँ सर्दी हो जाती है           4   \n",
       "20300  दिन-भर मैं यह देखती रहती हूँ कि धूप का टुकड़ा क...           4   \n",
       "20301  पार्क का कोई ऐसा कोना नहीं, जहाँ मैं घड़ी-आधा घ...           4   \n",
       "20302              लेकिन यह बेंच मुझे सबसे अच्छी लगती है           1   \n",
       "20303  एक तो इस पर पत्ते नहीं झरते और दूसरे... अरे, आ...           4   \n",
       "\n",
       "       pred_labels  \n",
       "18273            4  \n",
       "18274            4  \n",
       "18275            4  \n",
       "18276            4  \n",
       "18277            4  \n",
       "...            ...  \n",
       "20299            4  \n",
       "20300            4  \n",
       "20301            4  \n",
       "20302            4  \n",
       "20303            4  \n",
       "\n",
       "[2031 rows x 3 columns]"
      ]
     },
     "execution_count": 58,
     "metadata": {},
     "output_type": "execute_result"
    }
   ],
   "source": [
    "val_pd"
   ]
  },
  {
   "cell_type": "code",
   "execution_count": 59,
   "id": "764b235b-41f9-40c0-bbd4-acac0bc93ce7",
   "metadata": {},
   "outputs": [
    {
     "data": {
      "text/plain": [
       "4    1966\n",
       "2      56\n",
       "1       5\n",
       "0       3\n",
       "3       1\n",
       "Name: pred_labels, dtype: int64"
      ]
     },
     "execution_count": 59,
     "metadata": {},
     "output_type": "execute_result"
    }
   ],
   "source": [
    "val_pd['pred_labels'].value_counts()"
   ]
  },
  {
   "cell_type": "code",
   "execution_count": 60,
   "id": "d0bda131-dfda-4ba3-b177-25963af7581c",
   "metadata": {},
   "outputs": [
    {
     "data": {
      "text/plain": [
       "4    1206\n",
       "2     403\n",
       "1     229\n",
       "3     100\n",
       "0      93\n",
       "Name: Annotation, dtype: int64"
      ]
     },
     "execution_count": 60,
     "metadata": {},
     "output_type": "execute_result"
    }
   ],
   "source": [
    "val_pd['Annotation'].value_counts()"
   ]
  },
  {
   "cell_type": "code",
   "execution_count": 61,
   "id": "5a67cbd7-6fd4-4a52-b996-8e225999cc61",
   "metadata": {},
   "outputs": [],
   "source": [
    "from sklearn.metrics import classification_report"
   ]
  },
  {
   "cell_type": "code",
   "execution_count": 62,
   "id": "499e6d45-ea6a-42a8-b397-0ef2aef78113",
   "metadata": {},
   "outputs": [
    {
     "name": "stdout",
     "output_type": "stream",
     "text": [
      "              precision    recall  f1-score   support\n",
      "\n",
      "           0       0.00      0.00      0.00        93\n",
      "           1       1.00      0.02      0.04       229\n",
      "           2       0.45      0.06      0.11       403\n",
      "           3       1.00      0.01      0.02       100\n",
      "           4       0.60      0.98      0.75      1206\n",
      "\n",
      "    accuracy                           0.60      2031\n",
      "   macro avg       0.61      0.22      0.18      2031\n",
      "weighted avg       0.61      0.60      0.47      2031\n",
      "\n"
     ]
    }
   ],
   "source": [
    "print (classification_report(val_pd['Annotation'], val_pd['pred_labels']))"
   ]
  },
  {
   "cell_type": "markdown",
   "id": "63ec0b04-77ca-4b23-b0da-caa4ee9b0fe1",
   "metadata": {},
   "source": [
    "### LSTM"
   ]
  },
  {
   "cell_type": "code",
   "execution_count": 24,
   "id": "0313d047-0b46-4710-9496-1f0ca4b96f20",
   "metadata": {},
   "outputs": [],
   "source": [
    "embedding_layer = layers.Embedding(\n",
    "    num_tokens,\n",
    "    embedding_dim,\n",
    "    embeddings_initializer=tf.keras.initializers.Constant(embedding_matrix),\n",
    "    trainable=False,\n",
    ")"
   ]
  },
  {
   "cell_type": "code",
   "execution_count": 45,
   "id": "33e1f727-af29-43b1-a332-e4ddc1734b0c",
   "metadata": {},
   "outputs": [],
   "source": [
    "model = tf.keras.Sequential([\n",
    "    embedding_layer,\n",
    "    tf.keras.layers.LSTM(32),\n",
    "    layers.Dense(16, activation='relu'),\n",
    "    layers.Dense(5, activation = 'softmax')\n",
    "])"
   ]
  },
  {
   "cell_type": "code",
   "execution_count": 46,
   "id": "d281a743-6eb1-4c9b-a2c5-60b8233cee0b",
   "metadata": {},
   "outputs": [],
   "source": [
    "model.compile(loss=losses.SparseCategoricalCrossentropy(),\n",
    "              optimizer='adam',\n",
    "              metrics=tf.metrics.SparseCategoricalAccuracy())"
   ]
  },
  {
   "cell_type": "code",
   "execution_count": 47,
   "id": "3997dd31-44f3-45c8-abf2-e0f3b0addabd",
   "metadata": {},
   "outputs": [
    {
     "name": "stdout",
     "output_type": "stream",
     "text": [
      "Epoch 1/20\n",
      "1143/1143 [==============================] - 45s 39ms/step - loss: 1.2495 - sparse_categorical_accuracy: 0.5733 - val_loss: 1.2225 - val_sparse_categorical_accuracy: 0.5938\n",
      "Epoch 2/20\n",
      "1143/1143 [==============================] - 43s 38ms/step - loss: 1.2370 - sparse_categorical_accuracy: 0.5741 - val_loss: 1.2142 - val_sparse_categorical_accuracy: 0.5938\n",
      "Epoch 3/20\n",
      "1143/1143 [==============================] - 43s 37ms/step - loss: 1.2376 - sparse_categorical_accuracy: 0.5734 - val_loss: 1.2205 - val_sparse_categorical_accuracy: 0.5938\n",
      "Epoch 4/20\n",
      "1143/1143 [==============================] - 41s 36ms/step - loss: 1.2423 - sparse_categorical_accuracy: 0.5741 - val_loss: 1.2257 - val_sparse_categorical_accuracy: 0.5938\n",
      "Epoch 5/20\n",
      "1143/1143 [==============================] - 41s 36ms/step - loss: 1.2432 - sparse_categorical_accuracy: 0.5741 - val_loss: 1.2270 - val_sparse_categorical_accuracy: 0.5938\n",
      "Epoch 6/20\n",
      "1143/1143 [==============================] - 41s 36ms/step - loss: 1.2437 - sparse_categorical_accuracy: 0.5741 - val_loss: 1.2281 - val_sparse_categorical_accuracy: 0.5938\n",
      "Epoch 7/20\n",
      "1143/1143 [==============================] - 42s 37ms/step - loss: 1.2396 - sparse_categorical_accuracy: 0.5740 - val_loss: 1.2271 - val_sparse_categorical_accuracy: 0.5938\n",
      "Epoch 8/20\n",
      "1143/1143 [==============================] - 42s 37ms/step - loss: 1.2430 - sparse_categorical_accuracy: 0.5741 - val_loss: 1.2260 - val_sparse_categorical_accuracy: 0.5938\n",
      "Epoch 9/20\n",
      "1143/1143 [==============================] - 45s 39ms/step - loss: 1.2435 - sparse_categorical_accuracy: 0.5741 - val_loss: 1.2298 - val_sparse_categorical_accuracy: 0.5938\n",
      "Epoch 10/20\n",
      "1143/1143 [==============================] - 43s 38ms/step - loss: 1.2438 - sparse_categorical_accuracy: 0.5741 - val_loss: 1.2277 - val_sparse_categorical_accuracy: 0.5938\n",
      "Epoch 11/20\n",
      "1143/1143 [==============================] - 43s 38ms/step - loss: 1.2469 - sparse_categorical_accuracy: 0.5741 - val_loss: 1.2312 - val_sparse_categorical_accuracy: 0.5938\n",
      "Epoch 12/20\n",
      "1143/1143 [==============================] - 43s 38ms/step - loss: 1.2363 - sparse_categorical_accuracy: 0.5741 - val_loss: 1.2381 - val_sparse_categorical_accuracy: 0.5938\n",
      "Epoch 13/20\n",
      "1143/1143 [==============================] - 43s 38ms/step - loss: 1.2513 - sparse_categorical_accuracy: 0.5741 - val_loss: 1.2325 - val_sparse_categorical_accuracy: 0.5938\n",
      "Epoch 14/20\n",
      "1143/1143 [==============================] - 44s 38ms/step - loss: 1.2499 - sparse_categorical_accuracy: 0.5741 - val_loss: 1.2313 - val_sparse_categorical_accuracy: 0.5938\n",
      "Epoch 15/20\n",
      "1143/1143 [==============================] - 44s 39ms/step - loss: 1.2500 - sparse_categorical_accuracy: 0.5741 - val_loss: 1.2214 - val_sparse_categorical_accuracy: 0.5938\n",
      "Epoch 16/20\n",
      "1143/1143 [==============================] - 44s 39ms/step - loss: 1.2340 - sparse_categorical_accuracy: 0.5741 - val_loss: 1.2200 - val_sparse_categorical_accuracy: 0.5938\n",
      "Epoch 17/20\n",
      "1143/1143 [==============================] - 45s 39ms/step - loss: 1.2336 - sparse_categorical_accuracy: 0.5741 - val_loss: 1.2265 - val_sparse_categorical_accuracy: 0.5938\n",
      "Epoch 18/20\n",
      "1143/1143 [==============================] - 45s 39ms/step - loss: 1.2453 - sparse_categorical_accuracy: 0.5741 - val_loss: 1.2416 - val_sparse_categorical_accuracy: 0.5938\n",
      "Epoch 19/20\n",
      "1143/1143 [==============================] - 46s 40ms/step - loss: 1.2516 - sparse_categorical_accuracy: 0.5741 - val_loss: 1.2312 - val_sparse_categorical_accuracy: 0.5938\n",
      "Epoch 20/20\n",
      "1143/1143 [==============================] - 46s 40ms/step - loss: 1.2499 - sparse_categorical_accuracy: 0.5741 - val_loss: 1.2298 - val_sparse_categorical_accuracy: 0.5938\n"
     ]
    }
   ],
   "source": [
    "epochs = 20\n",
    "history = model.fit(\n",
    "    train_ds,\n",
    "    validation_data=val_ds,\n",
    "    epochs=epochs)"
   ]
  },
  {
   "cell_type": "code",
   "execution_count": 48,
   "id": "d947588e-460d-4c1b-9b26-a8e2c0b7b57c",
   "metadata": {},
   "outputs": [
    {
     "data": {
      "image/png": "[encoded data removed]",
      "text/plain": [
       "<Figure size 432x288 with 1 Axes>"
      ]
     },
     "metadata": {
      "needs_background": "light"
     },
     "output_type": "display_data"
    }
   ],
   "source": [
    "from matplotlib import pyplot as plt\n",
    "plt.plot(history.history['loss'])\n",
    "plt.plot(history.history['val_loss'])\n",
    "plt.title('model loss')\n",
    "plt.ylabel('loss')\n",
    "plt.xlabel('epoch')\n",
    "plt.legend(['train', 'val'], loc='upper left')\n",
    "plt.show()"
   ]
  },
  {
   "cell_type": "code",
   "execution_count": null,
   "id": "01ac70f8-76d7-4ede-b75b-89cc1052049f",
   "metadata": {},
   "outputs": [],
   "source": []
  }
 ],
 "metadata": {
  "kernelspec": {
   "display_name": "Python 3 (ipykernel)",
   "language": "python",
   "name": "python3"
  },
  "language_info": {
   "codemirror_mode": {
    "name": "ipython",
    "version": 3
   },
   "file_extension": ".py",
   "mimetype": "text/x-python",
   "name": "python",
   "nbconvert_exporter": "python",
   "pygments_lexer": "ipython3",
   "version": "3.9.7"
  }
 },
 "nbformat": 4,
 "nbformat_minor": 5
}
