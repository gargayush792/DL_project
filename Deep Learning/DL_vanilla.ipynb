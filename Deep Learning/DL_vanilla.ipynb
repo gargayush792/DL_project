{
 "cells": [
  {
   "cell_type": "code",
   "execution_count": 1,
   "id": "ce85cb08-d95f-4146-9458-fb65fc5fba5b",
   "metadata": {},
   "outputs": [],
   "source": [
    "import pandas as pd\n",
    "import numpy as np"
   ]
  },
  {
   "cell_type": "code",
   "execution_count": 2,
   "id": "eb51662b-a7ac-4774-8317-68a4a2c1b4dd",
   "metadata": {},
   "outputs": [],
   "source": [
    "import tensorflow as tf\n",
    "from tensorflow.keras import layers\n",
    "from tensorflow.keras import losses"
   ]
  },
  {
   "cell_type": "markdown",
   "id": "c002ff79-8466-4035-adf3-eea69db9ac5a",
   "metadata": {},
   "source": [
    "### Dataset reading and annotations"
   ]
  },
  {
   "cell_type": "code",
   "execution_count": 3,
   "id": "384e8bb7-1398-415f-a5ba-13cb95ba5e7a",
   "metadata": {},
   "outputs": [],
   "source": [
    "dataset = pd.read_csv('../Data/Bhaav-Dataset.csv')"
   ]
  },
  {
   "cell_type": "code",
   "execution_count": 4,
   "id": "a9cbcb5b-a097-4886-9ff2-1ec24ea1002e",
   "metadata": {},
   "outputs": [
    {
     "data": {
      "text/html": [
       "<div>\n",
       "<style scoped>\n",
       "    .dataframe tbody tr th:only-of-type {\n",
       "        vertical-align: middle;\n",
       "    }\n",
       "\n",
       "    .dataframe tbody tr th {\n",
       "        vertical-align: top;\n",
       "    }\n",
       "\n",
       "    .dataframe thead th {\n",
       "        text-align: right;\n",
       "    }\n",
       "</style>\n",
       "<table border=\"1\" class=\"dataframe\">\n",
       "  <thead>\n",
       "    <tr style=\"text-align: right;\">\n",
       "      <th></th>\n",
       "      <th>Sentences</th>\n",
       "      <th>Annotation</th>\n",
       "    </tr>\n",
       "  </thead>\n",
       "  <tbody>\n",
       "    <tr>\n",
       "      <th>0</th>\n",
       "      <td>रमजान के पूरे तीस रोजों के बाद ईद आयी है</td>\n",
       "      <td>1</td>\n",
       "    </tr>\n",
       "    <tr>\n",
       "      <th>1</th>\n",
       "      <td>कितना मनोहर, कितना सुहावना प्रभाव है</td>\n",
       "      <td>1</td>\n",
       "    </tr>\n",
       "    <tr>\n",
       "      <th>2</th>\n",
       "      <td>वृक्षों पर अजीब हरियाली है, खेतों में कुछ अजीब...</td>\n",
       "      <td>1</td>\n",
       "    </tr>\n",
       "    <tr>\n",
       "      <th>3</th>\n",
       "      <td>आज का सूर्य देखो, कितना प्यारा, कितना शीतल है,...</td>\n",
       "      <td>1</td>\n",
       "    </tr>\n",
       "    <tr>\n",
       "      <th>4</th>\n",
       "      <td>गाँव में कितनी हलचल है</td>\n",
       "      <td>1</td>\n",
       "    </tr>\n",
       "    <tr>\n",
       "      <th>...</th>\n",
       "      <td>...</td>\n",
       "      <td>...</td>\n",
       "    </tr>\n",
       "    <tr>\n",
       "      <th>20299</th>\n",
       "      <td>फिर यहाँ सर्दी हो जाती है</td>\n",
       "      <td>4</td>\n",
       "    </tr>\n",
       "    <tr>\n",
       "      <th>20300</th>\n",
       "      <td>दिन-भर मैं यह देखती रहती हूँ कि धूप का टुकड़ा क...</td>\n",
       "      <td>4</td>\n",
       "    </tr>\n",
       "    <tr>\n",
       "      <th>20301</th>\n",
       "      <td>पार्क का कोई ऐसा कोना नहीं, जहाँ मैं घड़ी-आधा घ...</td>\n",
       "      <td>4</td>\n",
       "    </tr>\n",
       "    <tr>\n",
       "      <th>20302</th>\n",
       "      <td>लेकिन यह बेंच मुझे सबसे अच्छी लगती है</td>\n",
       "      <td>1</td>\n",
       "    </tr>\n",
       "    <tr>\n",
       "      <th>20303</th>\n",
       "      <td>एक तो इस पर पत्ते नहीं झरते और दूसरे... अरे, आ...</td>\n",
       "      <td>4</td>\n",
       "    </tr>\n",
       "  </tbody>\n",
       "</table>\n",
       "<p>20304 rows × 2 columns</p>\n",
       "</div>"
      ],
      "text/plain": [
       "                                               Sentences  Annotation\n",
       "0               रमजान के पूरे तीस रोजों के बाद ईद आयी है           1\n",
       "1                   कितना मनोहर, कितना सुहावना प्रभाव है           1\n",
       "2      वृक्षों पर अजीब हरियाली है, खेतों में कुछ अजीब...           1\n",
       "3      आज का सूर्य देखो, कितना प्यारा, कितना शीतल है,...           1\n",
       "4                                 गाँव में कितनी हलचल है           1\n",
       "...                                                  ...         ...\n",
       "20299                          फिर यहाँ सर्दी हो जाती है           4\n",
       "20300  दिन-भर मैं यह देखती रहती हूँ कि धूप का टुकड़ा क...           4\n",
       "20301  पार्क का कोई ऐसा कोना नहीं, जहाँ मैं घड़ी-आधा घ...           4\n",
       "20302              लेकिन यह बेंच मुझे सबसे अच्छी लगती है           1\n",
       "20303  एक तो इस पर पत्ते नहीं झरते और दूसरे... अरे, आ...           4\n",
       "\n",
       "[20304 rows x 2 columns]"
      ]
     },
     "execution_count": 4,
     "metadata": {},
     "output_type": "execute_result"
    }
   ],
   "source": [
    "dataset"
   ]
  },
  {
   "cell_type": "code",
   "execution_count": 5,
   "id": "237e9358-3dad-4b5e-9468-16287707ba12",
   "metadata": {},
   "outputs": [
    {
     "data": {
      "text/plain": [
       "4    11697\n",
       "2     3168\n",
       "1     2463\n",
       "3     1512\n",
       "0     1464\n",
       "Name: Annotation, dtype: int64"
      ]
     },
     "execution_count": 5,
     "metadata": {},
     "output_type": "execute_result"
    }
   ],
   "source": [
    "dataset['Annotation'].value_counts()"
   ]
  },
  {
   "cell_type": "code",
   "execution_count": 6,
   "id": "1f27047c-43c9-49c6-9007-1579d6137eec",
   "metadata": {},
   "outputs": [],
   "source": [
    "dataset['Emotion'] = np.where(\n",
    "    dataset['Annotation'] == 0, 'Anger', np.where(\n",
    "        dataset['Annotation'] == 1, 'Joy', np.where(\n",
    "            dataset['Annotation'] == 2, 'Sad', np.where(\n",
    "                dataset['Annotation'] == 3, 'Suspense', 'Neutral'))))"
   ]
  },
  {
   "cell_type": "code",
   "execution_count": 7,
   "id": "a51aa701-b563-405b-b465-bf49a47c7b80",
   "metadata": {},
   "outputs": [
    {
     "data": {
      "text/plain": [
       "Neutral     11697\n",
       "Sad          3168\n",
       "Joy          2463\n",
       "Suspense     1512\n",
       "Anger        1464\n",
       "Name: Emotion, dtype: int64"
      ]
     },
     "execution_count": 7,
     "metadata": {},
     "output_type": "execute_result"
    }
   ],
   "source": [
    "dataset['Emotion'].value_counts()"
   ]
  },
  {
   "cell_type": "markdown",
   "id": "9fecd383-4370-4566-9b1b-f6deb0f7cb0f",
   "metadata": {
    "tags": []
   },
   "source": [
    "### Convert to TF Dataset and Train/Test Split"
   ]
  },
  {
   "cell_type": "code",
   "execution_count": 8,
   "id": "ec8f2ee8-2300-415f-a19e-786909bd1759",
   "metadata": {},
   "outputs": [
    {
     "name": "stderr",
     "output_type": "stream",
     "text": [
      "2022-04-28 19:24:34.292201: I tensorflow/core/platform/cpu_feature_guard.cc:151] This TensorFlow binary is optimized with oneAPI Deep Neural Network Library (oneDNN) to use the following CPU instructions in performance-critical operations:  AVX2 FMA\n",
      "To enable them in other operations, rebuild TensorFlow with the appropriate compiler flags.\n"
     ]
    }
   ],
   "source": [
    "full_dataset = (\n",
    "    tf.data.Dataset.from_tensor_slices(\n",
    "        (\n",
    "            tf.cast(dataset['Sentences'].values, tf.string),\n",
    "            tf.cast(dataset['Annotation'].values, tf.int32)\n",
    "        )\n",
    "    )\n",
    ")"
   ]
  },
  {
   "cell_type": "code",
   "execution_count": 9,
   "id": "64382e2e-e051-43e2-9a03-e114a526e9ab",
   "metadata": {},
   "outputs": [],
   "source": [
    "train_size = int(dataset.shape[0]*0.9)"
   ]
  },
  {
   "cell_type": "code",
   "execution_count": 10,
   "id": "f792b5c8-4f59-4074-9b0f-9cb6ab07cbfe",
   "metadata": {},
   "outputs": [],
   "source": [
    "train_dataset = full_dataset.take(train_size)\n",
    "test_dataset = full_dataset.skip(train_size)"
   ]
  },
  {
   "cell_type": "code",
   "execution_count": 11,
   "id": "248ac967-7b26-41c7-8c3a-947ce834ac3b",
   "metadata": {},
   "outputs": [],
   "source": [
    "batch_size = 16"
   ]
  },
  {
   "cell_type": "code",
   "execution_count": 12,
   "id": "6ae7c68d-fb19-405b-a7b0-d8131483a7e8",
   "metadata": {},
   "outputs": [],
   "source": [
    "train_dataset = train_dataset.batch(batch_size)\n",
    "test_dataset = test_dataset.batch(batch_size)"
   ]
  },
  {
   "cell_type": "markdown",
   "id": "1438fddd-5d96-4ec1-bd9c-fc74a0482c0a",
   "metadata": {
    "tags": []
   },
   "source": [
    "### Preprocessing\n",
    "* Tokenisation\n",
    "* Punctuation Removal\n",
    "* Embed words to ints"
   ]
  },
  {
   "cell_type": "code",
   "execution_count": 13,
   "id": "c1114402-d634-409b-8420-797942388f6d",
   "metadata": {},
   "outputs": [],
   "source": [
    "max_features = 10000\n",
    "sequence_length = 100\n",
    "\n",
    "vectorize_layer = layers.TextVectorization(\n",
    "    standardize=\"strip_punctuation\",\n",
    "    max_tokens=max_features,\n",
    "    output_mode='int',\n",
    "    output_sequence_length=sequence_length)"
   ]
  },
  {
   "cell_type": "code",
   "execution_count": 14,
   "id": "147159a3-0b5b-4896-86d7-c30bdeb28900",
   "metadata": {},
   "outputs": [],
   "source": [
    "train_text = train_dataset.map(lambda x, y: x)"
   ]
  },
  {
   "cell_type": "code",
   "execution_count": 15,
   "id": "d49630a4-1c4e-4fc9-8285-748ac20699cf",
   "metadata": {},
   "outputs": [],
   "source": [
    "vectorize_layer.adapt(train_text)"
   ]
  },
  {
   "cell_type": "code",
   "execution_count": 16,
   "id": "478b0089-ab6e-4ebc-af91-58f00e4d1780",
   "metadata": {},
   "outputs": [],
   "source": [
    "def vectorize_text(text, label):\n",
    "    text = tf.expand_dims(text, -1)\n",
    "    return vectorize_layer(text), label"
   ]
  },
  {
   "cell_type": "code",
   "execution_count": 17,
   "id": "3333c0bf-f223-4506-97df-f63760de6253",
   "metadata": {},
   "outputs": [
    {
     "name": "stdout",
     "output_type": "stream",
     "text": [
      "Review tf.Tensor(b'\\xe0\\xa4\\xb0\\xe0\\xa4\\xae\\xe0\\xa4\\x9c\\xe0\\xa4\\xbe\\xe0\\xa4\\xa8 \\xe0\\xa4\\x95\\xe0\\xa5\\x87 \\xe0\\xa4\\xaa\\xe0\\xa5\\x82\\xe0\\xa4\\xb0\\xe0\\xa5\\x87 \\xe0\\xa4\\xa4\\xe0\\xa5\\x80\\xe0\\xa4\\xb8 \\xe0\\xa4\\xb0\\xe0\\xa5\\x8b\\xe0\\xa4\\x9c\\xe0\\xa5\\x8b\\xe0\\xa4\\x82 \\xe0\\xa4\\x95\\xe0\\xa5\\x87 \\xe0\\xa4\\xac\\xe0\\xa4\\xbe\\xe0\\xa4\\xa6 \\xe0\\xa4\\x88\\xe0\\xa4\\xa6 \\xe0\\xa4\\x86\\xe0\\xa4\\xaf\\xe0\\xa5\\x80 \\xe0\\xa4\\xb9\\xe0\\xa5\\x88', shape=(), dtype=string)\n",
      "Label tf.Tensor(1, shape=(), dtype=int32)\n",
      "Vectorized review (<tf.Tensor: shape=(1, 100), dtype=int64, numpy=\n",
      "array([[   1,    2,  811, 3149,    1,    2,   74, 2473,  351,    7,    0,\n",
      "           0,    0,    0,    0,    0,    0,    0,    0,    0,    0,    0,\n",
      "           0,    0,    0,    0,    0,    0,    0,    0,    0,    0,    0,\n",
      "           0,    0,    0,    0,    0,    0,    0,    0,    0,    0,    0,\n",
      "           0,    0,    0,    0,    0,    0,    0,    0,    0,    0,    0,\n",
      "           0,    0,    0,    0,    0,    0,    0,    0,    0,    0,    0,\n",
      "           0,    0,    0,    0,    0,    0,    0,    0,    0,    0,    0,\n",
      "           0,    0,    0,    0,    0,    0,    0,    0,    0,    0,    0,\n",
      "           0,    0,    0,    0,    0,    0,    0,    0,    0,    0,    0,\n",
      "           0]])>, <tf.Tensor: shape=(), dtype=int32, numpy=1>)\n"
     ]
    }
   ],
   "source": [
    "text_batch, label_batch = next(iter(train_dataset))\n",
    "first_review, first_label = text_batch[0], label_batch[0]\n",
    "print(\"Review\", first_review)\n",
    "print(\"Label\", first_label)\n",
    "print(\"Vectorized review\", vectorize_text(first_review, first_label))"
   ]
  },
  {
   "cell_type": "code",
   "execution_count": 18,
   "id": "c83979e3-3281-46a3-80b0-74f2cccbb2f6",
   "metadata": {},
   "outputs": [],
   "source": [
    "train_ds = train_dataset.map(vectorize_text)\n",
    "val_ds = test_dataset.map(vectorize_text)"
   ]
  },
  {
   "cell_type": "code",
   "execution_count": 19,
   "id": "3916d145-ab0d-4ee9-961b-b9c44d394ce0",
   "metadata": {},
   "outputs": [],
   "source": [
    "embedding_dim = 64"
   ]
  },
  {
   "cell_type": "markdown",
   "id": "b3ae4111-180e-405a-a822-71705acf6c54",
   "metadata": {},
   "source": [
    "### Model definition"
   ]
  },
  {
   "cell_type": "code",
   "execution_count": 20,
   "id": "2440b664-63e4-4cdd-bf6d-8b86fb91b660",
   "metadata": {},
   "outputs": [
    {
     "name": "stdout",
     "output_type": "stream",
     "text": [
      "Model: \"sequential\"\n",
      "_________________________________________________________________\n",
      " Layer (type)                Output Shape              Param #   \n",
      "=================================================================\n",
      " embedding (Embedding)       (None, None, 64)          640064    \n",
      "                                                                 \n",
      " dropout (Dropout)           (None, None, 64)          0         \n",
      "                                                                 \n",
      " global_average_pooling1d (G  (None, 64)               0         \n",
      " lobalAveragePooling1D)                                          \n",
      "                                                                 \n",
      " dropout_1 (Dropout)         (None, 64)                0         \n",
      "                                                                 \n",
      " dense (Dense)               (None, 5)                 325       \n",
      "                                                                 \n",
      "=================================================================\n",
      "Total params: 640,389\n",
      "Trainable params: 640,389\n",
      "Non-trainable params: 0\n",
      "_________________________________________________________________\n"
     ]
    }
   ],
   "source": [
    "model = tf.keras.Sequential([\n",
    "  layers.Embedding(max_features + 1, embedding_dim),\n",
    "  layers.Dropout(0.2),\n",
    "  layers.GlobalAveragePooling1D(),\n",
    "  layers.Dropout(0.2),\n",
    "  layers.Dense(5, activation='softmax')])\n",
    "\n",
    "model.summary()"
   ]
  },
  {
   "cell_type": "code",
   "execution_count": 21,
   "id": "83d900a6-dc69-4185-8d16-bcc99a3e9adf",
   "metadata": {},
   "outputs": [],
   "source": [
    "model.compile(loss=losses.SparseCategoricalCrossentropy(),\n",
    "              optimizer='adam',\n",
    "              metrics=tf.metrics.SparseCategoricalAccuracy())"
   ]
  },
  {
   "cell_type": "code",
   "execution_count": 22,
   "id": "79b17591-4c99-446d-891e-5af7eccd308c",
   "metadata": {
    "scrolled": true,
    "tags": []
   },
   "outputs": [
    {
     "name": "stdout",
     "output_type": "stream",
     "text": [
      "Epoch 1/10\n",
      "1143/1143 [==============================] - 4s 4ms/step - loss: 1.2454 - sparse_categorical_accuracy: 0.5724 - val_loss: 1.2212 - val_sparse_categorical_accuracy: 0.5938\n",
      "Epoch 2/10\n",
      "1143/1143 [==============================] - 4s 4ms/step - loss: 1.2304 - sparse_categorical_accuracy: 0.5741 - val_loss: 1.2133 - val_sparse_categorical_accuracy: 0.5938\n",
      "Epoch 3/10\n",
      "1143/1143 [==============================] - 4s 3ms/step - loss: 1.2170 - sparse_categorical_accuracy: 0.5740 - val_loss: 1.2023 - val_sparse_categorical_accuracy: 0.5938\n",
      "Epoch 4/10\n",
      "1143/1143 [==============================] - 4s 4ms/step - loss: 1.1998 - sparse_categorical_accuracy: 0.5739 - val_loss: 1.1884 - val_sparse_categorical_accuracy: 0.5938\n",
      "Epoch 5/10\n",
      "1143/1143 [==============================] - 5s 4ms/step - loss: 1.1780 - sparse_categorical_accuracy: 0.5742 - val_loss: 1.1719 - val_sparse_categorical_accuracy: 0.5938\n",
      "Epoch 6/10\n",
      "1143/1143 [==============================] - 5s 4ms/step - loss: 1.1501 - sparse_categorical_accuracy: 0.5771 - val_loss: 1.1524 - val_sparse_categorical_accuracy: 0.5948\n",
      "Epoch 7/10\n",
      "1143/1143 [==============================] - 4s 3ms/step - loss: 1.1157 - sparse_categorical_accuracy: 0.5838 - val_loss: 1.1319 - val_sparse_categorical_accuracy: 0.5948\n",
      "Epoch 8/10\n",
      "1143/1143 [==============================] - 4s 3ms/step - loss: 1.0771 - sparse_categorical_accuracy: 0.5943 - val_loss: 1.1155 - val_sparse_categorical_accuracy: 0.5938\n",
      "Epoch 9/10\n",
      "1143/1143 [==============================] - 4s 3ms/step - loss: 1.0364 - sparse_categorical_accuracy: 0.6092 - val_loss: 1.1044 - val_sparse_categorical_accuracy: 0.5987\n",
      "Epoch 10/10\n",
      "1143/1143 [==============================] - 4s 3ms/step - loss: 0.9949 - sparse_categorical_accuracy: 0.6251 - val_loss: 1.0964 - val_sparse_categorical_accuracy: 0.5928\n"
     ]
    }
   ],
   "source": [
    "epochs = 10\n",
    "history = model.fit(\n",
    "    train_ds,\n",
    "    validation_data=val_ds,\n",
    "    epochs=epochs)"
   ]
  },
  {
   "cell_type": "code",
   "execution_count": 23,
   "id": "5c37acb6-ee01-44a1-a57b-5d00fa84a236",
   "metadata": {},
   "outputs": [
    {
     "data": {
      "image/png": "[encoded data removed]",
      "text/plain": [
       "<Figure size 432x288 with 1 Axes>"
      ]
     },
     "metadata": {
      "needs_background": "light"
     },
     "output_type": "display_data"
    }
   ],
   "source": [
    "from matplotlib import pyplot as plt\n",
    "plt.plot(history.history['loss'])\n",
    "plt.plot(history.history['val_loss'])\n",
    "plt.title('model loss')\n",
    "plt.ylabel('loss')\n",
    "plt.xlabel('epoch')\n",
    "plt.legend(['train', 'val'], loc='upper left')\n",
    "plt.show()"
   ]
  },
  {
   "cell_type": "code",
   "execution_count": 24,
   "id": "76cb20b2-be01-468f-a17f-7e03e5e38568",
   "metadata": {},
   "outputs": [],
   "source": [
    "val_softmax = model.predict(val_ds)"
   ]
  },
  {
   "cell_type": "code",
   "execution_count": 25,
   "id": "d2f6ad9e-401c-4068-ad38-a98a096b640d",
   "metadata": {},
   "outputs": [],
   "source": [
    "val_labels = np.argmax(val_softmax, axis=1)"
   ]
  },
  {
   "cell_type": "code",
   "execution_count": 26,
   "id": "40de48b2-325a-43f3-999d-69cf8adcf761",
   "metadata": {},
   "outputs": [],
   "source": [
    "val_pd = dataset[train_size:]"
   ]
  },
  {
   "cell_type": "code",
   "execution_count": 27,
   "id": "6eadc6bb-59e0-427a-8ff3-6532cab3bbcf",
   "metadata": {},
   "outputs": [
    {
     "name": "stderr",
     "output_type": "stream",
     "text": [
      "/var/folders/t_/jx0zym4j5mgf__cxw2drjvwm0000gn/T/ipykernel_56966/905541298.py:1: SettingWithCopyWarning: \n",
      "A value is trying to be set on a copy of a slice from a DataFrame.\n",
      "Try using .loc[row_indexer,col_indexer] = value instead\n",
      "\n",
      "See the caveats in the documentation: https://pandas.pydata.org/pandas-docs/stable/user_guide/indexing.html#returning-a-view-versus-a-copy\n",
      "  val_pd['pred_labels'] = val_labels\n"
     ]
    }
   ],
   "source": [
    "val_pd['pred_labels'] = val_labels"
   ]
  },
  {
   "cell_type": "code",
   "execution_count": 28,
   "id": "b32812db-b79c-4f30-b9b9-f439a22df6d4",
   "metadata": {},
   "outputs": [
    {
     "data": {
      "text/html": [
       "<div>\n",
       "<style scoped>\n",
       "    .dataframe tbody tr th:only-of-type {\n",
       "        vertical-align: middle;\n",
       "    }\n",
       "\n",
       "    .dataframe tbody tr th {\n",
       "        vertical-align: top;\n",
       "    }\n",
       "\n",
       "    .dataframe thead th {\n",
       "        text-align: right;\n",
       "    }\n",
       "</style>\n",
       "<table border=\"1\" class=\"dataframe\">\n",
       "  <thead>\n",
       "    <tr style=\"text-align: right;\">\n",
       "      <th></th>\n",
       "      <th>Sentences</th>\n",
       "      <th>Annotation</th>\n",
       "      <th>Emotion</th>\n",
       "      <th>pred_labels</th>\n",
       "    </tr>\n",
       "  </thead>\n",
       "  <tbody>\n",
       "    <tr>\n",
       "      <th>18273</th>\n",
       "      <td>भारत की जनता के लिए यह दुर्भाग्य ही रहा कि ताश...</td>\n",
       "      <td>2</td>\n",
       "      <td>Sad</td>\n",
       "      <td>4</td>\n",
       "    </tr>\n",
       "    <tr>\n",
       "      <th>18274</th>\n",
       "      <td>11 जनवरी सन्‌ 1966 को इस महान पुरुष का ताशकंद ...</td>\n",
       "      <td>2</td>\n",
       "      <td>Sad</td>\n",
       "      <td>4</td>\n",
       "    </tr>\n",
       "    <tr>\n",
       "      <th>18275</th>\n",
       "      <td>मरणोपरांत सन्‌ 1966 में उन्हें भारत के सर्वोच्...</td>\n",
       "      <td>1</td>\n",
       "      <td>Joy</td>\n",
       "      <td>4</td>\n",
       "    </tr>\n",
       "    <tr>\n",
       "      <th>18276</th>\n",
       "      <td>राष्ट्र के विजयी प्रधानमंत्री होने के नाते उनक...</td>\n",
       "      <td>4</td>\n",
       "      <td>Neutral</td>\n",
       "      <td>4</td>\n",
       "    </tr>\n",
       "    <tr>\n",
       "      <th>18277</th>\n",
       "      <td>सरदार वल्लभभाई पटेल का जन्म 31 अक्टूबर 1875 को...</td>\n",
       "      <td>4</td>\n",
       "      <td>Neutral</td>\n",
       "      <td>4</td>\n",
       "    </tr>\n",
       "    <tr>\n",
       "      <th>...</th>\n",
       "      <td>...</td>\n",
       "      <td>...</td>\n",
       "      <td>...</td>\n",
       "      <td>...</td>\n",
       "    </tr>\n",
       "    <tr>\n",
       "      <th>20299</th>\n",
       "      <td>फिर यहाँ सर्दी हो जाती है</td>\n",
       "      <td>4</td>\n",
       "      <td>Neutral</td>\n",
       "      <td>4</td>\n",
       "    </tr>\n",
       "    <tr>\n",
       "      <th>20300</th>\n",
       "      <td>दिन-भर मैं यह देखती रहती हूँ कि धूप का टुकड़ा क...</td>\n",
       "      <td>4</td>\n",
       "      <td>Neutral</td>\n",
       "      <td>4</td>\n",
       "    </tr>\n",
       "    <tr>\n",
       "      <th>20301</th>\n",
       "      <td>पार्क का कोई ऐसा कोना नहीं, जहाँ मैं घड़ी-आधा घ...</td>\n",
       "      <td>4</td>\n",
       "      <td>Neutral</td>\n",
       "      <td>4</td>\n",
       "    </tr>\n",
       "    <tr>\n",
       "      <th>20302</th>\n",
       "      <td>लेकिन यह बेंच मुझे सबसे अच्छी लगती है</td>\n",
       "      <td>1</td>\n",
       "      <td>Joy</td>\n",
       "      <td>4</td>\n",
       "    </tr>\n",
       "    <tr>\n",
       "      <th>20303</th>\n",
       "      <td>एक तो इस पर पत्ते नहीं झरते और दूसरे... अरे, आ...</td>\n",
       "      <td>4</td>\n",
       "      <td>Neutral</td>\n",
       "      <td>4</td>\n",
       "    </tr>\n",
       "  </tbody>\n",
       "</table>\n",
       "<p>2031 rows × 4 columns</p>\n",
       "</div>"
      ],
      "text/plain": [
       "                                               Sentences  Annotation  Emotion  \\\n",
       "18273  भारत की जनता के लिए यह दुर्भाग्य ही रहा कि ताश...           2      Sad   \n",
       "18274  11 जनवरी सन्‌ 1966 को इस महान पुरुष का ताशकंद ...           2      Sad   \n",
       "18275  मरणोपरांत सन्‌ 1966 में उन्हें भारत के सर्वोच्...           1      Joy   \n",
       "18276  राष्ट्र के विजयी प्रधानमंत्री होने के नाते उनक...           4  Neutral   \n",
       "18277  सरदार वल्लभभाई पटेल का जन्म 31 अक्टूबर 1875 को...           4  Neutral   \n",
       "...                                                  ...         ...      ...   \n",
       "20299                          फिर यहाँ सर्दी हो जाती है           4  Neutral   \n",
       "20300  दिन-भर मैं यह देखती रहती हूँ कि धूप का टुकड़ा क...           4  Neutral   \n",
       "20301  पार्क का कोई ऐसा कोना नहीं, जहाँ मैं घड़ी-आधा घ...           4  Neutral   \n",
       "20302              लेकिन यह बेंच मुझे सबसे अच्छी लगती है           1      Joy   \n",
       "20303  एक तो इस पर पत्ते नहीं झरते और दूसरे... अरे, आ...           4  Neutral   \n",
       "\n",
       "       pred_labels  \n",
       "18273            4  \n",
       "18274            4  \n",
       "18275            4  \n",
       "18276            4  \n",
       "18277            4  \n",
       "...            ...  \n",
       "20299            4  \n",
       "20300            4  \n",
       "20301            4  \n",
       "20302            4  \n",
       "20303            4  \n",
       "\n",
       "[2031 rows x 4 columns]"
      ]
     },
     "execution_count": 28,
     "metadata": {},
     "output_type": "execute_result"
    }
   ],
   "source": [
    "val_pd"
   ]
  },
  {
   "cell_type": "code",
   "execution_count": 29,
   "id": "764b235b-41f9-40c0-bbd4-acac0bc93ce7",
   "metadata": {},
   "outputs": [
    {
     "data": {
      "text/plain": [
       "4    1885\n",
       "2     132\n",
       "1      11\n",
       "0       2\n",
       "3       1\n",
       "Name: pred_labels, dtype: int64"
      ]
     },
     "execution_count": 29,
     "metadata": {},
     "output_type": "execute_result"
    }
   ],
   "source": [
    "val_pd['pred_labels'].value_counts()"
   ]
  },
  {
   "cell_type": "code",
   "execution_count": 30,
   "id": "d0bda131-dfda-4ba3-b177-25963af7581c",
   "metadata": {},
   "outputs": [
    {
     "data": {
      "text/plain": [
       "4    1206\n",
       "2     403\n",
       "1     229\n",
       "3     100\n",
       "0      93\n",
       "Name: Annotation, dtype: int64"
      ]
     },
     "execution_count": 30,
     "metadata": {},
     "output_type": "execute_result"
    }
   ],
   "source": [
    "val_pd['Annotation'].value_counts()"
   ]
  },
  {
   "cell_type": "code",
   "execution_count": 31,
   "id": "01a78b1c-75b4-4e91-9f09-7393f8a88a8b",
   "metadata": {},
   "outputs": [],
   "source": [
    "from sklearn.metrics import classification_report"
   ]
  },
  {
   "cell_type": "code",
   "execution_count": 33,
   "id": "8f099f34-b764-47b9-b90f-539da8bc01e6",
   "metadata": {},
   "outputs": [
    {
     "name": "stdout",
     "output_type": "stream",
     "text": [
      "              precision    recall  f1-score   support\n",
      "\n",
      "           0       0.00      0.00      0.00        93\n",
      "           1       0.82      0.04      0.07       229\n",
      "           2       0.36      0.12      0.18       403\n",
      "           3       1.00      0.01      0.02       100\n",
      "           4       0.61      0.95      0.74      1206\n",
      "\n",
      "    accuracy                           0.59      2031\n",
      "   macro avg       0.56      0.22      0.20      2031\n",
      "weighted avg       0.57      0.59      0.49      2031\n",
      "\n"
     ]
    }
   ],
   "source": [
    "print (classification_report(val_pd['Annotation'], val_pd['pred_labels']))"
   ]
  },
  {
   "cell_type": "markdown",
   "id": "10c1632c-dc32-4e42-aa7e-89aa0ef73396",
   "metadata": {},
   "source": [
    "### LSTM"
   ]
  },
  {
   "cell_type": "code",
   "execution_count": 60,
   "id": "cadb31cd-e970-4554-a3da-b77d43fe95f1",
   "metadata": {},
   "outputs": [],
   "source": [
    "model = tf.keras.Sequential([\n",
    "    layers.Embedding(max_features + 1, embedding_dim, mask_zero=True),\n",
    "    layers.LSTM(4),\n",
    "    layers.Dropout(0.2),\n",
    "    layers.Dense(16, activation='relu'),\n",
    "    layers.Dense(5, activation='softmax')\n",
    "])"
   ]
  },
  {
   "cell_type": "code",
   "execution_count": 61,
   "id": "f40a2eed-af53-4d35-b3e6-0b25fb2629fc",
   "metadata": {},
   "outputs": [],
   "source": [
    "model.compile(loss=losses.SparseCategoricalCrossentropy(),\n",
    "              optimizer='adam',\n",
    "              metrics=tf.metrics.SparseCategoricalAccuracy())"
   ]
  },
  {
   "cell_type": "code",
   "execution_count": 62,
   "id": "64f79a10-a36c-4be1-8d34-c5d9567ddc6c",
   "metadata": {},
   "outputs": [
    {
     "name": "stdout",
     "output_type": "stream",
     "text": [
      "Epoch 1/10\n",
      "1143/1143 [==============================] - 46s 37ms/step - loss: 1.2439 - sparse_categorical_accuracy: 0.5731 - val_loss: 1.1911 - val_sparse_categorical_accuracy: 0.5938\n",
      "Epoch 2/10\n",
      "1143/1143 [==============================] - 42s 37ms/step - loss: 1.1376 - sparse_categorical_accuracy: 0.5848 - val_loss: 1.1600 - val_sparse_categorical_accuracy: 0.5938\n",
      "Epoch 3/10\n",
      "1143/1143 [==============================] - 51s 44ms/step - loss: 1.0255 - sparse_categorical_accuracy: 0.6260 - val_loss: 1.2116 - val_sparse_categorical_accuracy: 0.5711\n",
      "Epoch 4/10\n",
      "1143/1143 [==============================] - 64s 56ms/step - loss: 0.9257 - sparse_categorical_accuracy: 0.6633 - val_loss: 1.3068 - val_sparse_categorical_accuracy: 0.5628\n",
      "Epoch 5/10\n",
      "1143/1143 [==============================] - 75s 65ms/step - loss: 0.8280 - sparse_categorical_accuracy: 0.6975 - val_loss: 1.4143 - val_sparse_categorical_accuracy: 0.5564\n",
      "Epoch 6/10\n",
      "1143/1143 [==============================] - 71s 62ms/step - loss: 0.7487 - sparse_categorical_accuracy: 0.7262 - val_loss: 1.5703 - val_sparse_categorical_accuracy: 0.5564\n",
      "Epoch 7/10\n",
      "1143/1143 [==============================] - 65s 57ms/step - loss: 0.6845 - sparse_categorical_accuracy: 0.7438 - val_loss: 1.6746 - val_sparse_categorical_accuracy: 0.5455\n",
      "Epoch 8/10\n",
      "1143/1143 [==============================] - 42s 37ms/step - loss: 0.6252 - sparse_categorical_accuracy: 0.7645 - val_loss: 1.8327 - val_sparse_categorical_accuracy: 0.5490\n",
      "Epoch 9/10\n",
      "1143/1143 [==============================] - 48s 42ms/step - loss: 0.5732 - sparse_categorical_accuracy: 0.7859 - val_loss: 1.9578 - val_sparse_categorical_accuracy: 0.5401\n",
      "Epoch 10/10\n",
      "1143/1143 [==============================] - 46s 40ms/step - loss: 0.5354 - sparse_categorical_accuracy: 0.8039 - val_loss: 2.0174 - val_sparse_categorical_accuracy: 0.5436\n"
     ]
    }
   ],
   "source": [
    "epochs = 10\n",
    "history = model.fit(\n",
    "    train_ds,\n",
    "    validation_data=val_ds,\n",
    "    epochs=epochs)"
   ]
  },
  {
   "cell_type": "code",
   "execution_count": null,
   "id": "dea17139-d7b5-4cf4-a5e9-6981d7aebd82",
   "metadata": {},
   "outputs": [],
   "source": [
    "from matplotlib import pyplot as plt\n",
    "plt.plot(history.history['loss'])\n",
    "plt.plot(history.history['val_loss'])\n",
    "plt.title('model loss')\n",
    "plt.ylabel('loss')\n",
    "plt.xlabel('epoch')\n",
    "plt.legend(['train', 'val'], loc='upper left')\n",
    "plt.show()"
   ]
  },
  {
   "cell_type": "code",
   "execution_count": null,
   "id": "6301faec-b16a-4db1-a135-8754f395b1a3",
   "metadata": {},
   "outputs": [],
   "source": [
    "val_softmax = model.predict(val_ds)"
   ]
  },
  {
   "cell_type": "code",
   "execution_count": null,
   "id": "6eecbd3d-6b05-41f4-82ec-93a48213b364",
   "metadata": {},
   "outputs": [],
   "source": [
    "val_labels = np.argmax(val_softmax, axis=1)"
   ]
  },
  {
   "cell_type": "code",
   "execution_count": null,
   "id": "3cc12c74-bbcd-4720-954a-b6943cf1671d",
   "metadata": {},
   "outputs": [],
   "source": [
    "val_pd = dataset[train_size:]"
   ]
  },
  {
   "cell_type": "code",
   "execution_count": null,
   "id": "a780fd9d-bbcf-450e-a06b-0a5d52e4b1ca",
   "metadata": {},
   "outputs": [],
   "source": [
    "val_pd['pred_labels'] = val_labels"
   ]
  },
  {
   "cell_type": "code",
   "execution_count": null,
   "id": "7f346af2-d6a2-4ce9-b662-9c78c2bdb0c6",
   "metadata": {},
   "outputs": [],
   "source": [
    "val_pd"
   ]
  },
  {
   "cell_type": "code",
   "execution_count": null,
   "id": "2e2650ac-4a9d-4cbb-976c-2c61e092a521",
   "metadata": {},
   "outputs": [],
   "source": [
    "val_pd['pred_labels'].value_counts()"
   ]
  },
  {
   "cell_type": "code",
   "execution_count": null,
   "id": "012f8ee5-bc26-4430-9775-4da7f3b037b7",
   "metadata": {},
   "outputs": [],
   "source": [
    "val_pd['Annotation'].value_counts()"
   ]
  },
  {
   "cell_type": "code",
   "execution_count": null,
   "id": "2950095a-35e5-427e-bc44-f0d5174c59d0",
   "metadata": {},
   "outputs": [],
   "source": [
    "print (classification_report(val_pd['Annotation'], val_pd['pred_labels']))"
   ]
  },
  {
   "cell_type": "markdown",
   "id": "1b9c1915-8a8b-48a1-9b8e-f458b1ef59a7",
   "metadata": {},
   "source": [
    "### Bi-LSTM"
   ]
  },
  {
   "cell_type": "code",
   "execution_count": 47,
   "id": "ea3a6cd1-53c6-4f48-85d0-84c085ad8645",
   "metadata": {},
   "outputs": [],
   "source": [
    "model = tf.keras.Sequential([\n",
    "    layers.Embedding(max_features + 1, embedding_dim, mask_zero=True),\n",
    "    layers.Bidirectional(tf.keras.layers.LSTM(32)),\n",
    "    layers.Dense(16, activation='relu'),\n",
    "    layers.Dense(5, activation='softmax')\n",
    "])"
   ]
  },
  {
   "cell_type": "code",
   "execution_count": 35,
   "id": "53917634-fb45-4de3-bbf6-a59e724859d5",
   "metadata": {},
   "outputs": [],
   "source": [
    "model.compile(loss=losses.SparseCategoricalCrossentropy(),\n",
    "              optimizer='adam',\n",
    "              metrics=tf.metrics.SparseCategoricalAccuracy())"
   ]
  },
  {
   "cell_type": "code",
   "execution_count": null,
   "id": "424cb99f-3d9b-468d-979e-0b7df69c9c78",
   "metadata": {},
   "outputs": [
    {
     "name": "stdout",
     "output_type": "stream",
     "text": [
      "Epoch 1/10\n",
      "1143/1143 [==============================] - 43s 35ms/step - loss: 1.2396 - sparse_categorical_accuracy: 0.5679 - val_loss: 1.1834 - val_sparse_categorical_accuracy: 0.5938\n",
      "Epoch 2/10\n",
      "1143/1143 [==============================] - 42s 37ms/step - loss: 1.1349 - sparse_categorical_accuracy: 0.5803 - val_loss: 1.1508 - val_sparse_categorical_accuracy: 0.5918\n",
      "Epoch 3/10\n",
      " 646/1143 [===============>..............] - ETA: 17s - loss: 0.9956 - sparse_categorical_accuracy: 0.6233"
     ]
    }
   ],
   "source": [
    "epochs = 10\n",
    "history = model.fit(\n",
    "    train_ds,\n",
    "    validation_data=val_ds,\n",
    "    epochs=epochs)"
   ]
  },
  {
   "cell_type": "code",
   "execution_count": null,
   "id": "e5a2a558-8efe-44f2-b988-405eabaa8d9b",
   "metadata": {},
   "outputs": [],
   "source": [
    "from matplotlib import pyplot as plt\n",
    "plt.plot(history.history['loss'])\n",
    "plt.plot(history.history['val_loss'])\n",
    "plt.title('model loss')\n",
    "plt.ylabel('loss')\n",
    "plt.xlabel('epoch')\n",
    "plt.legend(['train', 'val'], loc='upper left')\n",
    "plt.show()"
   ]
  },
  {
   "cell_type": "code",
   "execution_count": null,
   "id": "bf4c5ab8-3522-41c3-947a-4c4558dcce6c",
   "metadata": {},
   "outputs": [],
   "source": [
    "val_softmax = model.predict(val_ds)"
   ]
  },
  {
   "cell_type": "code",
   "execution_count": null,
   "id": "9631baa8-04ba-46d5-800b-226f12571526",
   "metadata": {},
   "outputs": [],
   "source": [
    "val_labels = np.argmax(val_softmax, axis=1)"
   ]
  },
  {
   "cell_type": "code",
   "execution_count": null,
   "id": "1059952c-27a0-4d49-bb1d-7231e90ee734",
   "metadata": {},
   "outputs": [],
   "source": [
    "val_pd = dataset[train_size:]"
   ]
  },
  {
   "cell_type": "code",
   "execution_count": null,
   "id": "93233a48-32d9-4c65-9107-f73809214f68",
   "metadata": {},
   "outputs": [],
   "source": [
    "val_pd['pred_labels'] = val_labels"
   ]
  },
  {
   "cell_type": "code",
   "execution_count": null,
   "id": "cc50ba9c-a2e6-4cc1-a322-92c50587be2c",
   "metadata": {},
   "outputs": [],
   "source": [
    "val_pd"
   ]
  },
  {
   "cell_type": "code",
   "execution_count": null,
   "id": "b04d08ee-1d56-4af2-9969-40e18b5c13a0",
   "metadata": {},
   "outputs": [],
   "source": [
    "val_pd['pred_labels'].value_counts()"
   ]
  },
  {
   "cell_type": "code",
   "execution_count": null,
   "id": "7e09feb3-0bdf-40a1-bd2a-45382e4a7a9d",
   "metadata": {},
   "outputs": [],
   "source": [
    "val_pd['Annotation'].value_counts()"
   ]
  },
  {
   "cell_type": "code",
   "execution_count": 33,
   "id": "3f41b68e-2630-4385-842c-8ebfe37b5738",
   "metadata": {},
   "outputs": [
    {
     "name": "stdout",
     "output_type": "stream",
     "text": [
      "              precision    recall  f1-score   support\n",
      "\n",
      "           0       0.00      0.00      0.00        93\n",
      "           1       0.82      0.04      0.07       229\n",
      "           2       0.36      0.12      0.18       403\n",
      "           3       1.00      0.01      0.02       100\n",
      "           4       0.61      0.95      0.74      1206\n",
      "\n",
      "    accuracy                           0.59      2031\n",
      "   macro avg       0.56      0.22      0.20      2031\n",
      "weighted avg       0.57      0.59      0.49      2031\n",
      "\n"
     ]
    }
   ],
   "source": [
    "print (classification_report(val_pd['Annotation'], val_pd['pred_labels']))"
   ]
  },
  {
   "cell_type": "code",
   "execution_count": null,
   "id": "00f02a9e-7bad-47ce-a0cf-8be11420eb06",
   "metadata": {},
   "outputs": [],
   "source": []
  },
  {
   "cell_type": "code",
   "execution_count": null,
   "id": "9874e046-94d7-4cd0-921c-6065ff20036e",
   "metadata": {},
   "outputs": [],
   "source": []
  }
 ],
 "metadata": {
  "kernelspec": {
   "display_name": "Python 3 (ipykernel)",
   "language": "python",
   "name": "python3"
  },
  "language_info": {
   "codemirror_mode": {
    "name": "ipython",
    "version": 3
   },
   "file_extension": ".py",
   "mimetype": "text/x-python",
   "name": "python",
   "nbconvert_exporter": "python",
   "pygments_lexer": "ipython3",
   "version": "3.9.7"
  }
 },
 "nbformat": 4,
 "nbformat_minor": 5
}
