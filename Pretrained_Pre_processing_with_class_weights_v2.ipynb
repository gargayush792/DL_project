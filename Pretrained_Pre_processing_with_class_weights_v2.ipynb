{
  "cells": [
    {
      "cell_type": "code",
      "source": [
        "# !pip install inltk\n",
        "!pip install fasttext\n",
        "!wget https://dl.fbaipublicfiles.com/fasttext/vectors-wiki/wiki.hi.zip\n",
        "!unzip 'wiki.hi.zip'"
      ],
      "metadata": {
        "colab": {
          "base_uri": "https://localhost:8080/"
        },
        "id": "EQ1vbWpUcW4q",
        "outputId": "3ab0ac1d-efb7-4efa-fe35-399f3e881fab"
      },
      "id": "EQ1vbWpUcW4q",
      "execution_count": 1,
      "outputs": [
        {
          "output_type": "stream",
          "name": "stdout",
          "text": [
            "Collecting fasttext\n",
            "  Downloading fasttext-0.9.2.tar.gz (68 kB)\n",
            "\u001b[?25l\r\u001b[K     |████▊                           | 10 kB 19.0 MB/s eta 0:00:01\r\u001b[K     |█████████▌                      | 20 kB 23.2 MB/s eta 0:00:01\r\u001b[K     |██████████████▎                 | 30 kB 12.8 MB/s eta 0:00:01\r\u001b[K     |███████████████████             | 40 kB 5.1 MB/s eta 0:00:01\r\u001b[K     |███████████████████████▉        | 51 kB 4.9 MB/s eta 0:00:01\r\u001b[K     |████████████████████████████▋   | 61 kB 5.8 MB/s eta 0:00:01\r\u001b[K     |████████████████████████████████| 68 kB 3.4 MB/s \n",
            "\u001b[?25hCollecting pybind11>=2.2\n",
            "  Using cached pybind11-2.9.2-py2.py3-none-any.whl (213 kB)\n",
            "Requirement already satisfied: setuptools>=0.7.0 in /usr/local/lib/python3.7/dist-packages (from fasttext) (57.4.0)\n",
            "Requirement already satisfied: numpy in /usr/local/lib/python3.7/dist-packages (from fasttext) (1.21.6)\n",
            "Building wheels for collected packages: fasttext\n",
            "  Building wheel for fasttext (setup.py) ... \u001b[?25l\u001b[?25hdone\n",
            "  Created wheel for fasttext: filename=fasttext-0.9.2-cp37-cp37m-linux_x86_64.whl size=3144472 sha256=0e71eade3417375749943e359a99cb8dd6a2f43b7304de9313e6778cf3753619\n",
            "  Stored in directory: /root/.cache/pip/wheels/4e/ca/bf/b020d2be95f7641801a6597a29c8f4f19e38f9c02a345bab9b\n",
            "Successfully built fasttext\n",
            "Installing collected packages: pybind11, fasttext\n",
            "Successfully installed fasttext-0.9.2 pybind11-2.9.2\n",
            "--2022-04-30 07:20:30--  https://dl.fbaipublicfiles.com/fasttext/vectors-wiki/wiki.hi.zip\n",
            "Resolving dl.fbaipublicfiles.com (dl.fbaipublicfiles.com)... 104.22.75.142, 172.67.9.4, 104.22.74.142, ...\n",
            "Connecting to dl.fbaipublicfiles.com (dl.fbaipublicfiles.com)|104.22.75.142|:443... connected.\n",
            "HTTP request sent, awaiting response... 200 OK\n",
            "Length: 2779916118 (2.6G) [application/zip]\n",
            "Saving to: ‘wiki.hi.zip’\n",
            "\n",
            "wiki.hi.zip         100%[===================>]   2.59G  2.85MB/s    in 10m 51s \n",
            "\n",
            "2022-04-30 07:31:22 (4.07 MB/s) - ‘wiki.hi.zip’ saved [2779916118/2779916118]\n",
            "\n",
            "Archive:  wiki.hi.zip\n",
            "  inflating: wiki.hi.vec             \n",
            "  inflating: wiki.hi.bin             \n"
          ]
        }
      ]
    },
    {
      "cell_type": "code",
      "execution_count": 2,
      "id": "ce85cb08-d95f-4146-9458-fb65fc5fba5b",
      "metadata": {
        "id": "ce85cb08-d95f-4146-9458-fb65fc5fba5b"
      },
      "outputs": [],
      "source": [
        "import pandas as pd\n",
        "import numpy as np\n",
        "from sklearn.metrics import classification_report"
      ]
    },
    {
      "cell_type": "code",
      "execution_count": 3,
      "id": "eb51662b-a7ac-4774-8317-68a4a2c1b4dd",
      "metadata": {
        "id": "eb51662b-a7ac-4774-8317-68a4a2c1b4dd"
      },
      "outputs": [],
      "source": [
        "import tensorflow as tf\n",
        "from tensorflow.keras import layers\n",
        "from tensorflow.keras import losses"
      ]
    },
    {
      "cell_type": "code",
      "source": [
        "# from inltk.inltk import get_embedding_vectors\n",
        "# from inltk.inltk import setup\n",
        "# setup(\"hi\")"
      ],
      "metadata": {
        "id": "YldJv5aVdbED"
      },
      "id": "YldJv5aVdbED",
      "execution_count": 4,
      "outputs": []
    },
    {
      "cell_type": "markdown",
      "id": "c002ff79-8466-4035-adf3-eea69db9ac5a",
      "metadata": {
        "id": "c002ff79-8466-4035-adf3-eea69db9ac5a"
      },
      "source": [
        "### Dataset reading and annotations"
      ]
    },
    {
      "cell_type": "code",
      "execution_count": 5,
      "id": "384e8bb7-1398-415f-a5ba-13cb95ba5e7a",
      "metadata": {
        "id": "384e8bb7-1398-415f-a5ba-13cb95ba5e7a"
      },
      "outputs": [],
      "source": [
        "url = \"https://raw.githubusercontent.com/PrynkaSxna/dataset/main/Bhaav-Dataset.csv\"\n",
        "dataset = pd.read_csv(url)"
      ]
    },
    {
      "cell_type": "code",
      "execution_count": 6,
      "id": "a9cbcb5b-a097-4886-9ff2-1ec24ea1002e",
      "metadata": {
        "id": "a9cbcb5b-a097-4886-9ff2-1ec24ea1002e",
        "outputId": "13b72aaa-ef60-4164-f2fd-7f70e6e90197",
        "colab": {
          "base_uri": "https://localhost:8080/",
          "height": 424
        }
      },
      "outputs": [
        {
          "output_type": "execute_result",
          "data": {
            "text/plain": [
              "                                               Sentences  Annotation\n",
              "0               रमजान के पूरे तीस रोजों के बाद ईद आयी है           1\n",
              "1                   कितना मनोहर, कितना सुहावना प्रभाव है           1\n",
              "2      वृक्षों पर अजीब हरियाली है, खेतों में कुछ अजीब...           1\n",
              "3      आज का सूर्य देखो, कितना प्यारा, कितना शीतल है,...           1\n",
              "4                                 गाँव में कितनी हलचल है           1\n",
              "...                                                  ...         ...\n",
              "20299                          फिर यहाँ सर्दी हो जाती है           4\n",
              "20300  दिन-भर मैं यह देखती रहती हूँ कि धूप का टुकड़ा क...           4\n",
              "20301  पार्क का कोई ऐसा कोना नहीं, जहाँ मैं घड़ी-आधा घ...           4\n",
              "20302              लेकिन यह बेंच मुझे सबसे अच्छी लगती है           1\n",
              "20303  एक तो इस पर पत्ते नहीं झरते और दूसरे... अरे, आ...           4\n",
              "\n",
              "[20304 rows x 2 columns]"
            ],
            "text/html": [
              "\n",
              "  <div id=\"df-d2f5d7f4-44d0-4a43-8b24-19ad6c395bac\">\n",
              "    <div class=\"colab-df-container\">\n",
              "      <div>\n",
              "<style scoped>\n",
              "    .dataframe tbody tr th:only-of-type {\n",
              "        vertical-align: middle;\n",
              "    }\n",
              "\n",
              "    .dataframe tbody tr th {\n",
              "        vertical-align: top;\n",
              "    }\n",
              "\n",
              "    .dataframe thead th {\n",
              "        text-align: right;\n",
              "    }\n",
              "</style>\n",
              "<table border=\"1\" class=\"dataframe\">\n",
              "  <thead>\n",
              "    <tr style=\"text-align: right;\">\n",
              "      <th></th>\n",
              "      <th>Sentences</th>\n",
              "      <th>Annotation</th>\n",
              "    </tr>\n",
              "  </thead>\n",
              "  <tbody>\n",
              "    <tr>\n",
              "      <th>0</th>\n",
              "      <td>रमजान के पूरे तीस रोजों के बाद ईद आयी है</td>\n",
              "      <td>1</td>\n",
              "    </tr>\n",
              "    <tr>\n",
              "      <th>1</th>\n",
              "      <td>कितना मनोहर, कितना सुहावना प्रभाव है</td>\n",
              "      <td>1</td>\n",
              "    </tr>\n",
              "    <tr>\n",
              "      <th>2</th>\n",
              "      <td>वृक्षों पर अजीब हरियाली है, खेतों में कुछ अजीब...</td>\n",
              "      <td>1</td>\n",
              "    </tr>\n",
              "    <tr>\n",
              "      <th>3</th>\n",
              "      <td>आज का सूर्य देखो, कितना प्यारा, कितना शीतल है,...</td>\n",
              "      <td>1</td>\n",
              "    </tr>\n",
              "    <tr>\n",
              "      <th>4</th>\n",
              "      <td>गाँव में कितनी हलचल है</td>\n",
              "      <td>1</td>\n",
              "    </tr>\n",
              "    <tr>\n",
              "      <th>...</th>\n",
              "      <td>...</td>\n",
              "      <td>...</td>\n",
              "    </tr>\n",
              "    <tr>\n",
              "      <th>20299</th>\n",
              "      <td>फिर यहाँ सर्दी हो जाती है</td>\n",
              "      <td>4</td>\n",
              "    </tr>\n",
              "    <tr>\n",
              "      <th>20300</th>\n",
              "      <td>दिन-भर मैं यह देखती रहती हूँ कि धूप का टुकड़ा क...</td>\n",
              "      <td>4</td>\n",
              "    </tr>\n",
              "    <tr>\n",
              "      <th>20301</th>\n",
              "      <td>पार्क का कोई ऐसा कोना नहीं, जहाँ मैं घड़ी-आधा घ...</td>\n",
              "      <td>4</td>\n",
              "    </tr>\n",
              "    <tr>\n",
              "      <th>20302</th>\n",
              "      <td>लेकिन यह बेंच मुझे सबसे अच्छी लगती है</td>\n",
              "      <td>1</td>\n",
              "    </tr>\n",
              "    <tr>\n",
              "      <th>20303</th>\n",
              "      <td>एक तो इस पर पत्ते नहीं झरते और दूसरे... अरे, आ...</td>\n",
              "      <td>4</td>\n",
              "    </tr>\n",
              "  </tbody>\n",
              "</table>\n",
              "<p>20304 rows × 2 columns</p>\n",
              "</div>\n",
              "      <button class=\"colab-df-convert\" onclick=\"convertToInteractive('df-d2f5d7f4-44d0-4a43-8b24-19ad6c395bac')\"\n",
              "              title=\"Convert this dataframe to an interactive table.\"\n",
              "              style=\"display:none;\">\n",
              "        \n",
              "  <svg xmlns=\"http://www.w3.org/2000/svg\" height=\"24px\"viewBox=\"0 0 24 24\"\n",
              "       width=\"24px\">\n",
              "    <path d=\"M0 0h24v24H0V0z\" fill=\"none\"/>\n",
              "    <path d=\"M18.56 5.44l.94 2.06.94-2.06 2.06-.94-2.06-.94-.94-2.06-.94 2.06-2.06.94zm-11 1L8.5 8.5l.94-2.06 2.06-.94-2.06-.94L8.5 2.5l-.94 2.06-2.06.94zm10 10l.94 2.06.94-2.06 2.06-.94-2.06-.94-.94-2.06-.94 2.06-2.06.94z\"/><path d=\"M17.41 7.96l-1.37-1.37c-.4-.4-.92-.59-1.43-.59-.52 0-1.04.2-1.43.59L10.3 9.45l-7.72 7.72c-.78.78-.78 2.05 0 2.83L4 21.41c.39.39.9.59 1.41.59.51 0 1.02-.2 1.41-.59l7.78-7.78 2.81-2.81c.8-.78.8-2.07 0-2.86zM5.41 20L4 18.59l7.72-7.72 1.47 1.35L5.41 20z\"/>\n",
              "  </svg>\n",
              "      </button>\n",
              "      \n",
              "  <style>\n",
              "    .colab-df-container {\n",
              "      display:flex;\n",
              "      flex-wrap:wrap;\n",
              "      gap: 12px;\n",
              "    }\n",
              "\n",
              "    .colab-df-convert {\n",
              "      background-color: #E8F0FE;\n",
              "      border: none;\n",
              "      border-radius: 50%;\n",
              "      cursor: pointer;\n",
              "      display: none;\n",
              "      fill: #1967D2;\n",
              "      height: 32px;\n",
              "      padding: 0 0 0 0;\n",
              "      width: 32px;\n",
              "    }\n",
              "\n",
              "    .colab-df-convert:hover {\n",
              "      background-color: #E2EBFA;\n",
              "      box-shadow: 0px 1px 2px rgba(60, 64, 67, 0.3), 0px 1px 3px 1px rgba(60, 64, 67, 0.15);\n",
              "      fill: #174EA6;\n",
              "    }\n",
              "\n",
              "    [theme=dark] .colab-df-convert {\n",
              "      background-color: #3B4455;\n",
              "      fill: #D2E3FC;\n",
              "    }\n",
              "\n",
              "    [theme=dark] .colab-df-convert:hover {\n",
              "      background-color: #434B5C;\n",
              "      box-shadow: 0px 1px 3px 1px rgba(0, 0, 0, 0.15);\n",
              "      filter: drop-shadow(0px 1px 2px rgba(0, 0, 0, 0.3));\n",
              "      fill: #FFFFFF;\n",
              "    }\n",
              "  </style>\n",
              "\n",
              "      <script>\n",
              "        const buttonEl =\n",
              "          document.querySelector('#df-d2f5d7f4-44d0-4a43-8b24-19ad6c395bac button.colab-df-convert');\n",
              "        buttonEl.style.display =\n",
              "          google.colab.kernel.accessAllowed ? 'block' : 'none';\n",
              "\n",
              "        async function convertToInteractive(key) {\n",
              "          const element = document.querySelector('#df-d2f5d7f4-44d0-4a43-8b24-19ad6c395bac');\n",
              "          const dataTable =\n",
              "            await google.colab.kernel.invokeFunction('convertToInteractive',\n",
              "                                                     [key], {});\n",
              "          if (!dataTable) return;\n",
              "\n",
              "          const docLinkHtml = 'Like what you see? Visit the ' +\n",
              "            '<a target=\"_blank\" href=https://colab.research.google.com/notebooks/data_table.ipynb>data table notebook</a>'\n",
              "            + ' to learn more about interactive tables.';\n",
              "          element.innerHTML = '';\n",
              "          dataTable['output_type'] = 'display_data';\n",
              "          await google.colab.output.renderOutput(dataTable, element);\n",
              "          const docLink = document.createElement('div');\n",
              "          docLink.innerHTML = docLinkHtml;\n",
              "          element.appendChild(docLink);\n",
              "        }\n",
              "      </script>\n",
              "    </div>\n",
              "  </div>\n",
              "  "
            ]
          },
          "metadata": {},
          "execution_count": 6
        }
      ],
      "source": [
        "dataset"
      ]
    },
    {
      "cell_type": "code",
      "execution_count": 7,
      "id": "237e9358-3dad-4b5e-9468-16287707ba12",
      "metadata": {
        "id": "237e9358-3dad-4b5e-9468-16287707ba12",
        "outputId": "cfd10981-4047-468b-9452-1d204b2d2821",
        "colab": {
          "base_uri": "https://localhost:8080/"
        }
      },
      "outputs": [
        {
          "output_type": "execute_result",
          "data": {
            "text/plain": [
              "4    11697\n",
              "2     3168\n",
              "1     2463\n",
              "3     1512\n",
              "0     1464\n",
              "Name: Annotation, dtype: int64"
            ]
          },
          "metadata": {},
          "execution_count": 7
        }
      ],
      "source": [
        "dataset['Annotation'].value_counts()"
      ]
    },
    {
      "cell_type": "code",
      "execution_count": 8,
      "id": "1f27047c-43c9-49c6-9007-1579d6137eec",
      "metadata": {
        "id": "1f27047c-43c9-49c6-9007-1579d6137eec"
      },
      "outputs": [],
      "source": [
        "dataset['Emotion'] = np.where(\n",
        "    dataset['Annotation'] == 0, 'Anger', np.where(\n",
        "        dataset['Annotation'] == 1, 'Joy', np.where(\n",
        "            dataset['Annotation'] == 2, 'Sad', np.where(\n",
        "                dataset['Annotation'] == 3, 'Suspense', 'Neutral'))))"
      ]
    },
    {
      "cell_type": "code",
      "execution_count": 9,
      "id": "a51aa701-b563-405b-b465-bf49a47c7b80",
      "metadata": {
        "id": "a51aa701-b563-405b-b465-bf49a47c7b80",
        "outputId": "efb636d1-8c04-46dd-866e-da959e124f08",
        "colab": {
          "base_uri": "https://localhost:8080/"
        }
      },
      "outputs": [
        {
          "output_type": "execute_result",
          "data": {
            "text/plain": [
              "Neutral     11697\n",
              "Sad          3168\n",
              "Joy          2463\n",
              "Suspense     1512\n",
              "Anger        1464\n",
              "Name: Emotion, dtype: int64"
            ]
          },
          "metadata": {},
          "execution_count": 9
        }
      ],
      "source": [
        "dataset['Emotion'].value_counts()"
      ]
    },
    {
      "cell_type": "code",
      "source": [
        "from sklearn.utils.class_weight import compute_class_weight\n",
        "\n",
        "y_train_labels = dataset['Annotation'].values\n",
        "classes = np.unique(y_train_labels)\n",
        "cls_weights = compute_class_weight(class_weight = \"balanced\", classes=classes, y= y_train_labels)\n",
        "class_weights = dict(zip(classes, cls_weights))\n",
        "class_weights"
      ],
      "metadata": {
        "colab": {
          "base_uri": "https://localhost:8080/"
        },
        "id": "qdAYXTqPtd11",
        "outputId": "881ee46e-8120-4043-ef63-14330943ab78"
      },
      "id": "qdAYXTqPtd11",
      "execution_count": 10,
      "outputs": [
        {
          "output_type": "execute_result",
          "data": {
            "text/plain": [
              "{0: 2.773770491803279,\n",
              " 1: 1.648721071863581,\n",
              " 2: 1.2818181818181817,\n",
              " 3: 2.6857142857142855,\n",
              " 4: 0.3471659399846114}"
            ]
          },
          "metadata": {},
          "execution_count": 10
        }
      ]
    },
    {
      "cell_type": "markdown",
      "id": "9fecd383-4370-4566-9b1b-f6deb0f7cb0f",
      "metadata": {
        "id": "9fecd383-4370-4566-9b1b-f6deb0f7cb0f"
      },
      "source": [
        "### Convert to TF Dataset and Train/Test Split"
      ]
    },
    {
      "cell_type": "code",
      "execution_count": 11,
      "id": "ec8f2ee8-2300-415f-a19e-786909bd1759",
      "metadata": {
        "id": "ec8f2ee8-2300-415f-a19e-786909bd1759"
      },
      "outputs": [],
      "source": [
        "full_dataset = (\n",
        "    tf.data.Dataset.from_tensor_slices(\n",
        "        (\n",
        "            tf.cast(dataset['Sentences'].values, tf.string),\n",
        "            tf.cast(dataset['Annotation'].values, tf.int32)\n",
        "        )\n",
        "    )\n",
        ")"
      ]
    },
    {
      "cell_type": "code",
      "execution_count": 12,
      "id": "64382e2e-e051-43e2-9a03-e114a526e9ab",
      "metadata": {
        "id": "64382e2e-e051-43e2-9a03-e114a526e9ab"
      },
      "outputs": [],
      "source": [
        "train_size = int(dataset.shape[0]*0.8)"
      ]
    },
    {
      "cell_type": "code",
      "execution_count": 13,
      "id": "f792b5c8-4f59-4074-9b0f-9cb6ab07cbfe",
      "metadata": {
        "id": "f792b5c8-4f59-4074-9b0f-9cb6ab07cbfe"
      },
      "outputs": [],
      "source": [
        "train_dataset = full_dataset.take(train_size)\n",
        "test_dataset = full_dataset.skip(train_size)"
      ]
    },
    {
      "cell_type": "code",
      "execution_count": 14,
      "id": "248ac967-7b26-41c7-8c3a-947ce834ac3b",
      "metadata": {
        "id": "248ac967-7b26-41c7-8c3a-947ce834ac3b"
      },
      "outputs": [],
      "source": [
        "batch_size = 16"
      ]
    },
    {
      "cell_type": "code",
      "execution_count": 15,
      "id": "6ae7c68d-fb19-405b-a7b0-d8131483a7e8",
      "metadata": {
        "id": "6ae7c68d-fb19-405b-a7b0-d8131483a7e8"
      },
      "outputs": [],
      "source": [
        "train_dataset = train_dataset.batch(batch_size)\n",
        "test_dataset = test_dataset.batch(batch_size)"
      ]
    },
    {
      "cell_type": "markdown",
      "id": "1438fddd-5d96-4ec1-bd9c-fc74a0482c0a",
      "metadata": {
        "id": "1438fddd-5d96-4ec1-bd9c-fc74a0482c0a"
      },
      "source": [
        "### Preprocessing\n",
        "* Tokenisation\n",
        "* Punctuation Removal\n",
        "* Embed words to ints"
      ]
    },
    {
      "cell_type": "code",
      "execution_count": 16,
      "id": "c1114402-d634-409b-8420-797942388f6d",
      "metadata": {
        "id": "c1114402-d634-409b-8420-797942388f6d"
      },
      "outputs": [],
      "source": [
        "max_features = 20000\n",
        "sequence_length = 150\n",
        "\n",
        "vectorize_layer = layers.TextVectorization(\n",
        "    standardize=\"strip_punctuation\",\n",
        "    max_tokens=max_features,\n",
        "    output_mode='int',\n",
        "    output_sequence_length=sequence_length)"
      ]
    },
    {
      "cell_type": "code",
      "execution_count": 17,
      "id": "147159a3-0b5b-4896-86d7-c30bdeb28900",
      "metadata": {
        "id": "147159a3-0b5b-4896-86d7-c30bdeb28900"
      },
      "outputs": [],
      "source": [
        "train_text = train_dataset.map(lambda x, y: x)"
      ]
    },
    {
      "cell_type": "code",
      "execution_count": 18,
      "id": "d49630a4-1c4e-4fc9-8285-748ac20699cf",
      "metadata": {
        "id": "d49630a4-1c4e-4fc9-8285-748ac20699cf"
      },
      "outputs": [],
      "source": [
        "vectorize_layer.adapt(train_text)"
      ]
    },
    {
      "cell_type": "code",
      "execution_count": 19,
      "id": "478b0089-ab6e-4ebc-af91-58f00e4d1780",
      "metadata": {
        "id": "478b0089-ab6e-4ebc-af91-58f00e4d1780"
      },
      "outputs": [],
      "source": [
        "def vectorize_text(text, label):\n",
        "    text = tf.expand_dims(text, -1)\n",
        "    return vectorize_layer(text), label"
      ]
    },
    {
      "cell_type": "code",
      "execution_count": 20,
      "id": "3333c0bf-f223-4506-97df-f63760de6253",
      "metadata": {
        "id": "3333c0bf-f223-4506-97df-f63760de6253",
        "outputId": "fff38e82-4250-4d34-db7d-4abc40cfbc2d",
        "colab": {
          "base_uri": "https://localhost:8080/"
        }
      },
      "outputs": [
        {
          "output_type": "stream",
          "name": "stdout",
          "text": [
            "Review tf.Tensor(b'\\xe0\\xa4\\xb0\\xe0\\xa4\\xae\\xe0\\xa4\\x9c\\xe0\\xa4\\xbe\\xe0\\xa4\\xa8 \\xe0\\xa4\\x95\\xe0\\xa5\\x87 \\xe0\\xa4\\xaa\\xe0\\xa5\\x82\\xe0\\xa4\\xb0\\xe0\\xa5\\x87 \\xe0\\xa4\\xa4\\xe0\\xa5\\x80\\xe0\\xa4\\xb8 \\xe0\\xa4\\xb0\\xe0\\xa5\\x8b\\xe0\\xa4\\x9c\\xe0\\xa5\\x8b\\xe0\\xa4\\x82 \\xe0\\xa4\\x95\\xe0\\xa5\\x87 \\xe0\\xa4\\xac\\xe0\\xa4\\xbe\\xe0\\xa4\\xa6 \\xe0\\xa4\\x88\\xe0\\xa4\\xa6 \\xe0\\xa4\\x86\\xe0\\xa4\\xaf\\xe0\\xa5\\x80 \\xe0\\xa4\\xb9\\xe0\\xa5\\x88', shape=(), dtype=string)\n",
            "Label tf.Tensor(1, shape=(), dtype=int32)\n",
            "Vectorized review (<tf.Tensor: shape=(1, 150), dtype=int64, numpy=\n",
            "array([[10264,     2,   839,  2833, 10097,     2,    78,  2223,   320,\n",
            "            7,     0,     0,     0,     0,     0,     0,     0,     0,\n",
            "            0,     0,     0,     0,     0,     0,     0,     0,     0,\n",
            "            0,     0,     0,     0,     0,     0,     0,     0,     0,\n",
            "            0,     0,     0,     0,     0,     0,     0,     0,     0,\n",
            "            0,     0,     0,     0,     0,     0,     0,     0,     0,\n",
            "            0,     0,     0,     0,     0,     0,     0,     0,     0,\n",
            "            0,     0,     0,     0,     0,     0,     0,     0,     0,\n",
            "            0,     0,     0,     0,     0,     0,     0,     0,     0,\n",
            "            0,     0,     0,     0,     0,     0,     0,     0,     0,\n",
            "            0,     0,     0,     0,     0,     0,     0,     0,     0,\n",
            "            0,     0,     0,     0,     0,     0,     0,     0,     0,\n",
            "            0,     0,     0,     0,     0,     0,     0,     0,     0,\n",
            "            0,     0,     0,     0,     0,     0,     0,     0,     0,\n",
            "            0,     0,     0,     0,     0,     0,     0,     0,     0,\n",
            "            0,     0,     0,     0,     0,     0,     0,     0,     0,\n",
            "            0,     0,     0,     0,     0,     0]])>, <tf.Tensor: shape=(), dtype=int32, numpy=1>)\n"
          ]
        }
      ],
      "source": [
        "text_batch, label_batch = next(iter(train_dataset))\n",
        "first_review, first_label = text_batch[0], label_batch[0]\n",
        "print(\"Review\", first_review)\n",
        "print(\"Label\", first_label)\n",
        "print(\"Vectorized review\", vectorize_text(first_review, first_label))"
      ]
    },
    {
      "cell_type": "code",
      "execution_count": 21,
      "id": "c83979e3-3281-46a3-80b0-74f2cccbb2f6",
      "metadata": {
        "id": "c83979e3-3281-46a3-80b0-74f2cccbb2f6"
      },
      "outputs": [],
      "source": [
        "train_ds = train_dataset.map(vectorize_text)\n",
        "val_ds = test_dataset.map(vectorize_text)"
      ]
    },
    {
      "cell_type": "code",
      "source": [
        "vocab = vectorize_layer.get_vocabulary()\n",
        "word_index = dict(zip(vocab, range(len(vocab))))"
      ],
      "metadata": {
        "id": "vm1rt7bBarby"
      },
      "id": "vm1rt7bBarby",
      "execution_count": 22,
      "outputs": []
    },
    {
      "cell_type": "markdown",
      "source": [
        "**Load FastText Word embeddings and Generate Embedding matrix**"
      ],
      "metadata": {
        "id": "THXu2ATSF7JM"
      },
      "id": "THXu2ATSF7JM"
    },
    {
      "cell_type": "code",
      "source": [
        "import fasttext\n",
        "import fasttext.util\n",
        "ft = fasttext.load_model('wiki.hi.bin')\n",
        "word = \"नृत्य\"\n",
        "print(\"Embedding Shape is {}\".format(ft.get_word_vector(word).shape))\n",
        "print(\"Nearest Neighbors to {} are:\".format(word))\n",
        "ft.get_nearest_neighbors(word) "
      ],
      "metadata": {
        "colab": {
          "base_uri": "https://localhost:8080/"
        },
        "id": "GZ5hrnoRebCr",
        "outputId": "ab75b041-5675-47e4-a981-cbbf51cfa003"
      },
      "id": "GZ5hrnoRebCr",
      "execution_count": 23,
      "outputs": [
        {
          "output_type": "stream",
          "name": "stderr",
          "text": [
            "Warning : `load_model` does not return WordVectorModel or SupervisedModel any more, but a `FastText` object which is very similar.\n"
          ]
        },
        {
          "output_type": "stream",
          "name": "stdout",
          "text": [
            "Embedding Shape is (300,)\n",
            "Nearest Neighbors to नृत्य are:\n"
          ]
        },
        {
          "output_type": "execute_result",
          "data": {
            "text/plain": [
              "[(0.8913929462432861, 'नृत्य।'),\n",
              " (0.8440190553665161, 'नृत्यगान'),\n",
              " (0.8374733924865723, 'नृत्यगीत'),\n",
              " (0.8336297869682312, 'नृत्यों'),\n",
              " (0.8265783190727234, 'नृत्यरत'),\n",
              " (0.7971948385238647, 'नृत्यकला'),\n",
              " (0.7879464626312256, 'नृत्त'),\n",
              " (0.7682990431785583, 'नृतक'),\n",
              " (0.7622954845428467, 'नृत्यरचना'),\n",
              " (0.7602956295013428, 'नृत्यग्राम')]"
            ]
          },
          "metadata": {},
          "execution_count": 23
        }
      ]
    },
    {
      "cell_type": "code",
      "source": [
        "embedding_dim = 300\n",
        "\n",
        "# Prepare embedding matrix\n",
        "hits = 0\n",
        "misses = 0\n",
        "embedding_matrix = np.zeros((max_features, embedding_dim))\n",
        "for word, i in word_index.items():\n",
        "    embedding_vector = ft.get_word_vector(word)\n",
        "    if embedding_vector is not None:\n",
        "        # Words not found in embedding index will be all-zeros.\n",
        "        # This includes the representation for \"padding\" and \"OOV\"\n",
        "        embedding_matrix[i] = embedding_vector\n",
        "        hits += 1\n",
        "    else:\n",
        "        misses += 1\n",
        "print(\"Converted %d words (%d misses)\" % (hits, misses))"
      ],
      "metadata": {
        "colab": {
          "base_uri": "https://localhost:8080/"
        },
        "id": "jMLHsscoVj7-",
        "outputId": "b6531721-350d-4c7e-d23f-84802b127001"
      },
      "id": "jMLHsscoVj7-",
      "execution_count": 24,
      "outputs": [
        {
          "output_type": "stream",
          "name": "stdout",
          "text": [
            "Converted 16233 words (0 misses)\n"
          ]
        }
      ]
    },
    {
      "cell_type": "markdown",
      "id": "b3ae4111-180e-405a-a822-71705acf6c54",
      "metadata": {
        "id": "b3ae4111-180e-405a-a822-71705acf6c54"
      },
      "source": [
        "### Model definition"
      ]
    },
    {
      "cell_type": "code",
      "execution_count": 25,
      "id": "2440b664-63e4-4cdd-bf6d-8b86fb91b660",
      "metadata": {
        "id": "2440b664-63e4-4cdd-bf6d-8b86fb91b660",
        "outputId": "7979e293-4d34-46dc-8bde-9079c189f1e9",
        "colab": {
          "base_uri": "https://localhost:8080/"
        }
      },
      "outputs": [
        {
          "output_type": "stream",
          "name": "stdout",
          "text": [
            "Model: \"sequential\"\n",
            "_________________________________________________________________\n",
            " Layer (type)                Output Shape              Param #   \n",
            "=================================================================\n",
            " embedding (Embedding)       (None, None, 300)         6000000   \n",
            "                                                                 \n",
            " dropout (Dropout)           (None, None, 300)         0         \n",
            "                                                                 \n",
            " global_average_pooling1d (G  (None, 300)              0         \n",
            " lobalAveragePooling1D)                                          \n",
            "                                                                 \n",
            " dropout_1 (Dropout)         (None, 300)               0         \n",
            "                                                                 \n",
            " dense (Dense)               (None, 128)               38528     \n",
            "                                                                 \n",
            " dropout_2 (Dropout)         (None, 128)               0         \n",
            "                                                                 \n",
            " dense_1 (Dense)             (None, 64)                8256      \n",
            "                                                                 \n",
            " dense_2 (Dense)             (None, 5)                 325       \n",
            "                                                                 \n",
            "=================================================================\n",
            "Total params: 6,047,109\n",
            "Trainable params: 47,109\n",
            "Non-trainable params: 6,000,000\n",
            "_________________________________________________________________\n"
          ]
        }
      ],
      "source": [
        "model = tf.keras.Sequential([\n",
        "  layers.Embedding(max_features, embedding_dim, embeddings_initializer=tf.keras.initializers.Constant(embedding_matrix), trainable=False),\n",
        "  layers.Dropout(0.25),\n",
        "  layers.GlobalAveragePooling1D(),\n",
        "  layers.Dropout(0.25),\n",
        "  layers.Dense(128, activation='relu'),\n",
        "  layers.Dropout(0.25),\n",
        "  layers.Dense(64, activation='relu'),\n",
        "  layers.Dense(5, activation='softmax')])\n",
        "\n",
        "model.summary()"
      ]
    },
    {
      "cell_type": "code",
      "execution_count": 26,
      "id": "83d900a6-dc69-4185-8d16-bcc99a3e9adf",
      "metadata": {
        "id": "83d900a6-dc69-4185-8d16-bcc99a3e9adf"
      },
      "outputs": [],
      "source": [
        "model.compile(loss=losses.SparseCategoricalCrossentropy(),\n",
        "              optimizer='adam',\n",
        "              metrics=tf.metrics.SparseCategoricalAccuracy())"
      ]
    },
    {
      "cell_type": "code",
      "execution_count": 27,
      "id": "79b17591-4c99-446d-891e-5af7eccd308c",
      "metadata": {
        "id": "79b17591-4c99-446d-891e-5af7eccd308c",
        "outputId": "eede640f-50e6-4c1d-c6f3-2e9cb91929ba",
        "colab": {
          "base_uri": "https://localhost:8080/"
        }
      },
      "outputs": [
        {
          "output_type": "stream",
          "name": "stdout",
          "text": [
            "Epoch 1/50\n",
            "1016/1016 [==============================] - 26s 24ms/step - loss: 1.6599 - sparse_categorical_accuracy: 0.1744 - val_loss: 1.4963 - val_sparse_categorical_accuracy: 0.6646\n",
            "Epoch 2/50\n",
            "1016/1016 [==============================] - 13s 13ms/step - loss: 1.6486 - sparse_categorical_accuracy: 0.1792 - val_loss: 1.3557 - val_sparse_categorical_accuracy: 0.6646\n",
            "Epoch 3/50\n",
            "1016/1016 [==============================] - 13s 13ms/step - loss: 1.6259 - sparse_categorical_accuracy: 0.2128 - val_loss: 1.2771 - val_sparse_categorical_accuracy: 0.6439\n",
            "Epoch 4/50\n",
            "1016/1016 [==============================] - 14s 13ms/step - loss: 1.6073 - sparse_categorical_accuracy: 0.2480 - val_loss: 1.3131 - val_sparse_categorical_accuracy: 0.5907\n",
            "Epoch 5/50\n",
            "1016/1016 [==============================] - 13s 13ms/step - loss: 1.5870 - sparse_categorical_accuracy: 0.2488 - val_loss: 1.3088 - val_sparse_categorical_accuracy: 0.5336\n",
            "Epoch 6/50\n",
            "1016/1016 [==============================] - 13s 13ms/step - loss: 1.5656 - sparse_categorical_accuracy: 0.2698 - val_loss: 1.2512 - val_sparse_categorical_accuracy: 0.5639\n",
            "Epoch 7/50\n",
            "1016/1016 [==============================] - 14s 14ms/step - loss: 1.5527 - sparse_categorical_accuracy: 0.2660 - val_loss: 1.2788 - val_sparse_categorical_accuracy: 0.5371\n",
            "Epoch 8/50\n",
            "1016/1016 [==============================] - 13s 13ms/step - loss: 1.5403 - sparse_categorical_accuracy: 0.2741 - val_loss: 1.2699 - val_sparse_categorical_accuracy: 0.5225\n",
            "Epoch 9/50\n",
            "1016/1016 [==============================] - 13s 13ms/step - loss: 1.5358 - sparse_categorical_accuracy: 0.2684 - val_loss: 1.2493 - val_sparse_categorical_accuracy: 0.5558\n",
            "Epoch 10/50\n",
            "1016/1016 [==============================] - 13s 13ms/step - loss: 1.5303 - sparse_categorical_accuracy: 0.2761 - val_loss: 1.2807 - val_sparse_categorical_accuracy: 0.5171\n",
            "Epoch 11/50\n",
            "1016/1016 [==============================] - 13s 13ms/step - loss: 1.5143 - sparse_categorical_accuracy: 0.2857 - val_loss: 1.2775 - val_sparse_categorical_accuracy: 0.5201\n",
            "Epoch 12/50\n",
            "1016/1016 [==============================] - 14s 13ms/step - loss: 1.5157 - sparse_categorical_accuracy: 0.2807 - val_loss: 1.3085 - val_sparse_categorical_accuracy: 0.4952\n",
            "Epoch 13/50\n",
            "1016/1016 [==============================] - 14s 14ms/step - loss: 1.5064 - sparse_categorical_accuracy: 0.2986 - val_loss: 1.2568 - val_sparse_categorical_accuracy: 0.5267\n",
            "Epoch 14/50\n",
            "1016/1016 [==============================] - 13s 13ms/step - loss: 1.5080 - sparse_categorical_accuracy: 0.2886 - val_loss: 1.3173 - val_sparse_categorical_accuracy: 0.4853\n",
            "Epoch 15/50\n",
            "1016/1016 [==============================] - 14s 13ms/step - loss: 1.5014 - sparse_categorical_accuracy: 0.3068 - val_loss: 1.2282 - val_sparse_categorical_accuracy: 0.5587\n",
            "Epoch 16/50\n",
            "1016/1016 [==============================] - 13s 13ms/step - loss: 1.4941 - sparse_categorical_accuracy: 0.2945 - val_loss: 1.3347 - val_sparse_categorical_accuracy: 0.4592\n",
            "Epoch 17/50\n",
            "1016/1016 [==============================] - 13s 13ms/step - loss: 1.4970 - sparse_categorical_accuracy: 0.2918 - val_loss: 1.3418 - val_sparse_categorical_accuracy: 0.4371\n",
            "Epoch 18/50\n",
            "1016/1016 [==============================] - 13s 13ms/step - loss: 1.4958 - sparse_categorical_accuracy: 0.2972 - val_loss: 1.3376 - val_sparse_categorical_accuracy: 0.4440\n",
            "Epoch 19/50\n",
            "1016/1016 [==============================] - 14s 13ms/step - loss: 1.4844 - sparse_categorical_accuracy: 0.2992 - val_loss: 1.3492 - val_sparse_categorical_accuracy: 0.4442\n",
            "Epoch 20/50\n",
            "1016/1016 [==============================] - 13s 13ms/step - loss: 1.4854 - sparse_categorical_accuracy: 0.2955 - val_loss: 1.3536 - val_sparse_categorical_accuracy: 0.4415\n",
            "Epoch 21/50\n",
            "1016/1016 [==============================] - 13s 13ms/step - loss: 1.4799 - sparse_categorical_accuracy: 0.2998 - val_loss: 1.3228 - val_sparse_categorical_accuracy: 0.4548\n",
            "Epoch 22/50\n",
            "1016/1016 [==============================] - 13s 13ms/step - loss: 1.4930 - sparse_categorical_accuracy: 0.2935 - val_loss: 1.3540 - val_sparse_categorical_accuracy: 0.4206\n",
            "Epoch 23/50\n",
            "1016/1016 [==============================] - 13s 13ms/step - loss: 1.4858 - sparse_categorical_accuracy: 0.3113 - val_loss: 1.3761 - val_sparse_categorical_accuracy: 0.4080\n",
            "Epoch 24/50\n",
            "1016/1016 [==============================] - 13s 13ms/step - loss: 1.4832 - sparse_categorical_accuracy: 0.2999 - val_loss: 1.3125 - val_sparse_categorical_accuracy: 0.4967\n",
            "Epoch 25/50\n",
            "1016/1016 [==============================] - 13s 13ms/step - loss: 1.4823 - sparse_categorical_accuracy: 0.3023 - val_loss: 1.3406 - val_sparse_categorical_accuracy: 0.4551\n",
            "Epoch 26/50\n",
            "1016/1016 [==============================] - 13s 12ms/step - loss: 1.4736 - sparse_categorical_accuracy: 0.3039 - val_loss: 1.2754 - val_sparse_categorical_accuracy: 0.5018\n",
            "Epoch 27/50\n",
            "1016/1016 [==============================] - 13s 13ms/step - loss: 1.4759 - sparse_categorical_accuracy: 0.3041 - val_loss: 1.3056 - val_sparse_categorical_accuracy: 0.4984\n",
            "Epoch 28/50\n",
            "1016/1016 [==============================] - 14s 13ms/step - loss: 1.4747 - sparse_categorical_accuracy: 0.2993 - val_loss: 1.3636 - val_sparse_categorical_accuracy: 0.4184\n",
            "Epoch 29/50\n",
            "1016/1016 [==============================] - 14s 13ms/step - loss: 1.4676 - sparse_categorical_accuracy: 0.3009 - val_loss: 1.3177 - val_sparse_categorical_accuracy: 0.4723\n",
            "Epoch 30/50\n",
            "1016/1016 [==============================] - 13s 13ms/step - loss: 1.4646 - sparse_categorical_accuracy: 0.3068 - val_loss: 1.3498 - val_sparse_categorical_accuracy: 0.4285\n",
            "Epoch 31/50\n",
            "1016/1016 [==============================] - 13s 13ms/step - loss: 1.4754 - sparse_categorical_accuracy: 0.2971 - val_loss: 1.3886 - val_sparse_categorical_accuracy: 0.3819\n",
            "Epoch 32/50\n",
            "1016/1016 [==============================] - 14s 13ms/step - loss: 1.4663 - sparse_categorical_accuracy: 0.3003 - val_loss: 1.3847 - val_sparse_categorical_accuracy: 0.3802\n",
            "Epoch 33/50\n",
            "1016/1016 [==============================] - 14s 13ms/step - loss: 1.4658 - sparse_categorical_accuracy: 0.3054 - val_loss: 1.3470 - val_sparse_categorical_accuracy: 0.4110\n",
            "Epoch 34/50\n",
            "1016/1016 [==============================] - 14s 14ms/step - loss: 1.4629 - sparse_categorical_accuracy: 0.3154 - val_loss: 1.2319 - val_sparse_categorical_accuracy: 0.5270\n",
            "Epoch 35/50\n",
            "1016/1016 [==============================] - 13s 13ms/step - loss: 1.4630 - sparse_categorical_accuracy: 0.3105 - val_loss: 1.3548 - val_sparse_categorical_accuracy: 0.4243\n",
            "Epoch 36/50\n",
            "1016/1016 [==============================] - 13s 13ms/step - loss: 1.4637 - sparse_categorical_accuracy: 0.3035 - val_loss: 1.3634 - val_sparse_categorical_accuracy: 0.3974\n",
            "Epoch 37/50\n",
            "1016/1016 [==============================] - 14s 14ms/step - loss: 1.4630 - sparse_categorical_accuracy: 0.3060 - val_loss: 1.3228 - val_sparse_categorical_accuracy: 0.4548\n",
            "Epoch 38/50\n",
            "1016/1016 [==============================] - 13s 13ms/step - loss: 1.4656 - sparse_categorical_accuracy: 0.3097 - val_loss: 1.2843 - val_sparse_categorical_accuracy: 0.4885\n",
            "Epoch 39/50\n",
            "1016/1016 [==============================] - 14s 13ms/step - loss: 1.4565 - sparse_categorical_accuracy: 0.3148 - val_loss: 1.3517 - val_sparse_categorical_accuracy: 0.4115\n",
            "Epoch 40/50\n",
            "1016/1016 [==============================] - 14s 14ms/step - loss: 1.4600 - sparse_categorical_accuracy: 0.3037 - val_loss: 1.3788 - val_sparse_categorical_accuracy: 0.3745\n",
            "Epoch 41/50\n",
            "1016/1016 [==============================] - 14s 14ms/step - loss: 1.4541 - sparse_categorical_accuracy: 0.3079 - val_loss: 1.3672 - val_sparse_categorical_accuracy: 0.3736\n",
            "Epoch 42/50\n",
            "1016/1016 [==============================] - 14s 14ms/step - loss: 1.4578 - sparse_categorical_accuracy: 0.3113 - val_loss: 1.3582 - val_sparse_categorical_accuracy: 0.3856\n",
            "Epoch 43/50\n",
            "1016/1016 [==============================] - 13s 13ms/step - loss: 1.4512 - sparse_categorical_accuracy: 0.3038 - val_loss: 1.3535 - val_sparse_categorical_accuracy: 0.3869\n",
            "Epoch 44/50\n",
            "1016/1016 [==============================] - 13s 13ms/step - loss: 1.4495 - sparse_categorical_accuracy: 0.3102 - val_loss: 1.3580 - val_sparse_categorical_accuracy: 0.4078\n",
            "Epoch 45/50\n",
            "1016/1016 [==============================] - 14s 14ms/step - loss: 1.4464 - sparse_categorical_accuracy: 0.3144 - val_loss: 1.3642 - val_sparse_categorical_accuracy: 0.3674\n",
            "Epoch 46/50\n",
            "1016/1016 [==============================] - 13s 13ms/step - loss: 1.4481 - sparse_categorical_accuracy: 0.3150 - val_loss: 1.3684 - val_sparse_categorical_accuracy: 0.3765\n",
            "Epoch 47/50\n",
            "1016/1016 [==============================] - 14s 13ms/step - loss: 1.4504 - sparse_categorical_accuracy: 0.3111 - val_loss: 1.3541 - val_sparse_categorical_accuracy: 0.3937\n",
            "Epoch 48/50\n",
            "1016/1016 [==============================] - 13s 13ms/step - loss: 1.4390 - sparse_categorical_accuracy: 0.3103 - val_loss: 1.3752 - val_sparse_categorical_accuracy: 0.3622\n",
            "Epoch 49/50\n",
            "1016/1016 [==============================] - 13s 13ms/step - loss: 1.4457 - sparse_categorical_accuracy: 0.3094 - val_loss: 1.3752 - val_sparse_categorical_accuracy: 0.3691\n",
            "Epoch 50/50\n",
            "1016/1016 [==============================] - 14s 14ms/step - loss: 1.4410 - sparse_categorical_accuracy: 0.3097 - val_loss: 1.3703 - val_sparse_categorical_accuracy: 0.3654\n"
          ]
        }
      ],
      "source": [
        "epochs = 50\n",
        "history = model.fit(\n",
        "    train_ds,\n",
        "    validation_data=val_ds,\n",
        "    class_weight=class_weights,\n",
        "    epochs=epochs)"
      ]
    },
    {
      "cell_type": "code",
      "execution_count": 28,
      "id": "76cb20b2-be01-468f-a17f-7e03e5e38568",
      "metadata": {
        "id": "76cb20b2-be01-468f-a17f-7e03e5e38568"
      },
      "outputs": [],
      "source": [
        "val_softmax = model.predict(val_ds)"
      ]
    },
    {
      "cell_type": "code",
      "execution_count": 29,
      "id": "d2f6ad9e-401c-4068-ad38-a98a096b640d",
      "metadata": {
        "id": "d2f6ad9e-401c-4068-ad38-a98a096b640d"
      },
      "outputs": [],
      "source": [
        "val_labels = np.argmax(val_softmax, axis=1)"
      ]
    },
    {
      "cell_type": "code",
      "source": [
        "pd.DataFrame(history.history)[['loss', 'val_loss']].plot(figsize=(8,5))"
      ],
      "metadata": {
        "colab": {
          "base_uri": "https://localhost:8080/",
          "height": 337
        },
        "id": "SxZzQxNGEt05",
        "outputId": "9451794d-8f69-41ed-d3a0-415a678f73b2"
      },
      "id": "SxZzQxNGEt05",
      "execution_count": 30,
      "outputs": [
        {
          "output_type": "execute_result",
          "data": {
            "text/plain": [
              "<matplotlib.axes._subplots.AxesSubplot at 0x7f7ce8d0c710>"
            ]
          },
          "metadata": {},
          "execution_count": 30
        },
        {
          "output_type": "display_data",
          "data": {
            "text/plain": [
              "<Figure size 576x360 with 1 Axes>"
            ],
            "image/png": "[encoded data removed]"
          },
          "metadata": {
            "needs_background": "light"
          }
        }
      ]
    },
    {
      "cell_type": "code",
      "execution_count": 31,
      "id": "40de48b2-325a-43f3-999d-69cf8adcf761",
      "metadata": {
        "id": "40de48b2-325a-43f3-999d-69cf8adcf761",
        "colab": {
          "base_uri": "https://localhost:8080/"
        },
        "outputId": "0f3da896-c598-4ca0-98ea-717b00338785"
      },
      "outputs": [
        {
          "output_type": "stream",
          "name": "stderr",
          "text": [
            "/usr/local/lib/python3.7/dist-packages/ipykernel_launcher.py:2: SettingWithCopyWarning: \n",
            "A value is trying to be set on a copy of a slice from a DataFrame.\n",
            "Try using .loc[row_indexer,col_indexer] = value instead\n",
            "\n",
            "See the caveats in the documentation: https://pandas.pydata.org/pandas-docs/stable/user_guide/indexing.html#returning-a-view-versus-a-copy\n",
            "  \n"
          ]
        }
      ],
      "source": [
        "val_pd = dataset[train_size:]\n",
        "val_pd['pred_labels'] = val_labels"
      ]
    },
    {
      "cell_type": "code",
      "execution_count": 32,
      "id": "b32812db-b79c-4f30-b9b9-f439a22df6d4",
      "metadata": {
        "id": "b32812db-b79c-4f30-b9b9-f439a22df6d4",
        "colab": {
          "base_uri": "https://localhost:8080/"
        },
        "outputId": "c6e7b40c-0e3d-47ff-f10a-3cbea2640ad6"
      },
      "outputs": [
        {
          "output_type": "stream",
          "name": "stdout",
          "text": [
            "              precision    recall  f1-score   support\n",
            "\n",
            "           0       0.10      0.23      0.14       183\n",
            "           1       0.18      0.46      0.26       416\n",
            "           2       0.38      0.14      0.20       625\n",
            "           3       0.07      0.46      0.12       138\n",
            "           4       0.77      0.41      0.53      2699\n",
            "\n",
            "    accuracy                           0.37      4061\n",
            "   macro avg       0.30      0.34      0.25      4061\n",
            "weighted avg       0.60      0.37      0.42      4061\n",
            "\n"
          ]
        }
      ],
      "source": [
        "print(classification_report(val_pd['Annotation'], val_pd['pred_labels']))"
      ]
    },
    {
      "cell_type": "code",
      "execution_count": 33,
      "id": "764b235b-41f9-40c0-bbd4-acac0bc93ce7",
      "metadata": {
        "id": "764b235b-41f9-40c0-bbd4-acac0bc93ce7"
      },
      "outputs": [],
      "source": [
        "# val_pd['pred_labels'].value_counts()"
      ]
    },
    {
      "cell_type": "code",
      "execution_count": 34,
      "id": "d0bda131-dfda-4ba3-b177-25963af7581c",
      "metadata": {
        "id": "d0bda131-dfda-4ba3-b177-25963af7581c"
      },
      "outputs": [],
      "source": [
        "# val_pd['Annotation'].value_counts()"
      ]
    },
    {
      "cell_type": "markdown",
      "id": "10c1632c-dc32-4e42-aa7e-89aa0ef73396",
      "metadata": {
        "id": "10c1632c-dc32-4e42-aa7e-89aa0ef73396"
      },
      "source": [
        "### LSTM"
      ]
    },
    {
      "cell_type": "code",
      "execution_count": 35,
      "id": "cadb31cd-e970-4554-a3da-b77d43fe95f1",
      "metadata": {
        "id": "cadb31cd-e970-4554-a3da-b77d43fe95f1",
        "colab": {
          "base_uri": "https://localhost:8080/"
        },
        "outputId": "8dec8504-d2fc-4811-8e33-c7583f2c3b34"
      },
      "outputs": [
        {
          "output_type": "stream",
          "name": "stdout",
          "text": [
            "Model: \"sequential_1\"\n",
            "_________________________________________________________________\n",
            " Layer (type)                Output Shape              Param #   \n",
            "=================================================================\n",
            " embedding_1 (Embedding)     (None, None, 300)         6000000   \n",
            "                                                                 \n",
            " lstm (LSTM)                 (None, 64)                93440     \n",
            "                                                                 \n",
            " dense_3 (Dense)             (None, 32)                2080      \n",
            "                                                                 \n",
            " dropout_3 (Dropout)         (None, 32)                0         \n",
            "                                                                 \n",
            " dense_4 (Dense)             (None, 5)                 165       \n",
            "                                                                 \n",
            "=================================================================\n",
            "Total params: 6,095,685\n",
            "Trainable params: 95,685\n",
            "Non-trainable params: 6,000,000\n",
            "_________________________________________________________________\n"
          ]
        }
      ],
      "source": [
        "model = tf.keras.Sequential([\n",
        "    layers.Embedding(max_features, embedding_dim, mask_zero=True, embeddings_initializer=tf.keras.initializers.Constant(embedding_matrix), trainable=False),\n",
        "    tf.keras.layers.LSTM(64),\n",
        "    layers.Dense(32, activation='relu'),\n",
        "    layers.Dropout(0.25),\n",
        "    layers.Dense(5, activation='softmax')\n",
        "])\n",
        "model.summary()"
      ]
    },
    {
      "cell_type": "code",
      "execution_count": 36,
      "id": "f40a2eed-af53-4d35-b3e6-0b25fb2629fc",
      "metadata": {
        "id": "f40a2eed-af53-4d35-b3e6-0b25fb2629fc"
      },
      "outputs": [],
      "source": [
        "model.compile(loss=losses.SparseCategoricalCrossentropy(),\n",
        "              optimizer=tf.keras.optimizers.Adam(learning_rate=1e-4),\n",
        "              metrics=tf.metrics.SparseCategoricalAccuracy())"
      ]
    },
    {
      "cell_type": "code",
      "execution_count": 37,
      "id": "64f79a10-a36c-4be1-8d34-c5d9567ddc6c",
      "metadata": {
        "id": "64f79a10-a36c-4be1-8d34-c5d9567ddc6c",
        "outputId": "d4ba6a68-2065-4af1-fa15-8af19e4164c1",
        "colab": {
          "base_uri": "https://localhost:8080/"
        }
      },
      "outputs": [
        {
          "output_type": "stream",
          "name": "stdout",
          "text": [
            "Epoch 1/50\n",
            "1016/1016 [==============================] - 138s 131ms/step - loss: 1.6616 - sparse_categorical_accuracy: 0.1542 - val_loss: 1.5833 - val_sparse_categorical_accuracy: 0.1256\n",
            "Epoch 2/50\n",
            "1016/1016 [==============================] - 132s 130ms/step - loss: 1.6289 - sparse_categorical_accuracy: 0.1694 - val_loss: 1.5790 - val_sparse_categorical_accuracy: 0.0923\n",
            "Epoch 3/50\n",
            "1016/1016 [==============================] - 134s 132ms/step - loss: 1.6010 - sparse_categorical_accuracy: 0.2011 - val_loss: 1.5395 - val_sparse_categorical_accuracy: 0.2706\n",
            "Epoch 4/50\n",
            "1016/1016 [==============================] - 134s 132ms/step - loss: 1.5644 - sparse_categorical_accuracy: 0.2563 - val_loss: 1.4552 - val_sparse_categorical_accuracy: 0.4011\n",
            "Epoch 5/50\n",
            "1016/1016 [==============================] - 133s 131ms/step - loss: 1.5294 - sparse_categorical_accuracy: 0.2990 - val_loss: 1.4291 - val_sparse_categorical_accuracy: 0.3989\n",
            "Epoch 6/50\n",
            "1016/1016 [==============================] - 134s 132ms/step - loss: 1.5050 - sparse_categorical_accuracy: 0.3131 - val_loss: 1.4257 - val_sparse_categorical_accuracy: 0.3743\n",
            "Epoch 7/50\n",
            "1016/1016 [==============================] - 133s 131ms/step - loss: 1.4786 - sparse_categorical_accuracy: 0.3256 - val_loss: 1.4129 - val_sparse_categorical_accuracy: 0.3755\n",
            "Epoch 8/50\n",
            "1016/1016 [==============================] - 134s 132ms/step - loss: 1.4614 - sparse_categorical_accuracy: 0.3392 - val_loss: 1.4038 - val_sparse_categorical_accuracy: 0.3716\n",
            "Epoch 9/50\n",
            "1016/1016 [==============================] - 134s 132ms/step - loss: 1.4418 - sparse_categorical_accuracy: 0.3422 - val_loss: 1.4141 - val_sparse_categorical_accuracy: 0.3470\n",
            "Epoch 10/50\n",
            "1016/1016 [==============================] - 134s 132ms/step - loss: 1.4223 - sparse_categorical_accuracy: 0.3477 - val_loss: 1.4041 - val_sparse_categorical_accuracy: 0.3536\n",
            "Epoch 11/50\n",
            "1016/1016 [==============================] - 134s 132ms/step - loss: 1.4086 - sparse_categorical_accuracy: 0.3576 - val_loss: 1.4235 - val_sparse_categorical_accuracy: 0.3337\n",
            "Epoch 12/50\n",
            "1016/1016 [==============================] - 134s 131ms/step - loss: 1.3938 - sparse_categorical_accuracy: 0.3597 - val_loss: 1.4224 - val_sparse_categorical_accuracy: 0.3344\n",
            "Epoch 13/50\n",
            "1016/1016 [==============================] - 134s 132ms/step - loss: 1.3781 - sparse_categorical_accuracy: 0.3686 - val_loss: 1.4450 - val_sparse_categorical_accuracy: 0.3132\n",
            "Epoch 14/50\n",
            "1016/1016 [==============================] - 134s 132ms/step - loss: 1.3647 - sparse_categorical_accuracy: 0.3687 - val_loss: 1.4303 - val_sparse_categorical_accuracy: 0.3179\n",
            "Epoch 15/50\n",
            "1016/1016 [==============================] - 134s 132ms/step - loss: 1.3523 - sparse_categorical_accuracy: 0.3763 - val_loss: 1.4218 - val_sparse_categorical_accuracy: 0.3278\n",
            "Epoch 16/50\n",
            "1016/1016 [==============================] - 134s 132ms/step - loss: 1.3353 - sparse_categorical_accuracy: 0.3818 - val_loss: 1.4097 - val_sparse_categorical_accuracy: 0.3374\n",
            "Epoch 17/50\n",
            "1016/1016 [==============================] - 133s 130ms/step - loss: 1.3188 - sparse_categorical_accuracy: 0.3831 - val_loss: 1.3994 - val_sparse_categorical_accuracy: 0.3460\n",
            "Epoch 18/50\n",
            "1016/1016 [==============================] - 133s 131ms/step - loss: 1.3063 - sparse_categorical_accuracy: 0.3888 - val_loss: 1.4064 - val_sparse_categorical_accuracy: 0.3361\n",
            "Epoch 19/50\n",
            "1016/1016 [==============================] - 133s 131ms/step - loss: 1.2903 - sparse_categorical_accuracy: 0.3939 - val_loss: 1.3975 - val_sparse_categorical_accuracy: 0.3430\n",
            "Epoch 20/50\n",
            "1016/1016 [==============================] - 133s 131ms/step - loss: 1.2750 - sparse_categorical_accuracy: 0.3984 - val_loss: 1.4022 - val_sparse_categorical_accuracy: 0.3388\n",
            "Epoch 21/50\n",
            "1016/1016 [==============================] - 133s 131ms/step - loss: 1.2557 - sparse_categorical_accuracy: 0.4081 - val_loss: 1.3767 - val_sparse_categorical_accuracy: 0.3568\n",
            "Epoch 22/50\n",
            "1016/1016 [==============================] - 132s 130ms/step - loss: 1.2439 - sparse_categorical_accuracy: 0.4099 - val_loss: 1.3842 - val_sparse_categorical_accuracy: 0.3543\n",
            "Epoch 23/50\n",
            "1016/1016 [==============================] - 133s 130ms/step - loss: 1.2313 - sparse_categorical_accuracy: 0.4136 - val_loss: 1.4083 - val_sparse_categorical_accuracy: 0.3383\n",
            "Epoch 24/50\n",
            "1016/1016 [==============================] - 131s 129ms/step - loss: 1.2112 - sparse_categorical_accuracy: 0.4169 - val_loss: 1.4053 - val_sparse_categorical_accuracy: 0.3408\n",
            "Epoch 25/50\n",
            "1016/1016 [==============================] - 132s 130ms/step - loss: 1.1959 - sparse_categorical_accuracy: 0.4205 - val_loss: 1.3934 - val_sparse_categorical_accuracy: 0.3472\n",
            "Epoch 26/50\n",
            "1016/1016 [==============================] - 133s 131ms/step - loss: 1.1781 - sparse_categorical_accuracy: 0.4282 - val_loss: 1.3921 - val_sparse_categorical_accuracy: 0.3482\n",
            "Epoch 27/50\n",
            "1016/1016 [==============================] - 132s 130ms/step - loss: 1.1604 - sparse_categorical_accuracy: 0.4329 - val_loss: 1.3849 - val_sparse_categorical_accuracy: 0.3573\n",
            "Epoch 28/50\n",
            "1016/1016 [==============================] - 133s 131ms/step - loss: 1.1469 - sparse_categorical_accuracy: 0.4362 - val_loss: 1.3929 - val_sparse_categorical_accuracy: 0.3516\n",
            "Epoch 29/50\n",
            "1016/1016 [==============================] - 133s 131ms/step - loss: 1.1311 - sparse_categorical_accuracy: 0.4448 - val_loss: 1.4007 - val_sparse_categorical_accuracy: 0.3504\n",
            "Epoch 30/50\n",
            "1016/1016 [==============================] - 132s 130ms/step - loss: 1.1028 - sparse_categorical_accuracy: 0.4511 - val_loss: 1.3921 - val_sparse_categorical_accuracy: 0.3548\n",
            "Epoch 31/50\n",
            "1016/1016 [==============================] - 132s 130ms/step - loss: 1.0970 - sparse_categorical_accuracy: 0.4497 - val_loss: 1.3973 - val_sparse_categorical_accuracy: 0.3524\n",
            "Epoch 32/50\n",
            "1016/1016 [==============================] - 133s 131ms/step - loss: 1.0851 - sparse_categorical_accuracy: 0.4526 - val_loss: 1.4029 - val_sparse_categorical_accuracy: 0.3484\n",
            "Epoch 33/50\n",
            "1016/1016 [==============================] - 133s 131ms/step - loss: 1.0639 - sparse_categorical_accuracy: 0.4601 - val_loss: 1.4109 - val_sparse_categorical_accuracy: 0.3445\n",
            "Epoch 34/50\n",
            "1016/1016 [==============================] - 133s 131ms/step - loss: 1.0438 - sparse_categorical_accuracy: 0.4705 - val_loss: 1.4068 - val_sparse_categorical_accuracy: 0.3509\n",
            "Epoch 35/50\n",
            "1016/1016 [==============================] - 133s 131ms/step - loss: 1.0254 - sparse_categorical_accuracy: 0.4734 - val_loss: 1.3955 - val_sparse_categorical_accuracy: 0.3558\n",
            "Epoch 36/50\n",
            "1016/1016 [==============================] - 133s 131ms/step - loss: 1.0106 - sparse_categorical_accuracy: 0.4757 - val_loss: 1.3978 - val_sparse_categorical_accuracy: 0.3610\n",
            "Epoch 37/50\n",
            "1016/1016 [==============================] - 134s 132ms/step - loss: 0.9994 - sparse_categorical_accuracy: 0.4837 - val_loss: 1.4146 - val_sparse_categorical_accuracy: 0.3516\n",
            "Epoch 38/50\n",
            "1016/1016 [==============================] - 133s 131ms/step - loss: 0.9784 - sparse_categorical_accuracy: 0.4874 - val_loss: 1.4008 - val_sparse_categorical_accuracy: 0.3659\n",
            "Epoch 39/50\n",
            "1016/1016 [==============================] - 134s 132ms/step - loss: 0.9631 - sparse_categorical_accuracy: 0.4965 - val_loss: 1.4045 - val_sparse_categorical_accuracy: 0.3694\n",
            "Epoch 40/50\n",
            "1016/1016 [==============================] - 134s 132ms/step - loss: 0.9426 - sparse_categorical_accuracy: 0.4992 - val_loss: 1.4211 - val_sparse_categorical_accuracy: 0.3588\n",
            "Epoch 41/50\n",
            "1016/1016 [==============================] - 134s 132ms/step - loss: 0.9295 - sparse_categorical_accuracy: 0.5061 - val_loss: 1.4218 - val_sparse_categorical_accuracy: 0.3657\n",
            "Epoch 42/50\n",
            "1016/1016 [==============================] - 134s 132ms/step - loss: 0.9133 - sparse_categorical_accuracy: 0.5115 - val_loss: 1.4322 - val_sparse_categorical_accuracy: 0.3647\n",
            "Epoch 43/50\n",
            "1016/1016 [==============================] - 134s 132ms/step - loss: 0.8943 - sparse_categorical_accuracy: 0.5183 - val_loss: 1.4199 - val_sparse_categorical_accuracy: 0.3795\n",
            "Epoch 44/50\n",
            "1016/1016 [==============================] - 135s 133ms/step - loss: 0.8712 - sparse_categorical_accuracy: 0.5242 - val_loss: 1.4367 - val_sparse_categorical_accuracy: 0.3711\n",
            "Epoch 45/50\n",
            "1016/1016 [==============================] - 132s 130ms/step - loss: 0.8592 - sparse_categorical_accuracy: 0.5299 - val_loss: 1.4283 - val_sparse_categorical_accuracy: 0.3812\n",
            "Epoch 46/50\n",
            "1016/1016 [==============================] - 134s 132ms/step - loss: 0.8410 - sparse_categorical_accuracy: 0.5343 - val_loss: 1.4484 - val_sparse_categorical_accuracy: 0.3760\n",
            "Epoch 47/50\n",
            "1016/1016 [==============================] - 134s 132ms/step - loss: 0.8263 - sparse_categorical_accuracy: 0.5357 - val_loss: 1.4497 - val_sparse_categorical_accuracy: 0.3829\n",
            "Epoch 48/50\n",
            "1016/1016 [==============================] - 135s 132ms/step - loss: 0.8156 - sparse_categorical_accuracy: 0.5453 - val_loss: 1.4561 - val_sparse_categorical_accuracy: 0.3787\n",
            "Epoch 49/50\n",
            "1016/1016 [==============================] - 135s 133ms/step - loss: 0.7964 - sparse_categorical_accuracy: 0.5522 - val_loss: 1.4725 - val_sparse_categorical_accuracy: 0.3829\n",
            "Epoch 50/50\n",
            "1016/1016 [==============================] - 135s 133ms/step - loss: 0.7855 - sparse_categorical_accuracy: 0.5577 - val_loss: 1.5015 - val_sparse_categorical_accuracy: 0.3834\n"
          ]
        }
      ],
      "source": [
        "epochs = 50\n",
        "history = model.fit(\n",
        "    train_ds,\n",
        "    validation_data=val_ds,\n",
        "    class_weight=class_weights,\n",
        "    epochs=epochs)"
      ]
    },
    {
      "cell_type": "code",
      "execution_count": 38,
      "id": "6526a136-727b-4fd0-aacf-2da535dbd82d",
      "metadata": {
        "id": "6526a136-727b-4fd0-aacf-2da535dbd82d",
        "colab": {
          "base_uri": "https://localhost:8080/",
          "height": 337
        },
        "outputId": "0ff431da-4bd0-4592-b5be-b7b5e75fea97"
      },
      "outputs": [
        {
          "output_type": "execute_result",
          "data": {
            "text/plain": [
              "<matplotlib.axes._subplots.AxesSubplot at 0x7f7ce10c2610>"
            ]
          },
          "metadata": {},
          "execution_count": 38
        },
        {
          "output_type": "display_data",
          "data": {
            "text/plain": [
              "<Figure size 576x360 with 1 Axes>"
            ],
            "image/png": "[encoded data removed]"
          },
          "metadata": {
            "needs_background": "light"
          }
        }
      ],
      "source": [
        "pd.DataFrame(history.history)[['loss', 'val_loss']].plot(figsize=(8,5))"
      ]
    },
    {
      "cell_type": "code",
      "execution_count": 39,
      "id": "00f02a9e-7bad-47ce-a0cf-8be11420eb06",
      "metadata": {
        "id": "00f02a9e-7bad-47ce-a0cf-8be11420eb06",
        "colab": {
          "base_uri": "https://localhost:8080/"
        },
        "outputId": "552c253c-f42d-41d4-a8e5-a0b1a514b95f"
      },
      "outputs": [
        {
          "output_type": "stream",
          "name": "stdout",
          "text": [
            "              precision    recall  f1-score   support\n",
            "\n",
            "           0       0.13      0.21      0.17       183\n",
            "           1       0.21      0.45      0.28       416\n",
            "           2       0.28      0.32      0.30       625\n",
            "           3       0.07      0.40      0.12       138\n",
            "           4       0.77      0.40      0.53      2699\n",
            "\n",
            "    accuracy                           0.38      4061\n",
            "   macro avg       0.29      0.36      0.28      4061\n",
            "weighted avg       0.59      0.38      0.44      4061\n",
            "\n"
          ]
        },
        {
          "output_type": "stream",
          "name": "stderr",
          "text": [
            "/usr/local/lib/python3.7/dist-packages/ipykernel_launcher.py:4: SettingWithCopyWarning: \n",
            "A value is trying to be set on a copy of a slice from a DataFrame.\n",
            "Try using .loc[row_indexer,col_indexer] = value instead\n",
            "\n",
            "See the caveats in the documentation: https://pandas.pydata.org/pandas-docs/stable/user_guide/indexing.html#returning-a-view-versus-a-copy\n",
            "  after removing the cwd from sys.path.\n"
          ]
        }
      ],
      "source": [
        "val_softmax = model.predict(val_ds)\n",
        "val_labels = np.argmax(val_softmax, axis=1)\n",
        "\n",
        "val_pd['lstm_pred'] = val_labels\n",
        "\n",
        "print(classification_report(val_pd['Annotation'], val_pd['lstm_pred']))"
      ]
    }
  ],
  "metadata": {
    "kernelspec": {
      "display_name": "Python 3 (ipykernel)",
      "language": "python",
      "name": "python3"
    },
    "language_info": {
      "codemirror_mode": {
        "name": "ipython",
        "version": 3
      },
      "file_extension": ".py",
      "mimetype": "text/x-python",
      "name": "python",
      "nbconvert_exporter": "python",
      "pygments_lexer": "ipython3",
      "version": "3.9.7"
    },
    "colab": {
      "name": "Pretrained-Pre-processing-with-class-weights-v2.ipynb",
      "provenance": [],
      "collapsed_sections": []
    }
  },
  "nbformat": 4,
  "nbformat_minor": 5
}