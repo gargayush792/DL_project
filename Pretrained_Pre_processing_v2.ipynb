{
  "cells": [
    {
      "cell_type": "code",
      "source": [
        "# !pip install inltk\n",
        "!pip install fasttext\n",
        "!wget https://dl.fbaipublicfiles.com/fasttext/vectors-wiki/wiki.hi.zip\n",
        "!unzip 'wiki.hi.zip'"
      ],
      "metadata": {
        "colab": {
          "base_uri": "https://localhost:8080/"
        },
        "id": "EQ1vbWpUcW4q",
        "outputId": "043b2584-b8f9-4fd3-c981-278b7c4cde16"
      },
      "id": "EQ1vbWpUcW4q",
      "execution_count": 1,
      "outputs": [
        {
          "output_type": "stream",
          "name": "stdout",
          "text": [
            "Collecting fasttext\n",
            "  Using cached fasttext-0.9.2.tar.gz (68 kB)\n",
            "Requirement already satisfied: pybind11>=2.2 in /usr/local/lib/python3.7/dist-packages (from fasttext) (2.9.2)\n",
            "Requirement already satisfied: setuptools>=0.7.0 in /usr/local/lib/python3.7/dist-packages (from fasttext) (57.4.0)\n",
            "Requirement already satisfied: numpy in /usr/local/lib/python3.7/dist-packages (from fasttext) (1.21.6)\n",
            "Building wheels for collected packages: fasttext\n",
            "  Building wheel for fasttext (setup.py) ... \u001b[?25l\u001b[?25hdone\n",
            "  Created wheel for fasttext: filename=fasttext-0.9.2-cp37-cp37m-linux_x86_64.whl size=3143565 sha256=408039afe54f8506fecf93be814b706a222949596017f14232ce6272dc79f86b\n",
            "  Stored in directory: /root/.cache/pip/wheels/4e/ca/bf/b020d2be95f7641801a6597a29c8f4f19e38f9c02a345bab9b\n",
            "Successfully built fasttext\n",
            "Installing collected packages: fasttext\n",
            "Successfully installed fasttext-0.9.2\n",
            "--2022-04-30 07:07:26--  https://dl.fbaipublicfiles.com/fasttext/vectors-wiki/wiki.hi.zip\n",
            "Resolving dl.fbaipublicfiles.com (dl.fbaipublicfiles.com)... 172.67.9.4, 104.22.74.142, 104.22.75.142, ...\n",
            "Connecting to dl.fbaipublicfiles.com (dl.fbaipublicfiles.com)|172.67.9.4|:443... connected.\n",
            "HTTP request sent, awaiting response... 200 OK\n",
            "Length: 2779916118 (2.6G) [application/zip]\n",
            "Saving to: ‘wiki.hi.zip’\n",
            "\n",
            "wiki.hi.zip         100%[===================>]   2.59G  3.34MB/s    in 12m 38s \n",
            "\n",
            "2022-04-30 07:20:05 (3.50 MB/s) - ‘wiki.hi.zip’ saved [2779916118/2779916118]\n",
            "\n",
            "Archive:  wiki.hi.zip\n",
            "  inflating: wiki.hi.vec             \n",
            "  inflating: wiki.hi.bin             \n"
          ]
        }
      ]
    },
    {
      "cell_type": "code",
      "execution_count": 2,
      "id": "ce85cb08-d95f-4146-9458-fb65fc5fba5b",
      "metadata": {
        "id": "ce85cb08-d95f-4146-9458-fb65fc5fba5b"
      },
      "outputs": [],
      "source": [
        "import pandas as pd\n",
        "import numpy as np\n",
        "from sklearn.metrics import classification_report"
      ]
    },
    {
      "cell_type": "code",
      "execution_count": 3,
      "id": "eb51662b-a7ac-4774-8317-68a4a2c1b4dd",
      "metadata": {
        "id": "eb51662b-a7ac-4774-8317-68a4a2c1b4dd"
      },
      "outputs": [],
      "source": [
        "import tensorflow as tf\n",
        "from tensorflow.keras import layers\n",
        "from tensorflow.keras import losses"
      ]
    },
    {
      "cell_type": "code",
      "source": [
        "# from inltk.inltk import get_embedding_vectors\n",
        "# from inltk.inltk import setup\n",
        "# setup(\"hi\")"
      ],
      "metadata": {
        "id": "YldJv5aVdbED"
      },
      "id": "YldJv5aVdbED",
      "execution_count": 4,
      "outputs": []
    },
    {
      "cell_type": "markdown",
      "id": "c002ff79-8466-4035-adf3-eea69db9ac5a",
      "metadata": {
        "id": "c002ff79-8466-4035-adf3-eea69db9ac5a"
      },
      "source": [
        "### Dataset reading and annotations"
      ]
    },
    {
      "cell_type": "code",
      "execution_count": 5,
      "id": "384e8bb7-1398-415f-a5ba-13cb95ba5e7a",
      "metadata": {
        "id": "384e8bb7-1398-415f-a5ba-13cb95ba5e7a"
      },
      "outputs": [],
      "source": [
        "url = \"https://raw.githubusercontent.com/PrynkaSxna/dataset/main/Bhaav-Dataset.csv\"\n",
        "dataset = pd.read_csv(url)"
      ]
    },
    {
      "cell_type": "code",
      "execution_count": 6,
      "id": "a9cbcb5b-a097-4886-9ff2-1ec24ea1002e",
      "metadata": {
        "id": "a9cbcb5b-a097-4886-9ff2-1ec24ea1002e",
        "outputId": "2e2c66cf-20f6-492b-ccf2-27e2f3c8951d",
        "colab": {
          "base_uri": "https://localhost:8080/",
          "height": 424
        }
      },
      "outputs": [
        {
          "output_type": "execute_result",
          "data": {
            "text/plain": [
              "                                               Sentences  Annotation\n",
              "0               रमजान के पूरे तीस रोजों के बाद ईद आयी है           1\n",
              "1                   कितना मनोहर, कितना सुहावना प्रभाव है           1\n",
              "2      वृक्षों पर अजीब हरियाली है, खेतों में कुछ अजीब...           1\n",
              "3      आज का सूर्य देखो, कितना प्यारा, कितना शीतल है,...           1\n",
              "4                                 गाँव में कितनी हलचल है           1\n",
              "...                                                  ...         ...\n",
              "20299                          फिर यहाँ सर्दी हो जाती है           4\n",
              "20300  दिन-भर मैं यह देखती रहती हूँ कि धूप का टुकड़ा क...           4\n",
              "20301  पार्क का कोई ऐसा कोना नहीं, जहाँ मैं घड़ी-आधा घ...           4\n",
              "20302              लेकिन यह बेंच मुझे सबसे अच्छी लगती है           1\n",
              "20303  एक तो इस पर पत्ते नहीं झरते और दूसरे... अरे, आ...           4\n",
              "\n",
              "[20304 rows x 2 columns]"
            ],
            "text/html": [
              "\n",
              "  <div id=\"df-48a34028-1cbc-4105-9370-d7a95faf8352\">\n",
              "    <div class=\"colab-df-container\">\n",
              "      <div>\n",
              "<style scoped>\n",
              "    .dataframe tbody tr th:only-of-type {\n",
              "        vertical-align: middle;\n",
              "    }\n",
              "\n",
              "    .dataframe tbody tr th {\n",
              "        vertical-align: top;\n",
              "    }\n",
              "\n",
              "    .dataframe thead th {\n",
              "        text-align: right;\n",
              "    }\n",
              "</style>\n",
              "<table border=\"1\" class=\"dataframe\">\n",
              "  <thead>\n",
              "    <tr style=\"text-align: right;\">\n",
              "      <th></th>\n",
              "      <th>Sentences</th>\n",
              "      <th>Annotation</th>\n",
              "    </tr>\n",
              "  </thead>\n",
              "  <tbody>\n",
              "    <tr>\n",
              "      <th>0</th>\n",
              "      <td>रमजान के पूरे तीस रोजों के बाद ईद आयी है</td>\n",
              "      <td>1</td>\n",
              "    </tr>\n",
              "    <tr>\n",
              "      <th>1</th>\n",
              "      <td>कितना मनोहर, कितना सुहावना प्रभाव है</td>\n",
              "      <td>1</td>\n",
              "    </tr>\n",
              "    <tr>\n",
              "      <th>2</th>\n",
              "      <td>वृक्षों पर अजीब हरियाली है, खेतों में कुछ अजीब...</td>\n",
              "      <td>1</td>\n",
              "    </tr>\n",
              "    <tr>\n",
              "      <th>3</th>\n",
              "      <td>आज का सूर्य देखो, कितना प्यारा, कितना शीतल है,...</td>\n",
              "      <td>1</td>\n",
              "    </tr>\n",
              "    <tr>\n",
              "      <th>4</th>\n",
              "      <td>गाँव में कितनी हलचल है</td>\n",
              "      <td>1</td>\n",
              "    </tr>\n",
              "    <tr>\n",
              "      <th>...</th>\n",
              "      <td>...</td>\n",
              "      <td>...</td>\n",
              "    </tr>\n",
              "    <tr>\n",
              "      <th>20299</th>\n",
              "      <td>फिर यहाँ सर्दी हो जाती है</td>\n",
              "      <td>4</td>\n",
              "    </tr>\n",
              "    <tr>\n",
              "      <th>20300</th>\n",
              "      <td>दिन-भर मैं यह देखती रहती हूँ कि धूप का टुकड़ा क...</td>\n",
              "      <td>4</td>\n",
              "    </tr>\n",
              "    <tr>\n",
              "      <th>20301</th>\n",
              "      <td>पार्क का कोई ऐसा कोना नहीं, जहाँ मैं घड़ी-आधा घ...</td>\n",
              "      <td>4</td>\n",
              "    </tr>\n",
              "    <tr>\n",
              "      <th>20302</th>\n",
              "      <td>लेकिन यह बेंच मुझे सबसे अच्छी लगती है</td>\n",
              "      <td>1</td>\n",
              "    </tr>\n",
              "    <tr>\n",
              "      <th>20303</th>\n",
              "      <td>एक तो इस पर पत्ते नहीं झरते और दूसरे... अरे, आ...</td>\n",
              "      <td>4</td>\n",
              "    </tr>\n",
              "  </tbody>\n",
              "</table>\n",
              "<p>20304 rows × 2 columns</p>\n",
              "</div>\n",
              "      <button class=\"colab-df-convert\" onclick=\"convertToInteractive('df-48a34028-1cbc-4105-9370-d7a95faf8352')\"\n",
              "              title=\"Convert this dataframe to an interactive table.\"\n",
              "              style=\"display:none;\">\n",
              "        \n",
              "  <svg xmlns=\"http://www.w3.org/2000/svg\" height=\"24px\"viewBox=\"0 0 24 24\"\n",
              "       width=\"24px\">\n",
              "    <path d=\"M0 0h24v24H0V0z\" fill=\"none\"/>\n",
              "    <path d=\"M18.56 5.44l.94 2.06.94-2.06 2.06-.94-2.06-.94-.94-2.06-.94 2.06-2.06.94zm-11 1L8.5 8.5l.94-2.06 2.06-.94-2.06-.94L8.5 2.5l-.94 2.06-2.06.94zm10 10l.94 2.06.94-2.06 2.06-.94-2.06-.94-.94-2.06-.94 2.06-2.06.94z\"/><path d=\"M17.41 7.96l-1.37-1.37c-.4-.4-.92-.59-1.43-.59-.52 0-1.04.2-1.43.59L10.3 9.45l-7.72 7.72c-.78.78-.78 2.05 0 2.83L4 21.41c.39.39.9.59 1.41.59.51 0 1.02-.2 1.41-.59l7.78-7.78 2.81-2.81c.8-.78.8-2.07 0-2.86zM5.41 20L4 18.59l7.72-7.72 1.47 1.35L5.41 20z\"/>\n",
              "  </svg>\n",
              "      </button>\n",
              "      \n",
              "  <style>\n",
              "    .colab-df-container {\n",
              "      display:flex;\n",
              "      flex-wrap:wrap;\n",
              "      gap: 12px;\n",
              "    }\n",
              "\n",
              "    .colab-df-convert {\n",
              "      background-color: #E8F0FE;\n",
              "      border: none;\n",
              "      border-radius: 50%;\n",
              "      cursor: pointer;\n",
              "      display: none;\n",
              "      fill: #1967D2;\n",
              "      height: 32px;\n",
              "      padding: 0 0 0 0;\n",
              "      width: 32px;\n",
              "    }\n",
              "\n",
              "    .colab-df-convert:hover {\n",
              "      background-color: #E2EBFA;\n",
              "      box-shadow: 0px 1px 2px rgba(60, 64, 67, 0.3), 0px 1px 3px 1px rgba(60, 64, 67, 0.15);\n",
              "      fill: #174EA6;\n",
              "    }\n",
              "\n",
              "    [theme=dark] .colab-df-convert {\n",
              "      background-color: #3B4455;\n",
              "      fill: #D2E3FC;\n",
              "    }\n",
              "\n",
              "    [theme=dark] .colab-df-convert:hover {\n",
              "      background-color: #434B5C;\n",
              "      box-shadow: 0px 1px 3px 1px rgba(0, 0, 0, 0.15);\n",
              "      filter: drop-shadow(0px 1px 2px rgba(0, 0, 0, 0.3));\n",
              "      fill: #FFFFFF;\n",
              "    }\n",
              "  </style>\n",
              "\n",
              "      <script>\n",
              "        const buttonEl =\n",
              "          document.querySelector('#df-48a34028-1cbc-4105-9370-d7a95faf8352 button.colab-df-convert');\n",
              "        buttonEl.style.display =\n",
              "          google.colab.kernel.accessAllowed ? 'block' : 'none';\n",
              "\n",
              "        async function convertToInteractive(key) {\n",
              "          const element = document.querySelector('#df-48a34028-1cbc-4105-9370-d7a95faf8352');\n",
              "          const dataTable =\n",
              "            await google.colab.kernel.invokeFunction('convertToInteractive',\n",
              "                                                     [key], {});\n",
              "          if (!dataTable) return;\n",
              "\n",
              "          const docLinkHtml = 'Like what you see? Visit the ' +\n",
              "            '<a target=\"_blank\" href=https://colab.research.google.com/notebooks/data_table.ipynb>data table notebook</a>'\n",
              "            + ' to learn more about interactive tables.';\n",
              "          element.innerHTML = '';\n",
              "          dataTable['output_type'] = 'display_data';\n",
              "          await google.colab.output.renderOutput(dataTable, element);\n",
              "          const docLink = document.createElement('div');\n",
              "          docLink.innerHTML = docLinkHtml;\n",
              "          element.appendChild(docLink);\n",
              "        }\n",
              "      </script>\n",
              "    </div>\n",
              "  </div>\n",
              "  "
            ]
          },
          "metadata": {},
          "execution_count": 6
        }
      ],
      "source": [
        "dataset"
      ]
    },
    {
      "cell_type": "code",
      "execution_count": 7,
      "id": "237e9358-3dad-4b5e-9468-16287707ba12",
      "metadata": {
        "id": "237e9358-3dad-4b5e-9468-16287707ba12",
        "outputId": "44945a38-e4bf-4af0-aac2-2953c64582ad",
        "colab": {
          "base_uri": "https://localhost:8080/"
        }
      },
      "outputs": [
        {
          "output_type": "execute_result",
          "data": {
            "text/plain": [
              "4    11697\n",
              "2     3168\n",
              "1     2463\n",
              "3     1512\n",
              "0     1464\n",
              "Name: Annotation, dtype: int64"
            ]
          },
          "metadata": {},
          "execution_count": 7
        }
      ],
      "source": [
        "dataset['Annotation'].value_counts()"
      ]
    },
    {
      "cell_type": "code",
      "execution_count": 8,
      "id": "1f27047c-43c9-49c6-9007-1579d6137eec",
      "metadata": {
        "id": "1f27047c-43c9-49c6-9007-1579d6137eec"
      },
      "outputs": [],
      "source": [
        "dataset['Emotion'] = np.where(\n",
        "    dataset['Annotation'] == 0, 'Anger', np.where(\n",
        "        dataset['Annotation'] == 1, 'Joy', np.where(\n",
        "            dataset['Annotation'] == 2, 'Sad', np.where(\n",
        "                dataset['Annotation'] == 3, 'Suspense', 'Neutral'))))"
      ]
    },
    {
      "cell_type": "code",
      "execution_count": 9,
      "id": "a51aa701-b563-405b-b465-bf49a47c7b80",
      "metadata": {
        "id": "a51aa701-b563-405b-b465-bf49a47c7b80",
        "outputId": "659f6ac3-0e88-4072-8ca9-633721197af6",
        "colab": {
          "base_uri": "https://localhost:8080/"
        }
      },
      "outputs": [
        {
          "output_type": "execute_result",
          "data": {
            "text/plain": [
              "Neutral     11697\n",
              "Sad          3168\n",
              "Joy          2463\n",
              "Suspense     1512\n",
              "Anger        1464\n",
              "Name: Emotion, dtype: int64"
            ]
          },
          "metadata": {},
          "execution_count": 9
        }
      ],
      "source": [
        "dataset['Emotion'].value_counts()"
      ]
    },
    {
      "cell_type": "markdown",
      "id": "9fecd383-4370-4566-9b1b-f6deb0f7cb0f",
      "metadata": {
        "id": "9fecd383-4370-4566-9b1b-f6deb0f7cb0f"
      },
      "source": [
        "### Convert to TF Dataset and Train/Test Split"
      ]
    },
    {
      "cell_type": "code",
      "execution_count": 10,
      "id": "ec8f2ee8-2300-415f-a19e-786909bd1759",
      "metadata": {
        "id": "ec8f2ee8-2300-415f-a19e-786909bd1759"
      },
      "outputs": [],
      "source": [
        "full_dataset = (\n",
        "    tf.data.Dataset.from_tensor_slices(\n",
        "        (\n",
        "            tf.cast(dataset['Sentences'].values, tf.string),\n",
        "            tf.cast(dataset['Annotation'].values, tf.int32)\n",
        "        )\n",
        "    )\n",
        ")"
      ]
    },
    {
      "cell_type": "code",
      "execution_count": 11,
      "id": "64382e2e-e051-43e2-9a03-e114a526e9ab",
      "metadata": {
        "id": "64382e2e-e051-43e2-9a03-e114a526e9ab"
      },
      "outputs": [],
      "source": [
        "train_size = int(dataset.shape[0]*0.8)"
      ]
    },
    {
      "cell_type": "code",
      "execution_count": 12,
      "id": "f792b5c8-4f59-4074-9b0f-9cb6ab07cbfe",
      "metadata": {
        "id": "f792b5c8-4f59-4074-9b0f-9cb6ab07cbfe"
      },
      "outputs": [],
      "source": [
        "train_dataset = full_dataset.take(train_size)\n",
        "test_dataset = full_dataset.skip(train_size)"
      ]
    },
    {
      "cell_type": "code",
      "execution_count": 13,
      "id": "248ac967-7b26-41c7-8c3a-947ce834ac3b",
      "metadata": {
        "id": "248ac967-7b26-41c7-8c3a-947ce834ac3b"
      },
      "outputs": [],
      "source": [
        "batch_size = 16"
      ]
    },
    {
      "cell_type": "code",
      "execution_count": 14,
      "id": "6ae7c68d-fb19-405b-a7b0-d8131483a7e8",
      "metadata": {
        "id": "6ae7c68d-fb19-405b-a7b0-d8131483a7e8"
      },
      "outputs": [],
      "source": [
        "train_dataset = train_dataset.batch(batch_size)\n",
        "test_dataset = test_dataset.batch(batch_size)"
      ]
    },
    {
      "cell_type": "markdown",
      "id": "1438fddd-5d96-4ec1-bd9c-fc74a0482c0a",
      "metadata": {
        "id": "1438fddd-5d96-4ec1-bd9c-fc74a0482c0a"
      },
      "source": [
        "### Preprocessing\n",
        "* Tokenisation\n",
        "* Punctuation Removal\n",
        "* Embed words to ints"
      ]
    },
    {
      "cell_type": "code",
      "execution_count": 15,
      "id": "c1114402-d634-409b-8420-797942388f6d",
      "metadata": {
        "id": "c1114402-d634-409b-8420-797942388f6d"
      },
      "outputs": [],
      "source": [
        "max_features = 10000\n",
        "sequence_length = 100\n",
        "\n",
        "vectorize_layer = layers.TextVectorization(\n",
        "    standardize=\"strip_punctuation\",\n",
        "    max_tokens=max_features,\n",
        "    output_mode='int',\n",
        "    output_sequence_length=sequence_length)"
      ]
    },
    {
      "cell_type": "code",
      "execution_count": 16,
      "id": "147159a3-0b5b-4896-86d7-c30bdeb28900",
      "metadata": {
        "id": "147159a3-0b5b-4896-86d7-c30bdeb28900"
      },
      "outputs": [],
      "source": [
        "train_text = train_dataset.map(lambda x, y: x)"
      ]
    },
    {
      "cell_type": "code",
      "execution_count": 17,
      "id": "d49630a4-1c4e-4fc9-8285-748ac20699cf",
      "metadata": {
        "id": "d49630a4-1c4e-4fc9-8285-748ac20699cf"
      },
      "outputs": [],
      "source": [
        "vectorize_layer.adapt(train_text)"
      ]
    },
    {
      "cell_type": "code",
      "execution_count": 18,
      "id": "478b0089-ab6e-4ebc-af91-58f00e4d1780",
      "metadata": {
        "id": "478b0089-ab6e-4ebc-af91-58f00e4d1780"
      },
      "outputs": [],
      "source": [
        "def vectorize_text(text, label):\n",
        "    text = tf.expand_dims(text, -1)\n",
        "    return vectorize_layer(text), label"
      ]
    },
    {
      "cell_type": "code",
      "execution_count": 19,
      "id": "3333c0bf-f223-4506-97df-f63760de6253",
      "metadata": {
        "id": "3333c0bf-f223-4506-97df-f63760de6253",
        "outputId": "0d678273-ad06-4809-ba28-9f1e66c964ec",
        "colab": {
          "base_uri": "https://localhost:8080/"
        }
      },
      "outputs": [
        {
          "output_type": "stream",
          "name": "stdout",
          "text": [
            "Review tf.Tensor(b'\\xe0\\xa4\\xb0\\xe0\\xa4\\xae\\xe0\\xa4\\x9c\\xe0\\xa4\\xbe\\xe0\\xa4\\xa8 \\xe0\\xa4\\x95\\xe0\\xa5\\x87 \\xe0\\xa4\\xaa\\xe0\\xa5\\x82\\xe0\\xa4\\xb0\\xe0\\xa5\\x87 \\xe0\\xa4\\xa4\\xe0\\xa5\\x80\\xe0\\xa4\\xb8 \\xe0\\xa4\\xb0\\xe0\\xa5\\x8b\\xe0\\xa4\\x9c\\xe0\\xa5\\x8b\\xe0\\xa4\\x82 \\xe0\\xa4\\x95\\xe0\\xa5\\x87 \\xe0\\xa4\\xac\\xe0\\xa4\\xbe\\xe0\\xa4\\xa6 \\xe0\\xa4\\x88\\xe0\\xa4\\xa6 \\xe0\\xa4\\x86\\xe0\\xa4\\xaf\\xe0\\xa5\\x80 \\xe0\\xa4\\xb9\\xe0\\xa5\\x88', shape=(), dtype=string)\n",
            "Label tf.Tensor(1, shape=(), dtype=int32)\n",
            "Vectorized review (<tf.Tensor: shape=(1, 100), dtype=int64, numpy=\n",
            "array([[   1,    2,  839, 2833,    1,    2,   78, 2223,  320,    7,    0,\n",
            "           0,    0,    0,    0,    0,    0,    0,    0,    0,    0,    0,\n",
            "           0,    0,    0,    0,    0,    0,    0,    0,    0,    0,    0,\n",
            "           0,    0,    0,    0,    0,    0,    0,    0,    0,    0,    0,\n",
            "           0,    0,    0,    0,    0,    0,    0,    0,    0,    0,    0,\n",
            "           0,    0,    0,    0,    0,    0,    0,    0,    0,    0,    0,\n",
            "           0,    0,    0,    0,    0,    0,    0,    0,    0,    0,    0,\n",
            "           0,    0,    0,    0,    0,    0,    0,    0,    0,    0,    0,\n",
            "           0,    0,    0,    0,    0,    0,    0,    0,    0,    0,    0,\n",
            "           0]])>, <tf.Tensor: shape=(), dtype=int32, numpy=1>)\n"
          ]
        }
      ],
      "source": [
        "text_batch, label_batch = next(iter(train_dataset))\n",
        "first_review, first_label = text_batch[0], label_batch[0]\n",
        "print(\"Review\", first_review)\n",
        "print(\"Label\", first_label)\n",
        "print(\"Vectorized review\", vectorize_text(first_review, first_label))"
      ]
    },
    {
      "cell_type": "code",
      "execution_count": 20,
      "id": "c83979e3-3281-46a3-80b0-74f2cccbb2f6",
      "metadata": {
        "id": "c83979e3-3281-46a3-80b0-74f2cccbb2f6"
      },
      "outputs": [],
      "source": [
        "train_ds = train_dataset.map(vectorize_text)\n",
        "val_ds = test_dataset.map(vectorize_text)"
      ]
    },
    {
      "cell_type": "code",
      "source": [
        "vocab = vectorize_layer.get_vocabulary()\n",
        "word_index = dict(zip(vocab, range(len(vocab))))"
      ],
      "metadata": {
        "id": "vm1rt7bBarby"
      },
      "id": "vm1rt7bBarby",
      "execution_count": 21,
      "outputs": []
    },
    {
      "cell_type": "code",
      "source": [
        "import fasttext\n",
        "import fasttext.util\n",
        "ft = fasttext.load_model('wiki.hi.bin')\n",
        "word = \"नृत्य\"\n",
        "print(\"Embedding Shape is {}\".format(ft.get_word_vector(word).shape))\n",
        "print(\"Nearest Neighbors to {} are:\".format(word))\n",
        "ft.get_nearest_neighbors(word) "
      ],
      "metadata": {
        "colab": {
          "base_uri": "https://localhost:8080/"
        },
        "id": "GZ5hrnoRebCr",
        "outputId": "48749740-fb54-4e5a-d404-04300fba7da0"
      },
      "id": "GZ5hrnoRebCr",
      "execution_count": 22,
      "outputs": [
        {
          "output_type": "stream",
          "name": "stderr",
          "text": [
            "Warning : `load_model` does not return WordVectorModel or SupervisedModel any more, but a `FastText` object which is very similar.\n"
          ]
        },
        {
          "output_type": "stream",
          "name": "stdout",
          "text": [
            "Embedding Shape is (300,)\n",
            "Nearest Neighbors to नृत्य are:\n"
          ]
        },
        {
          "output_type": "execute_result",
          "data": {
            "text/plain": [
              "[(0.8913929462432861, 'नृत्य।'),\n",
              " (0.8440190553665161, 'नृत्यगान'),\n",
              " (0.8374733924865723, 'नृत्यगीत'),\n",
              " (0.8336297869682312, 'नृत्यों'),\n",
              " (0.8265783190727234, 'नृत्यरत'),\n",
              " (0.7971948385238647, 'नृत्यकला'),\n",
              " (0.7879464626312256, 'नृत्त'),\n",
              " (0.7682990431785583, 'नृतक'),\n",
              " (0.7622954845428467, 'नृत्यरचना'),\n",
              " (0.7602956295013428, 'नृत्यग्राम')]"
            ]
          },
          "metadata": {},
          "execution_count": 22
        }
      ]
    },
    {
      "cell_type": "code",
      "source": [
        "embedding_dim = 300\n",
        "\n",
        "# Prepare embedding matrix\n",
        "hits = 0\n",
        "misses = 0\n",
        "embedding_matrix = np.zeros((max_features, embedding_dim))\n",
        "for word, i in word_index.items():\n",
        "    embedding_vector = ft.get_word_vector(word)\n",
        "    if embedding_vector is not None:\n",
        "        # Words not found in embedding index will be all-zeros.\n",
        "        # This includes the representation for \"padding\" and \"OOV\"\n",
        "        embedding_matrix[i] = embedding_vector\n",
        "        hits += 1\n",
        "    else:\n",
        "        misses += 1\n",
        "print(\"Converted %d words (%d misses)\" % (hits, misses))"
      ],
      "metadata": {
        "colab": {
          "base_uri": "https://localhost:8080/"
        },
        "id": "jMLHsscoVj7-",
        "outputId": "14cd2faa-f8e8-421d-8278-640e53766afd"
      },
      "id": "jMLHsscoVj7-",
      "execution_count": 23,
      "outputs": [
        {
          "output_type": "stream",
          "name": "stdout",
          "text": [
            "Converted 10000 words (0 misses)\n"
          ]
        }
      ]
    },
    {
      "cell_type": "markdown",
      "id": "b3ae4111-180e-405a-a822-71705acf6c54",
      "metadata": {
        "id": "b3ae4111-180e-405a-a822-71705acf6c54"
      },
      "source": [
        "### Model definition"
      ]
    },
    {
      "cell_type": "code",
      "execution_count": 24,
      "id": "2440b664-63e4-4cdd-bf6d-8b86fb91b660",
      "metadata": {
        "id": "2440b664-63e4-4cdd-bf6d-8b86fb91b660",
        "outputId": "95b776f6-b955-4cc9-92d7-aa737ab424fc",
        "colab": {
          "base_uri": "https://localhost:8080/"
        }
      },
      "outputs": [
        {
          "output_type": "stream",
          "name": "stdout",
          "text": [
            "Model: \"sequential\"\n",
            "_________________________________________________________________\n",
            " Layer (type)                Output Shape              Param #   \n",
            "=================================================================\n",
            " embedding (Embedding)       (None, None, 300)         3000000   \n",
            "                                                                 \n",
            " dropout (Dropout)           (None, None, 300)         0         \n",
            "                                                                 \n",
            " global_average_pooling1d (G  (None, 300)              0         \n",
            " lobalAveragePooling1D)                                          \n",
            "                                                                 \n",
            " dropout_1 (Dropout)         (None, 300)               0         \n",
            "                                                                 \n",
            " dense (Dense)               (None, 128)               38528     \n",
            "                                                                 \n",
            " dropout_2 (Dropout)         (None, 128)               0         \n",
            "                                                                 \n",
            " dense_1 (Dense)             (None, 64)                8256      \n",
            "                                                                 \n",
            " dense_2 (Dense)             (None, 5)                 325       \n",
            "                                                                 \n",
            "=================================================================\n",
            "Total params: 3,047,109\n",
            "Trainable params: 47,109\n",
            "Non-trainable params: 3,000,000\n",
            "_________________________________________________________________\n"
          ]
        }
      ],
      "source": [
        "model = tf.keras.Sequential([\n",
        "  layers.Embedding(max_features, embedding_dim, embeddings_initializer=tf.keras.initializers.Constant(embedding_matrix), trainable=False),\n",
        "  layers.Dropout(0.25),\n",
        "  layers.GlobalAveragePooling1D(),\n",
        "  layers.Dropout(0.25),\n",
        "  layers.Dense(128, activation='relu'),\n",
        "  layers.Dropout(0.25),\n",
        "  layers.Dense(64, activation='relu'),\n",
        "  layers.Dense(5, activation='softmax')])\n",
        "\n",
        "model.summary()"
      ]
    },
    {
      "cell_type": "code",
      "execution_count": 25,
      "id": "83d900a6-dc69-4185-8d16-bcc99a3e9adf",
      "metadata": {
        "id": "83d900a6-dc69-4185-8d16-bcc99a3e9adf"
      },
      "outputs": [],
      "source": [
        "model.compile(loss=losses.SparseCategoricalCrossentropy(),\n",
        "              optimizer='adam',\n",
        "              metrics=tf.metrics.SparseCategoricalAccuracy())"
      ]
    },
    {
      "cell_type": "code",
      "execution_count": 26,
      "id": "79b17591-4c99-446d-891e-5af7eccd308c",
      "metadata": {
        "id": "79b17591-4c99-446d-891e-5af7eccd308c",
        "outputId": "1d29a5fa-0904-4257-89cc-ecdf198e1d96",
        "colab": {
          "base_uri": "https://localhost:8080/"
        }
      },
      "outputs": [
        {
          "output_type": "stream",
          "name": "stdout",
          "text": [
            "Epoch 1/10\n",
            "1016/1016 [==============================] - 14s 8ms/step - loss: 1.2719 - sparse_categorical_accuracy: 0.5449 - val_loss: 1.1022 - val_sparse_categorical_accuracy: 0.6646\n",
            "Epoch 2/10\n",
            "1016/1016 [==============================] - 5s 5ms/step - loss: 1.2470 - sparse_categorical_accuracy: 0.5474 - val_loss: 1.1008 - val_sparse_categorical_accuracy: 0.6646\n",
            "Epoch 3/10\n",
            "1016/1016 [==============================] - 5s 5ms/step - loss: 1.2309 - sparse_categorical_accuracy: 0.5536 - val_loss: 1.0908 - val_sparse_categorical_accuracy: 0.6646\n",
            "Epoch 4/10\n",
            "1016/1016 [==============================] - 5s 5ms/step - loss: 1.2218 - sparse_categorical_accuracy: 0.5538 - val_loss: 1.0807 - val_sparse_categorical_accuracy: 0.6646\n",
            "Epoch 5/10\n",
            "1016/1016 [==============================] - 6s 6ms/step - loss: 1.2138 - sparse_categorical_accuracy: 0.5537 - val_loss: 1.0797 - val_sparse_categorical_accuracy: 0.6646\n",
            "Epoch 6/10\n",
            "1016/1016 [==============================] - 5s 5ms/step - loss: 1.2063 - sparse_categorical_accuracy: 0.5544 - val_loss: 1.0713 - val_sparse_categorical_accuracy: 0.6646\n",
            "Epoch 7/10\n",
            "1016/1016 [==============================] - 5s 5ms/step - loss: 1.1992 - sparse_categorical_accuracy: 0.5541 - val_loss: 1.0727 - val_sparse_categorical_accuracy: 0.6646\n",
            "Epoch 8/10\n",
            "1016/1016 [==============================] - 5s 5ms/step - loss: 1.1934 - sparse_categorical_accuracy: 0.5541 - val_loss: 1.0643 - val_sparse_categorical_accuracy: 0.6646\n",
            "Epoch 9/10\n",
            "1016/1016 [==============================] - 5s 5ms/step - loss: 1.1914 - sparse_categorical_accuracy: 0.5545 - val_loss: 1.0615 - val_sparse_categorical_accuracy: 0.6646\n",
            "Epoch 10/10\n",
            "1016/1016 [==============================] - 5s 5ms/step - loss: 1.1836 - sparse_categorical_accuracy: 0.5554 - val_loss: 1.0628 - val_sparse_categorical_accuracy: 0.6646\n"
          ]
        }
      ],
      "source": [
        "epochs = 10\n",
        "history = model.fit(\n",
        "    train_ds,\n",
        "    validation_data=val_ds,\n",
        "    epochs=epochs)"
      ]
    },
    {
      "cell_type": "code",
      "source": [
        "pd.DataFrame(history.history)[['loss', 'val_loss']].plot(figsize=(8,5))"
      ],
      "metadata": {
        "colab": {
          "base_uri": "https://localhost:8080/",
          "height": 337
        },
        "id": "46d7ulvpo208",
        "outputId": "df0578a7-0f6d-4200-a289-45cf18cfb6e1"
      },
      "id": "46d7ulvpo208",
      "execution_count": 27,
      "outputs": [
        {
          "output_type": "execute_result",
          "data": {
            "text/plain": [
              "<matplotlib.axes._subplots.AxesSubplot at 0x7fc6fbc9c2d0>"
            ]
          },
          "metadata": {},
          "execution_count": 27
        },
        {
          "output_type": "display_data",
          "data": {
            "text/plain": [
              "<Figure size 576x360 with 1 Axes>"
            ],
            "image/png": "[encoded data removed]"
          },
          "metadata": {
            "needs_background": "light"
          }
        }
      ]
    },
    {
      "cell_type": "code",
      "execution_count": 28,
      "id": "76cb20b2-be01-468f-a17f-7e03e5e38568",
      "metadata": {
        "id": "76cb20b2-be01-468f-a17f-7e03e5e38568"
      },
      "outputs": [],
      "source": [
        "val_softmax = model.predict(val_ds)"
      ]
    },
    {
      "cell_type": "code",
      "execution_count": 29,
      "id": "d2f6ad9e-401c-4068-ad38-a98a096b640d",
      "metadata": {
        "id": "d2f6ad9e-401c-4068-ad38-a98a096b640d"
      },
      "outputs": [],
      "source": [
        "val_labels = np.argmax(val_softmax, axis=1)"
      ]
    },
    {
      "cell_type": "code",
      "execution_count": 30,
      "id": "40de48b2-325a-43f3-999d-69cf8adcf761",
      "metadata": {
        "id": "40de48b2-325a-43f3-999d-69cf8adcf761"
      },
      "outputs": [],
      "source": [
        "val_pd = dataset[train_size:]"
      ]
    },
    {
      "cell_type": "code",
      "execution_count": 31,
      "id": "6eadc6bb-59e0-427a-8ff3-6532cab3bbcf",
      "metadata": {
        "id": "6eadc6bb-59e0-427a-8ff3-6532cab3bbcf",
        "outputId": "f08d070f-728f-48a9-fc3e-11603c29af7b",
        "colab": {
          "base_uri": "https://localhost:8080/"
        }
      },
      "outputs": [
        {
          "output_type": "stream",
          "name": "stdout",
          "text": [
            "              precision    recall  f1-score   support\n",
            "\n",
            "           0       0.00      0.00      0.00       183\n",
            "           1       0.00      0.00      0.00       416\n",
            "           2       0.00      0.00      0.00       625\n",
            "           3       0.00      0.00      0.00       138\n",
            "           4       0.66      1.00      0.80      2699\n",
            "\n",
            "    accuracy                           0.66      4061\n",
            "   macro avg       0.13      0.20      0.16      4061\n",
            "weighted avg       0.44      0.66      0.53      4061\n",
            "\n"
          ]
        },
        {
          "output_type": "stream",
          "name": "stderr",
          "text": [
            "/usr/local/lib/python3.7/dist-packages/ipykernel_launcher.py:1: SettingWithCopyWarning: \n",
            "A value is trying to be set on a copy of a slice from a DataFrame.\n",
            "Try using .loc[row_indexer,col_indexer] = value instead\n",
            "\n",
            "See the caveats in the documentation: https://pandas.pydata.org/pandas-docs/stable/user_guide/indexing.html#returning-a-view-versus-a-copy\n",
            "  \"\"\"Entry point for launching an IPython kernel.\n",
            "/usr/local/lib/python3.7/dist-packages/sklearn/metrics/_classification.py:1318: UndefinedMetricWarning: Precision and F-score are ill-defined and being set to 0.0 in labels with no predicted samples. Use `zero_division` parameter to control this behavior.\n",
            "  _warn_prf(average, modifier, msg_start, len(result))\n",
            "/usr/local/lib/python3.7/dist-packages/sklearn/metrics/_classification.py:1318: UndefinedMetricWarning: Precision and F-score are ill-defined and being set to 0.0 in labels with no predicted samples. Use `zero_division` parameter to control this behavior.\n",
            "  _warn_prf(average, modifier, msg_start, len(result))\n",
            "/usr/local/lib/python3.7/dist-packages/sklearn/metrics/_classification.py:1318: UndefinedMetricWarning: Precision and F-score are ill-defined and being set to 0.0 in labels with no predicted samples. Use `zero_division` parameter to control this behavior.\n",
            "  _warn_prf(average, modifier, msg_start, len(result))\n"
          ]
        }
      ],
      "source": [
        "val_pd['pred_labels'] = val_labels\n",
        "print(classification_report(val_pd['Annotation'], val_pd['pred_labels']))"
      ]
    },
    {
      "cell_type": "code",
      "execution_count": 32,
      "id": "b32812db-b79c-4f30-b9b9-f439a22df6d4",
      "metadata": {
        "id": "b32812db-b79c-4f30-b9b9-f439a22df6d4"
      },
      "outputs": [],
      "source": [
        "# val_pd"
      ]
    },
    {
      "cell_type": "code",
      "execution_count": 33,
      "id": "764b235b-41f9-40c0-bbd4-acac0bc93ce7",
      "metadata": {
        "id": "764b235b-41f9-40c0-bbd4-acac0bc93ce7"
      },
      "outputs": [],
      "source": [
        "# val_pd['pred_labels'].value_counts()"
      ]
    },
    {
      "cell_type": "code",
      "execution_count": 34,
      "id": "d0bda131-dfda-4ba3-b177-25963af7581c",
      "metadata": {
        "id": "d0bda131-dfda-4ba3-b177-25963af7581c"
      },
      "outputs": [],
      "source": [
        "# val_pd['Annotation'].value_counts()"
      ]
    },
    {
      "cell_type": "markdown",
      "id": "10c1632c-dc32-4e42-aa7e-89aa0ef73396",
      "metadata": {
        "id": "10c1632c-dc32-4e42-aa7e-89aa0ef73396"
      },
      "source": [
        "### LSTM"
      ]
    },
    {
      "cell_type": "code",
      "execution_count": 35,
      "id": "cadb31cd-e970-4554-a3da-b77d43fe95f1",
      "metadata": {
        "id": "cadb31cd-e970-4554-a3da-b77d43fe95f1"
      },
      "outputs": [],
      "source": [
        "model = tf.keras.Sequential([\n",
        "    layers.Embedding(max_features, embedding_dim, mask_zero=True, embeddings_initializer=tf.keras.initializers.Constant(embedding_matrix), trainable=False),\n",
        "    tf.keras.layers.LSTM(64),\n",
        "    layers.Dense(32, activation='relu'),\n",
        "    layers.Dropout(0.25),\n",
        "    layers.Dense(5, activation='softmax')\n",
        "])"
      ]
    },
    {
      "cell_type": "code",
      "execution_count": 36,
      "id": "f40a2eed-af53-4d35-b3e6-0b25fb2629fc",
      "metadata": {
        "id": "f40a2eed-af53-4d35-b3e6-0b25fb2629fc"
      },
      "outputs": [],
      "source": [
        "model.compile(loss=losses.SparseCategoricalCrossentropy(),\n",
        "              optimizer=tf.keras.optimizers.Adam(learning_rate=1e-4),\n",
        "              metrics=tf.metrics.SparseCategoricalAccuracy())"
      ]
    },
    {
      "cell_type": "code",
      "execution_count": 37,
      "id": "64f79a10-a36c-4be1-8d34-c5d9567ddc6c",
      "metadata": {
        "id": "64f79a10-a36c-4be1-8d34-c5d9567ddc6c",
        "outputId": "74ca6fc1-0107-4f24-ff68-c3ff20eb4a97",
        "colab": {
          "base_uri": "https://localhost:8080/"
        }
      },
      "outputs": [
        {
          "output_type": "stream",
          "name": "stdout",
          "text": [
            "Epoch 1/10\n",
            "1016/1016 [==============================] - 24s 16ms/step - loss: 1.3040 - sparse_categorical_accuracy: 0.5473 - val_loss: 1.0959 - val_sparse_categorical_accuracy: 0.6646\n",
            "Epoch 2/10\n",
            "1016/1016 [==============================] - 14s 14ms/step - loss: 1.2723 - sparse_categorical_accuracy: 0.5524 - val_loss: 1.0892 - val_sparse_categorical_accuracy: 0.6646\n",
            "Epoch 3/10\n",
            "1016/1016 [==============================] - 16s 16ms/step - loss: 1.2459 - sparse_categorical_accuracy: 0.5533 - val_loss: 1.0868 - val_sparse_categorical_accuracy: 0.6646\n",
            "Epoch 4/10\n",
            "1016/1016 [==============================] - 15s 14ms/step - loss: 1.2234 - sparse_categorical_accuracy: 0.5521 - val_loss: 1.0743 - val_sparse_categorical_accuracy: 0.6646\n",
            "Epoch 5/10\n",
            "1016/1016 [==============================] - 14s 14ms/step - loss: 1.2071 - sparse_categorical_accuracy: 0.5527 - val_loss: 1.0694 - val_sparse_categorical_accuracy: 0.6646\n",
            "Epoch 6/10\n",
            "1016/1016 [==============================] - 15s 14ms/step - loss: 1.1923 - sparse_categorical_accuracy: 0.5531 - val_loss: 1.0600 - val_sparse_categorical_accuracy: 0.6646\n",
            "Epoch 7/10\n",
            "1016/1016 [==============================] - 15s 14ms/step - loss: 1.1793 - sparse_categorical_accuracy: 0.5551 - val_loss: 1.0580 - val_sparse_categorical_accuracy: 0.6646\n",
            "Epoch 8/10\n",
            "1016/1016 [==============================] - 15s 15ms/step - loss: 1.1696 - sparse_categorical_accuracy: 0.5572 - val_loss: 1.0630 - val_sparse_categorical_accuracy: 0.6649\n",
            "Epoch 9/10\n",
            "1016/1016 [==============================] - 15s 14ms/step - loss: 1.1574 - sparse_categorical_accuracy: 0.5618 - val_loss: 1.0701 - val_sparse_categorical_accuracy: 0.6649\n",
            "Epoch 10/10\n",
            "1016/1016 [==============================] - 15s 15ms/step - loss: 1.1497 - sparse_categorical_accuracy: 0.5635 - val_loss: 1.0671 - val_sparse_categorical_accuracy: 0.6649\n"
          ]
        }
      ],
      "source": [
        "epochs = 10\n",
        "history = model.fit(\n",
        "    train_ds,\n",
        "    validation_data=val_ds,\n",
        "    epochs=epochs)"
      ]
    },
    {
      "cell_type": "code",
      "execution_count": 38,
      "id": "6526a136-727b-4fd0-aacf-2da535dbd82d",
      "metadata": {
        "id": "6526a136-727b-4fd0-aacf-2da535dbd82d",
        "colab": {
          "base_uri": "https://localhost:8080/",
          "height": 337
        },
        "outputId": "b5227bf4-8f4a-4886-a905-25e677531812"
      },
      "outputs": [
        {
          "output_type": "execute_result",
          "data": {
            "text/plain": [
              "<matplotlib.axes._subplots.AxesSubplot at 0x7fc6d28882d0>"
            ]
          },
          "metadata": {},
          "execution_count": 38
        },
        {
          "output_type": "display_data",
          "data": {
            "text/plain": [
              "<Figure size 576x360 with 1 Axes>"
            ],
            "image/png": "[encoded data removed]"
          },
          "metadata": {
            "needs_background": "light"
          }
        }
      ],
      "source": [
        "pd.DataFrame(history.history)[['loss', 'val_loss']].plot(figsize=(8,5))"
      ]
    },
    {
      "cell_type": "code",
      "execution_count": 39,
      "id": "00f02a9e-7bad-47ce-a0cf-8be11420eb06",
      "metadata": {
        "id": "00f02a9e-7bad-47ce-a0cf-8be11420eb06",
        "colab": {
          "base_uri": "https://localhost:8080/"
        },
        "outputId": "69ce8df2-6b47-4cc5-c965-9a10d082e785"
      },
      "outputs": [
        {
          "output_type": "stream",
          "name": "stdout",
          "text": [
            "              precision    recall  f1-score   support\n",
            "\n",
            "           0       0.00      0.00      0.00       183\n",
            "           1       0.33      0.00      0.01       416\n",
            "           2       0.40      0.01      0.01       625\n",
            "           3       0.00      0.00      0.00       138\n",
            "           4       0.67      1.00      0.80      2699\n",
            "\n",
            "    accuracy                           0.66      4061\n",
            "   macro avg       0.28      0.20      0.16      4061\n",
            "weighted avg       0.54      0.66      0.53      4061\n",
            "\n"
          ]
        },
        {
          "output_type": "stream",
          "name": "stderr",
          "text": [
            "/usr/local/lib/python3.7/dist-packages/ipykernel_launcher.py:4: SettingWithCopyWarning: \n",
            "A value is trying to be set on a copy of a slice from a DataFrame.\n",
            "Try using .loc[row_indexer,col_indexer] = value instead\n",
            "\n",
            "See the caveats in the documentation: https://pandas.pydata.org/pandas-docs/stable/user_guide/indexing.html#returning-a-view-versus-a-copy\n",
            "  after removing the cwd from sys.path.\n",
            "/usr/local/lib/python3.7/dist-packages/sklearn/metrics/_classification.py:1318: UndefinedMetricWarning: Precision and F-score are ill-defined and being set to 0.0 in labels with no predicted samples. Use `zero_division` parameter to control this behavior.\n",
            "  _warn_prf(average, modifier, msg_start, len(result))\n",
            "/usr/local/lib/python3.7/dist-packages/sklearn/metrics/_classification.py:1318: UndefinedMetricWarning: Precision and F-score are ill-defined and being set to 0.0 in labels with no predicted samples. Use `zero_division` parameter to control this behavior.\n",
            "  _warn_prf(average, modifier, msg_start, len(result))\n",
            "/usr/local/lib/python3.7/dist-packages/sklearn/metrics/_classification.py:1318: UndefinedMetricWarning: Precision and F-score are ill-defined and being set to 0.0 in labels with no predicted samples. Use `zero_division` parameter to control this behavior.\n",
            "  _warn_prf(average, modifier, msg_start, len(result))\n"
          ]
        }
      ],
      "source": [
        "val_softmax = model.predict(val_ds)\n",
        "val_labels = np.argmax(val_softmax, axis=1)\n",
        "\n",
        "val_pd['lstm_pred'] = val_labels\n",
        "\n",
        "print(classification_report(val_pd['Annotation'], val_pd['lstm_pred']))"
      ]
    }
  ],
  "metadata": {
    "kernelspec": {
      "display_name": "Python 3 (ipykernel)",
      "language": "python",
      "name": "python3"
    },
    "language_info": {
      "codemirror_mode": {
        "name": "ipython",
        "version": 3
      },
      "file_extension": ".py",
      "mimetype": "text/x-python",
      "name": "python",
      "nbconvert_exporter": "python",
      "pygments_lexer": "ipython3",
      "version": "3.9.7"
    },
    "colab": {
      "name": "Pretrained-Pre-processing-v2.ipynb",
      "provenance": [],
      "collapsed_sections": []
    },
    "accelerator": "GPU"
  },
  "nbformat": 4,
  "nbformat_minor": 5
}