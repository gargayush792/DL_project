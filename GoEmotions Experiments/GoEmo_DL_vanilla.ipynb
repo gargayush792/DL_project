{
 "cells": [
  {
   "cell_type": "code",
   "execution_count": 2,
   "id": "c71b3426-42e2-41bb-8457-f5827fd67e67",
   "metadata": {},
   "outputs": [],
   "source": [
    "import pandas as pd\n",
    "import numpy as np"
   ]
  },
  {
   "cell_type": "code",
   "execution_count": 3,
   "id": "a804e801-f01e-4eef-8696-7b9a95c3c3a9",
   "metadata": {},
   "outputs": [],
   "source": [
    "import tensorflow as tf\n",
    "from tensorflow.keras import layers\n",
    "from tensorflow.keras import losses"
   ]
  },
  {
   "cell_type": "markdown",
   "id": "1e8388d7-91e5-43ae-b8d5-e8f52c8d11de",
   "metadata": {},
   "source": [
    "### Dataset reading and annotations"
   ]
  },
  {
   "cell_type": "code",
   "execution_count": 4,
   "id": "4cee91f6-c4ae-4cfd-a274-d4600f9c9d42",
   "metadata": {},
   "outputs": [],
   "source": [
    "train = pd.read_csv('~/Downloads/emoHi-train.csv.zip', index_col = 0)\n",
    "test = pd.read_csv('~/Downloads/emoHi-test.csv.zip', index_col=0)"
   ]
  },
  {
   "cell_type": "code",
   "execution_count": 5,
   "id": "d380d8f9-b0d9-4199-8a34-9ff4939b506f",
   "metadata": {},
   "outputs": [
    {
     "data": {
      "text/html": [
       "<div>\n",
       "<style scoped>\n",
       "    .dataframe tbody tr th:only-of-type {\n",
       "        vertical-align: middle;\n",
       "    }\n",
       "\n",
       "    .dataframe tbody tr th {\n",
       "        vertical-align: top;\n",
       "    }\n",
       "\n",
       "    .dataframe thead th {\n",
       "        text-align: right;\n",
       "    }\n",
       "</style>\n",
       "<table border=\"1\" class=\"dataframe\">\n",
       "  <thead>\n",
       "    <tr style=\"text-align: right;\">\n",
       "      <th></th>\n",
       "      <th>id</th>\n",
       "      <th>labels</th>\n",
       "      <th>text</th>\n",
       "    </tr>\n",
       "  </thead>\n",
       "  <tbody>\n",
       "    <tr>\n",
       "      <th>0</th>\n",
       "      <td>eebbqej</td>\n",
       "      <td>[27]</td>\n",
       "      <td>मेरा पसंदीदा खाना कुछ भी है जो मुझे खुद नहीं ब...</td>\n",
       "    </tr>\n",
       "    <tr>\n",
       "      <th>1</th>\n",
       "      <td>ed00q6i</td>\n",
       "      <td>[27]</td>\n",
       "      <td>अब अगर वह खुद से दूर हो जाता है, तो हर कोई सोच...</td>\n",
       "    </tr>\n",
       "    <tr>\n",
       "      <th>2</th>\n",
       "      <td>eezlygj</td>\n",
       "      <td>[2]</td>\n",
       "      <td>बकवास बेअदब आईएसओिंग क्यों है?</td>\n",
       "    </tr>\n",
       "    <tr>\n",
       "      <th>3</th>\n",
       "      <td>ed7ypvh</td>\n",
       "      <td>[14]</td>\n",
       "      <td>उसे खतरा महसूस कराने के लिए</td>\n",
       "    </tr>\n",
       "    <tr>\n",
       "      <th>4</th>\n",
       "      <td>ed0bdzj</td>\n",
       "      <td>[3]</td>\n",
       "      <td>डर्टी सदर्न वेंकर्स</td>\n",
       "    </tr>\n",
       "    <tr>\n",
       "      <th>...</th>\n",
       "      <td>...</td>\n",
       "      <td>...</td>\n",
       "      <td>...</td>\n",
       "    </tr>\n",
       "    <tr>\n",
       "      <th>43405</th>\n",
       "      <td>edsb738</td>\n",
       "      <td>[18]</td>\n",
       "      <td>आपको अच्छी तरह से जोड़ा गया मुझे अभी धनुष मिला...</td>\n",
       "    </tr>\n",
       "    <tr>\n",
       "      <th>43406</th>\n",
       "      <td>ee7fdou</td>\n",
       "      <td>[6]</td>\n",
       "      <td>हमेशा सोचा कि यह मजाकिया था लेकिन क्या यह किसी...</td>\n",
       "    </tr>\n",
       "    <tr>\n",
       "      <th>43407</th>\n",
       "      <td>efgbhks</td>\n",
       "      <td>[3]</td>\n",
       "      <td>तुम्हारी किस बारे में बोलने की इच्छा थी? जो कु...</td>\n",
       "    </tr>\n",
       "    <tr>\n",
       "      <th>43408</th>\n",
       "      <td>ed1naf8</td>\n",
       "      <td>[13]</td>\n",
       "      <td>एक बपतिस्मा की तरह, सेक्सी परिणामों के साथ!</td>\n",
       "    </tr>\n",
       "    <tr>\n",
       "      <th>43409</th>\n",
       "      <td>eecwmbq</td>\n",
       "      <td>[17]</td>\n",
       "      <td>सवारी के मजे लो!</td>\n",
       "    </tr>\n",
       "  </tbody>\n",
       "</table>\n",
       "<p>43410 rows × 3 columns</p>\n",
       "</div>"
      ],
      "text/plain": [
       "            id labels                                               text\n",
       "0      eebbqej   [27]  मेरा पसंदीदा खाना कुछ भी है जो मुझे खुद नहीं ब...\n",
       "1      ed00q6i   [27]  अब अगर वह खुद से दूर हो जाता है, तो हर कोई सोच...\n",
       "2      eezlygj    [2]                     बकवास बेअदब आईएसओिंग क्यों है?\n",
       "3      ed7ypvh   [14]                        उसे खतरा महसूस कराने के लिए\n",
       "4      ed0bdzj    [3]                                डर्टी सदर्न वेंकर्स\n",
       "...        ...    ...                                                ...\n",
       "43405  edsb738   [18]  आपको अच्छी तरह से जोड़ा गया मुझे अभी धनुष मिला...\n",
       "43406  ee7fdou    [6]  हमेशा सोचा कि यह मजाकिया था लेकिन क्या यह किसी...\n",
       "43407  efgbhks    [3]  तुम्हारी किस बारे में बोलने की इच्छा थी? जो कु...\n",
       "43408  ed1naf8   [13]        एक बपतिस्मा की तरह, सेक्सी परिणामों के साथ!\n",
       "43409  eecwmbq   [17]                                   सवारी के मजे लो!\n",
       "\n",
       "[43410 rows x 3 columns]"
      ]
     },
     "execution_count": 5,
     "metadata": {},
     "output_type": "execute_result"
    }
   ],
   "source": [
    "train"
   ]
  },
  {
   "cell_type": "code",
   "execution_count": 6,
   "id": "c6deb83f-ddef-44f5-aab1-c84155b566ef",
   "metadata": {},
   "outputs": [
    {
     "name": "stderr",
     "output_type": "stream",
     "text": [
      "/var/folders/t_/jx0zym4j5mgf__cxw2drjvwm0000gn/T/ipykernel_15580/3604601887.py:1: FutureWarning: The default value of regex will change from True to False in a future version. In addition, single character regular expressions will *not* be treated as literal strings when regex=True.\n",
      "  train['labels'] = train['labels'].str.replace(r'[', '')\n",
      "/var/folders/t_/jx0zym4j5mgf__cxw2drjvwm0000gn/T/ipykernel_15580/3604601887.py:2: FutureWarning: The default value of regex will change from True to False in a future version. In addition, single character regular expressions will *not* be treated as literal strings when regex=True.\n",
      "  train['labels'] = train['labels'].str.replace(r']', '')\n"
     ]
    }
   ],
   "source": [
    "train['labels'] = train['labels'].str.replace(r'[', '')\n",
    "train['labels'] = train['labels'].str.replace(r']', '')\n",
    "train['labels'] = train['labels'].str.strip()"
   ]
  },
  {
   "cell_type": "code",
   "execution_count": 7,
   "id": "c8d52819-98a9-49ba-bea2-1f24a7b11e79",
   "metadata": {},
   "outputs": [
    {
     "name": "stderr",
     "output_type": "stream",
     "text": [
      "/var/folders/t_/jx0zym4j5mgf__cxw2drjvwm0000gn/T/ipykernel_15580/43894735.py:1: FutureWarning: The default value of regex will change from True to False in a future version. In addition, single character regular expressions will *not* be treated as literal strings when regex=True.\n",
      "  test['labels'] = test['labels'].str.replace(r'[', '')\n",
      "/var/folders/t_/jx0zym4j5mgf__cxw2drjvwm0000gn/T/ipykernel_15580/43894735.py:2: FutureWarning: The default value of regex will change from True to False in a future version. In addition, single character regular expressions will *not* be treated as literal strings when regex=True.\n",
      "  test['labels'] = test['labels'].str.replace(r']', '')\n"
     ]
    }
   ],
   "source": [
    "test['labels'] = test['labels'].str.replace(r'[', '')\n",
    "test['labels'] = test['labels'].str.replace(r']', '')\n",
    "test['labels'] = test['labels'].str.strip()"
   ]
  },
  {
   "cell_type": "code",
   "execution_count": 8,
   "id": "f2787e5a-f355-4fa4-ae81-d3cec98ca017",
   "metadata": {},
   "outputs": [],
   "source": [
    "train['label'] = train['labels'].str.split(' ',expand=True)[0].astype(int)\n",
    "test['label'] = test['labels'].str.split(' ',expand=True)[0].astype(int)"
   ]
  },
  {
   "cell_type": "markdown",
   "id": "8bfe12e2-db59-460f-8221-0deab9954ceb",
   "metadata": {
    "tags": []
   },
   "source": [
    "### Convert to TF Dataset and Train/Test Split"
   ]
  },
  {
   "cell_type": "code",
   "execution_count": 9,
   "id": "236b71a4-8695-4e15-b7c1-b64672f862ff",
   "metadata": {},
   "outputs": [
    {
     "name": "stderr",
     "output_type": "stream",
     "text": [
      "2022-05-04 07:41:25.857565: I tensorflow/core/platform/cpu_feature_guard.cc:151] This TensorFlow binary is optimized with oneAPI Deep Neural Network Library (oneDNN) to use the following CPU instructions in performance-critical operations:  AVX2 FMA\n",
      "To enable them in other operations, rebuild TensorFlow with the appropriate compiler flags.\n"
     ]
    }
   ],
   "source": [
    "train_dataset = (\n",
    "    tf.data.Dataset.from_tensor_slices(\n",
    "        (\n",
    "            tf.cast(train['text'].values, tf.string),\n",
    "            tf.cast(train['label'].values, tf.int32)\n",
    "        )\n",
    "    )\n",
    ")"
   ]
  },
  {
   "cell_type": "code",
   "execution_count": 10,
   "id": "c9a2c795-9e10-49bb-9fa6-53ee1932f3ff",
   "metadata": {},
   "outputs": [],
   "source": [
    "test_dataset = (\n",
    "    tf.data.Dataset.from_tensor_slices(\n",
    "        (\n",
    "            tf.cast(test['text'].values, tf.string),\n",
    "            tf.cast(test['label'].values, tf.int32)\n",
    "        )\n",
    "    )\n",
    ")"
   ]
  },
  {
   "cell_type": "code",
   "execution_count": 11,
   "id": "843e216d-7f03-4057-84a1-cfeaa5db2a29",
   "metadata": {},
   "outputs": [],
   "source": [
    "batch_size = 16"
   ]
  },
  {
   "cell_type": "code",
   "execution_count": 12,
   "id": "b4b4475e-40ce-4ba2-ba3e-fb3477691dca",
   "metadata": {},
   "outputs": [],
   "source": [
    "train_dataset = train_dataset.batch(batch_size)\n",
    "test_dataset = test_dataset.batch(batch_size)"
   ]
  },
  {
   "cell_type": "markdown",
   "id": "e91eed88-8017-40ee-bb40-6a090f04ecad",
   "metadata": {
    "tags": []
   },
   "source": [
    "### Preprocessing\n",
    "* Tokenisation\n",
    "* Punctuation Removal\n",
    "* Embed words to ints"
   ]
  },
  {
   "cell_type": "code",
   "execution_count": 13,
   "id": "3701cd60-2340-4074-9b41-660bb0477b91",
   "metadata": {},
   "outputs": [],
   "source": [
    "max_features = 10000\n",
    "sequence_length = 100\n",
    "\n",
    "vectorize_layer = layers.TextVectorization(\n",
    "    standardize=\"strip_punctuation\",\n",
    "    max_tokens=max_features,\n",
    "    output_mode='int',\n",
    "    output_sequence_length=sequence_length)"
   ]
  },
  {
   "cell_type": "code",
   "execution_count": 14,
   "id": "4df3f052-0c67-48ce-9338-c8972cdacedf",
   "metadata": {},
   "outputs": [],
   "source": [
    "train_text = train_dataset.map(lambda x, y: x)"
   ]
  },
  {
   "cell_type": "code",
   "execution_count": 15,
   "id": "af348a8c-b860-4639-9c01-e23a58d40dd1",
   "metadata": {},
   "outputs": [],
   "source": [
    "vectorize_layer.adapt(train_text)"
   ]
  },
  {
   "cell_type": "code",
   "execution_count": 16,
   "id": "dba574a4-f680-4679-a7dd-5824219df530",
   "metadata": {},
   "outputs": [],
   "source": [
    "def vectorize_text(text, label):\n",
    "    text = tf.expand_dims(text, -1)\n",
    "    return vectorize_layer(text), label"
   ]
  },
  {
   "cell_type": "code",
   "execution_count": 17,
   "id": "3cd09475-a01f-42b1-b6b7-5fdceeab7fcb",
   "metadata": {},
   "outputs": [
    {
     "name": "stdout",
     "output_type": "stream",
     "text": [
      "Review tf.Tensor(b'\\xe0\\xa4\\xae\\xe0\\xa5\\x87\\xe0\\xa4\\xb0\\xe0\\xa4\\xbe \\xe0\\xa4\\xaa\\xe0\\xa4\\xb8\\xe0\\xa4\\x82\\xe0\\xa4\\xa6\\xe0\\xa5\\x80\\xe0\\xa4\\xa6\\xe0\\xa4\\xbe \\xe0\\xa4\\x96\\xe0\\xa4\\xbe\\xe0\\xa4\\xa8\\xe0\\xa4\\xbe \\xe0\\xa4\\x95\\xe0\\xa5\\x81\\xe0\\xa4\\x9b \\xe0\\xa4\\xad\\xe0\\xa5\\x80 \\xe0\\xa4\\xb9\\xe0\\xa5\\x88 \\xe0\\xa4\\x9c\\xe0\\xa5\\x8b \\xe0\\xa4\\xae\\xe0\\xa5\\x81\\xe0\\xa4\\x9d\\xe0\\xa5\\x87 \\xe0\\xa4\\x96\\xe0\\xa5\\x81\\xe0\\xa4\\xa6 \\xe0\\xa4\\xa8\\xe0\\xa4\\xb9\\xe0\\xa5\\x80\\xe0\\xa4\\x82 \\xe0\\xa4\\xac\\xe0\\xa4\\xa8\\xe0\\xa4\\xbe\\xe0\\xa4\\xa8\\xe0\\xa4\\xbe \\xe0\\xa4\\xb9\\xe0\\xa5\\x88\\xe0\\xa5\\xa4', shape=(), dtype=string)\n",
      "Label tf.Tensor(27, shape=(), dtype=int32)\n",
      "Vectorized review (<tf.Tensor: shape=(1, 100), dtype=int64, numpy=\n",
      "array([[ 82, 279, 682,  35,  21,   2,  41,  12, 209,   5, 890,   7,   0,\n",
      "          0,   0,   0,   0,   0,   0,   0,   0,   0,   0,   0,   0,   0,\n",
      "          0,   0,   0,   0,   0,   0,   0,   0,   0,   0,   0,   0,   0,\n",
      "          0,   0,   0,   0,   0,   0,   0,   0,   0,   0,   0,   0,   0,\n",
      "          0,   0,   0,   0,   0,   0,   0,   0,   0,   0,   0,   0,   0,\n",
      "          0,   0,   0,   0,   0,   0,   0,   0,   0,   0,   0,   0,   0,\n",
      "          0,   0,   0,   0,   0,   0,   0,   0,   0,   0,   0,   0,   0,\n",
      "          0,   0,   0,   0,   0,   0,   0,   0,   0]])>, <tf.Tensor: shape=(), dtype=int32, numpy=27>)\n"
     ]
    }
   ],
   "source": [
    "text_batch, label_batch = next(iter(train_dataset))\n",
    "first_review, first_label = text_batch[0], label_batch[0]\n",
    "print(\"Review\", first_review)\n",
    "print(\"Label\", first_label)\n",
    "print(\"Vectorized review\", vectorize_text(first_review, first_label))"
   ]
  },
  {
   "cell_type": "code",
   "execution_count": 18,
   "id": "9e6d9c12-54ef-4d72-95d7-41b41326a0b6",
   "metadata": {},
   "outputs": [],
   "source": [
    "train_ds = train_dataset.map(vectorize_text)\n",
    "val_ds = test_dataset.map(vectorize_text)"
   ]
  },
  {
   "cell_type": "code",
   "execution_count": 19,
   "id": "e85c360f-d7b0-4377-a1db-0a94c0283371",
   "metadata": {},
   "outputs": [],
   "source": [
    "embedding_dim = 64"
   ]
  },
  {
   "cell_type": "markdown",
   "id": "22dd0e32-65ab-4eff-9dca-96a1c31a5d9d",
   "metadata": {},
   "source": [
    "### Model definition"
   ]
  },
  {
   "cell_type": "code",
   "execution_count": 20,
   "id": "0a4fe404-3e47-4d29-abea-fdc72e834a90",
   "metadata": {},
   "outputs": [
    {
     "name": "stdout",
     "output_type": "stream",
     "text": [
      "Model: \"sequential\"\n",
      "_________________________________________________________________\n",
      " Layer (type)                Output Shape              Param #   \n",
      "=================================================================\n",
      " embedding (Embedding)       (None, None, 64)          640064    \n",
      "                                                                 \n",
      " dropout (Dropout)           (None, None, 64)          0         \n",
      "                                                                 \n",
      " global_average_pooling1d (G  (None, 64)               0         \n",
      " lobalAveragePooling1D)                                          \n",
      "                                                                 \n",
      " dropout_1 (Dropout)         (None, 64)                0         \n",
      "                                                                 \n",
      " dense (Dense)               (None, 28)                1820      \n",
      "                                                                 \n",
      "=================================================================\n",
      "Total params: 641,884\n",
      "Trainable params: 641,884\n",
      "Non-trainable params: 0\n",
      "_________________________________________________________________\n"
     ]
    }
   ],
   "source": [
    "model = tf.keras.Sequential([\n",
    "  layers.Embedding(max_features + 1, embedding_dim),\n",
    "  layers.Dropout(0.2),\n",
    "  layers.GlobalAveragePooling1D(),\n",
    "  layers.Dropout(0.2),\n",
    "  layers.Dense(28, activation='softmax')])\n",
    "\n",
    "model.summary()"
   ]
  },
  {
   "cell_type": "code",
   "execution_count": 21,
   "id": "cc5b953e-7858-4550-82ec-3a2623e947eb",
   "metadata": {},
   "outputs": [],
   "source": [
    "model.compile(loss=losses.SparseCategoricalCrossentropy(),\n",
    "              optimizer='adam',\n",
    "              metrics=tf.metrics.SparseCategoricalAccuracy())"
   ]
  },
  {
   "cell_type": "code",
   "execution_count": 22,
   "id": "988631db-2604-4d34-a137-7694146ca80e",
   "metadata": {
    "scrolled": true,
    "tags": []
   },
   "outputs": [
    {
     "name": "stdout",
     "output_type": "stream",
     "text": [
      "Epoch 1/12\n",
      "2714/2714 [==============================] - 10s 3ms/step - loss: 2.7119 - sparse_categorical_accuracy: 0.2949 - val_loss: 2.6516 - val_sparse_categorical_accuracy: 0.2959\n",
      "Epoch 2/12\n",
      "2714/2714 [==============================] - 9s 3ms/step - loss: 2.5909 - sparse_categorical_accuracy: 0.3055 - val_loss: 2.5128 - val_sparse_categorical_accuracy: 0.3343\n",
      "Epoch 3/12\n",
      "2714/2714 [==============================] - 9s 3ms/step - loss: 2.4319 - sparse_categorical_accuracy: 0.3569 - val_loss: 2.3619 - val_sparse_categorical_accuracy: 0.3765\n",
      "Epoch 4/12\n",
      "2714/2714 [==============================] - 10s 4ms/step - loss: 2.2818 - sparse_categorical_accuracy: 0.3902 - val_loss: 2.2417 - val_sparse_categorical_accuracy: 0.3995\n",
      "Epoch 5/12\n",
      "2714/2714 [==============================] - 12s 4ms/step - loss: 2.1529 - sparse_categorical_accuracy: 0.4146 - val_loss: 2.1448 - val_sparse_categorical_accuracy: 0.4231\n",
      "Epoch 6/12\n",
      "2714/2714 [==============================] - 11s 4ms/step - loss: 2.0408 - sparse_categorical_accuracy: 0.4382 - val_loss: 2.0596 - val_sparse_categorical_accuracy: 0.4391\n",
      "Epoch 7/12\n",
      "2714/2714 [==============================] - 9s 3ms/step - loss: 1.9336 - sparse_categorical_accuracy: 0.4632 - val_loss: 1.9914 - val_sparse_categorical_accuracy: 0.4568\n",
      "Epoch 8/12\n",
      "2714/2714 [==============================] - 12s 4ms/step - loss: 1.8481 - sparse_categorical_accuracy: 0.4834 - val_loss: 1.9390 - val_sparse_categorical_accuracy: 0.4667\n",
      "Epoch 9/12\n",
      "2714/2714 [==============================] - 10s 4ms/step - loss: 1.7681 - sparse_categorical_accuracy: 0.5007 - val_loss: 1.8977 - val_sparse_categorical_accuracy: 0.4763\n",
      "Epoch 10/12\n",
      "2714/2714 [==============================] - 10s 4ms/step - loss: 1.7036 - sparse_categorical_accuracy: 0.5144 - val_loss: 1.8684 - val_sparse_categorical_accuracy: 0.4846\n",
      "Epoch 11/12\n",
      "2714/2714 [==============================] - 11s 4ms/step - loss: 1.6502 - sparse_categorical_accuracy: 0.5266 - val_loss: 1.8435 - val_sparse_categorical_accuracy: 0.4900\n",
      "Epoch 12/12\n",
      "2714/2714 [==============================] - 10s 4ms/step - loss: 1.5984 - sparse_categorical_accuracy: 0.5383 - val_loss: 1.8278 - val_sparse_categorical_accuracy: 0.4944\n"
     ]
    }
   ],
   "source": [
    "epochs = 12\n",
    "history = model.fit(\n",
    "    train_ds,\n",
    "    validation_data=val_ds,\n",
    "    epochs=epochs)"
   ]
  },
  {
   "cell_type": "code",
   "execution_count": 22,
   "id": "c7a99eb2-80e5-4e03-94e2-3b7e940ec409",
   "metadata": {},
   "outputs": [
    {
     "data": {
      "image/png": "[encoded data removed]",
      "text/plain": [
       "<Figure size 432x288 with 1 Axes>"
      ]
     },
     "metadata": {
      "needs_background": "light"
     },
     "output_type": "display_data"
    }
   ],
   "source": [
    "from matplotlib import pyplot as plt\n",
    "plt.plot(history.history['loss'])\n",
    "plt.plot(history.history['val_loss'])\n",
    "plt.title('model loss')\n",
    "plt.ylabel('loss')\n",
    "plt.xlabel('epoch')\n",
    "plt.legend(['train', 'val'], loc='upper left')\n",
    "plt.show()"
   ]
  },
  {
   "cell_type": "code",
   "execution_count": 23,
   "id": "f05e2e38-33fd-4cc0-9597-08b60f6621c6",
   "metadata": {},
   "outputs": [],
   "source": [
    "val_softmax = model.predict(val_ds)"
   ]
  },
  {
   "cell_type": "code",
   "execution_count": 24,
   "id": "1b7f905f-521f-49bc-85da-7cd60112c53c",
   "metadata": {},
   "outputs": [],
   "source": [
    "val_labels = np.argmax(val_softmax, axis=1)"
   ]
  },
  {
   "cell_type": "code",
   "execution_count": 25,
   "id": "871fd2f2-1be0-47d0-981d-cf3a11adb2de",
   "metadata": {},
   "outputs": [],
   "source": [
    "val_pd = test"
   ]
  },
  {
   "cell_type": "code",
   "execution_count": 26,
   "id": "c7a03db8-66ce-4b8f-b56f-4cc0036f1f01",
   "metadata": {},
   "outputs": [],
   "source": [
    "val_pd['pred_labels'] = val_labels"
   ]
  },
  {
   "cell_type": "code",
   "execution_count": 27,
   "id": "d0de3f5d-8143-4a66-bf44-2fd30230ffac",
   "metadata": {},
   "outputs": [
    {
     "data": {
      "text/html": [
       "<div>\n",
       "<style scoped>\n",
       "    .dataframe tbody tr th:only-of-type {\n",
       "        vertical-align: middle;\n",
       "    }\n",
       "\n",
       "    .dataframe tbody tr th {\n",
       "        vertical-align: top;\n",
       "    }\n",
       "\n",
       "    .dataframe thead th {\n",
       "        text-align: right;\n",
       "    }\n",
       "</style>\n",
       "<table border=\"1\" class=\"dataframe\">\n",
       "  <thead>\n",
       "    <tr style=\"text-align: right;\">\n",
       "      <th></th>\n",
       "      <th>id</th>\n",
       "      <th>labels</th>\n",
       "      <th>text</th>\n",
       "      <th>label</th>\n",
       "      <th>pred_labels</th>\n",
       "    </tr>\n",
       "  </thead>\n",
       "  <tbody>\n",
       "    <tr>\n",
       "      <th>0</th>\n",
       "      <td>eecwqtt</td>\n",
       "      <td>25</td>\n",
       "      <td>मुझे आपकी स्थिति के लिए वास्तव में खेद है :( ह...</td>\n",
       "      <td>25</td>\n",
       "      <td>18</td>\n",
       "    </tr>\n",
       "    <tr>\n",
       "      <th>1</th>\n",
       "      <td>ed5f85d</td>\n",
       "      <td>0</td>\n",
       "      <td>यह अद्भुत है क्योंकि यह भयानक है। पर साथ नहीं।</td>\n",
       "      <td>0</td>\n",
       "      <td>0</td>\n",
       "    </tr>\n",
       "    <tr>\n",
       "      <th>2</th>\n",
       "      <td>een27c3</td>\n",
       "      <td>13</td>\n",
       "      <td>किंग्स फैन यहाँ, आप लोगों को शुभकामनाएँ! देखने...</td>\n",
       "      <td>13</td>\n",
       "      <td>13</td>\n",
       "    </tr>\n",
       "    <tr>\n",
       "      <th>3</th>\n",
       "      <td>eelgwd1</td>\n",
       "      <td>15</td>\n",
       "      <td>मुझे यह नहीं पता था, आज मुझे कुछ सिखाने के लिए...</td>\n",
       "      <td>15</td>\n",
       "      <td>15</td>\n",
       "    </tr>\n",
       "    <tr>\n",
       "      <th>4</th>\n",
       "      <td>eem5uti</td>\n",
       "      <td>27</td>\n",
       "      <td>वे हज़ारों वर्षों तक भूतिया धरती से ऊब चुके थे...</td>\n",
       "      <td>27</td>\n",
       "      <td>27</td>\n",
       "    </tr>\n",
       "    <tr>\n",
       "      <th>...</th>\n",
       "      <td>...</td>\n",
       "      <td>...</td>\n",
       "      <td>...</td>\n",
       "      <td>...</td>\n",
       "      <td>...</td>\n",
       "    </tr>\n",
       "    <tr>\n",
       "      <th>5422</th>\n",
       "      <td>efeeasc</td>\n",
       "      <td>15</td>\n",
       "      <td>धन्यवाद। मुझे अस्पताल में भर्ती होने के बाद भी...</td>\n",
       "      <td>15</td>\n",
       "      <td>15</td>\n",
       "    </tr>\n",
       "    <tr>\n",
       "      <th>5423</th>\n",
       "      <td>ef9c7s3</td>\n",
       "      <td>4</td>\n",
       "      <td>अच्छा यह समझ में आता है।</td>\n",
       "      <td>4</td>\n",
       "      <td>0</td>\n",
       "    </tr>\n",
       "    <tr>\n",
       "      <th>5424</th>\n",
       "      <td>efbiugo</td>\n",
       "      <td>27</td>\n",
       "      <td>डैडी मुद्दे [NAME]</td>\n",
       "      <td>27</td>\n",
       "      <td>27</td>\n",
       "    </tr>\n",
       "    <tr>\n",
       "      <th>5425</th>\n",
       "      <td>efbvgp9</td>\n",
       "      <td>0</td>\n",
       "      <td>बहुत खुशी है कि मैंने कुछ महीने पहले उस सब्रेड...</td>\n",
       "      <td>0</td>\n",
       "      <td>0</td>\n",
       "    </tr>\n",
       "    <tr>\n",
       "      <th>5426</th>\n",
       "      <td>edtjpv6</td>\n",
       "      <td>27</td>\n",
       "      <td>जब मेरे बच्चे छोटे थे तब कई बार \"एल्मो इन ग्रौ...</td>\n",
       "      <td>27</td>\n",
       "      <td>27</td>\n",
       "    </tr>\n",
       "  </tbody>\n",
       "</table>\n",
       "<p>5427 rows × 5 columns</p>\n",
       "</div>"
      ],
      "text/plain": [
       "           id labels                                               text  \\\n",
       "0     eecwqtt     25  मुझे आपकी स्थिति के लिए वास्तव में खेद है :( ह...   \n",
       "1     ed5f85d      0     यह अद्भुत है क्योंकि यह भयानक है। पर साथ नहीं।   \n",
       "2     een27c3     13  किंग्स फैन यहाँ, आप लोगों को शुभकामनाएँ! देखने...   \n",
       "3     eelgwd1     15  मुझे यह नहीं पता था, आज मुझे कुछ सिखाने के लिए...   \n",
       "4     eem5uti     27  वे हज़ारों वर्षों तक भूतिया धरती से ऊब चुके थे...   \n",
       "...       ...    ...                                                ...   \n",
       "5422  efeeasc     15  धन्यवाद। मुझे अस्पताल में भर्ती होने के बाद भी...   \n",
       "5423  ef9c7s3      4                           अच्छा यह समझ में आता है।   \n",
       "5424  efbiugo     27                                 डैडी मुद्दे [NAME]   \n",
       "5425  efbvgp9      0  बहुत खुशी है कि मैंने कुछ महीने पहले उस सब्रेड...   \n",
       "5426  edtjpv6     27  जब मेरे बच्चे छोटे थे तब कई बार \"एल्मो इन ग्रौ...   \n",
       "\n",
       "      label  pred_labels  \n",
       "0        25           18  \n",
       "1         0            0  \n",
       "2        13           13  \n",
       "3        15           15  \n",
       "4        27           27  \n",
       "...     ...          ...  \n",
       "5422     15           15  \n",
       "5423      4            0  \n",
       "5424     27           27  \n",
       "5425      0            0  \n",
       "5426     27           27  \n",
       "\n",
       "[5427 rows x 5 columns]"
      ]
     },
     "execution_count": 27,
     "metadata": {},
     "output_type": "execute_result"
    }
   ],
   "source": [
    "val_pd"
   ]
  },
  {
   "cell_type": "code",
   "execution_count": 28,
   "id": "15d69ace-a34b-40d4-bd54-1ac6b9ca4ffc",
   "metadata": {},
   "outputs": [
    {
     "data": {
      "text/plain": [
       "27    2753\n",
       "0      473\n",
       "15     303\n",
       "1      220\n",
       "18     214\n",
       "7      207\n",
       "4      183\n",
       "3      146\n",
       "2      139\n",
       "10     112\n",
       "17     102\n",
       "6       88\n",
       "20      84\n",
       "26      64\n",
       "25      58\n",
       "24      57\n",
       "14      55\n",
       "5       53\n",
       "8       34\n",
       "13      28\n",
       "11      25\n",
       "9       20\n",
       "22       9\n",
       "Name: pred_labels, dtype: int64"
      ]
     },
     "execution_count": 28,
     "metadata": {},
     "output_type": "execute_result"
    }
   ],
   "source": [
    "val_pd['pred_labels'].value_counts()"
   ]
  },
  {
   "cell_type": "code",
   "execution_count": 29,
   "id": "63cc98fa-bd08-4c5b-820d-1301a624d473",
   "metadata": {},
   "outputs": [
    {
     "data": {
      "text/plain": [
       "27    1606\n",
       "0      504\n",
       "4      318\n",
       "15     288\n",
       "3      286\n",
       "1      252\n",
       "7      233\n",
       "10     220\n",
       "2      197\n",
       "18     169\n",
       "6      139\n",
       "9      127\n",
       "20     120\n",
       "17     116\n",
       "5      114\n",
       "22     109\n",
       "25     108\n",
       "26      92\n",
       "13      84\n",
       "11      84\n",
       "14      74\n",
       "8       74\n",
       "24      46\n",
       "12      30\n",
       "19      16\n",
       "21       8\n",
       "23       7\n",
       "16       6\n",
       "Name: label, dtype: int64"
      ]
     },
     "execution_count": 29,
     "metadata": {},
     "output_type": "execute_result"
    }
   ],
   "source": [
    "val_pd['label'].value_counts()"
   ]
  },
  {
   "cell_type": "code",
   "execution_count": 30,
   "id": "e82b0e29-e30a-45f9-8720-704ae9f24bcc",
   "metadata": {},
   "outputs": [],
   "source": [
    "from sklearn.metrics import classification_report"
   ]
  },
  {
   "cell_type": "code",
   "execution_count": 31,
   "id": "af242492-bd87-4ebe-8bab-f22bee093770",
   "metadata": {},
   "outputs": [
    {
     "name": "stdout",
     "output_type": "stream",
     "text": [
      "              precision    recall  f1-score   support\n",
      "\n",
      "           0       0.59      0.56      0.57       504\n",
      "           1       0.70      0.62      0.66       252\n",
      "           2       0.42      0.30      0.35       197\n",
      "           3       0.20      0.10      0.13       286\n",
      "           4       0.33      0.19      0.24       318\n",
      "           5       0.38      0.18      0.24       114\n",
      "           6       0.36      0.23      0.28       139\n",
      "           7       0.35      0.31      0.33       233\n",
      "           8       0.44      0.20      0.28        74\n",
      "           9       0.15      0.02      0.04       127\n",
      "          10       0.28      0.14      0.19       220\n",
      "          11       0.56      0.17      0.26        84\n",
      "          12       0.00      0.00      0.00        30\n",
      "          13       0.57      0.19      0.29        84\n",
      "          14       0.58      0.43      0.50        74\n",
      "          15       0.78      0.82      0.80       288\n",
      "          16       0.00      0.00      0.00         6\n",
      "          17       0.52      0.46      0.49       116\n",
      "          18       0.57      0.73      0.64       169\n",
      "          19       0.00      0.00      0.00        16\n",
      "          20       0.62      0.43      0.51       120\n",
      "          21       0.00      0.00      0.00         8\n",
      "          22       0.56      0.05      0.08       109\n",
      "          23       0.00      0.00      0.00         7\n",
      "          24       0.56      0.70      0.62        46\n",
      "          25       0.43      0.23      0.30       108\n",
      "          26       0.36      0.25      0.29        92\n",
      "          27       0.48      0.82      0.61      1606\n",
      "\n",
      "    accuracy                           0.50      5427\n",
      "   macro avg       0.39      0.29      0.31      5427\n",
      "weighted avg       0.47      0.50      0.45      5427\n",
      "\n"
     ]
    },
    {
     "name": "stderr",
     "output_type": "stream",
     "text": [
      "/Users/ayush.garg/opt/anaconda3/lib/python3.9/site-packages/sklearn/metrics/_classification.py:1248: UndefinedMetricWarning: Precision and F-score are ill-defined and being set to 0.0 in labels with no predicted samples. Use `zero_division` parameter to control this behavior.\n",
      "  _warn_prf(average, modifier, msg_start, len(result))\n",
      "/Users/ayush.garg/opt/anaconda3/lib/python3.9/site-packages/sklearn/metrics/_classification.py:1248: UndefinedMetricWarning: Precision and F-score are ill-defined and being set to 0.0 in labels with no predicted samples. Use `zero_division` parameter to control this behavior.\n",
      "  _warn_prf(average, modifier, msg_start, len(result))\n",
      "/Users/ayush.garg/opt/anaconda3/lib/python3.9/site-packages/sklearn/metrics/_classification.py:1248: UndefinedMetricWarning: Precision and F-score are ill-defined and being set to 0.0 in labels with no predicted samples. Use `zero_division` parameter to control this behavior.\n",
      "  _warn_prf(average, modifier, msg_start, len(result))\n"
     ]
    }
   ],
   "source": [
    "print (classification_report(val_pd['label'], val_pd['pred_labels']))"
   ]
  },
  {
   "cell_type": "markdown",
   "id": "378d851b-86f4-434f-a99a-4fcab3c397c6",
   "metadata": {},
   "source": [
    "### LSTM"
   ]
  },
  {
   "cell_type": "code",
   "execution_count": 50,
   "id": "f548ef12-981f-4f81-bde4-585f22f9d9dd",
   "metadata": {},
   "outputs": [],
   "source": [
    "model = tf.keras.Sequential([\n",
    "    layers.Embedding(max_features + 1, embedding_dim, mask_zero=True),\n",
    "    layers.LSTM(32),\n",
    "    layers.Dropout(0.2),\n",
    "    layers.Dense(64, activation='relu'),\n",
    "    layers.Dense(28, activation='softmax')\n",
    "])"
   ]
  },
  {
   "cell_type": "code",
   "execution_count": 51,
   "id": "36061c4d-1a13-421e-8155-2dacad952241",
   "metadata": {},
   "outputs": [],
   "source": [
    "model.compile(loss=losses.SparseCategoricalCrossentropy(),\n",
    "              optimizer='adam',\n",
    "              metrics=tf.metrics.SparseCategoricalAccuracy())"
   ]
  },
  {
   "cell_type": "code",
   "execution_count": 52,
   "id": "acd33e53-e9fd-48e4-8eb2-4e11920acd7c",
   "metadata": {},
   "outputs": [
    {
     "name": "stdout",
     "output_type": "stream",
     "text": [
      "Epoch 1/4\n",
      "2714/2714 [==============================] - 100s 36ms/step - loss: 2.3578 - sparse_categorical_accuracy: 0.3865 - val_loss: 2.0823 - val_sparse_categorical_accuracy: 0.4456\n",
      "Epoch 2/4\n",
      "2714/2714 [==============================] - 95s 35ms/step - loss: 1.9123 - sparse_categorical_accuracy: 0.4708 - val_loss: 1.9336 - val_sparse_categorical_accuracy: 0.4678\n",
      "Epoch 3/4\n",
      "2714/2714 [==============================] - 94s 35ms/step - loss: 1.6883 - sparse_categorical_accuracy: 0.5140 - val_loss: 1.9003 - val_sparse_categorical_accuracy: 0.4772\n",
      "Epoch 4/4\n",
      "2714/2714 [==============================] - 102s 38ms/step - loss: 1.5143 - sparse_categorical_accuracy: 0.5573 - val_loss: 1.9203 - val_sparse_categorical_accuracy: 0.4721\n"
     ]
    }
   ],
   "source": [
    "epochs = 4\n",
    "history = model.fit(\n",
    "    train_ds,\n",
    "    validation_data=val_ds,\n",
    "    epochs=epochs)"
   ]
  },
  {
   "cell_type": "code",
   "execution_count": 53,
   "id": "b49f1043-79a9-47a8-a185-a3514604aaf8",
   "metadata": {},
   "outputs": [
    {
     "data": {
      "image/png": "[encoded data removed]",
      "text/plain": [
       "<Figure size 432x288 with 1 Axes>"
      ]
     },
     "metadata": {
      "needs_background": "light"
     },
     "output_type": "display_data"
    }
   ],
   "source": [
    "from matplotlib import pyplot as plt\n",
    "plt.plot(history.history['loss'])\n",
    "plt.plot(history.history['val_loss'])\n",
    "plt.title('model loss')\n",
    "plt.ylabel('loss')\n",
    "plt.xlabel('epoch')\n",
    "plt.legend(['train', 'val'], loc='upper left')\n",
    "plt.show()"
   ]
  },
  {
   "cell_type": "code",
   "execution_count": 54,
   "id": "a8504728-8b31-4268-b122-0a32469fb4a8",
   "metadata": {},
   "outputs": [],
   "source": [
    "val_softmax = model.predict(val_ds)"
   ]
  },
  {
   "cell_type": "code",
   "execution_count": 55,
   "id": "41b6738e-fe13-4cc8-b4d9-32dbdafdec1a",
   "metadata": {},
   "outputs": [],
   "source": [
    "val_labels = np.argmax(val_softmax, axis=1)"
   ]
  },
  {
   "cell_type": "code",
   "execution_count": 56,
   "id": "e23ae610-9287-4a78-b361-a013f475a553",
   "metadata": {},
   "outputs": [],
   "source": [
    "val_pd = test"
   ]
  },
  {
   "cell_type": "code",
   "execution_count": 57,
   "id": "3f420b44-bfee-4d8d-866f-b7c30b3dbb46",
   "metadata": {},
   "outputs": [],
   "source": [
    "val_pd['pred_labels'] = val_labels"
   ]
  },
  {
   "cell_type": "code",
   "execution_count": 58,
   "id": "53e70a95-d146-4e32-969a-a91a3d2b3a06",
   "metadata": {},
   "outputs": [
    {
     "data": {
      "text/html": [
       "<div>\n",
       "<style scoped>\n",
       "    .dataframe tbody tr th:only-of-type {\n",
       "        vertical-align: middle;\n",
       "    }\n",
       "\n",
       "    .dataframe tbody tr th {\n",
       "        vertical-align: top;\n",
       "    }\n",
       "\n",
       "    .dataframe thead th {\n",
       "        text-align: right;\n",
       "    }\n",
       "</style>\n",
       "<table border=\"1\" class=\"dataframe\">\n",
       "  <thead>\n",
       "    <tr style=\"text-align: right;\">\n",
       "      <th></th>\n",
       "      <th>id</th>\n",
       "      <th>labels</th>\n",
       "      <th>text</th>\n",
       "      <th>label</th>\n",
       "      <th>pred_labels</th>\n",
       "    </tr>\n",
       "  </thead>\n",
       "  <tbody>\n",
       "    <tr>\n",
       "      <th>0</th>\n",
       "      <td>eecwqtt</td>\n",
       "      <td>25</td>\n",
       "      <td>मुझे आपकी स्थिति के लिए वास्तव में खेद है :( ह...</td>\n",
       "      <td>25</td>\n",
       "      <td>24</td>\n",
       "    </tr>\n",
       "    <tr>\n",
       "      <th>1</th>\n",
       "      <td>ed5f85d</td>\n",
       "      <td>0</td>\n",
       "      <td>यह अद्भुत है क्योंकि यह भयानक है। पर साथ नहीं।</td>\n",
       "      <td>0</td>\n",
       "      <td>0</td>\n",
       "    </tr>\n",
       "    <tr>\n",
       "      <th>2</th>\n",
       "      <td>een27c3</td>\n",
       "      <td>13</td>\n",
       "      <td>किंग्स फैन यहाँ, आप लोगों को शुभकामनाएँ! देखने...</td>\n",
       "      <td>13</td>\n",
       "      <td>20</td>\n",
       "    </tr>\n",
       "    <tr>\n",
       "      <th>3</th>\n",
       "      <td>eelgwd1</td>\n",
       "      <td>15</td>\n",
       "      <td>मुझे यह नहीं पता था, आज मुझे कुछ सिखाने के लिए...</td>\n",
       "      <td>15</td>\n",
       "      <td>15</td>\n",
       "    </tr>\n",
       "    <tr>\n",
       "      <th>4</th>\n",
       "      <td>eem5uti</td>\n",
       "      <td>27</td>\n",
       "      <td>वे हज़ारों वर्षों तक भूतिया धरती से ऊब चुके थे...</td>\n",
       "      <td>27</td>\n",
       "      <td>27</td>\n",
       "    </tr>\n",
       "    <tr>\n",
       "      <th>...</th>\n",
       "      <td>...</td>\n",
       "      <td>...</td>\n",
       "      <td>...</td>\n",
       "      <td>...</td>\n",
       "      <td>...</td>\n",
       "    </tr>\n",
       "    <tr>\n",
       "      <th>5422</th>\n",
       "      <td>efeeasc</td>\n",
       "      <td>15</td>\n",
       "      <td>धन्यवाद। मुझे अस्पताल में भर्ती होने के बाद भी...</td>\n",
       "      <td>15</td>\n",
       "      <td>15</td>\n",
       "    </tr>\n",
       "    <tr>\n",
       "      <th>5423</th>\n",
       "      <td>ef9c7s3</td>\n",
       "      <td>4</td>\n",
       "      <td>अच्छा यह समझ में आता है।</td>\n",
       "      <td>4</td>\n",
       "      <td>0</td>\n",
       "    </tr>\n",
       "    <tr>\n",
       "      <th>5424</th>\n",
       "      <td>efbiugo</td>\n",
       "      <td>27</td>\n",
       "      <td>डैडी मुद्दे [NAME]</td>\n",
       "      <td>27</td>\n",
       "      <td>27</td>\n",
       "    </tr>\n",
       "    <tr>\n",
       "      <th>5425</th>\n",
       "      <td>efbvgp9</td>\n",
       "      <td>0</td>\n",
       "      <td>बहुत खुशी है कि मैंने कुछ महीने पहले उस सब्रेड...</td>\n",
       "      <td>0</td>\n",
       "      <td>17</td>\n",
       "    </tr>\n",
       "    <tr>\n",
       "      <th>5426</th>\n",
       "      <td>edtjpv6</td>\n",
       "      <td>27</td>\n",
       "      <td>जब मेरे बच्चे छोटे थे तब कई बार \"एल्मो इन ग्रौ...</td>\n",
       "      <td>27</td>\n",
       "      <td>27</td>\n",
       "    </tr>\n",
       "  </tbody>\n",
       "</table>\n",
       "<p>5427 rows × 5 columns</p>\n",
       "</div>"
      ],
      "text/plain": [
       "           id labels                                               text  \\\n",
       "0     eecwqtt     25  मुझे आपकी स्थिति के लिए वास्तव में खेद है :( ह...   \n",
       "1     ed5f85d      0     यह अद्भुत है क्योंकि यह भयानक है। पर साथ नहीं।   \n",
       "2     een27c3     13  किंग्स फैन यहाँ, आप लोगों को शुभकामनाएँ! देखने...   \n",
       "3     eelgwd1     15  मुझे यह नहीं पता था, आज मुझे कुछ सिखाने के लिए...   \n",
       "4     eem5uti     27  वे हज़ारों वर्षों तक भूतिया धरती से ऊब चुके थे...   \n",
       "...       ...    ...                                                ...   \n",
       "5422  efeeasc     15  धन्यवाद। मुझे अस्पताल में भर्ती होने के बाद भी...   \n",
       "5423  ef9c7s3      4                           अच्छा यह समझ में आता है।   \n",
       "5424  efbiugo     27                                 डैडी मुद्दे [NAME]   \n",
       "5425  efbvgp9      0  बहुत खुशी है कि मैंने कुछ महीने पहले उस सब्रेड...   \n",
       "5426  edtjpv6     27  जब मेरे बच्चे छोटे थे तब कई बार \"एल्मो इन ग्रौ...   \n",
       "\n",
       "      label  pred_labels  \n",
       "0        25           24  \n",
       "1         0            0  \n",
       "2        13           20  \n",
       "3        15           15  \n",
       "4        27           27  \n",
       "...     ...          ...  \n",
       "5422     15           15  \n",
       "5423      4            0  \n",
       "5424     27           27  \n",
       "5425      0           17  \n",
       "5426     27           27  \n",
       "\n",
       "[5427 rows x 5 columns]"
      ]
     },
     "execution_count": 58,
     "metadata": {},
     "output_type": "execute_result"
    }
   ],
   "source": [
    "val_pd"
   ]
  },
  {
   "cell_type": "code",
   "execution_count": 59,
   "id": "c4b8b6c4-7381-494a-b67f-5a9feb3fad49",
   "metadata": {},
   "outputs": [
    {
     "data": {
      "text/plain": [
       "27    2095\n",
       "0      436\n",
       "15     301\n",
       "7      258\n",
       "1      252\n",
       "18     235\n",
       "10     222\n",
       "3      212\n",
       "2      181\n",
       "4      155\n",
       "17     149\n",
       "25     114\n",
       "26     100\n",
       "11      93\n",
       "6       93\n",
       "14      91\n",
       "20      89\n",
       "5       89\n",
       "24      78\n",
       "9       75\n",
       "13      56\n",
       "8       35\n",
       "22      11\n",
       "12       7\n",
       "Name: pred_labels, dtype: int64"
      ]
     },
     "execution_count": 59,
     "metadata": {},
     "output_type": "execute_result"
    }
   ],
   "source": [
    "val_pd['pred_labels'].value_counts()"
   ]
  },
  {
   "cell_type": "code",
   "execution_count": 60,
   "id": "da8abaeb-9deb-4de2-a5b6-a10b051c9186",
   "metadata": {},
   "outputs": [
    {
     "name": "stdout",
     "output_type": "stream",
     "text": [
      "              precision    recall  f1-score   support\n",
      "\n",
      "           0       0.64      0.55      0.59       504\n",
      "           1       0.68      0.68      0.68       252\n",
      "           2       0.34      0.31      0.33       197\n",
      "           3       0.19      0.14      0.16       286\n",
      "           4       0.35      0.17      0.23       318\n",
      "           5       0.28      0.22      0.25       114\n",
      "           6       0.31      0.21      0.25       139\n",
      "           7       0.34      0.37      0.35       233\n",
      "           8       0.43      0.20      0.28        74\n",
      "           9       0.17      0.10      0.13       127\n",
      "          10       0.23      0.24      0.24       220\n",
      "          11       0.24      0.26      0.25        84\n",
      "          12       0.43      0.10      0.16        30\n",
      "          13       0.43      0.29      0.34        84\n",
      "          14       0.45      0.55      0.50        74\n",
      "          15       0.78      0.82      0.80       288\n",
      "          16       0.00      0.00      0.00         6\n",
      "          17       0.36      0.47      0.41       116\n",
      "          18       0.54      0.75      0.63       169\n",
      "          19       0.00      0.00      0.00        16\n",
      "          20       0.47      0.35      0.40       120\n",
      "          21       0.00      0.00      0.00         8\n",
      "          22       0.18      0.02      0.03       109\n",
      "          23       0.00      0.00      0.00         7\n",
      "          24       0.44      0.74      0.55        46\n",
      "          25       0.33      0.35      0.34       108\n",
      "          26       0.24      0.26      0.25        92\n",
      "          27       0.52      0.68      0.59      1606\n",
      "\n",
      "    accuracy                           0.47      5427\n",
      "   macro avg       0.34      0.32      0.31      5427\n",
      "weighted avg       0.45      0.47      0.45      5427\n",
      "\n"
     ]
    },
    {
     "name": "stderr",
     "output_type": "stream",
     "text": [
      "/Users/ayush.garg/opt/anaconda3/lib/python3.9/site-packages/sklearn/metrics/_classification.py:1248: UndefinedMetricWarning: Precision and F-score are ill-defined and being set to 0.0 in labels with no predicted samples. Use `zero_division` parameter to control this behavior.\n",
      "  _warn_prf(average, modifier, msg_start, len(result))\n",
      "/Users/ayush.garg/opt/anaconda3/lib/python3.9/site-packages/sklearn/metrics/_classification.py:1248: UndefinedMetricWarning: Precision and F-score are ill-defined and being set to 0.0 in labels with no predicted samples. Use `zero_division` parameter to control this behavior.\n",
      "  _warn_prf(average, modifier, msg_start, len(result))\n",
      "/Users/ayush.garg/opt/anaconda3/lib/python3.9/site-packages/sklearn/metrics/_classification.py:1248: UndefinedMetricWarning: Precision and F-score are ill-defined and being set to 0.0 in labels with no predicted samples. Use `zero_division` parameter to control this behavior.\n",
      "  _warn_prf(average, modifier, msg_start, len(result))\n"
     ]
    }
   ],
   "source": [
    "print (classification_report(val_pd['label'], val_pd['pred_labels']))"
   ]
  },
  {
   "cell_type": "markdown",
   "id": "681249f7-959c-4994-bf75-369cc64eb84e",
   "metadata": {},
   "source": [
    "### Bi-LSTM"
   ]
  },
  {
   "cell_type": "code",
   "execution_count": 61,
   "id": "b0bae6a9-6395-4271-86c2-84069e63c242",
   "metadata": {},
   "outputs": [],
   "source": [
    "model = tf.keras.Sequential([\n",
    "    layers.Embedding(max_features + 1, embedding_dim, mask_zero=True),\n",
    "    layers.Bidirectional(tf.keras.layers.LSTM(32)),\n",
    "    layers.Dense(64, activation='relu'),\n",
    "    layers.Dense(28, activation='softmax')\n",
    "])"
   ]
  },
  {
   "cell_type": "code",
   "execution_count": 62,
   "id": "1e1befb6-ca4e-4057-a9a8-e9ad7b96427b",
   "metadata": {},
   "outputs": [],
   "source": [
    "model.compile(loss=losses.SparseCategoricalCrossentropy(),\n",
    "              optimizer='adam',\n",
    "              metrics=tf.metrics.SparseCategoricalAccuracy())"
   ]
  },
  {
   "cell_type": "code",
   "execution_count": 63,
   "id": "35e4779d-40eb-496d-87ca-8f98e1e7e6cc",
   "metadata": {},
   "outputs": [
    {
     "name": "stdout",
     "output_type": "stream",
     "text": [
      "Epoch 1/2\n",
      "2714/2714 [==============================] - 129s 46ms/step - loss: 2.2287 - sparse_categorical_accuracy: 0.4101 - val_loss: 1.8962 - val_sparse_categorical_accuracy: 0.4872\n",
      "Epoch 2/2\n",
      "2714/2714 [==============================] - 131s 48ms/step - loss: 1.7027 - sparse_categorical_accuracy: 0.5187 - val_loss: 1.8018 - val_sparse_categorical_accuracy: 0.5001\n"
     ]
    }
   ],
   "source": [
    "epochs = 2\n",
    "history = model.fit(\n",
    "    train_ds,\n",
    "    validation_data=val_ds,\n",
    "    epochs=epochs)"
   ]
  },
  {
   "cell_type": "code",
   "execution_count": 64,
   "id": "4484e620-6b1f-4adf-b9a2-bf3866052828",
   "metadata": {},
   "outputs": [
    {
     "data": {
      "image/png": "[encoded data removed]",
      "text/plain": [
       "<Figure size 432x288 with 1 Axes>"
      ]
     },
     "metadata": {
      "needs_background": "light"
     },
     "output_type": "display_data"
    }
   ],
   "source": [
    "from matplotlib import pyplot as plt\n",
    "plt.plot(history.history['loss'])\n",
    "plt.plot(history.history['val_loss'])\n",
    "plt.title('model loss')\n",
    "plt.ylabel('loss')\n",
    "plt.xlabel('epoch')\n",
    "plt.legend(['train', 'val'], loc='upper left')\n",
    "plt.show()"
   ]
  },
  {
   "cell_type": "code",
   "execution_count": 65,
   "id": "36100074-1731-4aef-b64d-04f087e31f73",
   "metadata": {},
   "outputs": [],
   "source": [
    "val_softmax = model.predict(val_ds)"
   ]
  },
  {
   "cell_type": "code",
   "execution_count": 66,
   "id": "e9b4d57d-f602-45b4-ba44-57549e6605da",
   "metadata": {},
   "outputs": [],
   "source": [
    "val_labels = np.argmax(val_softmax, axis=1)"
   ]
  },
  {
   "cell_type": "code",
   "execution_count": 67,
   "id": "21fc3175-29eb-44f8-93d2-3bcba38044a0",
   "metadata": {},
   "outputs": [],
   "source": [
    "val_pd = test"
   ]
  },
  {
   "cell_type": "code",
   "execution_count": 68,
   "id": "dcdd4a08-a218-44bf-b104-d1069c7f7968",
   "metadata": {},
   "outputs": [],
   "source": [
    "val_pd['pred_labels'] = val_labels"
   ]
  },
  {
   "cell_type": "code",
   "execution_count": 69,
   "id": "a8f195e0-625e-4227-bd87-ed43a7ebe54b",
   "metadata": {},
   "outputs": [
    {
     "data": {
      "text/html": [
       "<div>\n",
       "<style scoped>\n",
       "    .dataframe tbody tr th:only-of-type {\n",
       "        vertical-align: middle;\n",
       "    }\n",
       "\n",
       "    .dataframe tbody tr th {\n",
       "        vertical-align: top;\n",
       "    }\n",
       "\n",
       "    .dataframe thead th {\n",
       "        text-align: right;\n",
       "    }\n",
       "</style>\n",
       "<table border=\"1\" class=\"dataframe\">\n",
       "  <thead>\n",
       "    <tr style=\"text-align: right;\">\n",
       "      <th></th>\n",
       "      <th>id</th>\n",
       "      <th>labels</th>\n",
       "      <th>text</th>\n",
       "      <th>label</th>\n",
       "      <th>pred_labels</th>\n",
       "    </tr>\n",
       "  </thead>\n",
       "  <tbody>\n",
       "    <tr>\n",
       "      <th>0</th>\n",
       "      <td>eecwqtt</td>\n",
       "      <td>25</td>\n",
       "      <td>मुझे आपकी स्थिति के लिए वास्तव में खेद है :( ह...</td>\n",
       "      <td>25</td>\n",
       "      <td>24</td>\n",
       "    </tr>\n",
       "    <tr>\n",
       "      <th>1</th>\n",
       "      <td>ed5f85d</td>\n",
       "      <td>0</td>\n",
       "      <td>यह अद्भुत है क्योंकि यह भयानक है। पर साथ नहीं।</td>\n",
       "      <td>0</td>\n",
       "      <td>0</td>\n",
       "    </tr>\n",
       "    <tr>\n",
       "      <th>2</th>\n",
       "      <td>een27c3</td>\n",
       "      <td>13</td>\n",
       "      <td>किंग्स फैन यहाँ, आप लोगों को शुभकामनाएँ! देखने...</td>\n",
       "      <td>13</td>\n",
       "      <td>20</td>\n",
       "    </tr>\n",
       "    <tr>\n",
       "      <th>3</th>\n",
       "      <td>eelgwd1</td>\n",
       "      <td>15</td>\n",
       "      <td>मुझे यह नहीं पता था, आज मुझे कुछ सिखाने के लिए...</td>\n",
       "      <td>15</td>\n",
       "      <td>15</td>\n",
       "    </tr>\n",
       "    <tr>\n",
       "      <th>4</th>\n",
       "      <td>eem5uti</td>\n",
       "      <td>27</td>\n",
       "      <td>वे हज़ारों वर्षों तक भूतिया धरती से ऊब चुके थे...</td>\n",
       "      <td>27</td>\n",
       "      <td>27</td>\n",
       "    </tr>\n",
       "    <tr>\n",
       "      <th>...</th>\n",
       "      <td>...</td>\n",
       "      <td>...</td>\n",
       "      <td>...</td>\n",
       "      <td>...</td>\n",
       "      <td>...</td>\n",
       "    </tr>\n",
       "    <tr>\n",
       "      <th>5422</th>\n",
       "      <td>efeeasc</td>\n",
       "      <td>15</td>\n",
       "      <td>धन्यवाद। मुझे अस्पताल में भर्ती होने के बाद भी...</td>\n",
       "      <td>15</td>\n",
       "      <td>15</td>\n",
       "    </tr>\n",
       "    <tr>\n",
       "      <th>5423</th>\n",
       "      <td>ef9c7s3</td>\n",
       "      <td>4</td>\n",
       "      <td>अच्छा यह समझ में आता है।</td>\n",
       "      <td>4</td>\n",
       "      <td>0</td>\n",
       "    </tr>\n",
       "    <tr>\n",
       "      <th>5424</th>\n",
       "      <td>efbiugo</td>\n",
       "      <td>27</td>\n",
       "      <td>डैडी मुद्दे [NAME]</td>\n",
       "      <td>27</td>\n",
       "      <td>27</td>\n",
       "    </tr>\n",
       "    <tr>\n",
       "      <th>5425</th>\n",
       "      <td>efbvgp9</td>\n",
       "      <td>0</td>\n",
       "      <td>बहुत खुशी है कि मैंने कुछ महीने पहले उस सब्रेड...</td>\n",
       "      <td>0</td>\n",
       "      <td>17</td>\n",
       "    </tr>\n",
       "    <tr>\n",
       "      <th>5426</th>\n",
       "      <td>edtjpv6</td>\n",
       "      <td>27</td>\n",
       "      <td>जब मेरे बच्चे छोटे थे तब कई बार \"एल्मो इन ग्रौ...</td>\n",
       "      <td>27</td>\n",
       "      <td>27</td>\n",
       "    </tr>\n",
       "  </tbody>\n",
       "</table>\n",
       "<p>5427 rows × 5 columns</p>\n",
       "</div>"
      ],
      "text/plain": [
       "           id labels                                               text  \\\n",
       "0     eecwqtt     25  मुझे आपकी स्थिति के लिए वास्तव में खेद है :( ह...   \n",
       "1     ed5f85d      0     यह अद्भुत है क्योंकि यह भयानक है। पर साथ नहीं।   \n",
       "2     een27c3     13  किंग्स फैन यहाँ, आप लोगों को शुभकामनाएँ! देखने...   \n",
       "3     eelgwd1     15  मुझे यह नहीं पता था, आज मुझे कुछ सिखाने के लिए...   \n",
       "4     eem5uti     27  वे हज़ारों वर्षों तक भूतिया धरती से ऊब चुके थे...   \n",
       "...       ...    ...                                                ...   \n",
       "5422  efeeasc     15  धन्यवाद। मुझे अस्पताल में भर्ती होने के बाद भी...   \n",
       "5423  ef9c7s3      4                           अच्छा यह समझ में आता है।   \n",
       "5424  efbiugo     27                                 डैडी मुद्दे [NAME]   \n",
       "5425  efbvgp9      0  बहुत खुशी है कि मैंने कुछ महीने पहले उस सब्रेड...   \n",
       "5426  edtjpv6     27  जब मेरे बच्चे छोटे थे तब कई बार \"एल्मो इन ग्रौ...   \n",
       "\n",
       "      label  pred_labels  \n",
       "0        25           24  \n",
       "1         0            0  \n",
       "2        13           20  \n",
       "3        15           15  \n",
       "4        27           27  \n",
       "...     ...          ...  \n",
       "5422     15           15  \n",
       "5423      4            0  \n",
       "5424     27           27  \n",
       "5425      0           17  \n",
       "5426     27           27  \n",
       "\n",
       "[5427 rows x 5 columns]"
      ]
     },
     "execution_count": 69,
     "metadata": {},
     "output_type": "execute_result"
    }
   ],
   "source": [
    "val_pd"
   ]
  },
  {
   "cell_type": "code",
   "execution_count": 70,
   "id": "63ab8052-fdb1-463a-bbbb-666245388595",
   "metadata": {},
   "outputs": [
    {
     "data": {
      "text/plain": [
       "27    2280\n",
       "0      508\n",
       "15     312\n",
       "1      249\n",
       "7      237\n",
       "18     214\n",
       "2      184\n",
       "4      181\n",
       "3      172\n",
       "10     167\n",
       "17     126\n",
       "25     111\n",
       "6      110\n",
       "20     106\n",
       "26      81\n",
       "11      79\n",
       "14      78\n",
       "24      65\n",
       "9       57\n",
       "5       41\n",
       "8       35\n",
       "13      31\n",
       "22       3\n",
       "Name: pred_labels, dtype: int64"
      ]
     },
     "execution_count": 70,
     "metadata": {},
     "output_type": "execute_result"
    }
   ],
   "source": [
    "val_pd['pred_labels'].value_counts()"
   ]
  },
  {
   "cell_type": "code",
   "execution_count": 71,
   "id": "f46fb997-8755-4d20-9000-4bdc409d0a7e",
   "metadata": {},
   "outputs": [
    {
     "data": {
      "text/plain": [
       "27    1606\n",
       "0      504\n",
       "4      318\n",
       "15     288\n",
       "3      286\n",
       "1      252\n",
       "7      233\n",
       "10     220\n",
       "2      197\n",
       "18     169\n",
       "6      139\n",
       "9      127\n",
       "20     120\n",
       "17     116\n",
       "5      114\n",
       "22     109\n",
       "25     108\n",
       "26      92\n",
       "13      84\n",
       "11      84\n",
       "14      74\n",
       "8       74\n",
       "24      46\n",
       "12      30\n",
       "19      16\n",
       "21       8\n",
       "23       7\n",
       "16       6\n",
       "Name: label, dtype: int64"
      ]
     },
     "execution_count": 71,
     "metadata": {},
     "output_type": "execute_result"
    }
   ],
   "source": [
    "val_pd['label'].value_counts()"
   ]
  },
  {
   "cell_type": "code",
   "execution_count": 72,
   "id": "1fc85d7f-da05-4ccb-a3be-eae93c70189e",
   "metadata": {},
   "outputs": [
    {
     "name": "stdout",
     "output_type": "stream",
     "text": [
      "              precision    recall  f1-score   support\n",
      "\n",
      "           0       0.60      0.61      0.61       504\n",
      "           1       0.67      0.66      0.66       252\n",
      "           2       0.39      0.37      0.38       197\n",
      "           3       0.20      0.12      0.15       286\n",
      "           4       0.36      0.20      0.26       318\n",
      "           5       0.39      0.14      0.21       114\n",
      "           6       0.37      0.29      0.33       139\n",
      "           7       0.39      0.40      0.40       233\n",
      "           8       0.63      0.30      0.40        74\n",
      "           9       0.14      0.06      0.09       127\n",
      "          10       0.31      0.24      0.27       220\n",
      "          11       0.24      0.23      0.23        84\n",
      "          12       0.00      0.00      0.00        30\n",
      "          13       0.29      0.11      0.16        84\n",
      "          14       0.54      0.57      0.55        74\n",
      "          15       0.77      0.83      0.80       288\n",
      "          16       0.00      0.00      0.00         6\n",
      "          17       0.43      0.47      0.45       116\n",
      "          18       0.58      0.74      0.65       169\n",
      "          19       0.00      0.00      0.00        16\n",
      "          20       0.56      0.49      0.52       120\n",
      "          21       0.00      0.00      0.00         8\n",
      "          22       0.33      0.01      0.02       109\n",
      "          23       0.00      0.00      0.00         7\n",
      "          24       0.54      0.76      0.63        46\n",
      "          25       0.34      0.35      0.35       108\n",
      "          26       0.31      0.27      0.29        92\n",
      "          27       0.52      0.74      0.61      1606\n",
      "\n",
      "    accuracy                           0.50      5427\n",
      "   macro avg       0.35      0.32      0.32      5427\n",
      "weighted avg       0.47      0.50      0.47      5427\n",
      "\n"
     ]
    },
    {
     "name": "stderr",
     "output_type": "stream",
     "text": [
      "/Users/ayush.garg/opt/anaconda3/lib/python3.9/site-packages/sklearn/metrics/_classification.py:1248: UndefinedMetricWarning: Precision and F-score are ill-defined and being set to 0.0 in labels with no predicted samples. Use `zero_division` parameter to control this behavior.\n",
      "  _warn_prf(average, modifier, msg_start, len(result))\n",
      "/Users/ayush.garg/opt/anaconda3/lib/python3.9/site-packages/sklearn/metrics/_classification.py:1248: UndefinedMetricWarning: Precision and F-score are ill-defined and being set to 0.0 in labels with no predicted samples. Use `zero_division` parameter to control this behavior.\n",
      "  _warn_prf(average, modifier, msg_start, len(result))\n",
      "/Users/ayush.garg/opt/anaconda3/lib/python3.9/site-packages/sklearn/metrics/_classification.py:1248: UndefinedMetricWarning: Precision and F-score are ill-defined and being set to 0.0 in labels with no predicted samples. Use `zero_division` parameter to control this behavior.\n",
      "  _warn_prf(average, modifier, msg_start, len(result))\n"
     ]
    }
   ],
   "source": [
    "print (classification_report(val_pd['label'], val_pd['pred_labels']))"
   ]
  },
  {
   "cell_type": "code",
   "execution_count": null,
   "id": "776b610d-44c1-4c29-8193-3c5c6612d35f",
   "metadata": {},
   "outputs": [],
   "source": []
  },
  {
   "cell_type": "code",
   "execution_count": 23,
   "id": "cc0e0d41-2205-43ad-9b47-c5bc396d5498",
   "metadata": {},
   "outputs": [
    {
     "data": {
      "text/plain": [
       "[2.7118561267852783,\n",
       " 2.5909008979797363,\n",
       " 2.4318795204162598,\n",
       " 2.2817914485931396,\n",
       " 2.152872323989868,\n",
       " 2.040827512741089,\n",
       " 1.9336308240890503,\n",
       " 1.8480844497680664,\n",
       " 1.7680695056915283,\n",
       " 1.7035614252090454,\n",
       " 1.650164008140564,\n",
       " 1.5983766317367554]"
      ]
     },
     "execution_count": 23,
     "metadata": {},
     "output_type": "execute_result"
    }
   ],
   "source": [
    "history.history['loss']"
   ]
  },
  {
   "cell_type": "code",
   "execution_count": 26,
   "id": "762c6956-a402-4ded-aaef-6bbad86f89fe",
   "metadata": {},
   "outputs": [],
   "source": [
    "bert_val_loss = [1.70124209, 1.5589102, 1.508244]\n",
    "bert_train_loss = [1.765632, 1.5329102, 1.358244]"
   ]
  },
  {
   "cell_type": "code",
   "execution_count": 27,
   "id": "d7db2b73-3a35-45ed-a162-03b046d1de8f",
   "metadata": {},
   "outputs": [
    {
     "data": {
      "image/png": "[encoded data removed]",
      "text/plain": [
       "<Figure size 432x288 with 1 Axes>"
      ]
     },
     "metadata": {
      "needs_background": "light"
     },
     "output_type": "display_data"
    }
   ],
   "source": [
    "from matplotlib import pyplot as plt\n",
    "plt.plot(bert_train_loss)\n",
    "plt.plot(bert_val_loss)\n",
    "plt.title('model loss')\n",
    "plt.ylabel('loss')\n",
    "plt.xlabel('epoch')\n",
    "plt.legend(['train', 'val'], loc='upper left')\n",
    "plt.show()"
   ]
  },
  {
   "cell_type": "code",
   "execution_count": null,
   "id": "8a4da00e-a712-4293-bb24-13009a8c4327",
   "metadata": {},
   "outputs": [],
   "source": []
  }
 ],
 "metadata": {
  "kernelspec": {
   "display_name": "Python 3 (ipykernel)",
   "language": "python",
   "name": "python3"
  },
  "language_info": {
   "codemirror_mode": {
    "name": "ipython",
    "version": 3
   },
   "file_extension": ".py",
   "mimetype": "text/x-python",
   "name": "python",
   "nbconvert_exporter": "python",
   "pygments_lexer": "ipython3",
   "version": "3.9.7"
  }
 },
 "nbformat": 4,
 "nbformat_minor": 5
}
