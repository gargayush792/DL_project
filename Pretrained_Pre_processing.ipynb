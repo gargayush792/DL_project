{
  "cells": [
    {
      "cell_type": "markdown",
      "metadata": {
        "id": "view-in-github",
        "colab_type": "text"
      },
      "source": [
        "<a href=\"https://colab.research.google.com/github/gargayush792/DL_project/blob/achoudhary40/Pretrained_Pre_processing.ipynb\" target=\"_parent\"><img src=\"https://colab.research.google.com/assets/colab-badge.svg\" alt=\"Open In Colab\"/></a>"
      ]
    },
    {
      "cell_type": "code",
      "source": [
        "# !pip install inltk\n",
        "!pip install fasttext\n",
        "!wget https://dl.fbaipublicfiles.com/fasttext/vectors-wiki/wiki.hi.zip\n",
        "!unzip 'wiki.hi.zip'"
      ],
      "metadata": {
        "colab": {
          "base_uri": "https://localhost:8080/"
        },
        "id": "EQ1vbWpUcW4q",
        "outputId": "232de77d-ced6-44c2-cf79-4b62219f8e69"
      },
      "id": "EQ1vbWpUcW4q",
      "execution_count": 27,
      "outputs": [
        {
          "output_type": "stream",
          "name": "stdout",
          "text": [
            "Collecting fasttext\n",
            "  Downloading fasttext-0.9.2.tar.gz (68 kB)\n",
            "\u001b[?25l\r\u001b[K     |████▊                           | 10 kB 18.8 MB/s eta 0:00:01\r\u001b[K     |█████████▌                      | 20 kB 11.6 MB/s eta 0:00:01\r\u001b[K     |██████████████▎                 | 30 kB 6.7 MB/s eta 0:00:01\r\u001b[K     |███████████████████             | 40 kB 6.1 MB/s eta 0:00:01\r\u001b[K     |███████████████████████▉        | 51 kB 3.9 MB/s eta 0:00:01\r\u001b[K     |████████████████████████████▋   | 61 kB 4.6 MB/s eta 0:00:01\r\u001b[K     |████████████████████████████████| 68 kB 3.1 MB/s \n",
            "\u001b[?25hCollecting pybind11>=2.2\n",
            "  Using cached pybind11-2.9.2-py2.py3-none-any.whl (213 kB)\n",
            "Requirement already satisfied: setuptools>=0.7.0 in /usr/local/lib/python3.7/dist-packages (from fasttext) (57.4.0)\n",
            "Requirement already satisfied: numpy in /usr/local/lib/python3.7/dist-packages (from fasttext) (1.21.6)\n",
            "Building wheels for collected packages: fasttext\n",
            "  Building wheel for fasttext (setup.py) ... \u001b[?25l\u001b[?25hdone\n",
            "  Created wheel for fasttext: filename=fasttext-0.9.2-cp37-cp37m-linux_x86_64.whl size=3139662 sha256=f9c43c877dd620530866ae7ceb88a9f6aed0013f61ce66992e76306f954253cf\n",
            "  Stored in directory: /root/.cache/pip/wheels/4e/ca/bf/b020d2be95f7641801a6597a29c8f4f19e38f9c02a345bab9b\n",
            "Successfully built fasttext\n",
            "Installing collected packages: pybind11, fasttext\n",
            "Successfully installed fasttext-0.9.2 pybind11-2.9.2\n"
          ]
        }
      ]
    },
    {
      "cell_type": "code",
      "execution_count": 7,
      "id": "ce85cb08-d95f-4146-9458-fb65fc5fba5b",
      "metadata": {
        "id": "ce85cb08-d95f-4146-9458-fb65fc5fba5b"
      },
      "outputs": [],
      "source": [
        "import pandas as pd\n",
        "import numpy as np"
      ]
    },
    {
      "cell_type": "code",
      "execution_count": 46,
      "id": "eb51662b-a7ac-4774-8317-68a4a2c1b4dd",
      "metadata": {
        "id": "eb51662b-a7ac-4774-8317-68a4a2c1b4dd"
      },
      "outputs": [],
      "source": [
        "import tensorflow as tf\n",
        "from tensorflow.keras import layers\n",
        "from tensorflow.keras import losses"
      ]
    },
    {
      "cell_type": "code",
      "source": [
        "# from inltk.inltk import get_embedding_vectors\n",
        "# from inltk.inltk import setup\n",
        "# setup(\"hi\")"
      ],
      "metadata": {
        "id": "YldJv5aVdbED"
      },
      "id": "YldJv5aVdbED",
      "execution_count": 9,
      "outputs": []
    },
    {
      "cell_type": "markdown",
      "id": "c002ff79-8466-4035-adf3-eea69db9ac5a",
      "metadata": {
        "id": "c002ff79-8466-4035-adf3-eea69db9ac5a"
      },
      "source": [
        "### Dataset reading and annotations"
      ]
    },
    {
      "cell_type": "code",
      "execution_count": 10,
      "id": "384e8bb7-1398-415f-a5ba-13cb95ba5e7a",
      "metadata": {
        "id": "384e8bb7-1398-415f-a5ba-13cb95ba5e7a"
      },
      "outputs": [],
      "source": [
        "dataset = pd.read_csv('Bhaav-Dataset.csv')"
      ]
    },
    {
      "cell_type": "code",
      "execution_count": 11,
      "id": "a9cbcb5b-a097-4886-9ff2-1ec24ea1002e",
      "metadata": {
        "id": "a9cbcb5b-a097-4886-9ff2-1ec24ea1002e",
        "outputId": "4bfb0503-8511-4305-8eab-9ad16ffaa149",
        "colab": {
          "base_uri": "https://localhost:8080/",
          "height": 424
        }
      },
      "outputs": [
        {
          "output_type": "execute_result",
          "data": {
            "text/plain": [
              "                                               Sentences  Annotation\n",
              "0               रमजान के पूरे तीस रोजों के बाद ईद आयी है           1\n",
              "1                   कितना मनोहर, कितना सुहावना प्रभाव है           1\n",
              "2      वृक्षों पर अजीब हरियाली है, खेतों में कुछ अजीब...           1\n",
              "3      आज का सूर्य देखो, कितना प्यारा, कितना शीतल है,...           1\n",
              "4                                 गाँव में कितनी हलचल है           1\n",
              "...                                                  ...         ...\n",
              "20299                          फिर यहाँ सर्दी हो जाती है           4\n",
              "20300  दिन-भर मैं यह देखती रहती हूँ कि धूप का टुकड़ा क...           4\n",
              "20301  पार्क का कोई ऐसा कोना नहीं, जहाँ मैं घड़ी-आधा घ...           4\n",
              "20302              लेकिन यह बेंच मुझे सबसे अच्छी लगती है           1\n",
              "20303  एक तो इस पर पत्ते नहीं झरते और दूसरे... अरे, आ...           4\n",
              "\n",
              "[20304 rows x 2 columns]"
            ],
            "text/html": [
              "\n",
              "  <div id=\"df-c71ccdc9-eb5b-4f0a-8ac2-49c364e2eb22\">\n",
              "    <div class=\"colab-df-container\">\n",
              "      <div>\n",
              "<style scoped>\n",
              "    .dataframe tbody tr th:only-of-type {\n",
              "        vertical-align: middle;\n",
              "    }\n",
              "\n",
              "    .dataframe tbody tr th {\n",
              "        vertical-align: top;\n",
              "    }\n",
              "\n",
              "    .dataframe thead th {\n",
              "        text-align: right;\n",
              "    }\n",
              "</style>\n",
              "<table border=\"1\" class=\"dataframe\">\n",
              "  <thead>\n",
              "    <tr style=\"text-align: right;\">\n",
              "      <th></th>\n",
              "      <th>Sentences</th>\n",
              "      <th>Annotation</th>\n",
              "    </tr>\n",
              "  </thead>\n",
              "  <tbody>\n",
              "    <tr>\n",
              "      <th>0</th>\n",
              "      <td>रमजान के पूरे तीस रोजों के बाद ईद आयी है</td>\n",
              "      <td>1</td>\n",
              "    </tr>\n",
              "    <tr>\n",
              "      <th>1</th>\n",
              "      <td>कितना मनोहर, कितना सुहावना प्रभाव है</td>\n",
              "      <td>1</td>\n",
              "    </tr>\n",
              "    <tr>\n",
              "      <th>2</th>\n",
              "      <td>वृक्षों पर अजीब हरियाली है, खेतों में कुछ अजीब...</td>\n",
              "      <td>1</td>\n",
              "    </tr>\n",
              "    <tr>\n",
              "      <th>3</th>\n",
              "      <td>आज का सूर्य देखो, कितना प्यारा, कितना शीतल है,...</td>\n",
              "      <td>1</td>\n",
              "    </tr>\n",
              "    <tr>\n",
              "      <th>4</th>\n",
              "      <td>गाँव में कितनी हलचल है</td>\n",
              "      <td>1</td>\n",
              "    </tr>\n",
              "    <tr>\n",
              "      <th>...</th>\n",
              "      <td>...</td>\n",
              "      <td>...</td>\n",
              "    </tr>\n",
              "    <tr>\n",
              "      <th>20299</th>\n",
              "      <td>फिर यहाँ सर्दी हो जाती है</td>\n",
              "      <td>4</td>\n",
              "    </tr>\n",
              "    <tr>\n",
              "      <th>20300</th>\n",
              "      <td>दिन-भर मैं यह देखती रहती हूँ कि धूप का टुकड़ा क...</td>\n",
              "      <td>4</td>\n",
              "    </tr>\n",
              "    <tr>\n",
              "      <th>20301</th>\n",
              "      <td>पार्क का कोई ऐसा कोना नहीं, जहाँ मैं घड़ी-आधा घ...</td>\n",
              "      <td>4</td>\n",
              "    </tr>\n",
              "    <tr>\n",
              "      <th>20302</th>\n",
              "      <td>लेकिन यह बेंच मुझे सबसे अच्छी लगती है</td>\n",
              "      <td>1</td>\n",
              "    </tr>\n",
              "    <tr>\n",
              "      <th>20303</th>\n",
              "      <td>एक तो इस पर पत्ते नहीं झरते और दूसरे... अरे, आ...</td>\n",
              "      <td>4</td>\n",
              "    </tr>\n",
              "  </tbody>\n",
              "</table>\n",
              "<p>20304 rows × 2 columns</p>\n",
              "</div>\n",
              "      <button class=\"colab-df-convert\" onclick=\"convertToInteractive('df-c71ccdc9-eb5b-4f0a-8ac2-49c364e2eb22')\"\n",
              "              title=\"Convert this dataframe to an interactive table.\"\n",
              "              style=\"display:none;\">\n",
              "        \n",
              "  <svg xmlns=\"http://www.w3.org/2000/svg\" height=\"24px\"viewBox=\"0 0 24 24\"\n",
              "       width=\"24px\">\n",
              "    <path d=\"M0 0h24v24H0V0z\" fill=\"none\"/>\n",
              "    <path d=\"M18.56 5.44l.94 2.06.94-2.06 2.06-.94-2.06-.94-.94-2.06-.94 2.06-2.06.94zm-11 1L8.5 8.5l.94-2.06 2.06-.94-2.06-.94L8.5 2.5l-.94 2.06-2.06.94zm10 10l.94 2.06.94-2.06 2.06-.94-2.06-.94-.94-2.06-.94 2.06-2.06.94z\"/><path d=\"M17.41 7.96l-1.37-1.37c-.4-.4-.92-.59-1.43-.59-.52 0-1.04.2-1.43.59L10.3 9.45l-7.72 7.72c-.78.78-.78 2.05 0 2.83L4 21.41c.39.39.9.59 1.41.59.51 0 1.02-.2 1.41-.59l7.78-7.78 2.81-2.81c.8-.78.8-2.07 0-2.86zM5.41 20L4 18.59l7.72-7.72 1.47 1.35L5.41 20z\"/>\n",
              "  </svg>\n",
              "      </button>\n",
              "      \n",
              "  <style>\n",
              "    .colab-df-container {\n",
              "      display:flex;\n",
              "      flex-wrap:wrap;\n",
              "      gap: 12px;\n",
              "    }\n",
              "\n",
              "    .colab-df-convert {\n",
              "      background-color: #E8F0FE;\n",
              "      border: none;\n",
              "      border-radius: 50%;\n",
              "      cursor: pointer;\n",
              "      display: none;\n",
              "      fill: #1967D2;\n",
              "      height: 32px;\n",
              "      padding: 0 0 0 0;\n",
              "      width: 32px;\n",
              "    }\n",
              "\n",
              "    .colab-df-convert:hover {\n",
              "      background-color: #E2EBFA;\n",
              "      box-shadow: 0px 1px 2px rgba(60, 64, 67, 0.3), 0px 1px 3px 1px rgba(60, 64, 67, 0.15);\n",
              "      fill: #174EA6;\n",
              "    }\n",
              "\n",
              "    [theme=dark] .colab-df-convert {\n",
              "      background-color: #3B4455;\n",
              "      fill: #D2E3FC;\n",
              "    }\n",
              "\n",
              "    [theme=dark] .colab-df-convert:hover {\n",
              "      background-color: #434B5C;\n",
              "      box-shadow: 0px 1px 3px 1px rgba(0, 0, 0, 0.15);\n",
              "      filter: drop-shadow(0px 1px 2px rgba(0, 0, 0, 0.3));\n",
              "      fill: #FFFFFF;\n",
              "    }\n",
              "  </style>\n",
              "\n",
              "      <script>\n",
              "        const buttonEl =\n",
              "          document.querySelector('#df-c71ccdc9-eb5b-4f0a-8ac2-49c364e2eb22 button.colab-df-convert');\n",
              "        buttonEl.style.display =\n",
              "          google.colab.kernel.accessAllowed ? 'block' : 'none';\n",
              "\n",
              "        async function convertToInteractive(key) {\n",
              "          const element = document.querySelector('#df-c71ccdc9-eb5b-4f0a-8ac2-49c364e2eb22');\n",
              "          const dataTable =\n",
              "            await google.colab.kernel.invokeFunction('convertToInteractive',\n",
              "                                                     [key], {});\n",
              "          if (!dataTable) return;\n",
              "\n",
              "          const docLinkHtml = 'Like what you see? Visit the ' +\n",
              "            '<a target=\"_blank\" href=https://colab.research.google.com/notebooks/data_table.ipynb>data table notebook</a>'\n",
              "            + ' to learn more about interactive tables.';\n",
              "          element.innerHTML = '';\n",
              "          dataTable['output_type'] = 'display_data';\n",
              "          await google.colab.output.renderOutput(dataTable, element);\n",
              "          const docLink = document.createElement('div');\n",
              "          docLink.innerHTML = docLinkHtml;\n",
              "          element.appendChild(docLink);\n",
              "        }\n",
              "      </script>\n",
              "    </div>\n",
              "  </div>\n",
              "  "
            ]
          },
          "metadata": {},
          "execution_count": 11
        }
      ],
      "source": [
        "dataset"
      ]
    },
    {
      "cell_type": "code",
      "execution_count": 12,
      "id": "237e9358-3dad-4b5e-9468-16287707ba12",
      "metadata": {
        "id": "237e9358-3dad-4b5e-9468-16287707ba12",
        "outputId": "dbd22efa-edec-4e25-eb34-30aa94d7bb0f",
        "colab": {
          "base_uri": "https://localhost:8080/"
        }
      },
      "outputs": [
        {
          "output_type": "execute_result",
          "data": {
            "text/plain": [
              "4    11697\n",
              "2     3168\n",
              "1     2463\n",
              "3     1512\n",
              "0     1464\n",
              "Name: Annotation, dtype: int64"
            ]
          },
          "metadata": {},
          "execution_count": 12
        }
      ],
      "source": [
        "dataset['Annotation'].value_counts()"
      ]
    },
    {
      "cell_type": "code",
      "execution_count": 13,
      "id": "1f27047c-43c9-49c6-9007-1579d6137eec",
      "metadata": {
        "id": "1f27047c-43c9-49c6-9007-1579d6137eec"
      },
      "outputs": [],
      "source": [
        "dataset['Emotion'] = np.where(\n",
        "    dataset['Annotation'] == 0, 'Anger', np.where(\n",
        "        dataset['Annotation'] == 1, 'Joy', np.where(\n",
        "            dataset['Annotation'] == 2, 'Sad', np.where(\n",
        "                dataset['Annotation'] == 3, 'Suspense', 'Neutral'))))"
      ]
    },
    {
      "cell_type": "code",
      "execution_count": 14,
      "id": "a51aa701-b563-405b-b465-bf49a47c7b80",
      "metadata": {
        "id": "a51aa701-b563-405b-b465-bf49a47c7b80",
        "outputId": "a76e4149-aa78-4f72-fdc2-94aa0da47c2b",
        "colab": {
          "base_uri": "https://localhost:8080/"
        }
      },
      "outputs": [
        {
          "output_type": "execute_result",
          "data": {
            "text/plain": [
              "Neutral     11697\n",
              "Sad          3168\n",
              "Joy          2463\n",
              "Suspense     1512\n",
              "Anger        1464\n",
              "Name: Emotion, dtype: int64"
            ]
          },
          "metadata": {},
          "execution_count": 14
        }
      ],
      "source": [
        "dataset['Emotion'].value_counts()"
      ]
    },
    {
      "cell_type": "markdown",
      "id": "9fecd383-4370-4566-9b1b-f6deb0f7cb0f",
      "metadata": {
        "id": "9fecd383-4370-4566-9b1b-f6deb0f7cb0f"
      },
      "source": [
        "### Convert to TF Dataset and Train/Test Split"
      ]
    },
    {
      "cell_type": "code",
      "execution_count": 15,
      "id": "ec8f2ee8-2300-415f-a19e-786909bd1759",
      "metadata": {
        "id": "ec8f2ee8-2300-415f-a19e-786909bd1759"
      },
      "outputs": [],
      "source": [
        "full_dataset = (\n",
        "    tf.data.Dataset.from_tensor_slices(\n",
        "        (\n",
        "            tf.cast(dataset['Sentences'].values, tf.string),\n",
        "            tf.cast(dataset['Annotation'].values, tf.int32)\n",
        "        )\n",
        "    )\n",
        ")"
      ]
    },
    {
      "cell_type": "code",
      "execution_count": 16,
      "id": "64382e2e-e051-43e2-9a03-e114a526e9ab",
      "metadata": {
        "id": "64382e2e-e051-43e2-9a03-e114a526e9ab"
      },
      "outputs": [],
      "source": [
        "train_size = int(dataset.shape[0]*0.8)"
      ]
    },
    {
      "cell_type": "code",
      "execution_count": 17,
      "id": "f792b5c8-4f59-4074-9b0f-9cb6ab07cbfe",
      "metadata": {
        "id": "f792b5c8-4f59-4074-9b0f-9cb6ab07cbfe"
      },
      "outputs": [],
      "source": [
        "train_dataset = full_dataset.take(train_size)\n",
        "test_dataset = full_dataset.skip(train_size)"
      ]
    },
    {
      "cell_type": "code",
      "execution_count": 18,
      "id": "248ac967-7b26-41c7-8c3a-947ce834ac3b",
      "metadata": {
        "id": "248ac967-7b26-41c7-8c3a-947ce834ac3b"
      },
      "outputs": [],
      "source": [
        "batch_size = 16"
      ]
    },
    {
      "cell_type": "code",
      "execution_count": 19,
      "id": "6ae7c68d-fb19-405b-a7b0-d8131483a7e8",
      "metadata": {
        "id": "6ae7c68d-fb19-405b-a7b0-d8131483a7e8"
      },
      "outputs": [],
      "source": [
        "train_dataset = train_dataset.batch(batch_size)\n",
        "test_dataset = test_dataset.batch(batch_size)"
      ]
    },
    {
      "cell_type": "markdown",
      "id": "1438fddd-5d96-4ec1-bd9c-fc74a0482c0a",
      "metadata": {
        "id": "1438fddd-5d96-4ec1-bd9c-fc74a0482c0a"
      },
      "source": [
        "### Preprocessing\n",
        "* Tokenisation\n",
        "* Punctuation Removal\n",
        "* Embed words to ints"
      ]
    },
    {
      "cell_type": "code",
      "execution_count": 20,
      "id": "c1114402-d634-409b-8420-797942388f6d",
      "metadata": {
        "id": "c1114402-d634-409b-8420-797942388f6d"
      },
      "outputs": [],
      "source": [
        "max_features = 10000\n",
        "sequence_length = 100\n",
        "\n",
        "vectorize_layer = layers.TextVectorization(\n",
        "    standardize=\"strip_punctuation\",\n",
        "    max_tokens=max_features,\n",
        "    output_mode='int',\n",
        "    output_sequence_length=sequence_length)"
      ]
    },
    {
      "cell_type": "code",
      "execution_count": 21,
      "id": "147159a3-0b5b-4896-86d7-c30bdeb28900",
      "metadata": {
        "id": "147159a3-0b5b-4896-86d7-c30bdeb28900"
      },
      "outputs": [],
      "source": [
        "train_text = train_dataset.map(lambda x, y: x)"
      ]
    },
    {
      "cell_type": "code",
      "execution_count": 22,
      "id": "d49630a4-1c4e-4fc9-8285-748ac20699cf",
      "metadata": {
        "id": "d49630a4-1c4e-4fc9-8285-748ac20699cf"
      },
      "outputs": [],
      "source": [
        "vectorize_layer.adapt(train_text)"
      ]
    },
    {
      "cell_type": "code",
      "execution_count": 23,
      "id": "478b0089-ab6e-4ebc-af91-58f00e4d1780",
      "metadata": {
        "id": "478b0089-ab6e-4ebc-af91-58f00e4d1780"
      },
      "outputs": [],
      "source": [
        "def vectorize_text(text, label):\n",
        "    text = tf.expand_dims(text, -1)\n",
        "    return vectorize_layer(text), label"
      ]
    },
    {
      "cell_type": "code",
      "execution_count": 24,
      "id": "3333c0bf-f223-4506-97df-f63760de6253",
      "metadata": {
        "id": "3333c0bf-f223-4506-97df-f63760de6253",
        "outputId": "c7975ea1-2ecf-4e7e-8fd0-c086fbce9ae3",
        "colab": {
          "base_uri": "https://localhost:8080/"
        }
      },
      "outputs": [
        {
          "output_type": "stream",
          "name": "stdout",
          "text": [
            "Review tf.Tensor(b'\\xe0\\xa4\\xb0\\xe0\\xa4\\xae\\xe0\\xa4\\x9c\\xe0\\xa4\\xbe\\xe0\\xa4\\xa8 \\xe0\\xa4\\x95\\xe0\\xa5\\x87 \\xe0\\xa4\\xaa\\xe0\\xa5\\x82\\xe0\\xa4\\xb0\\xe0\\xa5\\x87 \\xe0\\xa4\\xa4\\xe0\\xa5\\x80\\xe0\\xa4\\xb8 \\xe0\\xa4\\xb0\\xe0\\xa5\\x8b\\xe0\\xa4\\x9c\\xe0\\xa5\\x8b\\xe0\\xa4\\x82 \\xe0\\xa4\\x95\\xe0\\xa5\\x87 \\xe0\\xa4\\xac\\xe0\\xa4\\xbe\\xe0\\xa4\\xa6 \\xe0\\xa4\\x88\\xe0\\xa4\\xa6 \\xe0\\xa4\\x86\\xe0\\xa4\\xaf\\xe0\\xa5\\x80 \\xe0\\xa4\\xb9\\xe0\\xa5\\x88', shape=(), dtype=string)\n",
            "Label tf.Tensor(1, shape=(), dtype=int32)\n",
            "Vectorized review (<tf.Tensor: shape=(1, 100), dtype=int64, numpy=array([[   1,    2,  839, 2833, ...,    0,    0,    0,    0]])>, <tf.Tensor: shape=(), dtype=int32, numpy=1>)\n"
          ]
        }
      ],
      "source": [
        "text_batch, label_batch = next(iter(train_dataset))\n",
        "first_review, first_label = text_batch[0], label_batch[0]\n",
        "print(\"Review\", first_review)\n",
        "print(\"Label\", first_label)\n",
        "print(\"Vectorized review\", vectorize_text(first_review, first_label))"
      ]
    },
    {
      "cell_type": "code",
      "execution_count": 25,
      "id": "c83979e3-3281-46a3-80b0-74f2cccbb2f6",
      "metadata": {
        "id": "c83979e3-3281-46a3-80b0-74f2cccbb2f6"
      },
      "outputs": [],
      "source": [
        "train_ds = train_dataset.map(vectorize_text)\n",
        "val_ds = test_dataset.map(vectorize_text)"
      ]
    },
    {
      "cell_type": "code",
      "source": [
        "vocab = vectorize_layer.get_vocabulary()\n",
        "word_index = dict(zip(vocab, range(len(vocab))))"
      ],
      "metadata": {
        "id": "vm1rt7bBarby"
      },
      "id": "vm1rt7bBarby",
      "execution_count": 43,
      "outputs": []
    },
    {
      "cell_type": "code",
      "source": [
        "import fasttext\n",
        "import fasttext.util\n",
        "ft = fasttext.load_model('wiki.hi.bin')\n",
        "word = \"नृत्य\"\n",
        "print(\"Embedding Shape is {}\".format(ft.get_word_vector(word).shape))\n",
        "print(\"Nearest Neighbors to {} are:\".format(word))\n",
        "ft.get_nearest_neighbors(word) "
      ],
      "metadata": {
        "colab": {
          "base_uri": "https://localhost:8080/"
        },
        "id": "GZ5hrnoRebCr",
        "outputId": "8aade12b-074d-4132-bcae-23f6b65d461b"
      },
      "id": "GZ5hrnoRebCr",
      "execution_count": 41,
      "outputs": [
        {
          "output_type": "stream",
          "name": "stderr",
          "text": [
            "Warning : `load_model` does not return WordVectorModel or SupervisedModel any more, but a `FastText` object which is very similar.\n"
          ]
        },
        {
          "output_type": "stream",
          "name": "stdout",
          "text": [
            "Embedding Shape is (300,)\n",
            "Nearest Neighbors to नृत्य are:\n"
          ]
        },
        {
          "output_type": "execute_result",
          "data": {
            "text/plain": [
              "[(0.8913929462432861, 'नृत्य।'),\n",
              " (0.8440190553665161, 'नृत्यगान'),\n",
              " (0.8374733924865723, 'नृत्यगीत'),\n",
              " (0.8336297869682312, 'नृत्यों'),\n",
              " (0.8265783190727234, 'नृत्यरत'),\n",
              " (0.7971948385238647, 'नृत्यकला'),\n",
              " (0.7879464626312256, 'नृत्त'),\n",
              " (0.7682990431785583, 'नृतक'),\n",
              " (0.7622954845428467, 'नृत्यरचना'),\n",
              " (0.7602956295013428, 'नृत्यग्राम')]"
            ]
          },
          "metadata": {},
          "execution_count": 41
        }
      ]
    },
    {
      "cell_type": "code",
      "source": [
        "embedding_dim = 300\n",
        "\n",
        "# Prepare embedding matrix\n",
        "hits = 0\n",
        "misses = 0\n",
        "embedding_matrix = np.zeros((max_features, embedding_dim))\n",
        "for word, i in word_index.items():\n",
        "    embedding_vector = ft.get_word_vector(word)\n",
        "    if embedding_vector is not None:\n",
        "        # Words not found in embedding index will be all-zeros.\n",
        "        # This includes the representation for \"padding\" and \"OOV\"\n",
        "        embedding_matrix[i] = embedding_vector\n",
        "        hits += 1\n",
        "    else:\n",
        "        misses += 1\n",
        "print(\"Converted %d words (%d misses)\" % (hits, misses))"
      ],
      "metadata": {
        "colab": {
          "base_uri": "https://localhost:8080/"
        },
        "id": "jMLHsscoVj7-",
        "outputId": "36e0d2c1-39e4-47ef-be0d-0ec5dec98089"
      },
      "id": "jMLHsscoVj7-",
      "execution_count": 44,
      "outputs": [
        {
          "output_type": "stream",
          "name": "stdout",
          "text": [
            "Converted 10000 words (0 misses)\n"
          ]
        }
      ]
    },
    {
      "cell_type": "markdown",
      "id": "b3ae4111-180e-405a-a822-71705acf6c54",
      "metadata": {
        "id": "b3ae4111-180e-405a-a822-71705acf6c54"
      },
      "source": [
        "### Model definition"
      ]
    },
    {
      "cell_type": "code",
      "execution_count": 51,
      "id": "2440b664-63e4-4cdd-bf6d-8b86fb91b660",
      "metadata": {
        "id": "2440b664-63e4-4cdd-bf6d-8b86fb91b660",
        "outputId": "a26d09ba-724a-4c28-c2ad-1bf07dd5ba40",
        "colab": {
          "base_uri": "https://localhost:8080/"
        }
      },
      "outputs": [
        {
          "output_type": "stream",
          "name": "stdout",
          "text": [
            "Model: \"sequential_2\"\n",
            "_________________________________________________________________\n",
            " Layer (type)                Output Shape              Param #   \n",
            "=================================================================\n",
            " embedding_2 (Embedding)     (None, None, 300)         3000000   \n",
            "                                                                 \n",
            " dropout_4 (Dropout)         (None, None, 300)         0         \n",
            "                                                                 \n",
            " global_average_pooling1d_2   (None, 300)              0         \n",
            " (GlobalAveragePooling1D)                                        \n",
            "                                                                 \n",
            " dropout_5 (Dropout)         (None, 300)               0         \n",
            "                                                                 \n",
            " dense_2 (Dense)             (None, 5)                 1505      \n",
            "                                                                 \n",
            "=================================================================\n",
            "Total params: 3,001,505\n",
            "Trainable params: 1,505\n",
            "Non-trainable params: 3,000,000\n",
            "_________________________________________________________________\n"
          ]
        }
      ],
      "source": [
        "model = tf.keras.Sequential([\n",
        "  layers.Embedding(max_features, embedding_dim, embeddings_initializer=tf.keras.initializers.Constant(embedding_matrix), trainable=False),\n",
        "  layers.Dropout(0.2),\n",
        "  layers.GlobalAveragePooling1D(),\n",
        "  layers.Dropout(0.2),\n",
        "  layers.Dense(5, activation='softmax')])\n",
        "\n",
        "model.summary()"
      ]
    },
    {
      "cell_type": "code",
      "execution_count": 52,
      "id": "83d900a6-dc69-4185-8d16-bcc99a3e9adf",
      "metadata": {
        "id": "83d900a6-dc69-4185-8d16-bcc99a3e9adf"
      },
      "outputs": [],
      "source": [
        "model.compile(loss=losses.SparseCategoricalCrossentropy(),\n",
        "              optimizer='adam',\n",
        "              metrics=tf.metrics.SparseCategoricalAccuracy())"
      ]
    },
    {
      "cell_type": "code",
      "execution_count": 53,
      "id": "79b17591-4c99-446d-891e-5af7eccd308c",
      "metadata": {
        "id": "79b17591-4c99-446d-891e-5af7eccd308c",
        "outputId": "0aff2bda-63fb-4097-de66-8bdf3c4733b1",
        "colab": {
          "base_uri": "https://localhost:8080/"
        }
      },
      "outputs": [
        {
          "output_type": "stream",
          "name": "stdout",
          "text": [
            "Epoch 1/10\n",
            "1016/1016 [==============================] - 11s 9ms/step - loss: 1.3620 - sparse_categorical_accuracy: 0.5510 - val_loss: 1.1563 - val_sparse_categorical_accuracy: 0.6646\n",
            "Epoch 2/10\n",
            "1016/1016 [==============================] - 9s 9ms/step - loss: 1.3086 - sparse_categorical_accuracy: 0.5540 - val_loss: 1.1256 - val_sparse_categorical_accuracy: 0.6646\n",
            "Epoch 3/10\n",
            "1016/1016 [==============================] - 9s 9ms/step - loss: 1.2899 - sparse_categorical_accuracy: 0.5540 - val_loss: 1.1056 - val_sparse_categorical_accuracy: 0.6646\n",
            "Epoch 4/10\n",
            "1016/1016 [==============================] - 9s 9ms/step - loss: 1.2763 - sparse_categorical_accuracy: 0.5539 - val_loss: 1.0917 - val_sparse_categorical_accuracy: 0.6646\n",
            "Epoch 5/10\n",
            "1016/1016 [==============================] - 9s 9ms/step - loss: 1.2665 - sparse_categorical_accuracy: 0.5535 - val_loss: 1.0817 - val_sparse_categorical_accuracy: 0.6646\n",
            "Epoch 6/10\n",
            "1016/1016 [==============================] - 9s 9ms/step - loss: 1.2591 - sparse_categorical_accuracy: 0.5532 - val_loss: 1.0740 - val_sparse_categorical_accuracy: 0.6646\n",
            "Epoch 7/10\n",
            "1016/1016 [==============================] - 9s 9ms/step - loss: 1.2534 - sparse_categorical_accuracy: 0.5526 - val_loss: 1.0681 - val_sparse_categorical_accuracy: 0.6646\n",
            "Epoch 8/10\n",
            "1016/1016 [==============================] - 10s 9ms/step - loss: 1.2482 - sparse_categorical_accuracy: 0.5525 - val_loss: 1.0635 - val_sparse_categorical_accuracy: 0.6646\n",
            "Epoch 9/10\n",
            "1016/1016 [==============================] - 9s 9ms/step - loss: 1.2437 - sparse_categorical_accuracy: 0.5529 - val_loss: 1.0595 - val_sparse_categorical_accuracy: 0.6646\n",
            "Epoch 10/10\n",
            "1016/1016 [==============================] - 9s 9ms/step - loss: 1.2407 - sparse_categorical_accuracy: 0.5517 - val_loss: 1.0561 - val_sparse_categorical_accuracy: 0.6646\n"
          ]
        }
      ],
      "source": [
        "epochs = 10\n",
        "history = model.fit(\n",
        "    train_ds,\n",
        "    validation_data=val_ds,\n",
        "    epochs=epochs)"
      ]
    },
    {
      "cell_type": "code",
      "execution_count": 54,
      "id": "76cb20b2-be01-468f-a17f-7e03e5e38568",
      "metadata": {
        "id": "76cb20b2-be01-468f-a17f-7e03e5e38568"
      },
      "outputs": [],
      "source": [
        "val_softmax = model.predict(val_ds)"
      ]
    },
    {
      "cell_type": "code",
      "execution_count": 55,
      "id": "d2f6ad9e-401c-4068-ad38-a98a096b640d",
      "metadata": {
        "id": "d2f6ad9e-401c-4068-ad38-a98a096b640d"
      },
      "outputs": [],
      "source": [
        "val_labels = np.argmax(val_softmax, axis=1)"
      ]
    },
    {
      "cell_type": "code",
      "execution_count": 56,
      "id": "40de48b2-325a-43f3-999d-69cf8adcf761",
      "metadata": {
        "id": "40de48b2-325a-43f3-999d-69cf8adcf761"
      },
      "outputs": [],
      "source": [
        "val_pd = dataset[train_size:]"
      ]
    },
    {
      "cell_type": "code",
      "execution_count": 57,
      "id": "6eadc6bb-59e0-427a-8ff3-6532cab3bbcf",
      "metadata": {
        "id": "6eadc6bb-59e0-427a-8ff3-6532cab3bbcf",
        "outputId": "ffca9690-e2e1-4c55-da09-5b7fc8fc4af8",
        "colab": {
          "base_uri": "https://localhost:8080/"
        }
      },
      "outputs": [
        {
          "output_type": "stream",
          "name": "stderr",
          "text": [
            "/usr/local/lib/python3.7/dist-packages/ipykernel_launcher.py:1: SettingWithCopyWarning: \n",
            "A value is trying to be set on a copy of a slice from a DataFrame.\n",
            "Try using .loc[row_indexer,col_indexer] = value instead\n",
            "\n",
            "See the caveats in the documentation: https://pandas.pydata.org/pandas-docs/stable/user_guide/indexing.html#returning-a-view-versus-a-copy\n",
            "  \"\"\"Entry point for launching an IPython kernel.\n"
          ]
        }
      ],
      "source": [
        "val_pd['pred_labels'] = val_labels"
      ]
    },
    {
      "cell_type": "code",
      "execution_count": 58,
      "id": "b32812db-b79c-4f30-b9b9-f439a22df6d4",
      "metadata": {
        "id": "b32812db-b79c-4f30-b9b9-f439a22df6d4",
        "outputId": "1f15b7d9-c8e0-42ac-fdb3-2e01ebfe2b86",
        "colab": {
          "base_uri": "https://localhost:8080/",
          "height": 424
        }
      },
      "outputs": [
        {
          "output_type": "execute_result",
          "data": {
            "text/plain": [
              "                                               Sentences  Annotation  Emotion  \\\n",
              "16243  हमारे पास एक मोटा ताजा ऊंट है और हम भूखे मर रह...           2      Sad   \n",
              "16244                  चीते ने ठंडी सांस भरी, 'क्या करें           4  Neutral   \n",
              "16245                     शेर ने उसे अभयदान जो दे रखा है           4  Neutral   \n",
              "16246   देखो तो ऊंट की पीठ का कूबड़ कितना बड़ा हो गया है           4  Neutral   \n",
              "16247                        चर्बी ही चर्बी भरी है इसमें           4  Neutral   \n",
              "...                                                  ...         ...      ...   \n",
              "20299                          फिर यहाँ सर्दी हो जाती है           4  Neutral   \n",
              "20300  दिन-भर मैं यह देखती रहती हूँ कि धूप का टुकड़ा क...           4  Neutral   \n",
              "20301  पार्क का कोई ऐसा कोना नहीं, जहाँ मैं घड़ी-आधा घ...           4  Neutral   \n",
              "20302              लेकिन यह बेंच मुझे सबसे अच्छी लगती है           1      Joy   \n",
              "20303  एक तो इस पर पत्ते नहीं झरते और दूसरे... अरे, आ...           4  Neutral   \n",
              "\n",
              "       pred_labels  \n",
              "16243            4  \n",
              "16244            4  \n",
              "16245            4  \n",
              "16246            4  \n",
              "16247            4  \n",
              "...            ...  \n",
              "20299            4  \n",
              "20300            4  \n",
              "20301            4  \n",
              "20302            4  \n",
              "20303            4  \n",
              "\n",
              "[4061 rows x 4 columns]"
            ],
            "text/html": [
              "\n",
              "  <div id=\"df-1706d44c-20ac-49f6-8004-620cc81d2f15\">\n",
              "    <div class=\"colab-df-container\">\n",
              "      <div>\n",
              "<style scoped>\n",
              "    .dataframe tbody tr th:only-of-type {\n",
              "        vertical-align: middle;\n",
              "    }\n",
              "\n",
              "    .dataframe tbody tr th {\n",
              "        vertical-align: top;\n",
              "    }\n",
              "\n",
              "    .dataframe thead th {\n",
              "        text-align: right;\n",
              "    }\n",
              "</style>\n",
              "<table border=\"1\" class=\"dataframe\">\n",
              "  <thead>\n",
              "    <tr style=\"text-align: right;\">\n",
              "      <th></th>\n",
              "      <th>Sentences</th>\n",
              "      <th>Annotation</th>\n",
              "      <th>Emotion</th>\n",
              "      <th>pred_labels</th>\n",
              "    </tr>\n",
              "  </thead>\n",
              "  <tbody>\n",
              "    <tr>\n",
              "      <th>16243</th>\n",
              "      <td>हमारे पास एक मोटा ताजा ऊंट है और हम भूखे मर रह...</td>\n",
              "      <td>2</td>\n",
              "      <td>Sad</td>\n",
              "      <td>4</td>\n",
              "    </tr>\n",
              "    <tr>\n",
              "      <th>16244</th>\n",
              "      <td>चीते ने ठंडी सांस भरी, 'क्या करें</td>\n",
              "      <td>4</td>\n",
              "      <td>Neutral</td>\n",
              "      <td>4</td>\n",
              "    </tr>\n",
              "    <tr>\n",
              "      <th>16245</th>\n",
              "      <td>शेर ने उसे अभयदान जो दे रखा है</td>\n",
              "      <td>4</td>\n",
              "      <td>Neutral</td>\n",
              "      <td>4</td>\n",
              "    </tr>\n",
              "    <tr>\n",
              "      <th>16246</th>\n",
              "      <td>देखो तो ऊंट की पीठ का कूबड़ कितना बड़ा हो गया है</td>\n",
              "      <td>4</td>\n",
              "      <td>Neutral</td>\n",
              "      <td>4</td>\n",
              "    </tr>\n",
              "    <tr>\n",
              "      <th>16247</th>\n",
              "      <td>चर्बी ही चर्बी भरी है इसमें</td>\n",
              "      <td>4</td>\n",
              "      <td>Neutral</td>\n",
              "      <td>4</td>\n",
              "    </tr>\n",
              "    <tr>\n",
              "      <th>...</th>\n",
              "      <td>...</td>\n",
              "      <td>...</td>\n",
              "      <td>...</td>\n",
              "      <td>...</td>\n",
              "    </tr>\n",
              "    <tr>\n",
              "      <th>20299</th>\n",
              "      <td>फिर यहाँ सर्दी हो जाती है</td>\n",
              "      <td>4</td>\n",
              "      <td>Neutral</td>\n",
              "      <td>4</td>\n",
              "    </tr>\n",
              "    <tr>\n",
              "      <th>20300</th>\n",
              "      <td>दिन-भर मैं यह देखती रहती हूँ कि धूप का टुकड़ा क...</td>\n",
              "      <td>4</td>\n",
              "      <td>Neutral</td>\n",
              "      <td>4</td>\n",
              "    </tr>\n",
              "    <tr>\n",
              "      <th>20301</th>\n",
              "      <td>पार्क का कोई ऐसा कोना नहीं, जहाँ मैं घड़ी-आधा घ...</td>\n",
              "      <td>4</td>\n",
              "      <td>Neutral</td>\n",
              "      <td>4</td>\n",
              "    </tr>\n",
              "    <tr>\n",
              "      <th>20302</th>\n",
              "      <td>लेकिन यह बेंच मुझे सबसे अच्छी लगती है</td>\n",
              "      <td>1</td>\n",
              "      <td>Joy</td>\n",
              "      <td>4</td>\n",
              "    </tr>\n",
              "    <tr>\n",
              "      <th>20303</th>\n",
              "      <td>एक तो इस पर पत्ते नहीं झरते और दूसरे... अरे, आ...</td>\n",
              "      <td>4</td>\n",
              "      <td>Neutral</td>\n",
              "      <td>4</td>\n",
              "    </tr>\n",
              "  </tbody>\n",
              "</table>\n",
              "<p>4061 rows × 4 columns</p>\n",
              "</div>\n",
              "      <button class=\"colab-df-convert\" onclick=\"convertToInteractive('df-1706d44c-20ac-49f6-8004-620cc81d2f15')\"\n",
              "              title=\"Convert this dataframe to an interactive table.\"\n",
              "              style=\"display:none;\">\n",
              "        \n",
              "  <svg xmlns=\"http://www.w3.org/2000/svg\" height=\"24px\"viewBox=\"0 0 24 24\"\n",
              "       width=\"24px\">\n",
              "    <path d=\"M0 0h24v24H0V0z\" fill=\"none\"/>\n",
              "    <path d=\"M18.56 5.44l.94 2.06.94-2.06 2.06-.94-2.06-.94-.94-2.06-.94 2.06-2.06.94zm-11 1L8.5 8.5l.94-2.06 2.06-.94-2.06-.94L8.5 2.5l-.94 2.06-2.06.94zm10 10l.94 2.06.94-2.06 2.06-.94-2.06-.94-.94-2.06-.94 2.06-2.06.94z\"/><path d=\"M17.41 7.96l-1.37-1.37c-.4-.4-.92-.59-1.43-.59-.52 0-1.04.2-1.43.59L10.3 9.45l-7.72 7.72c-.78.78-.78 2.05 0 2.83L4 21.41c.39.39.9.59 1.41.59.51 0 1.02-.2 1.41-.59l7.78-7.78 2.81-2.81c.8-.78.8-2.07 0-2.86zM5.41 20L4 18.59l7.72-7.72 1.47 1.35L5.41 20z\"/>\n",
              "  </svg>\n",
              "      </button>\n",
              "      \n",
              "  <style>\n",
              "    .colab-df-container {\n",
              "      display:flex;\n",
              "      flex-wrap:wrap;\n",
              "      gap: 12px;\n",
              "    }\n",
              "\n",
              "    .colab-df-convert {\n",
              "      background-color: #E8F0FE;\n",
              "      border: none;\n",
              "      border-radius: 50%;\n",
              "      cursor: pointer;\n",
              "      display: none;\n",
              "      fill: #1967D2;\n",
              "      height: 32px;\n",
              "      padding: 0 0 0 0;\n",
              "      width: 32px;\n",
              "    }\n",
              "\n",
              "    .colab-df-convert:hover {\n",
              "      background-color: #E2EBFA;\n",
              "      box-shadow: 0px 1px 2px rgba(60, 64, 67, 0.3), 0px 1px 3px 1px rgba(60, 64, 67, 0.15);\n",
              "      fill: #174EA6;\n",
              "    }\n",
              "\n",
              "    [theme=dark] .colab-df-convert {\n",
              "      background-color: #3B4455;\n",
              "      fill: #D2E3FC;\n",
              "    }\n",
              "\n",
              "    [theme=dark] .colab-df-convert:hover {\n",
              "      background-color: #434B5C;\n",
              "      box-shadow: 0px 1px 3px 1px rgba(0, 0, 0, 0.15);\n",
              "      filter: drop-shadow(0px 1px 2px rgba(0, 0, 0, 0.3));\n",
              "      fill: #FFFFFF;\n",
              "    }\n",
              "  </style>\n",
              "\n",
              "      <script>\n",
              "        const buttonEl =\n",
              "          document.querySelector('#df-1706d44c-20ac-49f6-8004-620cc81d2f15 button.colab-df-convert');\n",
              "        buttonEl.style.display =\n",
              "          google.colab.kernel.accessAllowed ? 'block' : 'none';\n",
              "\n",
              "        async function convertToInteractive(key) {\n",
              "          const element = document.querySelector('#df-1706d44c-20ac-49f6-8004-620cc81d2f15');\n",
              "          const dataTable =\n",
              "            await google.colab.kernel.invokeFunction('convertToInteractive',\n",
              "                                                     [key], {});\n",
              "          if (!dataTable) return;\n",
              "\n",
              "          const docLinkHtml = 'Like what you see? Visit the ' +\n",
              "            '<a target=\"_blank\" href=https://colab.research.google.com/notebooks/data_table.ipynb>data table notebook</a>'\n",
              "            + ' to learn more about interactive tables.';\n",
              "          element.innerHTML = '';\n",
              "          dataTable['output_type'] = 'display_data';\n",
              "          await google.colab.output.renderOutput(dataTable, element);\n",
              "          const docLink = document.createElement('div');\n",
              "          docLink.innerHTML = docLinkHtml;\n",
              "          element.appendChild(docLink);\n",
              "        }\n",
              "      </script>\n",
              "    </div>\n",
              "  </div>\n",
              "  "
            ]
          },
          "metadata": {},
          "execution_count": 58
        }
      ],
      "source": [
        "val_pd"
      ]
    },
    {
      "cell_type": "code",
      "execution_count": 59,
      "id": "764b235b-41f9-40c0-bbd4-acac0bc93ce7",
      "metadata": {
        "id": "764b235b-41f9-40c0-bbd4-acac0bc93ce7",
        "outputId": "52d61f3c-dfd1-4f53-dc47-51b0a83d8407",
        "colab": {
          "base_uri": "https://localhost:8080/"
        }
      },
      "outputs": [
        {
          "output_type": "execute_result",
          "data": {
            "text/plain": [
              "4    4061\n",
              "Name: pred_labels, dtype: int64"
            ]
          },
          "metadata": {},
          "execution_count": 59
        }
      ],
      "source": [
        "val_pd['pred_labels'].value_counts()"
      ]
    },
    {
      "cell_type": "code",
      "execution_count": 60,
      "id": "d0bda131-dfda-4ba3-b177-25963af7581c",
      "metadata": {
        "id": "d0bda131-dfda-4ba3-b177-25963af7581c",
        "outputId": "0e8775a4-cd27-4a97-9c91-99d147dd6301",
        "colab": {
          "base_uri": "https://localhost:8080/"
        }
      },
      "outputs": [
        {
          "output_type": "execute_result",
          "data": {
            "text/plain": [
              "4    2699\n",
              "2     625\n",
              "1     416\n",
              "0     183\n",
              "3     138\n",
              "Name: Annotation, dtype: int64"
            ]
          },
          "metadata": {},
          "execution_count": 60
        }
      ],
      "source": [
        "val_pd['Annotation'].value_counts()"
      ]
    },
    {
      "cell_type": "markdown",
      "id": "10c1632c-dc32-4e42-aa7e-89aa0ef73396",
      "metadata": {
        "id": "10c1632c-dc32-4e42-aa7e-89aa0ef73396"
      },
      "source": [
        "### LSTM"
      ]
    },
    {
      "cell_type": "code",
      "execution_count": 61,
      "id": "cadb31cd-e970-4554-a3da-b77d43fe95f1",
      "metadata": {
        "id": "cadb31cd-e970-4554-a3da-b77d43fe95f1"
      },
      "outputs": [],
      "source": [
        "model = tf.keras.Sequential([\n",
        "    layers.Embedding(max_features, embedding_dim, mask_zero=True, embeddings_initializer=tf.keras.initializers.Constant(embedding_matrix), trainable=False),\n",
        "    tf.keras.layers.LSTM(32),\n",
        "    layers.Dense(16, activation='relu'),\n",
        "    layers.Dense(5)\n",
        "])"
      ]
    },
    {
      "cell_type": "code",
      "execution_count": 62,
      "id": "f40a2eed-af53-4d35-b3e6-0b25fb2629fc",
      "metadata": {
        "id": "f40a2eed-af53-4d35-b3e6-0b25fb2629fc"
      },
      "outputs": [],
      "source": [
        "model.compile(loss=losses.SparseCategoricalCrossentropy(),\n",
        "              optimizer='adam',\n",
        "              metrics=tf.metrics.SparseCategoricalAccuracy())"
      ]
    },
    {
      "cell_type": "code",
      "execution_count": 63,
      "id": "64f79a10-a36c-4be1-8d34-c5d9567ddc6c",
      "metadata": {
        "id": "64f79a10-a36c-4be1-8d34-c5d9567ddc6c",
        "outputId": "d554d056-bdab-47f3-e2b9-52a57211d4fd",
        "colab": {
          "base_uri": "https://localhost:8080/"
        }
      },
      "outputs": [
        {
          "output_type": "stream",
          "name": "stdout",
          "text": [
            "Epoch 1/10\n",
            "1016/1016 [==============================] - 78s 72ms/step - loss: 2.7344 - sparse_categorical_accuracy: 0.4828 - val_loss: 1.6094 - val_sparse_categorical_accuracy: 0.5486\n",
            "Epoch 2/10\n",
            "1016/1016 [==============================] - 77s 76ms/step - loss: 1.6095 - sparse_categorical_accuracy: 0.4691 - val_loss: 1.6094 - val_sparse_categorical_accuracy: 0.5489\n",
            "Epoch 3/10\n",
            "1016/1016 [==============================] - 80s 79ms/step - loss: 1.6095 - sparse_categorical_accuracy: 0.4691 - val_loss: 1.6094 - val_sparse_categorical_accuracy: 0.5489\n",
            "Epoch 4/10\n",
            "1016/1016 [==============================] - 76s 75ms/step - loss: 1.6095 - sparse_categorical_accuracy: 0.4691 - val_loss: 1.6094 - val_sparse_categorical_accuracy: 0.5489\n",
            "Epoch 5/10\n",
            "1016/1016 [==============================] - 71s 70ms/step - loss: 1.6095 - sparse_categorical_accuracy: 0.4691 - val_loss: 1.6094 - val_sparse_categorical_accuracy: 0.5489\n",
            "Epoch 6/10\n",
            "1016/1016 [==============================] - 71s 70ms/step - loss: 1.6095 - sparse_categorical_accuracy: 0.4691 - val_loss: 1.6094 - val_sparse_categorical_accuracy: 0.5489\n",
            "Epoch 7/10\n",
            "1016/1016 [==============================] - 71s 70ms/step - loss: 1.6095 - sparse_categorical_accuracy: 0.4691 - val_loss: 1.6094 - val_sparse_categorical_accuracy: 0.5489\n",
            "Epoch 8/10\n",
            "1016/1016 [==============================] - 71s 70ms/step - loss: 1.6095 - sparse_categorical_accuracy: 0.4691 - val_loss: 1.6094 - val_sparse_categorical_accuracy: 0.5489\n",
            "Epoch 9/10\n",
            "1016/1016 [==============================] - 71s 70ms/step - loss: 1.6095 - sparse_categorical_accuracy: 0.4691 - val_loss: 1.6094 - val_sparse_categorical_accuracy: 0.5489\n",
            "Epoch 10/10\n",
            "1016/1016 [==============================] - 71s 70ms/step - loss: 1.6095 - sparse_categorical_accuracy: 0.4691 - val_loss: 1.6094 - val_sparse_categorical_accuracy: 0.5489\n"
          ]
        }
      ],
      "source": [
        "epochs = 10\n",
        "history = model.fit(\n",
        "    train_ds,\n",
        "    validation_data=val_ds,\n",
        "    epochs=epochs)"
      ]
    },
    {
      "cell_type": "code",
      "execution_count": null,
      "id": "6526a136-727b-4fd0-aacf-2da535dbd82d",
      "metadata": {
        "id": "6526a136-727b-4fd0-aacf-2da535dbd82d"
      },
      "outputs": [],
      "source": [
        ""
      ]
    },
    {
      "cell_type": "code",
      "execution_count": null,
      "id": "00f02a9e-7bad-47ce-a0cf-8be11420eb06",
      "metadata": {
        "id": "00f02a9e-7bad-47ce-a0cf-8be11420eb06"
      },
      "outputs": [],
      "source": [
        ""
      ]
    }
  ],
  "metadata": {
    "kernelspec": {
      "display_name": "Python 3 (ipykernel)",
      "language": "python",
      "name": "python3"
    },
    "language_info": {
      "codemirror_mode": {
        "name": "ipython",
        "version": 3
      },
      "file_extension": ".py",
      "mimetype": "text/x-python",
      "name": "python",
      "nbconvert_exporter": "python",
      "pygments_lexer": "ipython3",
      "version": "3.9.7"
    },
    "colab": {
      "name": "Pretrained-Pre-processing.ipynb",
      "provenance": [],
      "collapsed_sections": [
        "10c1632c-dc32-4e42-aa7e-89aa0ef73396"
      ],
      "include_colab_link": true
    }
  },
  "nbformat": 4,
  "nbformat_minor": 5
}