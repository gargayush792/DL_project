{
  "cells": [
    {
      "cell_type": "code",
      "source": [
        "# !pip install inltk\n",
        "!pip install fasttext\n",
        "!wget https://dl.fbaipublicfiles.com/fasttext/vectors-wiki/wiki.hi.zip\n",
        "!unzip 'wiki.hi.zip'"
      ],
      "metadata": {
        "colab": {
          "base_uri": "https://localhost:8080/"
        },
        "id": "EQ1vbWpUcW4q",
        "outputId": "82bbb5ab-4d76-4616-cec6-b4f0ac9351fa"
      },
      "id": "EQ1vbWpUcW4q",
      "execution_count": null,
      "outputs": [
        {
          "output_type": "stream",
          "name": "stdout",
          "text": [
            "Requirement already satisfied: fasttext in /usr/local/lib/python3.7/dist-packages (0.9.2)\n",
            "Requirement already satisfied: pybind11>=2.2 in /usr/local/lib/python3.7/dist-packages (from fasttext) (2.9.2)\n",
            "Requirement already satisfied: numpy in /usr/local/lib/python3.7/dist-packages (from fasttext) (1.21.6)\n",
            "Requirement already satisfied: setuptools>=0.7.0 in /usr/local/lib/python3.7/dist-packages (from fasttext) (57.4.0)\n",
            "--2022-04-29 17:10:10--  https://dl.fbaipublicfiles.com/fasttext/vectors-wiki/wiki.hi.zip\n",
            "Resolving dl.fbaipublicfiles.com (dl.fbaipublicfiles.com)... 172.67.9.4, 104.22.75.142, 104.22.74.142, ...\n",
            "Connecting to dl.fbaipublicfiles.com (dl.fbaipublicfiles.com)|172.67.9.4|:443... connected.\n",
            "HTTP request sent, awaiting response... 200 OK\n",
            "Length: 2779916118 (2.6G) [application/zip]\n",
            "Saving to: ‘wiki.hi.zip.1’\n",
            "\n",
            "wiki.hi.zip.1       100%[===================>]   2.59G  17.2MB/s    in 2m 40s  \n",
            "\n",
            "2022-04-29 17:12:51 (16.6 MB/s) - ‘wiki.hi.zip.1’ saved [2779916118/2779916118]\n",
            "\n",
            "Archive:  wiki.hi.zip\n",
            "replace wiki.hi.vec? [y]es, [n]o, [A]ll, [N]one, [r]ename: N\n"
          ]
        }
      ]
    },
    {
      "cell_type": "code",
      "execution_count": null,
      "id": "ce85cb08-d95f-4146-9458-fb65fc5fba5b",
      "metadata": {
        "id": "ce85cb08-d95f-4146-9458-fb65fc5fba5b"
      },
      "outputs": [],
      "source": [
        "import pandas as pd\n",
        "import numpy as np\n",
        "from sklearn.metrics import classification_report"
      ]
    },
    {
      "cell_type": "code",
      "execution_count": null,
      "id": "eb51662b-a7ac-4774-8317-68a4a2c1b4dd",
      "metadata": {
        "id": "eb51662b-a7ac-4774-8317-68a4a2c1b4dd"
      },
      "outputs": [],
      "source": [
        "import tensorflow as tf\n",
        "from tensorflow.keras import layers\n",
        "from tensorflow.keras import losses"
      ]
    },
    {
      "cell_type": "code",
      "source": [
        "# from inltk.inltk import get_embedding_vectors\n",
        "# from inltk.inltk import setup\n",
        "# setup(\"hi\")"
      ],
      "metadata": {
        "id": "YldJv5aVdbED"
      },
      "id": "YldJv5aVdbED",
      "execution_count": null,
      "outputs": []
    },
    {
      "cell_type": "markdown",
      "id": "c002ff79-8466-4035-adf3-eea69db9ac5a",
      "metadata": {
        "id": "c002ff79-8466-4035-adf3-eea69db9ac5a"
      },
      "source": [
        "### Dataset reading and annotations"
      ]
    },
    {
      "cell_type": "code",
      "execution_count": null,
      "id": "384e8bb7-1398-415f-a5ba-13cb95ba5e7a",
      "metadata": {
        "id": "384e8bb7-1398-415f-a5ba-13cb95ba5e7a"
      },
      "outputs": [],
      "source": [
        "url = \"https://raw.githubusercontent.com/PrynkaSxna/dataset/main/Bhaav-Dataset.csv\"\n",
        "dataset = pd.read_csv(url)"
      ]
    },
    {
      "cell_type": "code",
      "execution_count": null,
      "id": "a9cbcb5b-a097-4886-9ff2-1ec24ea1002e",
      "metadata": {
        "id": "a9cbcb5b-a097-4886-9ff2-1ec24ea1002e",
        "outputId": "b0b206a1-a235-4f45-8479-c34b16374f7d",
        "colab": {
          "base_uri": "https://localhost:8080/",
          "height": 424
        }
      },
      "outputs": [
        {
          "output_type": "execute_result",
          "data": {
            "text/plain": [
              "                                               Sentences  Annotation\n",
              "0               रमजान के पूरे तीस रोजों के बाद ईद आयी है           1\n",
              "1                   कितना मनोहर, कितना सुहावना प्रभाव है           1\n",
              "2      वृक्षों पर अजीब हरियाली है, खेतों में कुछ अजीब...           1\n",
              "3      आज का सूर्य देखो, कितना प्यारा, कितना शीतल है,...           1\n",
              "4                                 गाँव में कितनी हलचल है           1\n",
              "...                                                  ...         ...\n",
              "20299                          फिर यहाँ सर्दी हो जाती है           4\n",
              "20300  दिन-भर मैं यह देखती रहती हूँ कि धूप का टुकड़ा क...           4\n",
              "20301  पार्क का कोई ऐसा कोना नहीं, जहाँ मैं घड़ी-आधा घ...           4\n",
              "20302              लेकिन यह बेंच मुझे सबसे अच्छी लगती है           1\n",
              "20303  एक तो इस पर पत्ते नहीं झरते और दूसरे... अरे, आ...           4\n",
              "\n",
              "[20304 rows x 2 columns]"
            ],
            "text/html": [
              "\n",
              "  <div id=\"df-1e38397e-1c59-4616-819e-379cfbfcfeb0\">\n",
              "    <div class=\"colab-df-container\">\n",
              "      <div>\n",
              "<style scoped>\n",
              "    .dataframe tbody tr th:only-of-type {\n",
              "        vertical-align: middle;\n",
              "    }\n",
              "\n",
              "    .dataframe tbody tr th {\n",
              "        vertical-align: top;\n",
              "    }\n",
              "\n",
              "    .dataframe thead th {\n",
              "        text-align: right;\n",
              "    }\n",
              "</style>\n",
              "<table border=\"1\" class=\"dataframe\">\n",
              "  <thead>\n",
              "    <tr style=\"text-align: right;\">\n",
              "      <th></th>\n",
              "      <th>Sentences</th>\n",
              "      <th>Annotation</th>\n",
              "    </tr>\n",
              "  </thead>\n",
              "  <tbody>\n",
              "    <tr>\n",
              "      <th>0</th>\n",
              "      <td>रमजान के पूरे तीस रोजों के बाद ईद आयी है</td>\n",
              "      <td>1</td>\n",
              "    </tr>\n",
              "    <tr>\n",
              "      <th>1</th>\n",
              "      <td>कितना मनोहर, कितना सुहावना प्रभाव है</td>\n",
              "      <td>1</td>\n",
              "    </tr>\n",
              "    <tr>\n",
              "      <th>2</th>\n",
              "      <td>वृक्षों पर अजीब हरियाली है, खेतों में कुछ अजीब...</td>\n",
              "      <td>1</td>\n",
              "    </tr>\n",
              "    <tr>\n",
              "      <th>3</th>\n",
              "      <td>आज का सूर्य देखो, कितना प्यारा, कितना शीतल है,...</td>\n",
              "      <td>1</td>\n",
              "    </tr>\n",
              "    <tr>\n",
              "      <th>4</th>\n",
              "      <td>गाँव में कितनी हलचल है</td>\n",
              "      <td>1</td>\n",
              "    </tr>\n",
              "    <tr>\n",
              "      <th>...</th>\n",
              "      <td>...</td>\n",
              "      <td>...</td>\n",
              "    </tr>\n",
              "    <tr>\n",
              "      <th>20299</th>\n",
              "      <td>फिर यहाँ सर्दी हो जाती है</td>\n",
              "      <td>4</td>\n",
              "    </tr>\n",
              "    <tr>\n",
              "      <th>20300</th>\n",
              "      <td>दिन-भर मैं यह देखती रहती हूँ कि धूप का टुकड़ा क...</td>\n",
              "      <td>4</td>\n",
              "    </tr>\n",
              "    <tr>\n",
              "      <th>20301</th>\n",
              "      <td>पार्क का कोई ऐसा कोना नहीं, जहाँ मैं घड़ी-आधा घ...</td>\n",
              "      <td>4</td>\n",
              "    </tr>\n",
              "    <tr>\n",
              "      <th>20302</th>\n",
              "      <td>लेकिन यह बेंच मुझे सबसे अच्छी लगती है</td>\n",
              "      <td>1</td>\n",
              "    </tr>\n",
              "    <tr>\n",
              "      <th>20303</th>\n",
              "      <td>एक तो इस पर पत्ते नहीं झरते और दूसरे... अरे, आ...</td>\n",
              "      <td>4</td>\n",
              "    </tr>\n",
              "  </tbody>\n",
              "</table>\n",
              "<p>20304 rows × 2 columns</p>\n",
              "</div>\n",
              "      <button class=\"colab-df-convert\" onclick=\"convertToInteractive('df-1e38397e-1c59-4616-819e-379cfbfcfeb0')\"\n",
              "              title=\"Convert this dataframe to an interactive table.\"\n",
              "              style=\"display:none;\">\n",
              "        \n",
              "  <svg xmlns=\"http://www.w3.org/2000/svg\" height=\"24px\"viewBox=\"0 0 24 24\"\n",
              "       width=\"24px\">\n",
              "    <path d=\"M0 0h24v24H0V0z\" fill=\"none\"/>\n",
              "    <path d=\"M18.56 5.44l.94 2.06.94-2.06 2.06-.94-2.06-.94-.94-2.06-.94 2.06-2.06.94zm-11 1L8.5 8.5l.94-2.06 2.06-.94-2.06-.94L8.5 2.5l-.94 2.06-2.06.94zm10 10l.94 2.06.94-2.06 2.06-.94-2.06-.94-.94-2.06-.94 2.06-2.06.94z\"/><path d=\"M17.41 7.96l-1.37-1.37c-.4-.4-.92-.59-1.43-.59-.52 0-1.04.2-1.43.59L10.3 9.45l-7.72 7.72c-.78.78-.78 2.05 0 2.83L4 21.41c.39.39.9.59 1.41.59.51 0 1.02-.2 1.41-.59l7.78-7.78 2.81-2.81c.8-.78.8-2.07 0-2.86zM5.41 20L4 18.59l7.72-7.72 1.47 1.35L5.41 20z\"/>\n",
              "  </svg>\n",
              "      </button>\n",
              "      \n",
              "  <style>\n",
              "    .colab-df-container {\n",
              "      display:flex;\n",
              "      flex-wrap:wrap;\n",
              "      gap: 12px;\n",
              "    }\n",
              "\n",
              "    .colab-df-convert {\n",
              "      background-color: #E8F0FE;\n",
              "      border: none;\n",
              "      border-radius: 50%;\n",
              "      cursor: pointer;\n",
              "      display: none;\n",
              "      fill: #1967D2;\n",
              "      height: 32px;\n",
              "      padding: 0 0 0 0;\n",
              "      width: 32px;\n",
              "    }\n",
              "\n",
              "    .colab-df-convert:hover {\n",
              "      background-color: #E2EBFA;\n",
              "      box-shadow: 0px 1px 2px rgba(60, 64, 67, 0.3), 0px 1px 3px 1px rgba(60, 64, 67, 0.15);\n",
              "      fill: #174EA6;\n",
              "    }\n",
              "\n",
              "    [theme=dark] .colab-df-convert {\n",
              "      background-color: #3B4455;\n",
              "      fill: #D2E3FC;\n",
              "    }\n",
              "\n",
              "    [theme=dark] .colab-df-convert:hover {\n",
              "      background-color: #434B5C;\n",
              "      box-shadow: 0px 1px 3px 1px rgba(0, 0, 0, 0.15);\n",
              "      filter: drop-shadow(0px 1px 2px rgba(0, 0, 0, 0.3));\n",
              "      fill: #FFFFFF;\n",
              "    }\n",
              "  </style>\n",
              "\n",
              "      <script>\n",
              "        const buttonEl =\n",
              "          document.querySelector('#df-1e38397e-1c59-4616-819e-379cfbfcfeb0 button.colab-df-convert');\n",
              "        buttonEl.style.display =\n",
              "          google.colab.kernel.accessAllowed ? 'block' : 'none';\n",
              "\n",
              "        async function convertToInteractive(key) {\n",
              "          const element = document.querySelector('#df-1e38397e-1c59-4616-819e-379cfbfcfeb0');\n",
              "          const dataTable =\n",
              "            await google.colab.kernel.invokeFunction('convertToInteractive',\n",
              "                                                     [key], {});\n",
              "          if (!dataTable) return;\n",
              "\n",
              "          const docLinkHtml = 'Like what you see? Visit the ' +\n",
              "            '<a target=\"_blank\" href=https://colab.research.google.com/notebooks/data_table.ipynb>data table notebook</a>'\n",
              "            + ' to learn more about interactive tables.';\n",
              "          element.innerHTML = '';\n",
              "          dataTable['output_type'] = 'display_data';\n",
              "          await google.colab.output.renderOutput(dataTable, element);\n",
              "          const docLink = document.createElement('div');\n",
              "          docLink.innerHTML = docLinkHtml;\n",
              "          element.appendChild(docLink);\n",
              "        }\n",
              "      </script>\n",
              "    </div>\n",
              "  </div>\n",
              "  "
            ]
          },
          "metadata": {},
          "execution_count": 43
        }
      ],
      "source": [
        "dataset"
      ]
    },
    {
      "cell_type": "code",
      "execution_count": null,
      "id": "237e9358-3dad-4b5e-9468-16287707ba12",
      "metadata": {
        "id": "237e9358-3dad-4b5e-9468-16287707ba12",
        "outputId": "ad2e4ef2-cba5-4341-bc82-965a711d4cd0",
        "colab": {
          "base_uri": "https://localhost:8080/"
        }
      },
      "outputs": [
        {
          "output_type": "execute_result",
          "data": {
            "text/plain": [
              "4    11697\n",
              "2     3168\n",
              "1     2463\n",
              "3     1512\n",
              "0     1464\n",
              "Name: Annotation, dtype: int64"
            ]
          },
          "metadata": {},
          "execution_count": 44
        }
      ],
      "source": [
        "dataset['Annotation'].value_counts()"
      ]
    },
    {
      "cell_type": "code",
      "execution_count": null,
      "id": "1f27047c-43c9-49c6-9007-1579d6137eec",
      "metadata": {
        "id": "1f27047c-43c9-49c6-9007-1579d6137eec"
      },
      "outputs": [],
      "source": [
        "dataset['Emotion'] = np.where(\n",
        "    dataset['Annotation'] == 0, 'Anger', np.where(\n",
        "        dataset['Annotation'] == 1, 'Joy', np.where(\n",
        "            dataset['Annotation'] == 2, 'Sad', np.where(\n",
        "                dataset['Annotation'] == 3, 'Suspense', 'Neutral'))))"
      ]
    },
    {
      "cell_type": "code",
      "execution_count": null,
      "id": "a51aa701-b563-405b-b465-bf49a47c7b80",
      "metadata": {
        "id": "a51aa701-b563-405b-b465-bf49a47c7b80",
        "outputId": "79cd70c2-e6c5-4156-afe6-021cfbe00de1",
        "colab": {
          "base_uri": "https://localhost:8080/"
        }
      },
      "outputs": [
        {
          "output_type": "execute_result",
          "data": {
            "text/plain": [
              "Neutral     11697\n",
              "Sad          3168\n",
              "Joy          2463\n",
              "Suspense     1512\n",
              "Anger        1464\n",
              "Name: Emotion, dtype: int64"
            ]
          },
          "metadata": {},
          "execution_count": 46
        }
      ],
      "source": [
        "dataset['Emotion'].value_counts()"
      ]
    },
    {
      "cell_type": "code",
      "source": [
        "from sklearn.utils.class_weight import compute_class_weight\n",
        "\n",
        "y_train_labels = dataset['Annotation'].values\n",
        "classes = np.unique(y_train_labels)\n",
        "cls_weights = compute_class_weight(class_weight = \"balanced\", classes=classes, y= y_train_labels)\n",
        "class_weights = dict(zip(classes, cls_weights))\n",
        "class_weights"
      ],
      "metadata": {
        "colab": {
          "base_uri": "https://localhost:8080/"
        },
        "id": "qdAYXTqPtd11",
        "outputId": "8321e868-18dd-4ac8-cb7c-c562e4c90b79"
      },
      "id": "qdAYXTqPtd11",
      "execution_count": null,
      "outputs": [
        {
          "output_type": "execute_result",
          "data": {
            "text/plain": [
              "{0: 2.773770491803279,\n",
              " 1: 1.648721071863581,\n",
              " 2: 1.2818181818181817,\n",
              " 3: 2.6857142857142855,\n",
              " 4: 0.3471659399846114}"
            ]
          },
          "metadata": {},
          "execution_count": 47
        }
      ]
    },
    {
      "cell_type": "markdown",
      "id": "9fecd383-4370-4566-9b1b-f6deb0f7cb0f",
      "metadata": {
        "id": "9fecd383-4370-4566-9b1b-f6deb0f7cb0f"
      },
      "source": [
        "### Convert to TF Dataset and Train/Test Split"
      ]
    },
    {
      "cell_type": "code",
      "execution_count": null,
      "id": "ec8f2ee8-2300-415f-a19e-786909bd1759",
      "metadata": {
        "id": "ec8f2ee8-2300-415f-a19e-786909bd1759"
      },
      "outputs": [],
      "source": [
        "full_dataset = (\n",
        "    tf.data.Dataset.from_tensor_slices(\n",
        "        (\n",
        "            tf.cast(dataset['Sentences'].values, tf.string),\n",
        "            tf.cast(dataset['Annotation'].values, tf.int32)\n",
        "        )\n",
        "    )\n",
        ")"
      ]
    },
    {
      "cell_type": "code",
      "execution_count": null,
      "id": "64382e2e-e051-43e2-9a03-e114a526e9ab",
      "metadata": {
        "id": "64382e2e-e051-43e2-9a03-e114a526e9ab"
      },
      "outputs": [],
      "source": [
        "train_size = int(dataset.shape[0]*0.8)"
      ]
    },
    {
      "cell_type": "code",
      "execution_count": null,
      "id": "f792b5c8-4f59-4074-9b0f-9cb6ab07cbfe",
      "metadata": {
        "id": "f792b5c8-4f59-4074-9b0f-9cb6ab07cbfe"
      },
      "outputs": [],
      "source": [
        "train_dataset = full_dataset.take(train_size)\n",
        "test_dataset = full_dataset.skip(train_size)"
      ]
    },
    {
      "cell_type": "code",
      "execution_count": null,
      "id": "248ac967-7b26-41c7-8c3a-947ce834ac3b",
      "metadata": {
        "id": "248ac967-7b26-41c7-8c3a-947ce834ac3b"
      },
      "outputs": [],
      "source": [
        "batch_size = 16"
      ]
    },
    {
      "cell_type": "code",
      "execution_count": null,
      "id": "6ae7c68d-fb19-405b-a7b0-d8131483a7e8",
      "metadata": {
        "id": "6ae7c68d-fb19-405b-a7b0-d8131483a7e8"
      },
      "outputs": [],
      "source": [
        "train_dataset = train_dataset.batch(batch_size)\n",
        "test_dataset = test_dataset.batch(batch_size)"
      ]
    },
    {
      "cell_type": "markdown",
      "id": "1438fddd-5d96-4ec1-bd9c-fc74a0482c0a",
      "metadata": {
        "id": "1438fddd-5d96-4ec1-bd9c-fc74a0482c0a"
      },
      "source": [
        "### Preprocessing\n",
        "* Tokenisation\n",
        "* Punctuation Removal\n",
        "* Embed words to ints"
      ]
    },
    {
      "cell_type": "code",
      "execution_count": null,
      "id": "c1114402-d634-409b-8420-797942388f6d",
      "metadata": {
        "id": "c1114402-d634-409b-8420-797942388f6d"
      },
      "outputs": [],
      "source": [
        "max_features = 20000\n",
        "sequence_length = 150\n",
        "\n",
        "vectorize_layer = layers.TextVectorization(\n",
        "    standardize=\"strip_punctuation\",\n",
        "    max_tokens=max_features,\n",
        "    output_mode='int',\n",
        "    output_sequence_length=sequence_length)"
      ]
    },
    {
      "cell_type": "code",
      "execution_count": null,
      "id": "147159a3-0b5b-4896-86d7-c30bdeb28900",
      "metadata": {
        "id": "147159a3-0b5b-4896-86d7-c30bdeb28900"
      },
      "outputs": [],
      "source": [
        "train_text = train_dataset.map(lambda x, y: x)"
      ]
    },
    {
      "cell_type": "code",
      "execution_count": null,
      "id": "d49630a4-1c4e-4fc9-8285-748ac20699cf",
      "metadata": {
        "id": "d49630a4-1c4e-4fc9-8285-748ac20699cf"
      },
      "outputs": [],
      "source": [
        "vectorize_layer.adapt(train_text)"
      ]
    },
    {
      "cell_type": "code",
      "execution_count": null,
      "id": "478b0089-ab6e-4ebc-af91-58f00e4d1780",
      "metadata": {
        "id": "478b0089-ab6e-4ebc-af91-58f00e4d1780"
      },
      "outputs": [],
      "source": [
        "def vectorize_text(text, label):\n",
        "    text = tf.expand_dims(text, -1)\n",
        "    return vectorize_layer(text), label"
      ]
    },
    {
      "cell_type": "code",
      "execution_count": null,
      "id": "3333c0bf-f223-4506-97df-f63760de6253",
      "metadata": {
        "id": "3333c0bf-f223-4506-97df-f63760de6253",
        "outputId": "dcf9d249-8222-4f8c-a75c-2301bce2b827",
        "colab": {
          "base_uri": "https://localhost:8080/"
        }
      },
      "outputs": [
        {
          "output_type": "stream",
          "name": "stdout",
          "text": [
            "Review tf.Tensor(b'\\xe0\\xa4\\xb0\\xe0\\xa4\\xae\\xe0\\xa4\\x9c\\xe0\\xa4\\xbe\\xe0\\xa4\\xa8 \\xe0\\xa4\\x95\\xe0\\xa5\\x87 \\xe0\\xa4\\xaa\\xe0\\xa5\\x82\\xe0\\xa4\\xb0\\xe0\\xa5\\x87 \\xe0\\xa4\\xa4\\xe0\\xa5\\x80\\xe0\\xa4\\xb8 \\xe0\\xa4\\xb0\\xe0\\xa5\\x8b\\xe0\\xa4\\x9c\\xe0\\xa5\\x8b\\xe0\\xa4\\x82 \\xe0\\xa4\\x95\\xe0\\xa5\\x87 \\xe0\\xa4\\xac\\xe0\\xa4\\xbe\\xe0\\xa4\\xa6 \\xe0\\xa4\\x88\\xe0\\xa4\\xa6 \\xe0\\xa4\\x86\\xe0\\xa4\\xaf\\xe0\\xa5\\x80 \\xe0\\xa4\\xb9\\xe0\\xa5\\x88', shape=(), dtype=string)\n",
            "Label tf.Tensor(1, shape=(), dtype=int32)\n",
            "Vectorized review (<tf.Tensor: shape=(1, 150), dtype=int64, numpy=\n",
            "array([[10264,     2,   839,  2833, 10097,     2,    78,  2223,   320,\n",
            "            7,     0,     0,     0,     0,     0,     0,     0,     0,\n",
            "            0,     0,     0,     0,     0,     0,     0,     0,     0,\n",
            "            0,     0,     0,     0,     0,     0,     0,     0,     0,\n",
            "            0,     0,     0,     0,     0,     0,     0,     0,     0,\n",
            "            0,     0,     0,     0,     0,     0,     0,     0,     0,\n",
            "            0,     0,     0,     0,     0,     0,     0,     0,     0,\n",
            "            0,     0,     0,     0,     0,     0,     0,     0,     0,\n",
            "            0,     0,     0,     0,     0,     0,     0,     0,     0,\n",
            "            0,     0,     0,     0,     0,     0,     0,     0,     0,\n",
            "            0,     0,     0,     0,     0,     0,     0,     0,     0,\n",
            "            0,     0,     0,     0,     0,     0,     0,     0,     0,\n",
            "            0,     0,     0,     0,     0,     0,     0,     0,     0,\n",
            "            0,     0,     0,     0,     0,     0,     0,     0,     0,\n",
            "            0,     0,     0,     0,     0,     0,     0,     0,     0,\n",
            "            0,     0,     0,     0,     0,     0,     0,     0,     0,\n",
            "            0,     0,     0,     0,     0,     0]])>, <tf.Tensor: shape=(), dtype=int32, numpy=1>)\n"
          ]
        }
      ],
      "source": [
        "text_batch, label_batch = next(iter(train_dataset))\n",
        "first_review, first_label = text_batch[0], label_batch[0]\n",
        "print(\"Review\", first_review)\n",
        "print(\"Label\", first_label)\n",
        "print(\"Vectorized review\", vectorize_text(first_review, first_label))"
      ]
    },
    {
      "cell_type": "code",
      "execution_count": null,
      "id": "c83979e3-3281-46a3-80b0-74f2cccbb2f6",
      "metadata": {
        "id": "c83979e3-3281-46a3-80b0-74f2cccbb2f6"
      },
      "outputs": [],
      "source": [
        "train_ds = train_dataset.map(vectorize_text)\n",
        "val_ds = test_dataset.map(vectorize_text)"
      ]
    },
    {
      "cell_type": "code",
      "source": [
        "vocab = vectorize_layer.get_vocabulary()\n",
        "word_index = dict(zip(vocab, range(len(vocab))))"
      ],
      "metadata": {
        "id": "vm1rt7bBarby"
      },
      "id": "vm1rt7bBarby",
      "execution_count": null,
      "outputs": []
    },
    {
      "cell_type": "markdown",
      "source": [
        "**Load FastText Word embeddings and Generate Embedding matrix**"
      ],
      "metadata": {
        "id": "THXu2ATSF7JM"
      },
      "id": "THXu2ATSF7JM"
    },
    {
      "cell_type": "code",
      "source": [
        "import fasttext\n",
        "import fasttext.util\n",
        "ft = fasttext.load_model('wiki.hi.bin')\n",
        "word = \"नृत्य\"\n",
        "print(\"Embedding Shape is {}\".format(ft.get_word_vector(word).shape))\n",
        "print(\"Nearest Neighbors to {} are:\".format(word))\n",
        "ft.get_nearest_neighbors(word) "
      ],
      "metadata": {
        "colab": {
          "base_uri": "https://localhost:8080/"
        },
        "id": "GZ5hrnoRebCr",
        "outputId": "d3f90cf6-32c9-449b-88fd-b6a70665ac7a"
      },
      "id": "GZ5hrnoRebCr",
      "execution_count": null,
      "outputs": [
        {
          "output_type": "stream",
          "name": "stdout",
          "text": [
            "Embedding Shape is (300,)\n",
            "Nearest Neighbors to नृत्य are:\n"
          ]
        },
        {
          "output_type": "stream",
          "name": "stderr",
          "text": [
            "Warning : `load_model` does not return WordVectorModel or SupervisedModel any more, but a `FastText` object which is very similar.\n"
          ]
        },
        {
          "output_type": "execute_result",
          "data": {
            "text/plain": [
              "[(0.8913929462432861, 'नृत्य।'),\n",
              " (0.8440190553665161, 'नृत्यगान'),\n",
              " (0.8374733924865723, 'नृत्यगीत'),\n",
              " (0.8336297869682312, 'नृत्यों'),\n",
              " (0.8265783190727234, 'नृत्यरत'),\n",
              " (0.7971948385238647, 'नृत्यकला'),\n",
              " (0.7879464626312256, 'नृत्त'),\n",
              " (0.7682990431785583, 'नृतक'),\n",
              " (0.7622954845428467, 'नृत्यरचना'),\n",
              " (0.7602956295013428, 'नृत्यग्राम')]"
            ]
          },
          "metadata": {},
          "execution_count": 60
        }
      ]
    },
    {
      "cell_type": "code",
      "source": [
        "embedding_dim = 300\n",
        "\n",
        "# Prepare embedding matrix\n",
        "hits = 0\n",
        "misses = 0\n",
        "embedding_matrix = np.zeros((max_features, embedding_dim))\n",
        "for word, i in word_index.items():\n",
        "    embedding_vector = ft.get_word_vector(word)\n",
        "    if embedding_vector is not None:\n",
        "        # Words not found in embedding index will be all-zeros.\n",
        "        # This includes the representation for \"padding\" and \"OOV\"\n",
        "        embedding_matrix[i] = embedding_vector\n",
        "        hits += 1\n",
        "    else:\n",
        "        misses += 1\n",
        "print(\"Converted %d words (%d misses)\" % (hits, misses))"
      ],
      "metadata": {
        "colab": {
          "base_uri": "https://localhost:8080/"
        },
        "id": "jMLHsscoVj7-",
        "outputId": "b417c38a-9042-465d-9f6d-fabfaf98e607"
      },
      "id": "jMLHsscoVj7-",
      "execution_count": null,
      "outputs": [
        {
          "output_type": "stream",
          "name": "stdout",
          "text": [
            "Converted 16233 words (0 misses)\n"
          ]
        }
      ]
    },
    {
      "cell_type": "markdown",
      "id": "b3ae4111-180e-405a-a822-71705acf6c54",
      "metadata": {
        "id": "b3ae4111-180e-405a-a822-71705acf6c54"
      },
      "source": [
        "### Model definition"
      ]
    },
    {
      "cell_type": "code",
      "execution_count": null,
      "id": "2440b664-63e4-4cdd-bf6d-8b86fb91b660",
      "metadata": {
        "id": "2440b664-63e4-4cdd-bf6d-8b86fb91b660",
        "outputId": "8442390b-cdc3-4a02-b0b3-b353cf143830",
        "colab": {
          "base_uri": "https://localhost:8080/"
        }
      },
      "outputs": [
        {
          "output_type": "stream",
          "name": "stdout",
          "text": [
            "Model: \"sequential_2\"\n",
            "_________________________________________________________________\n",
            " Layer (type)                Output Shape              Param #   \n",
            "=================================================================\n",
            " embedding_2 (Embedding)     (None, None, 300)         6000000   \n",
            "                                                                 \n",
            " dropout_2 (Dropout)         (None, None, 300)         0         \n",
            "                                                                 \n",
            " global_average_pooling1d_1   (None, 300)              0         \n",
            " (GlobalAveragePooling1D)                                        \n",
            "                                                                 \n",
            " dropout_3 (Dropout)         (None, 300)               0         \n",
            "                                                                 \n",
            " dense_3 (Dense)             (None, 100)               30100     \n",
            "                                                                 \n",
            "=================================================================\n",
            "Total params: 6,030,100\n",
            "Trainable params: 30,100\n",
            "Non-trainable params: 6,000,000\n",
            "_________________________________________________________________\n"
          ]
        }
      ],
      "source": [
        "model = tf.keras.Sequential([\n",
        "  layers.Embedding(max_features, embedding_dim, embeddings_initializer=tf.keras.initializers.Constant(embedding_matrix), trainable=False),\n",
        "  layers.Dropout(0.2),\n",
        "  layers.GlobalAveragePooling1D(),\n",
        "  layers.Dropout(0.2),\n",
        "  layers.Dense(100, activation='softmax')])\n",
        "\n",
        "model.summary()"
      ]
    },
    {
      "cell_type": "code",
      "execution_count": null,
      "id": "83d900a6-dc69-4185-8d16-bcc99a3e9adf",
      "metadata": {
        "id": "83d900a6-dc69-4185-8d16-bcc99a3e9adf"
      },
      "outputs": [],
      "source": [
        "model.compile(loss=losses.SparseCategoricalCrossentropy(),\n",
        "              optimizer='adam',\n",
        "              metrics=tf.metrics.SparseCategoricalAccuracy())"
      ]
    },
    {
      "cell_type": "code",
      "execution_count": null,
      "id": "79b17591-4c99-446d-891e-5af7eccd308c",
      "metadata": {
        "id": "79b17591-4c99-446d-891e-5af7eccd308c",
        "outputId": "a47913d3-4794-40b4-ac8e-5a1e93dbdd54",
        "colab": {
          "base_uri": "https://localhost:8080/"
        }
      },
      "outputs": [
        {
          "output_type": "stream",
          "name": "stdout",
          "text": [
            "Epoch 1/100\n",
            "1016/1016 [==============================] - 9s 8ms/step - loss: 3.2111 - sparse_categorical_accuracy: 0.4862 - val_loss: 2.1864 - val_sparse_categorical_accuracy: 0.6612\n",
            "Epoch 2/100\n",
            "1016/1016 [==============================] - 7s 7ms/step - loss: 2.0804 - sparse_categorical_accuracy: 0.4030 - val_loss: 1.8700 - val_sparse_categorical_accuracy: 0.1140\n",
            "Epoch 3/100\n",
            "1016/1016 [==============================] - 7s 6ms/step - loss: 1.8456 - sparse_categorical_accuracy: 0.2948 - val_loss: 1.7588 - val_sparse_categorical_accuracy: 0.0872\n",
            "Epoch 4/100\n",
            "1016/1016 [==============================] - 5s 5ms/step - loss: 1.7571 - sparse_categorical_accuracy: 0.2649 - val_loss: 1.7050 - val_sparse_categorical_accuracy: 0.0882\n",
            "Epoch 5/100\n",
            "1016/1016 [==============================] - 5s 5ms/step - loss: 1.7117 - sparse_categorical_accuracy: 0.2610 - val_loss: 1.6740 - val_sparse_categorical_accuracy: 0.0901\n",
            "Epoch 6/100\n",
            "1016/1016 [==============================] - 5s 5ms/step - loss: 1.6845 - sparse_categorical_accuracy: 0.2604 - val_loss: 1.6563 - val_sparse_categorical_accuracy: 0.0968\n",
            "Epoch 7/100\n",
            "1016/1016 [==============================] - 5s 5ms/step - loss: 1.6658 - sparse_categorical_accuracy: 0.2569 - val_loss: 1.6448 - val_sparse_categorical_accuracy: 0.1047\n",
            "Epoch 8/100\n",
            "1016/1016 [==============================] - 5s 5ms/step - loss: 1.6533 - sparse_categorical_accuracy: 0.2599 - val_loss: 1.6359 - val_sparse_categorical_accuracy: 0.1152\n",
            "Epoch 9/100\n",
            "1016/1016 [==============================] - 5s 5ms/step - loss: 1.6430 - sparse_categorical_accuracy: 0.2653 - val_loss: 1.6300 - val_sparse_categorical_accuracy: 0.1229\n",
            "Epoch 10/100\n",
            "1016/1016 [==============================] - 5s 4ms/step - loss: 1.6356 - sparse_categorical_accuracy: 0.2656 - val_loss: 1.6262 - val_sparse_categorical_accuracy: 0.1271\n",
            "Epoch 11/100\n",
            "1016/1016 [==============================] - 5s 5ms/step - loss: 1.6287 - sparse_categorical_accuracy: 0.2723 - val_loss: 1.6230 - val_sparse_categorical_accuracy: 0.1332\n",
            "Epoch 12/100\n",
            "1016/1016 [==============================] - 5s 5ms/step - loss: 1.6229 - sparse_categorical_accuracy: 0.2725 - val_loss: 1.6205 - val_sparse_categorical_accuracy: 0.1399\n",
            "Epoch 13/100\n",
            "1016/1016 [==============================] - 5s 5ms/step - loss: 1.6174 - sparse_categorical_accuracy: 0.2781 - val_loss: 1.6180 - val_sparse_categorical_accuracy: 0.1460\n",
            "Epoch 14/100\n",
            "1016/1016 [==============================] - 5s 5ms/step - loss: 1.6131 - sparse_categorical_accuracy: 0.2779 - val_loss: 1.6156 - val_sparse_categorical_accuracy: 0.1519\n",
            "Epoch 15/100\n",
            "1016/1016 [==============================] - 5s 5ms/step - loss: 1.6094 - sparse_categorical_accuracy: 0.2765 - val_loss: 1.6140 - val_sparse_categorical_accuracy: 0.1586\n",
            "Epoch 16/100\n",
            "1016/1016 [==============================] - 5s 5ms/step - loss: 1.6062 - sparse_categorical_accuracy: 0.2819 - val_loss: 1.6125 - val_sparse_categorical_accuracy: 0.1652\n",
            "Epoch 17/100\n",
            "1016/1016 [==============================] - 5s 5ms/step - loss: 1.6040 - sparse_categorical_accuracy: 0.2793 - val_loss: 1.6122 - val_sparse_categorical_accuracy: 0.1706\n",
            "Epoch 18/100\n",
            "1016/1016 [==============================] - 5s 5ms/step - loss: 1.5996 - sparse_categorical_accuracy: 0.2832 - val_loss: 1.6096 - val_sparse_categorical_accuracy: 0.1770\n",
            "Epoch 19/100\n",
            "1016/1016 [==============================] - 5s 5ms/step - loss: 1.5959 - sparse_categorical_accuracy: 0.2817 - val_loss: 1.6084 - val_sparse_categorical_accuracy: 0.1805\n",
            "Epoch 20/100\n",
            "1016/1016 [==============================] - 5s 5ms/step - loss: 1.5936 - sparse_categorical_accuracy: 0.2845 - val_loss: 1.6053 - val_sparse_categorical_accuracy: 0.1859\n",
            "Epoch 21/100\n",
            "1016/1016 [==============================] - 5s 5ms/step - loss: 1.5902 - sparse_categorical_accuracy: 0.2899 - val_loss: 1.6052 - val_sparse_categorical_accuracy: 0.1876\n",
            "Epoch 22/100\n",
            "1016/1016 [==============================] - 5s 5ms/step - loss: 1.5876 - sparse_categorical_accuracy: 0.2901 - val_loss: 1.6053 - val_sparse_categorical_accuracy: 0.1891\n",
            "Epoch 23/100\n",
            "1016/1016 [==============================] - 5s 4ms/step - loss: 1.5853 - sparse_categorical_accuracy: 0.2929 - val_loss: 1.6034 - val_sparse_categorical_accuracy: 0.1960\n",
            "Epoch 24/100\n",
            "1016/1016 [==============================] - 5s 5ms/step - loss: 1.5828 - sparse_categorical_accuracy: 0.2932 - val_loss: 1.6020 - val_sparse_categorical_accuracy: 0.1992\n",
            "Epoch 25/100\n",
            "1016/1016 [==============================] - 5s 4ms/step - loss: 1.5814 - sparse_categorical_accuracy: 0.2937 - val_loss: 1.6013 - val_sparse_categorical_accuracy: 0.2002\n",
            "Epoch 26/100\n",
            "1016/1016 [==============================] - 5s 5ms/step - loss: 1.5792 - sparse_categorical_accuracy: 0.2975 - val_loss: 1.6005 - val_sparse_categorical_accuracy: 0.2049\n",
            "Epoch 27/100\n",
            "1016/1016 [==============================] - 5s 5ms/step - loss: 1.5778 - sparse_categorical_accuracy: 0.2958 - val_loss: 1.5991 - val_sparse_categorical_accuracy: 0.2078\n",
            "Epoch 28/100\n",
            "1016/1016 [==============================] - 5s 5ms/step - loss: 1.5756 - sparse_categorical_accuracy: 0.2964 - val_loss: 1.5974 - val_sparse_categorical_accuracy: 0.2096\n",
            "Epoch 29/100\n",
            "1016/1016 [==============================] - 5s 5ms/step - loss: 1.5719 - sparse_categorical_accuracy: 0.2975 - val_loss: 1.5967 - val_sparse_categorical_accuracy: 0.2135\n",
            "Epoch 30/100\n",
            "1016/1016 [==============================] - 5s 5ms/step - loss: 1.5700 - sparse_categorical_accuracy: 0.2983 - val_loss: 1.5962 - val_sparse_categorical_accuracy: 0.2150\n",
            "Epoch 31/100\n",
            "1016/1016 [==============================] - 5s 5ms/step - loss: 1.5703 - sparse_categorical_accuracy: 0.3001 - val_loss: 1.5964 - val_sparse_categorical_accuracy: 0.2135\n",
            "Epoch 32/100\n",
            "1016/1016 [==============================] - 5s 5ms/step - loss: 1.5666 - sparse_categorical_accuracy: 0.2985 - val_loss: 1.5931 - val_sparse_categorical_accuracy: 0.2204\n",
            "Epoch 33/100\n",
            "1016/1016 [==============================] - 5s 5ms/step - loss: 1.5628 - sparse_categorical_accuracy: 0.3059 - val_loss: 1.5907 - val_sparse_categorical_accuracy: 0.2246\n",
            "Epoch 34/100\n",
            "1016/1016 [==============================] - 5s 5ms/step - loss: 1.5668 - sparse_categorical_accuracy: 0.3017 - val_loss: 1.5925 - val_sparse_categorical_accuracy: 0.2238\n",
            "Epoch 35/100\n",
            "1016/1016 [==============================] - 5s 5ms/step - loss: 1.5639 - sparse_categorical_accuracy: 0.3049 - val_loss: 1.5896 - val_sparse_categorical_accuracy: 0.2280\n",
            "Epoch 36/100\n",
            "1016/1016 [==============================] - 5s 5ms/step - loss: 1.5616 - sparse_categorical_accuracy: 0.3012 - val_loss: 1.5877 - val_sparse_categorical_accuracy: 0.2297\n",
            "Epoch 37/100\n",
            "1016/1016 [==============================] - 5s 5ms/step - loss: 1.5596 - sparse_categorical_accuracy: 0.3050 - val_loss: 1.5887 - val_sparse_categorical_accuracy: 0.2285\n",
            "Epoch 38/100\n",
            "1016/1016 [==============================] - 5s 5ms/step - loss: 1.5566 - sparse_categorical_accuracy: 0.3071 - val_loss: 1.5877 - val_sparse_categorical_accuracy: 0.2297\n",
            "Epoch 39/100\n",
            "1016/1016 [==============================] - 5s 5ms/step - loss: 1.5542 - sparse_categorical_accuracy: 0.3015 - val_loss: 1.5862 - val_sparse_categorical_accuracy: 0.2312\n",
            "Epoch 40/100\n",
            "1016/1016 [==============================] - 5s 5ms/step - loss: 1.5554 - sparse_categorical_accuracy: 0.3094 - val_loss: 1.5865 - val_sparse_categorical_accuracy: 0.2312\n",
            "Epoch 41/100\n",
            "1016/1016 [==============================] - 5s 5ms/step - loss: 1.5519 - sparse_categorical_accuracy: 0.3124 - val_loss: 1.5872 - val_sparse_categorical_accuracy: 0.2312\n",
            "Epoch 42/100\n",
            "1016/1016 [==============================] - 5s 5ms/step - loss: 1.5530 - sparse_categorical_accuracy: 0.3055 - val_loss: 1.5867 - val_sparse_categorical_accuracy: 0.2305\n",
            "Epoch 43/100\n",
            "1016/1016 [==============================] - 5s 5ms/step - loss: 1.5526 - sparse_categorical_accuracy: 0.3055 - val_loss: 1.5855 - val_sparse_categorical_accuracy: 0.2320\n",
            "Epoch 44/100\n",
            "1016/1016 [==============================] - 5s 5ms/step - loss: 1.5500 - sparse_categorical_accuracy: 0.3086 - val_loss: 1.5836 - val_sparse_categorical_accuracy: 0.2354\n",
            "Epoch 45/100\n",
            "1016/1016 [==============================] - 5s 5ms/step - loss: 1.5476 - sparse_categorical_accuracy: 0.3107 - val_loss: 1.5841 - val_sparse_categorical_accuracy: 0.2357\n",
            "Epoch 46/100\n",
            "1016/1016 [==============================] - 5s 5ms/step - loss: 1.5494 - sparse_categorical_accuracy: 0.3066 - val_loss: 1.5822 - val_sparse_categorical_accuracy: 0.2389\n",
            "Epoch 47/100\n",
            "1016/1016 [==============================] - 5s 5ms/step - loss: 1.5473 - sparse_categorical_accuracy: 0.3041 - val_loss: 1.5805 - val_sparse_categorical_accuracy: 0.2413\n",
            "Epoch 48/100\n",
            "1016/1016 [==============================] - 5s 5ms/step - loss: 1.5455 - sparse_categorical_accuracy: 0.3123 - val_loss: 1.5824 - val_sparse_categorical_accuracy: 0.2379\n",
            "Epoch 49/100\n",
            "1016/1016 [==============================] - 5s 5ms/step - loss: 1.5440 - sparse_categorical_accuracy: 0.3076 - val_loss: 1.5811 - val_sparse_categorical_accuracy: 0.2408\n",
            "Epoch 50/100\n",
            "1016/1016 [==============================] - 5s 5ms/step - loss: 1.5433 - sparse_categorical_accuracy: 0.3090 - val_loss: 1.5795 - val_sparse_categorical_accuracy: 0.2411\n",
            "Epoch 51/100\n",
            "1016/1016 [==============================] - 5s 5ms/step - loss: 1.5438 - sparse_categorical_accuracy: 0.3064 - val_loss: 1.5765 - val_sparse_categorical_accuracy: 0.2443\n",
            "Epoch 52/100\n",
            "1016/1016 [==============================] - 5s 5ms/step - loss: 1.5403 - sparse_categorical_accuracy: 0.3122 - val_loss: 1.5783 - val_sparse_categorical_accuracy: 0.2426\n",
            "Epoch 53/100\n",
            "1016/1016 [==============================] - 5s 5ms/step - loss: 1.5401 - sparse_categorical_accuracy: 0.3132 - val_loss: 1.5782 - val_sparse_categorical_accuracy: 0.2435\n",
            "Epoch 54/100\n",
            "1016/1016 [==============================] - 5s 5ms/step - loss: 1.5388 - sparse_categorical_accuracy: 0.3071 - val_loss: 1.5773 - val_sparse_categorical_accuracy: 0.2430\n",
            "Epoch 55/100\n",
            "1016/1016 [==============================] - 5s 5ms/step - loss: 1.5393 - sparse_categorical_accuracy: 0.3129 - val_loss: 1.5777 - val_sparse_categorical_accuracy: 0.2423\n",
            "Epoch 56/100\n",
            "1016/1016 [==============================] - 5s 5ms/step - loss: 1.5388 - sparse_categorical_accuracy: 0.3075 - val_loss: 1.5788 - val_sparse_categorical_accuracy: 0.2416\n",
            "Epoch 57/100\n",
            "1016/1016 [==============================] - 5s 5ms/step - loss: 1.5382 - sparse_categorical_accuracy: 0.3060 - val_loss: 1.5780 - val_sparse_categorical_accuracy: 0.2421\n",
            "Epoch 58/100\n",
            "1016/1016 [==============================] - 5s 5ms/step - loss: 1.5357 - sparse_categorical_accuracy: 0.3116 - val_loss: 1.5752 - val_sparse_categorical_accuracy: 0.2470\n",
            "Epoch 59/100\n",
            "1016/1016 [==============================] - 5s 5ms/step - loss: 1.5354 - sparse_categorical_accuracy: 0.3110 - val_loss: 1.5753 - val_sparse_categorical_accuracy: 0.2475\n",
            "Epoch 60/100\n",
            "1016/1016 [==============================] - 5s 5ms/step - loss: 1.5338 - sparse_categorical_accuracy: 0.3135 - val_loss: 1.5736 - val_sparse_categorical_accuracy: 0.2485\n",
            "Epoch 61/100\n",
            "1016/1016 [==============================] - 5s 5ms/step - loss: 1.5326 - sparse_categorical_accuracy: 0.3140 - val_loss: 1.5747 - val_sparse_categorical_accuracy: 0.2467\n",
            "Epoch 62/100\n",
            "1016/1016 [==============================] - 5s 5ms/step - loss: 1.5356 - sparse_categorical_accuracy: 0.3121 - val_loss: 1.5756 - val_sparse_categorical_accuracy: 0.2482\n",
            "Epoch 63/100\n",
            "1016/1016 [==============================] - 5s 5ms/step - loss: 1.5348 - sparse_categorical_accuracy: 0.3117 - val_loss: 1.5750 - val_sparse_categorical_accuracy: 0.2482\n",
            "Epoch 64/100\n",
            "1016/1016 [==============================] - 5s 5ms/step - loss: 1.5314 - sparse_categorical_accuracy: 0.3142 - val_loss: 1.5737 - val_sparse_categorical_accuracy: 0.2499\n",
            "Epoch 65/100\n",
            "1016/1016 [==============================] - 5s 5ms/step - loss: 1.5313 - sparse_categorical_accuracy: 0.3109 - val_loss: 1.5727 - val_sparse_categorical_accuracy: 0.2504\n",
            "Epoch 66/100\n",
            "1016/1016 [==============================] - 5s 5ms/step - loss: 1.5292 - sparse_categorical_accuracy: 0.3113 - val_loss: 1.5730 - val_sparse_categorical_accuracy: 0.2509\n",
            "Epoch 67/100\n",
            "1016/1016 [==============================] - 5s 5ms/step - loss: 1.5281 - sparse_categorical_accuracy: 0.3150 - val_loss: 1.5740 - val_sparse_categorical_accuracy: 0.2499\n",
            "Epoch 68/100\n",
            "1016/1016 [==============================] - 5s 5ms/step - loss: 1.5258 - sparse_categorical_accuracy: 0.3156 - val_loss: 1.5721 - val_sparse_categorical_accuracy: 0.2514\n",
            "Epoch 69/100\n",
            "1016/1016 [==============================] - 5s 5ms/step - loss: 1.5273 - sparse_categorical_accuracy: 0.3129 - val_loss: 1.5713 - val_sparse_categorical_accuracy: 0.2524\n",
            "Epoch 70/100\n",
            "1016/1016 [==============================] - 5s 5ms/step - loss: 1.5265 - sparse_categorical_accuracy: 0.3187 - val_loss: 1.5706 - val_sparse_categorical_accuracy: 0.2531\n",
            "Epoch 71/100\n",
            "1016/1016 [==============================] - 5s 5ms/step - loss: 1.5252 - sparse_categorical_accuracy: 0.3146 - val_loss: 1.5706 - val_sparse_categorical_accuracy: 0.2524\n",
            "Epoch 72/100\n",
            "1016/1016 [==============================] - 5s 5ms/step - loss: 1.5261 - sparse_categorical_accuracy: 0.3143 - val_loss: 1.5689 - val_sparse_categorical_accuracy: 0.2539\n",
            "Epoch 73/100\n",
            "1016/1016 [==============================] - 5s 5ms/step - loss: 1.5252 - sparse_categorical_accuracy: 0.3107 - val_loss: 1.5706 - val_sparse_categorical_accuracy: 0.2546\n",
            "Epoch 74/100\n",
            "1016/1016 [==============================] - 5s 5ms/step - loss: 1.5240 - sparse_categorical_accuracy: 0.3173 - val_loss: 1.5694 - val_sparse_categorical_accuracy: 0.2531\n",
            "Epoch 75/100\n",
            "1016/1016 [==============================] - 5s 5ms/step - loss: 1.5268 - sparse_categorical_accuracy: 0.3155 - val_loss: 1.5675 - val_sparse_categorical_accuracy: 0.2554\n",
            "Epoch 76/100\n",
            "1016/1016 [==============================] - 5s 5ms/step - loss: 1.5212 - sparse_categorical_accuracy: 0.3169 - val_loss: 1.5691 - val_sparse_categorical_accuracy: 0.2556\n",
            "Epoch 77/100\n",
            "1016/1016 [==============================] - 5s 5ms/step - loss: 1.5228 - sparse_categorical_accuracy: 0.3139 - val_loss: 1.5670 - val_sparse_categorical_accuracy: 0.2571\n",
            "Epoch 78/100\n",
            "1016/1016 [==============================] - 5s 5ms/step - loss: 1.5235 - sparse_categorical_accuracy: 0.3140 - val_loss: 1.5656 - val_sparse_categorical_accuracy: 0.2581\n",
            "Epoch 79/100\n",
            "1016/1016 [==============================] - 5s 5ms/step - loss: 1.5214 - sparse_categorical_accuracy: 0.3134 - val_loss: 1.5655 - val_sparse_categorical_accuracy: 0.2578\n",
            "Epoch 80/100\n",
            "1016/1016 [==============================] - 5s 5ms/step - loss: 1.5211 - sparse_categorical_accuracy: 0.3190 - val_loss: 1.5671 - val_sparse_categorical_accuracy: 0.2554\n",
            "Epoch 81/100\n",
            "1016/1016 [==============================] - 5s 5ms/step - loss: 1.5197 - sparse_categorical_accuracy: 0.3156 - val_loss: 1.5671 - val_sparse_categorical_accuracy: 0.2551\n",
            "Epoch 82/100\n",
            "1016/1016 [==============================] - 5s 5ms/step - loss: 1.5233 - sparse_categorical_accuracy: 0.3136 - val_loss: 1.5654 - val_sparse_categorical_accuracy: 0.2566\n",
            "Epoch 83/100\n",
            "1016/1016 [==============================] - 5s 5ms/step - loss: 1.5216 - sparse_categorical_accuracy: 0.3103 - val_loss: 1.5669 - val_sparse_categorical_accuracy: 0.2544\n",
            "Epoch 84/100\n",
            "1016/1016 [==============================] - 5s 5ms/step - loss: 1.5231 - sparse_categorical_accuracy: 0.3110 - val_loss: 1.5654 - val_sparse_categorical_accuracy: 0.2561\n",
            "Epoch 85/100\n",
            "1016/1016 [==============================] - 5s 5ms/step - loss: 1.5212 - sparse_categorical_accuracy: 0.3139 - val_loss: 1.5653 - val_sparse_categorical_accuracy: 0.2551\n",
            "Epoch 86/100\n",
            "1016/1016 [==============================] - 5s 5ms/step - loss: 1.5190 - sparse_categorical_accuracy: 0.3153 - val_loss: 1.5666 - val_sparse_categorical_accuracy: 0.2531\n",
            "Epoch 87/100\n",
            "1016/1016 [==============================] - 5s 5ms/step - loss: 1.5182 - sparse_categorical_accuracy: 0.3160 - val_loss: 1.5637 - val_sparse_categorical_accuracy: 0.2566\n",
            "Epoch 88/100\n",
            "1016/1016 [==============================] - 5s 5ms/step - loss: 1.5168 - sparse_categorical_accuracy: 0.3161 - val_loss: 1.5643 - val_sparse_categorical_accuracy: 0.2558\n",
            "Epoch 89/100\n",
            "1016/1016 [==============================] - 5s 5ms/step - loss: 1.5188 - sparse_categorical_accuracy: 0.3164 - val_loss: 1.5623 - val_sparse_categorical_accuracy: 0.2573\n",
            "Epoch 90/100\n",
            "1016/1016 [==============================] - 5s 5ms/step - loss: 1.5158 - sparse_categorical_accuracy: 0.3167 - val_loss: 1.5646 - val_sparse_categorical_accuracy: 0.2531\n",
            "Epoch 91/100\n",
            "1016/1016 [==============================] - 5s 5ms/step - loss: 1.5109 - sparse_categorical_accuracy: 0.3199 - val_loss: 1.5627 - val_sparse_categorical_accuracy: 0.2551\n",
            "Epoch 92/100\n",
            "1016/1016 [==============================] - 5s 5ms/step - loss: 1.5157 - sparse_categorical_accuracy: 0.3159 - val_loss: 1.5632 - val_sparse_categorical_accuracy: 0.2536\n",
            "Epoch 93/100\n",
            "1016/1016 [==============================] - 5s 5ms/step - loss: 1.5157 - sparse_categorical_accuracy: 0.3138 - val_loss: 1.5639 - val_sparse_categorical_accuracy: 0.2541\n",
            "Epoch 94/100\n",
            "1016/1016 [==============================] - 5s 5ms/step - loss: 1.5157 - sparse_categorical_accuracy: 0.3168 - val_loss: 1.5646 - val_sparse_categorical_accuracy: 0.2529\n",
            "Epoch 95/100\n",
            "1016/1016 [==============================] - 5s 5ms/step - loss: 1.5152 - sparse_categorical_accuracy: 0.3139 - val_loss: 1.5614 - val_sparse_categorical_accuracy: 0.2551\n",
            "Epoch 96/100\n",
            "1016/1016 [==============================] - 5s 5ms/step - loss: 1.5106 - sparse_categorical_accuracy: 0.3180 - val_loss: 1.5644 - val_sparse_categorical_accuracy: 0.2519\n",
            "Epoch 97/100\n",
            "1016/1016 [==============================] - 5s 5ms/step - loss: 1.5157 - sparse_categorical_accuracy: 0.3145 - val_loss: 1.5615 - val_sparse_categorical_accuracy: 0.2561\n",
            "Epoch 98/100\n",
            "1016/1016 [==============================] - 5s 5ms/step - loss: 1.5120 - sparse_categorical_accuracy: 0.3188 - val_loss: 1.5623 - val_sparse_categorical_accuracy: 0.2539\n",
            "Epoch 99/100\n",
            "1016/1016 [==============================] - 5s 5ms/step - loss: 1.5163 - sparse_categorical_accuracy: 0.3166 - val_loss: 1.5633 - val_sparse_categorical_accuracy: 0.2541\n",
            "Epoch 100/100\n",
            "1016/1016 [==============================] - 5s 5ms/step - loss: 1.5139 - sparse_categorical_accuracy: 0.3180 - val_loss: 1.5615 - val_sparse_categorical_accuracy: 0.2554\n"
          ]
        }
      ],
      "source": [
        "epochs = 100\n",
        "history = model.fit(\n",
        "    train_ds,\n",
        "    validation_data=val_ds,\n",
        "    class_weight=class_weights,\n",
        "    epochs=epochs)"
      ]
    },
    {
      "cell_type": "code",
      "execution_count": null,
      "id": "76cb20b2-be01-468f-a17f-7e03e5e38568",
      "metadata": {
        "id": "76cb20b2-be01-468f-a17f-7e03e5e38568"
      },
      "outputs": [],
      "source": [
        "val_softmax = model.predict(val_ds)"
      ]
    },
    {
      "cell_type": "code",
      "execution_count": null,
      "id": "d2f6ad9e-401c-4068-ad38-a98a096b640d",
      "metadata": {
        "id": "d2f6ad9e-401c-4068-ad38-a98a096b640d"
      },
      "outputs": [],
      "source": [
        "val_labels = np.argmax(val_softmax, axis=1)"
      ]
    },
    {
      "cell_type": "code",
      "source": [
        "pd.DataFrame(history.history)[['loss', 'val_loss']].plot(figsize=(8,5))"
      ],
      "metadata": {
        "colab": {
          "base_uri": "https://localhost:8080/",
          "height": 337
        },
        "id": "SxZzQxNGEt05",
        "outputId": "7c17031d-b28b-4820-c931-b7273f053b02"
      },
      "id": "SxZzQxNGEt05",
      "execution_count": null,
      "outputs": [
        {
          "output_type": "execute_result",
          "data": {
            "text/plain": [
              "<matplotlib.axes._subplots.AxesSubplot at 0x7fddc01db250>"
            ]
          },
          "metadata": {},
          "execution_count": 67
        },
        {
          "output_type": "display_data",
          "data": {
            "text/plain": [
              "<Figure size 576x360 with 1 Axes>"
            ],
            "image/png": "[encoded data removed]"
          },
          "metadata": {
            "needs_background": "light"
          }
        }
      ]
    },
    {
      "cell_type": "code",
      "execution_count": null,
      "id": "40de48b2-325a-43f3-999d-69cf8adcf761",
      "metadata": {
        "id": "40de48b2-325a-43f3-999d-69cf8adcf761",
        "colab": {
          "base_uri": "https://localhost:8080/"
        },
        "outputId": "18e4f461-cf3b-41da-c41f-33a1b6ff04f0"
      },
      "outputs": [
        {
          "output_type": "stream",
          "name": "stderr",
          "text": [
            "/usr/local/lib/python3.7/dist-packages/ipykernel_launcher.py:2: SettingWithCopyWarning: \n",
            "A value is trying to be set on a copy of a slice from a DataFrame.\n",
            "Try using .loc[row_indexer,col_indexer] = value instead\n",
            "\n",
            "See the caveats in the documentation: https://pandas.pydata.org/pandas-docs/stable/user_guide/indexing.html#returning-a-view-versus-a-copy\n",
            "  \n"
          ]
        }
      ],
      "source": [
        "val_pd = dataset[train_size:]\n",
        "val_pd['pred_labels'] = val_labels"
      ]
    },
    {
      "cell_type": "code",
      "execution_count": null,
      "id": "b32812db-b79c-4f30-b9b9-f439a22df6d4",
      "metadata": {
        "id": "b32812db-b79c-4f30-b9b9-f439a22df6d4",
        "colab": {
          "base_uri": "https://localhost:8080/"
        },
        "outputId": "e08417e9-84a6-4a6f-9b6d-fe402a6aaf32"
      },
      "outputs": [
        {
          "output_type": "stream",
          "name": "stdout",
          "text": [
            "              precision    recall  f1-score   support\n",
            "\n",
            "           0       0.11      0.30      0.16       183\n",
            "           1       0.22      0.39      0.28       416\n",
            "           2       0.32      0.27      0.30       625\n",
            "           3       0.05      0.60      0.10       138\n",
            "           4       0.82      0.21      0.33      2699\n",
            "\n",
            "    accuracy                           0.26      4061\n",
            "   macro avg       0.30      0.35      0.23      4061\n",
            "weighted avg       0.63      0.26      0.31      4061\n",
            "\n"
          ]
        }
      ],
      "source": [
        "print(classification_report(val_pd['Annotation'], val_pd['pred_labels']))"
      ]
    },
    {
      "cell_type": "code",
      "execution_count": null,
      "id": "764b235b-41f9-40c0-bbd4-acac0bc93ce7",
      "metadata": {
        "id": "764b235b-41f9-40c0-bbd4-acac0bc93ce7"
      },
      "outputs": [],
      "source": [
        "# val_pd['pred_labels'].value_counts()"
      ]
    },
    {
      "cell_type": "code",
      "execution_count": null,
      "id": "d0bda131-dfda-4ba3-b177-25963af7581c",
      "metadata": {
        "id": "d0bda131-dfda-4ba3-b177-25963af7581c"
      },
      "outputs": [],
      "source": [
        "# val_pd['Annotation'].value_counts()"
      ]
    },
    {
      "cell_type": "markdown",
      "id": "10c1632c-dc32-4e42-aa7e-89aa0ef73396",
      "metadata": {
        "id": "10c1632c-dc32-4e42-aa7e-89aa0ef73396"
      },
      "source": [
        "### LSTM"
      ]
    },
    {
      "cell_type": "code",
      "execution_count": null,
      "id": "cadb31cd-e970-4554-a3da-b77d43fe95f1",
      "metadata": {
        "id": "cadb31cd-e970-4554-a3da-b77d43fe95f1"
      },
      "outputs": [],
      "source": [
        "model = tf.keras.Sequential([\n",
        "    layers.Embedding(max_features, embedding_dim, embeddings_initializer=tf.keras.initializers.Constant(embedding_matrix), trainable=False),#mask_zero=True,\n",
        "    tf.keras.layers.LSTM(128),\n",
        "    layers.Dense(64, activation='relu'),\n",
        "    layers.Dense(32),\n",
        "    \n",
        "])"
      ]
    },
    {
      "cell_type": "code",
      "execution_count": null,
      "id": "f40a2eed-af53-4d35-b3e6-0b25fb2629fc",
      "metadata": {
        "id": "f40a2eed-af53-4d35-b3e6-0b25fb2629fc"
      },
      "outputs": [],
      "source": [
        "model.compile(loss=losses.SparseCategoricalCrossentropy(),\n",
        "              optimizer=tf.keras.optimizers.Adam(learning_rate=1e-4),\n",
        "              metrics=tf.metrics.SparseCategoricalAccuracy())"
      ]
    },
    {
      "cell_type": "code",
      "execution_count": null,
      "id": "64f79a10-a36c-4be1-8d34-c5d9567ddc6c",
      "metadata": {
        "id": "64f79a10-a36c-4be1-8d34-c5d9567ddc6c",
        "outputId": "892c33cb-1e49-4fa7-eb2c-0874fb31dfc0",
        "colab": {
          "base_uri": "https://localhost:8080/"
        }
      },
      "outputs": [
        {
          "output_type": "stream",
          "name": "stdout",
          "text": [
            "Epoch 1/100\n",
            "1016/1016 [==============================] - 40s 37ms/step - loss: 3.7467 - sparse_categorical_accuracy: 0.0468 - val_loss: 3.4657 - val_sparse_categorical_accuracy: 0.0000e+00\n",
            "Epoch 2/100\n",
            "1016/1016 [==============================] - 38s 37ms/step - loss: 3.6276 - sparse_categorical_accuracy: 0.0000e+00 - val_loss: 3.4657 - val_sparse_categorical_accuracy: 0.0000e+00\n",
            "Epoch 3/100\n",
            "1016/1016 [==============================] - 36s 36ms/step - loss: 3.6276 - sparse_categorical_accuracy: 0.0000e+00 - val_loss: 3.4657 - val_sparse_categorical_accuracy: 0.0000e+00\n",
            "Epoch 4/100\n",
            "1016/1016 [==============================] - 36s 36ms/step - loss: 3.6276 - sparse_categorical_accuracy: 0.0000e+00 - val_loss: 3.4657 - val_sparse_categorical_accuracy: 0.0000e+00\n",
            "Epoch 5/100\n",
            "1016/1016 [==============================] - 35s 35ms/step - loss: 3.6276 - sparse_categorical_accuracy: 0.0000e+00 - val_loss: 3.4657 - val_sparse_categorical_accuracy: 0.0000e+00\n",
            "Epoch 6/100\n",
            "1016/1016 [==============================] - 35s 35ms/step - loss: 3.6276 - sparse_categorical_accuracy: 0.0000e+00 - val_loss: 3.4657 - val_sparse_categorical_accuracy: 0.0000e+00\n",
            "Epoch 7/100\n",
            "1016/1016 [==============================] - 34s 34ms/step - loss: 3.6276 - sparse_categorical_accuracy: 0.0000e+00 - val_loss: 3.4657 - val_sparse_categorical_accuracy: 0.0000e+00\n",
            "Epoch 8/100\n",
            "1016/1016 [==============================] - 36s 35ms/step - loss: 3.6276 - sparse_categorical_accuracy: 0.0000e+00 - val_loss: 3.4657 - val_sparse_categorical_accuracy: 0.0000e+00\n",
            "Epoch 9/100\n",
            "1016/1016 [==============================] - 36s 35ms/step - loss: 3.6276 - sparse_categorical_accuracy: 0.0000e+00 - val_loss: 3.4657 - val_sparse_categorical_accuracy: 0.0000e+00\n",
            "Epoch 10/100\n",
            "1016/1016 [==============================] - 35s 35ms/step - loss: 3.6276 - sparse_categorical_accuracy: 0.0000e+00 - val_loss: 3.4657 - val_sparse_categorical_accuracy: 0.0000e+00\n",
            "Epoch 11/100\n",
            "1016/1016 [==============================] - 37s 36ms/step - loss: 3.6276 - sparse_categorical_accuracy: 0.0000e+00 - val_loss: 3.4657 - val_sparse_categorical_accuracy: 0.0000e+00\n",
            "Epoch 12/100\n",
            "1016/1016 [==============================] - 36s 35ms/step - loss: 3.6276 - sparse_categorical_accuracy: 0.0000e+00 - val_loss: 3.4657 - val_sparse_categorical_accuracy: 0.0000e+00\n",
            "Epoch 13/100\n",
            "1016/1016 [==============================] - 36s 35ms/step - loss: 3.6276 - sparse_categorical_accuracy: 0.0000e+00 - val_loss: 3.4657 - val_sparse_categorical_accuracy: 0.0000e+00\n",
            "Epoch 14/100\n",
            "1016/1016 [==============================] - 37s 36ms/step - loss: 3.6276 - sparse_categorical_accuracy: 0.0000e+00 - val_loss: 3.4657 - val_sparse_categorical_accuracy: 0.0000e+00\n",
            "Epoch 15/100\n",
            "1016/1016 [==============================] - 36s 35ms/step - loss: 3.6276 - sparse_categorical_accuracy: 0.0000e+00 - val_loss: 3.4657 - val_sparse_categorical_accuracy: 0.0000e+00\n",
            "Epoch 16/100\n",
            "1016/1016 [==============================] - 37s 37ms/step - loss: 3.6276 - sparse_categorical_accuracy: 0.0000e+00 - val_loss: 3.4657 - val_sparse_categorical_accuracy: 0.0000e+00\n",
            "Epoch 17/100\n",
            "1016/1016 [==============================] - 37s 36ms/step - loss: 3.6276 - sparse_categorical_accuracy: 0.0000e+00 - val_loss: 3.4657 - val_sparse_categorical_accuracy: 0.0000e+00\n",
            "Epoch 18/100\n",
            "1016/1016 [==============================] - 36s 36ms/step - loss: 3.6276 - sparse_categorical_accuracy: 0.0000e+00 - val_loss: 3.4657 - val_sparse_categorical_accuracy: 0.0000e+00\n",
            "Epoch 19/100\n",
            "1016/1016 [==============================] - 36s 35ms/step - loss: 3.6276 - sparse_categorical_accuracy: 0.0000e+00 - val_loss: 3.4657 - val_sparse_categorical_accuracy: 0.0000e+00\n",
            "Epoch 20/100\n",
            "1016/1016 [==============================] - 36s 36ms/step - loss: 3.6276 - sparse_categorical_accuracy: 0.0000e+00 - val_loss: 3.4657 - val_sparse_categorical_accuracy: 0.0000e+00\n",
            "Epoch 21/100\n",
            "1016/1016 [==============================] - 37s 36ms/step - loss: 3.6276 - sparse_categorical_accuracy: 0.0000e+00 - val_loss: 3.4657 - val_sparse_categorical_accuracy: 0.0000e+00\n",
            "Epoch 22/100\n",
            "1016/1016 [==============================] - 36s 36ms/step - loss: 3.6276 - sparse_categorical_accuracy: 0.0000e+00 - val_loss: 3.4657 - val_sparse_categorical_accuracy: 0.0000e+00\n",
            "Epoch 23/100\n",
            "1016/1016 [==============================] - 35s 35ms/step - loss: 3.6276 - sparse_categorical_accuracy: 0.0000e+00 - val_loss: 3.4657 - val_sparse_categorical_accuracy: 0.0000e+00\n",
            "Epoch 24/100\n",
            "1016/1016 [==============================] - 36s 35ms/step - loss: 3.6276 - sparse_categorical_accuracy: 0.0000e+00 - val_loss: 3.4657 - val_sparse_categorical_accuracy: 0.0000e+00\n",
            "Epoch 25/100\n",
            "1016/1016 [==============================] - 35s 34ms/step - loss: 3.6276 - sparse_categorical_accuracy: 0.0000e+00 - val_loss: 3.4657 - val_sparse_categorical_accuracy: 0.0000e+00\n",
            "Epoch 26/100\n",
            "1016/1016 [==============================] - 37s 36ms/step - loss: 3.6276 - sparse_categorical_accuracy: 0.0000e+00 - val_loss: 3.4657 - val_sparse_categorical_accuracy: 0.0000e+00\n",
            "Epoch 27/100\n",
            "1016/1016 [==============================] - 36s 35ms/step - loss: 3.6276 - sparse_categorical_accuracy: 0.0000e+00 - val_loss: 3.4657 - val_sparse_categorical_accuracy: 0.0000e+00\n",
            "Epoch 28/100\n",
            "1016/1016 [==============================] - 37s 36ms/step - loss: 3.6276 - sparse_categorical_accuracy: 0.0000e+00 - val_loss: 3.4657 - val_sparse_categorical_accuracy: 0.0000e+00\n",
            "Epoch 29/100\n",
            "1016/1016 [==============================] - 36s 36ms/step - loss: 3.6276 - sparse_categorical_accuracy: 0.0000e+00 - val_loss: 3.4657 - val_sparse_categorical_accuracy: 0.0000e+00\n",
            "Epoch 30/100\n",
            "1016/1016 [==============================] - 36s 36ms/step - loss: 3.6276 - sparse_categorical_accuracy: 0.0000e+00 - val_loss: 3.4657 - val_sparse_categorical_accuracy: 0.0000e+00\n",
            "Epoch 31/100\n",
            "1016/1016 [==============================] - 35s 35ms/step - loss: 3.6276 - sparse_categorical_accuracy: 0.0000e+00 - val_loss: 3.4657 - val_sparse_categorical_accuracy: 0.0000e+00\n",
            "Epoch 32/100\n",
            "1016/1016 [==============================] - 36s 36ms/step - loss: 3.6276 - sparse_categorical_accuracy: 0.0000e+00 - val_loss: 3.4657 - val_sparse_categorical_accuracy: 0.0000e+00\n",
            "Epoch 33/100\n",
            "1016/1016 [==============================] - 36s 35ms/step - loss: 3.6276 - sparse_categorical_accuracy: 0.0000e+00 - val_loss: 3.4657 - val_sparse_categorical_accuracy: 0.0000e+00\n",
            "Epoch 34/100\n",
            "1016/1016 [==============================] - 37s 37ms/step - loss: 3.6276 - sparse_categorical_accuracy: 0.0000e+00 - val_loss: 3.4657 - val_sparse_categorical_accuracy: 0.0000e+00\n",
            "Epoch 35/100\n",
            "1016/1016 [==============================] - 37s 36ms/step - loss: 3.6276 - sparse_categorical_accuracy: 0.0000e+00 - val_loss: 3.4657 - val_sparse_categorical_accuracy: 0.0000e+00\n",
            "Epoch 36/100\n",
            "1016/1016 [==============================] - 37s 36ms/step - loss: 3.6276 - sparse_categorical_accuracy: 0.0000e+00 - val_loss: 3.4657 - val_sparse_categorical_accuracy: 0.0000e+00\n",
            "Epoch 37/100\n",
            "1016/1016 [==============================] - 36s 35ms/step - loss: 3.6276 - sparse_categorical_accuracy: 0.0000e+00 - val_loss: 3.4657 - val_sparse_categorical_accuracy: 0.0000e+00\n",
            "Epoch 38/100\n",
            "1016/1016 [==============================] - 36s 36ms/step - loss: 3.6276 - sparse_categorical_accuracy: 0.0000e+00 - val_loss: 3.4657 - val_sparse_categorical_accuracy: 0.0000e+00\n",
            "Epoch 39/100\n",
            "1016/1016 [==============================] - 35s 35ms/step - loss: 3.6276 - sparse_categorical_accuracy: 0.0000e+00 - val_loss: 3.4657 - val_sparse_categorical_accuracy: 0.0000e+00\n",
            "Epoch 40/100\n",
            "1016/1016 [==============================] - 36s 35ms/step - loss: 3.6276 - sparse_categorical_accuracy: 0.0000e+00 - val_loss: 3.4657 - val_sparse_categorical_accuracy: 0.0000e+00\n",
            "Epoch 41/100\n",
            "1016/1016 [==============================] - 36s 35ms/step - loss: 3.6276 - sparse_categorical_accuracy: 0.0000e+00 - val_loss: 3.4657 - val_sparse_categorical_accuracy: 0.0000e+00\n",
            "Epoch 42/100\n",
            "1016/1016 [==============================] - 35s 35ms/step - loss: 3.6276 - sparse_categorical_accuracy: 0.0000e+00 - val_loss: 3.4657 - val_sparse_categorical_accuracy: 0.0000e+00\n",
            "Epoch 43/100\n",
            "1016/1016 [==============================] - 37s 37ms/step - loss: 3.6276 - sparse_categorical_accuracy: 0.0000e+00 - val_loss: 3.4657 - val_sparse_categorical_accuracy: 0.0000e+00\n",
            "Epoch 44/100\n",
            "1016/1016 [==============================] - 37s 36ms/step - loss: 3.6276 - sparse_categorical_accuracy: 0.0000e+00 - val_loss: 3.4657 - val_sparse_categorical_accuracy: 0.0000e+00\n",
            "Epoch 45/100\n",
            "1016/1016 [==============================] - 37s 36ms/step - loss: 3.6276 - sparse_categorical_accuracy: 0.0000e+00 - val_loss: 3.4657 - val_sparse_categorical_accuracy: 0.0000e+00\n",
            "Epoch 46/100\n",
            "1016/1016 [==============================] - 36s 36ms/step - loss: 3.6276 - sparse_categorical_accuracy: 0.0000e+00 - val_loss: 3.4657 - val_sparse_categorical_accuracy: 0.0000e+00\n",
            "Epoch 47/100\n",
            "1016/1016 [==============================] - 36s 36ms/step - loss: 3.6276 - sparse_categorical_accuracy: 0.0000e+00 - val_loss: 3.4657 - val_sparse_categorical_accuracy: 0.0000e+00\n",
            "Epoch 48/100\n",
            "1016/1016 [==============================] - 35s 35ms/step - loss: 3.6276 - sparse_categorical_accuracy: 0.0000e+00 - val_loss: 3.4657 - val_sparse_categorical_accuracy: 0.0000e+00\n",
            "Epoch 49/100\n",
            "1016/1016 [==============================] - 37s 36ms/step - loss: 3.6276 - sparse_categorical_accuracy: 0.0000e+00 - val_loss: 3.4657 - val_sparse_categorical_accuracy: 0.0000e+00\n",
            "Epoch 50/100\n",
            "1016/1016 [==============================] - 36s 35ms/step - loss: 3.6276 - sparse_categorical_accuracy: 0.0000e+00 - val_loss: 3.4657 - val_sparse_categorical_accuracy: 0.0000e+00\n",
            "Epoch 51/100\n",
            "1016/1016 [==============================] - 40s 39ms/step - loss: 3.6276 - sparse_categorical_accuracy: 0.0000e+00 - val_loss: 3.4657 - val_sparse_categorical_accuracy: 0.0000e+00\n",
            "Epoch 52/100\n",
            "1016/1016 [==============================] - 37s 36ms/step - loss: 3.6276 - sparse_categorical_accuracy: 0.0000e+00 - val_loss: 3.4657 - val_sparse_categorical_accuracy: 0.0000e+00\n",
            "Epoch 53/100\n",
            "1016/1016 [==============================] - 37s 36ms/step - loss: 3.6276 - sparse_categorical_accuracy: 0.0000e+00 - val_loss: 3.4657 - val_sparse_categorical_accuracy: 0.0000e+00\n",
            "Epoch 54/100\n",
            "1016/1016 [==============================] - 36s 35ms/step - loss: 3.6276 - sparse_categorical_accuracy: 0.0000e+00 - val_loss: 3.4657 - val_sparse_categorical_accuracy: 0.0000e+00\n",
            "Epoch 55/100\n",
            "1016/1016 [==============================] - 36s 36ms/step - loss: 3.6276 - sparse_categorical_accuracy: 0.0000e+00 - val_loss: 3.4657 - val_sparse_categorical_accuracy: 0.0000e+00\n",
            "Epoch 56/100\n",
            "1016/1016 [==============================] - 36s 35ms/step - loss: 3.6276 - sparse_categorical_accuracy: 0.0000e+00 - val_loss: 3.4657 - val_sparse_categorical_accuracy: 0.0000e+00\n",
            "Epoch 57/100\n",
            "1016/1016 [==============================] - 36s 35ms/step - loss: 3.6276 - sparse_categorical_accuracy: 0.0000e+00 - val_loss: 3.4657 - val_sparse_categorical_accuracy: 0.0000e+00\n",
            "Epoch 58/100\n",
            "1016/1016 [==============================] - 35s 34ms/step - loss: 3.6276 - sparse_categorical_accuracy: 0.0000e+00 - val_loss: 3.4657 - val_sparse_categorical_accuracy: 0.0000e+00\n",
            "Epoch 59/100\n",
            "1016/1016 [==============================] - 36s 35ms/step - loss: 3.6276 - sparse_categorical_accuracy: 0.0000e+00 - val_loss: 3.4657 - val_sparse_categorical_accuracy: 0.0000e+00\n",
            "Epoch 60/100\n",
            "1016/1016 [==============================] - 35s 35ms/step - loss: 3.6276 - sparse_categorical_accuracy: 0.0000e+00 - val_loss: 3.4657 - val_sparse_categorical_accuracy: 0.0000e+00\n",
            "Epoch 61/100\n",
            "1016/1016 [==============================] - 36s 36ms/step - loss: 3.6276 - sparse_categorical_accuracy: 0.0000e+00 - val_loss: 3.4657 - val_sparse_categorical_accuracy: 0.0000e+00\n",
            "Epoch 62/100\n",
            "1016/1016 [==============================] - 36s 35ms/step - loss: 3.6276 - sparse_categorical_accuracy: 0.0000e+00 - val_loss: 3.4657 - val_sparse_categorical_accuracy: 0.0000e+00\n",
            "Epoch 63/100\n",
            "1016/1016 [==============================] - 36s 35ms/step - loss: 3.6276 - sparse_categorical_accuracy: 0.0000e+00 - val_loss: 3.4657 - val_sparse_categorical_accuracy: 0.0000e+00\n",
            "Epoch 64/100\n",
            "1016/1016 [==============================] - 36s 35ms/step - loss: 3.6276 - sparse_categorical_accuracy: 0.0000e+00 - val_loss: 3.4657 - val_sparse_categorical_accuracy: 0.0000e+00\n",
            "Epoch 65/100\n",
            "1016/1016 [==============================] - 36s 36ms/step - loss: 3.6276 - sparse_categorical_accuracy: 0.0000e+00 - val_loss: 3.4657 - val_sparse_categorical_accuracy: 0.0000e+00\n",
            "Epoch 66/100\n",
            "1016/1016 [==============================] - 35s 35ms/step - loss: 3.6276 - sparse_categorical_accuracy: 0.0000e+00 - val_loss: 3.4657 - val_sparse_categorical_accuracy: 0.0000e+00\n",
            "Epoch 67/100\n",
            "1016/1016 [==============================] - 37s 36ms/step - loss: 3.6276 - sparse_categorical_accuracy: 0.0000e+00 - val_loss: 3.4657 - val_sparse_categorical_accuracy: 0.0000e+00\n",
            "Epoch 68/100\n",
            "1016/1016 [==============================] - 35s 35ms/step - loss: 3.6276 - sparse_categorical_accuracy: 0.0000e+00 - val_loss: 3.4657 - val_sparse_categorical_accuracy: 0.0000e+00\n",
            "Epoch 69/100\n",
            "1016/1016 [==============================] - 37s 37ms/step - loss: 3.6276 - sparse_categorical_accuracy: 0.0000e+00 - val_loss: 3.4657 - val_sparse_categorical_accuracy: 0.0000e+00\n",
            "Epoch 70/100\n",
            "1016/1016 [==============================] - 37s 36ms/step - loss: 3.6276 - sparse_categorical_accuracy: 0.0000e+00 - val_loss: 3.4657 - val_sparse_categorical_accuracy: 0.0000e+00\n",
            "Epoch 71/100\n",
            "1016/1016 [==============================] - 37s 36ms/step - loss: 3.6276 - sparse_categorical_accuracy: 0.0000e+00 - val_loss: 3.4657 - val_sparse_categorical_accuracy: 0.0000e+00\n",
            "Epoch 72/100\n",
            "1016/1016 [==============================] - 36s 36ms/step - loss: 3.6276 - sparse_categorical_accuracy: 0.0000e+00 - val_loss: 3.4657 - val_sparse_categorical_accuracy: 0.0000e+00\n",
            "Epoch 73/100\n",
            "1016/1016 [==============================] - 38s 37ms/step - loss: 3.6276 - sparse_categorical_accuracy: 0.0000e+00 - val_loss: 3.4657 - val_sparse_categorical_accuracy: 0.0000e+00\n",
            "Epoch 74/100\n",
            "1016/1016 [==============================] - 37s 36ms/step - loss: 3.6276 - sparse_categorical_accuracy: 0.0000e+00 - val_loss: 3.4657 - val_sparse_categorical_accuracy: 0.0000e+00\n",
            "Epoch 75/100\n",
            "1016/1016 [==============================] - 37s 36ms/step - loss: 3.6276 - sparse_categorical_accuracy: 0.0000e+00 - val_loss: 3.4657 - val_sparse_categorical_accuracy: 0.0000e+00\n",
            "Epoch 76/100\n",
            "1016/1016 [==============================] - 36s 36ms/step - loss: 3.6276 - sparse_categorical_accuracy: 0.0000e+00 - val_loss: 3.4657 - val_sparse_categorical_accuracy: 0.0000e+00\n",
            "Epoch 77/100\n",
            "1016/1016 [==============================] - 37s 36ms/step - loss: 3.6276 - sparse_categorical_accuracy: 0.0000e+00 - val_loss: 3.4657 - val_sparse_categorical_accuracy: 0.0000e+00\n",
            "Epoch 78/100\n",
            "1016/1016 [==============================] - 36s 36ms/step - loss: 3.6276 - sparse_categorical_accuracy: 0.0000e+00 - val_loss: 3.4657 - val_sparse_categorical_accuracy: 0.0000e+00\n",
            "Epoch 79/100\n",
            "1016/1016 [==============================] - 36s 36ms/step - loss: 3.6276 - sparse_categorical_accuracy: 0.0000e+00 - val_loss: 3.4657 - val_sparse_categorical_accuracy: 0.0000e+00\n",
            "Epoch 80/100\n",
            "1016/1016 [==============================] - 38s 37ms/step - loss: 3.6276 - sparse_categorical_accuracy: 0.0000e+00 - val_loss: 3.4657 - val_sparse_categorical_accuracy: 0.0000e+00\n",
            "Epoch 81/100\n",
            "1016/1016 [==============================] - 37s 36ms/step - loss: 3.6276 - sparse_categorical_accuracy: 0.0000e+00 - val_loss: 3.4657 - val_sparse_categorical_accuracy: 0.0000e+00\n",
            "Epoch 82/100\n",
            "1016/1016 [==============================] - 37s 36ms/step - loss: 3.6276 - sparse_categorical_accuracy: 0.0000e+00 - val_loss: 3.4657 - val_sparse_categorical_accuracy: 0.0000e+00\n",
            "Epoch 83/100\n",
            "1016/1016 [==============================] - 36s 36ms/step - loss: 3.6276 - sparse_categorical_accuracy: 0.0000e+00 - val_loss: 3.4657 - val_sparse_categorical_accuracy: 0.0000e+00\n",
            "Epoch 84/100\n",
            "1016/1016 [==============================] - 38s 37ms/step - loss: 3.6276 - sparse_categorical_accuracy: 0.0000e+00 - val_loss: 3.4657 - val_sparse_categorical_accuracy: 0.0000e+00\n",
            "Epoch 85/100\n",
            "1016/1016 [==============================] - 37s 36ms/step - loss: 3.6276 - sparse_categorical_accuracy: 0.0000e+00 - val_loss: 3.4657 - val_sparse_categorical_accuracy: 0.0000e+00\n",
            "Epoch 86/100\n",
            "1016/1016 [==============================] - 36s 36ms/step - loss: 3.6276 - sparse_categorical_accuracy: 0.0000e+00 - val_loss: 3.4657 - val_sparse_categorical_accuracy: 0.0000e+00\n",
            "Epoch 87/100\n",
            "1016/1016 [==============================] - 37s 37ms/step - loss: 3.6276 - sparse_categorical_accuracy: 0.0000e+00 - val_loss: 3.4657 - val_sparse_categorical_accuracy: 0.0000e+00\n",
            "Epoch 88/100\n",
            "1016/1016 [==============================] - 37s 36ms/step - loss: 3.6276 - sparse_categorical_accuracy: 0.0000e+00 - val_loss: 3.4657 - val_sparse_categorical_accuracy: 0.0000e+00\n",
            "Epoch 89/100\n",
            "1016/1016 [==============================] - 36s 36ms/step - loss: 3.6276 - sparse_categorical_accuracy: 0.0000e+00 - val_loss: 3.4657 - val_sparse_categorical_accuracy: 0.0000e+00\n",
            "Epoch 90/100\n",
            "1016/1016 [==============================] - 36s 35ms/step - loss: 3.6276 - sparse_categorical_accuracy: 0.0000e+00 - val_loss: 3.4657 - val_sparse_categorical_accuracy: 0.0000e+00\n",
            "Epoch 91/100\n",
            "1016/1016 [==============================] - 37s 36ms/step - loss: 3.6276 - sparse_categorical_accuracy: 0.0000e+00 - val_loss: 3.4657 - val_sparse_categorical_accuracy: 0.0000e+00\n",
            "Epoch 92/100\n",
            "1016/1016 [==============================] - 36s 36ms/step - loss: 3.6276 - sparse_categorical_accuracy: 0.0000e+00 - val_loss: 3.4657 - val_sparse_categorical_accuracy: 0.0000e+00\n",
            "Epoch 93/100\n",
            "1016/1016 [==============================] - 38s 37ms/step - loss: 3.6276 - sparse_categorical_accuracy: 0.0000e+00 - val_loss: 3.4657 - val_sparse_categorical_accuracy: 0.0000e+00\n",
            "Epoch 94/100\n",
            "1016/1016 [==============================] - 37s 36ms/step - loss: 3.6276 - sparse_categorical_accuracy: 0.0000e+00 - val_loss: 3.4657 - val_sparse_categorical_accuracy: 0.0000e+00\n",
            "Epoch 95/100\n",
            "1016/1016 [==============================] - 37s 36ms/step - loss: 3.6276 - sparse_categorical_accuracy: 0.0000e+00 - val_loss: 3.4657 - val_sparse_categorical_accuracy: 0.0000e+00\n",
            "Epoch 96/100\n",
            "1016/1016 [==============================] - 36s 36ms/step - loss: 3.6276 - sparse_categorical_accuracy: 0.0000e+00 - val_loss: 3.4657 - val_sparse_categorical_accuracy: 0.0000e+00\n",
            "Epoch 97/100\n",
            "1016/1016 [==============================] - 38s 37ms/step - loss: 3.6276 - sparse_categorical_accuracy: 0.0000e+00 - val_loss: 3.4657 - val_sparse_categorical_accuracy: 0.0000e+00\n",
            "Epoch 98/100\n",
            "1016/1016 [==============================] - 38s 38ms/step - loss: 3.6276 - sparse_categorical_accuracy: 0.0000e+00 - val_loss: 3.4657 - val_sparse_categorical_accuracy: 0.0000e+00\n",
            "Epoch 99/100\n",
            "1016/1016 [==============================] - 39s 39ms/step - loss: 3.6276 - sparse_categorical_accuracy: 0.0000e+00 - val_loss: 3.4657 - val_sparse_categorical_accuracy: 0.0000e+00\n",
            "Epoch 100/100\n",
            "1016/1016 [==============================] - 38s 38ms/step - loss: 3.6276 - sparse_categorical_accuracy: 0.0000e+00 - val_loss: 3.4657 - val_sparse_categorical_accuracy: 0.0000e+00\n"
          ]
        }
      ],
      "source": [
        "epochs = 100\n",
        "history = model.fit(\n",
        "    train_ds,\n",
        "    validation_data=val_ds,\n",
        "    class_weight=class_weights,\n",
        "    epochs=epochs)"
      ]
    },
    {
      "cell_type": "code",
      "execution_count": null,
      "id": "6526a136-727b-4fd0-aacf-2da535dbd82d",
      "metadata": {
        "id": "6526a136-727b-4fd0-aacf-2da535dbd82d",
        "colab": {
          "base_uri": "https://localhost:8080/",
          "height": 337
        },
        "outputId": "2cdd7c31-85b8-4b30-8e82-9d504a3ddde0"
      },
      "outputs": [
        {
          "output_type": "execute_result",
          "data": {
            "text/plain": [
              "<matplotlib.axes._subplots.AxesSubplot at 0x7fdd2620ef10>"
            ]
          },
          "metadata": {},
          "execution_count": 75
        },
        {
          "output_type": "display_data",
          "data": {
            "text/plain": [
              "<Figure size 576x360 with 1 Axes>"
            ],
            "image/png": "[encoded data removed]"
          },
          "metadata": {
            "needs_background": "light"
          }
        }
      ],
      "source": [
        "pd.DataFrame(history.history)[['loss', 'val_loss']].plot(figsize=(8,5))"
      ]
    },
    {
      "cell_type": "code",
      "execution_count": null,
      "id": "00f02a9e-7bad-47ce-a0cf-8be11420eb06",
      "metadata": {
        "id": "00f02a9e-7bad-47ce-a0cf-8be11420eb06",
        "colab": {
          "base_uri": "https://localhost:8080/"
        },
        "outputId": "56bdf3fb-2ea5-429c-dcdd-15fbac4562ed"
      },
      "outputs": [
        {
          "output_type": "stream",
          "name": "stdout",
          "text": [
            "              precision    recall  f1-score   support\n",
            "\n",
            "           0       0.00      0.00      0.00     183.0\n",
            "           1       0.00      0.00      0.00     416.0\n",
            "           2       0.00      0.00      0.00     625.0\n",
            "           3       0.00      0.00      0.00     138.0\n",
            "           4       0.00      0.00      0.00    2699.0\n",
            "          13       0.00      0.00      0.00       0.0\n",
            "\n",
            "    accuracy                           0.00    4061.0\n",
            "   macro avg       0.00      0.00      0.00    4061.0\n",
            "weighted avg       0.00      0.00      0.00    4061.0\n",
            "\n"
          ]
        },
        {
          "output_type": "stream",
          "name": "stderr",
          "text": [
            "/usr/local/lib/python3.7/dist-packages/ipykernel_launcher.py:4: SettingWithCopyWarning: \n",
            "A value is trying to be set on a copy of a slice from a DataFrame.\n",
            "Try using .loc[row_indexer,col_indexer] = value instead\n",
            "\n",
            "See the caveats in the documentation: https://pandas.pydata.org/pandas-docs/stable/user_guide/indexing.html#returning-a-view-versus-a-copy\n",
            "  after removing the cwd from sys.path.\n",
            "/usr/local/lib/python3.7/dist-packages/sklearn/metrics/_classification.py:1318: UndefinedMetricWarning: Precision and F-score are ill-defined and being set to 0.0 in labels with no predicted samples. Use `zero_division` parameter to control this behavior.\n",
            "  _warn_prf(average, modifier, msg_start, len(result))\n",
            "/usr/local/lib/python3.7/dist-packages/sklearn/metrics/_classification.py:1318: UndefinedMetricWarning: Recall and F-score are ill-defined and being set to 0.0 in labels with no true samples. Use `zero_division` parameter to control this behavior.\n",
            "  _warn_prf(average, modifier, msg_start, len(result))\n",
            "/usr/local/lib/python3.7/dist-packages/sklearn/metrics/_classification.py:1318: UndefinedMetricWarning: Precision and F-score are ill-defined and being set to 0.0 in labels with no predicted samples. Use `zero_division` parameter to control this behavior.\n",
            "  _warn_prf(average, modifier, msg_start, len(result))\n",
            "/usr/local/lib/python3.7/dist-packages/sklearn/metrics/_classification.py:1318: UndefinedMetricWarning: Recall and F-score are ill-defined and being set to 0.0 in labels with no true samples. Use `zero_division` parameter to control this behavior.\n",
            "  _warn_prf(average, modifier, msg_start, len(result))\n",
            "/usr/local/lib/python3.7/dist-packages/sklearn/metrics/_classification.py:1318: UndefinedMetricWarning: Precision and F-score are ill-defined and being set to 0.0 in labels with no predicted samples. Use `zero_division` parameter to control this behavior.\n",
            "  _warn_prf(average, modifier, msg_start, len(result))\n",
            "/usr/local/lib/python3.7/dist-packages/sklearn/metrics/_classification.py:1318: UndefinedMetricWarning: Recall and F-score are ill-defined and being set to 0.0 in labels with no true samples. Use `zero_division` parameter to control this behavior.\n",
            "  _warn_prf(average, modifier, msg_start, len(result))\n"
          ]
        }
      ],
      "source": [
        "val_softmax = model.predict(val_ds)\n",
        "val_labels = np.argmax(val_softmax, axis=1)\n",
        "\n",
        "val_pd['lstm_pred'] = val_labels\n",
        "\n",
        "print(classification_report(val_pd['Annotation'], val_pd['lstm_pred']))"
      ]
    }
  ],
  "metadata": {
    "kernelspec": {
      "display_name": "Python 3 (ipykernel)",
      "language": "python",
      "name": "python3"
    },
    "language_info": {
      "codemirror_mode": {
        "name": "ipython",
        "version": 3
      },
      "file_extension": ".py",
      "mimetype": "text/x-python",
      "name": "python",
      "nbconvert_exporter": "python",
      "pygments_lexer": "ipython3",
      "version": "3.9.7"
    },
    "colab": {
      "name": "Pretrained-Pre-processing-with-class-weights.ipynb",
      "provenance": [],
      "collapsed_sections": []
    }
  },
  "nbformat": 4,
  "nbformat_minor": 5
}